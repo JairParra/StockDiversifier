{
 "cells": [
  {
   "cell_type": "markdown",
   "metadata": {},
   "source": [
    "# Stock Fetcher "
   ]
  },
  {
   "cell_type": "markdown",
   "metadata": {},
   "source": [
    "## Imports "
   ]
  },
  {
   "cell_type": "code",
   "execution_count": 1,
   "metadata": {},
   "outputs": [],
   "source": [
    "# General Imports \n",
    "import warnings\n",
    "import numpy as np\n",
    "import pandas as pd\n",
    "from datetime import datetime, timedelta\n",
    "\n",
    "# Stock Related \n",
    "import yfinance as yf\n",
    "\n",
    "# Plotting \n",
    "from tqdm.notebook import tqdm\n",
    "\n",
    "# Machine Learning\n",
    "from sklearn.impute import KNNImputer"
   ]
  },
  {
   "cell_type": "code",
   "execution_count": null,
   "metadata": {},
   "outputs": [],
   "source": [
    "def scrape_sp500_wikipedia():\n",
    "    # URL of the S&P 500 companies list on Wikipedia\n",
    "    url = \"https://en.wikipedia.org/wiki/List_of_S%26P_500_companies\"\n",
    "\n",
    "    # Read all tables from the Wikipedia page\n",
    "    tables = pd.read_html(url)\n",
    "\n",
    "    # The first table contains the S&P 500 companies\n",
    "    sp500_table = tables[0]\n",
    "\n",
    "    # Select only the Symbol, Security, and GICS Sector columns\n",
    "    sp500_data = sp500_table[['Symbol', 'Security', 'GICS Sector']]\n",
    "\n",
    "    return sp500_data\n",
    "\n",
    "# Example usage\n",
    "sp500_df = scrape_sp500_wikipedia()\n",
    "\n",
    "display(sp500_df)"
   ]
  },
  {
   "cell_type": "markdown",
   "metadata": {},
   "source": []
  }
 ],
 "metadata": {
  "kernelspec": {
   "display_name": "stk_env",
   "language": "python",
   "name": "python3"
  },
  "language_info": {
   "codemirror_mode": {
    "name": "ipython",
    "version": 3
   },
   "file_extension": ".py",
   "mimetype": "text/x-python",
   "name": "python",
   "nbconvert_exporter": "python",
   "pygments_lexer": "ipython3",
   "version": "3.10.15"
  }
 },
 "nbformat": 4,
 "nbformat_minor": 2
}
