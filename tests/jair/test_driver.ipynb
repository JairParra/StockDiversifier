{
 "cells": [
  {
   "cell_type": "markdown",
   "metadata": {},
   "source": [
    "# Testing Stock Fetcher "
   ]
  },
  {
   "cell_type": "markdown",
   "metadata": {},
   "source": [
    "## Imports "
   ]
  },
  {
   "cell_type": "code",
   "execution_count": 1,
   "metadata": {},
   "outputs": [
    {
     "data": {
      "text/plain": [
       "<module 'src.portfolio' from 'c:\\\\Users\\\\jairp\\\\OneDrive\\\\Desktop_remote\\\\HEC Montreal\\\\4. Fall 2024\\\\Deep Learning II\\\\Project\\\\StockDiversifier\\\\src\\\\portfolio.py'>"
      ]
     },
     "execution_count": 1,
     "metadata": {},
     "output_type": "execute_result"
    }
   ],
   "source": [
    "# Reload Custom Modules \n",
    "import importlib\n",
    "import src.beta_vae\n",
    "import src.data_fetching \n",
    "import src.portfolio\n",
    "importlib.reload(src.beta_vae)\n",
    "importlib.reload(src.data_fetching)\n",
    "importlib.reload(src.portfolio)"
   ]
  },
  {
   "cell_type": "code",
   "execution_count": 2,
   "metadata": {},
   "outputs": [],
   "source": [
    "# General \n",
    "import os \n",
    "import json \n",
    "import random \n",
    "from tqdm.notebook import tqdm\n",
    "\n",
    "# Data Science\n",
    "import optuna \n",
    "import numpy as np \n",
    "import pandas as pd\n",
    "from sklearn.impute import KNNImputer\n",
    "from sklearn.preprocessing import StandardScaler\n",
    "from scipy.spatial.distance import cdist\n",
    "\n",
    "# PyTorch\n",
    "import torch\n",
    "\n",
    "# Custom Classes \n",
    "from src.beta_vae import Encoder\n",
    "from src.beta_vae import Decoder\n",
    "from src.beta_vae import BetaVAE\n",
    "from src.portfolio import Portfolio\n",
    "\n",
    "# Custom Functions\n",
    "from src.beta_vae import create_data_loaders\n",
    "from src.beta_vae import create_single_data_loader\n",
    "from src.beta_vae import objective\n",
    "from src.beta_vae import train_beta_vae\n",
    "from src.beta_vae import get_embeddings\n",
    "from src.beta_vae import generate_embeddings_dict\n",
    "from src.portfolio import fetch_and_calculate_returns\n",
    "from src.portfolio import diversify_betavae_portfolio\n",
    "from src.data_fetching import scrape_sp500_wikipedia\n",
    "from src.data_fetching import fetch_stock_data\n",
    "from src.data_fetching import prepare_data_for_vae"
   ]
  },
  {
   "cell_type": "code",
   "execution_count": 3,
   "metadata": {},
   "outputs": [],
   "source": [
    "custom_tickers = [\n",
    "    'PLTR',  # Palantir Technologies Inc. (Technology)\n",
    "    'COIN',  # Coinbase Global, Inc. (Financials)\n",
    "    'WDAY',  # Workday, Inc. (Technology)\n",
    "    'TTD',   # The Trade Desk, Inc. (Technology)\n",
    "    'APO',   # Apollo Global Management, Inc. (Financials)\n",
    "    'MELI',  # MercadoLibre, Inc. (Consumer Discretionary)\n",
    "    'NVO',   # Novo Nordisk A/S (Healthcare)\n",
    "    'ICON',  # Icon PLC (Healthcare)\n",
    "    'TSM',   # Taiwan Semiconductor Manufacturing Company Limited (Technology)\n",
    "    'SKX',   # Skechers U.S.A., Inc. (Consumer Discretionary)\n",
    "    'BAYRY', # Bayer AG (Healthcare)\n",
    "    'DISCK', # Discovery, Inc. (Communication Services)\n",
    "    'FNV',   # Franco-Nevada Corporation (Materials)\n",
    "    'SHOP',  # Shopify Inc. (Technology)\n",
    "    'SQ',    # Square, Inc. (Technology)\n",
    "    'UBER',  # Uber Technologies, Inc. (Industrials)\n",
    "    'ZM',    # Zoom Video Communications, Inc. (Technology)\n",
    "    'TWLO',  # Twilio Inc. (Technology)\n",
    "    'MRNA',  # Moderna, Inc. (Healthcare)\n",
    "    'WDAY',  # Workday, Inc. (Technology)\n",
    "    'DOCU',  # DocuSign, Inc. (Technology)\n",
    "    'VEEV',  # Veeva Systems Inc. (Healthcare)\n",
    "    'LULU',  # Lululemon Athletica Inc. (Consumer Discretionary)\n",
    "    'ROKU',  # Roku, Inc. (Communication Services)\n",
    "    'CRWD',  # CrowdStrike Holdings, Inc. (Technology)\n",
    "    'SNOW',  # Snowflake Inc. (Technology)\n",
    "    'NET',   # Cloudflare, Inc. (Technology)\n",
    "    'PINS',  # Pinterest, Inc. (Communication Services)\n",
    "    'ETSY',  # Etsy, Inc. (Consumer Discretionary)\n",
    "    'SPOT',   # Spotify Technology S.A. (Communication Services)\n",
    "    \"AAPL\", # Apple Inc. (Technology)\n",
    "]"
   ]
  },
  {
   "cell_type": "markdown",
   "metadata": {},
   "source": [
    "## Fetching the data "
   ]
  },
  {
   "cell_type": "code",
   "execution_count": 4,
   "metadata": {},
   "outputs": [],
   "source": [
    "# Convert ndarray values to lists for JSON serialization\n",
    "def serialize_ndarray(data_dict):\n",
    "    return {key: (value.tolist() if isinstance(value, np.ndarray) else value) for key, value in data_dict.items()}\n",
    "\n",
    "# Convert lists back to ndarrays if needed\n",
    "def deserialize_ndarray(data_dict):\n",
    "    return {key: (np.array(value) if isinstance(value, list) else value) for key, value in data_dict.items()}"
   ]
  },
  {
   "cell_type": "code",
   "execution_count": 5,
   "metadata": {},
   "outputs": [],
   "source": [
    "# Scrape S&P 500 companies names, tikers and industris from Wikipedia\n",
    "sp500_df = scrape_sp500_wikipedia()  "
   ]
  },
  {
   "cell_type": "code",
   "execution_count": 6,
   "metadata": {},
   "outputs": [
    {
     "name": "stdout",
     "output_type": "stream",
     "text": [
      "['BRK.B', 'BF.B']\n",
      "True\n",
      "  Symbol             Security             GICS Sector\n",
      "0    MMM                   3M             Industrials\n",
      "1    AOS          A. O. Smith             Industrials\n",
      "2    ABT  Abbott Laboratories             Health Care\n",
      "3   ABBV               AbbVie             Health Care\n",
      "4    ACN            Accenture  Information Technology\n"
     ]
    }
   ],
   "source": [
    "# extract the tickers from the dataframe\n",
    "sp500_tickers = sp500_df[\"Symbol\"].tolist()\n",
    "\n",
    "# check for tikers with anomalies \n",
    "anomalies = [ticker for ticker in sp500_tickers if not ticker.isalnum()]\n",
    "print(anomalies)\n",
    "\n",
    "# check if apple is in the tickers\n",
    "print(\"AAPL\" in sp500_tickers)\n",
    "\n",
    "# show the first couple of columns \n",
    "print(sp500_df.head())"
   ]
  },
  {
   "cell_type": "code",
   "execution_count": 7,
   "metadata": {},
   "outputs": [
    {
     "name": "stderr",
     "output_type": "stream",
     "text": [
      "Fetching stock data...:  21%|██▏       | 113/527 [00:34<01:49,  3.77it/s]ICON: Period '1y' is invalid, must be one of ['1d', '5d', '1mo', '3mo', '6mo', 'ytd', 'max']\n",
      "ICON: Period '1y' is invalid, must be one of ['1d', '5d', '1mo', '3mo', '6mo', 'ytd', 'max']\n",
      "Fetching stock data...:  56%|█████▌    | 296/527 [01:30<01:09,  3.34it/s]$DISCK: possibly delisted; no price data found  (period=1y) (Yahoo error = \"No data found, symbol may be delisted\")\n",
      "$DISCK: possibly delisted; no price data found  (period=1y) (Yahoo error = \"No data found, symbol may be delisted\")\n",
      "Fetching stock data...:  61%|██████▏   | 324/527 [01:40<00:58,  3.46it/s]SW: Period '1y' is invalid, must be one of ['1d', '5d', '1mo', '3mo', '6mo', 'ytd', 'max']\n",
      "SW: Period '1y' is invalid, must be one of ['1d', '5d', '1mo', '3mo', '6mo', 'ytd', 'max']\n",
      "Fetching stock data...:  71%|███████   | 373/527 [01:55<00:48,  3.17it/s]$A: possibly delisted; no price data found  (period=1y)\n",
      "Fetching stock data...:  71%|███████   | 374/527 [01:56<01:08,  2.22it/s]$ROST: possibly delisted; no price data found  (period=1y)\n",
      "$ROST: possibly delisted; no price data found  (period=1y)\n",
      "Fetching stock data...:  71%|███████   | 375/527 [01:57<01:47,  1.42it/s]$MA: possibly delisted; no price data found  (period=1y)\n",
      "$MA: possibly delisted; no price data found  (period=1y)\n",
      "Fetching stock data...:  71%|███████▏  | 376/527 [01:59<02:14,  1.12it/s]Failed to get ticker 'BF-B' reason: Expecting value: line 1 column 1 (char 0)\n",
      "$BF-B: possibly delisted; no price data found  (period=1y)\n",
      "$BF-B: possibly delisted; no price data found  (period=1y)\n",
      "Fetching stock data...:  72%|███████▏  | 377/527 [02:01<03:03,  1.23s/it]$CCI: possibly delisted; no price data found  (period=1y)\n",
      "$CCI: possibly delisted; no price data found  (period=1y)\n",
      "Fetching stock data...:  72%|███████▏  | 378/527 [02:02<03:12,  1.29s/it]$EBAY: possibly delisted; no price data found  (period=1y)\n",
      "$EBAY: possibly delisted; no price data found  (period=1y)\n",
      "Fetching stock data...:  72%|███████▏  | 379/527 [02:03<03:12,  1.30s/it]$MMM: possibly delisted; no price data found  (period=1y)\n",
      "$MMM: possibly delisted; no price data found  (period=1y)\n",
      "Fetching stock data...:  72%|███████▏  | 380/527 [02:05<03:11,  1.30s/it]$AMCR: possibly delisted; no price data found  (period=1y)\n",
      "$AMCR: possibly delisted; no price data found  (period=1y)\n",
      "Fetching stock data...:  72%|███████▏  | 381/527 [02:06<03:15,  1.34s/it]$HSY: possibly delisted; no price data found  (period=1y)\n",
      "$HSY: possibly delisted; no price data found  (period=1y)\n",
      "Fetching stock data...:  72%|███████▏  | 382/527 [02:07<03:15,  1.35s/it]$EMR: possibly delisted; no price data found  (period=1y)\n",
      "$EMR: possibly delisted; no price data found  (period=1y)\n",
      "Fetching stock data...:  73%|███████▎  | 383/527 [02:09<03:17,  1.37s/it]$TSCO: possibly delisted; no price data found  (period=1y)\n",
      "$TSCO: possibly delisted; no price data found  (period=1y)\n",
      "Fetching stock data...:  73%|███████▎  | 384/527 [02:10<03:13,  1.36s/it]$CNC: possibly delisted; no price data found  (period=1y)\n",
      "$CNC: possibly delisted; no price data found  (period=1y)\n",
      "Fetching stock data...:  73%|███████▎  | 385/527 [02:11<03:10,  1.34s/it]$DFS: possibly delisted; no price data found  (period=1y)\n",
      "$DFS: possibly delisted; no price data found  (period=1y)\n",
      "Fetching stock data...:  73%|███████▎  | 386/527 [02:13<03:04,  1.31s/it]$COP: possibly delisted; no price data found  (period=1y)\n",
      "$COP: possibly delisted; no price data found  (period=1y)\n",
      "Fetching stock data...:  73%|███████▎  | 387/527 [02:15<03:38,  1.56s/it]$NI: possibly delisted; no price data found  (period=1y)\n",
      "$NI: possibly delisted; no price data found  (period=1y)\n",
      "Fetching stock data...:  74%|███████▎  | 388/527 [02:17<03:52,  1.67s/it]$VST: possibly delisted; no price data found  (period=1y)\n",
      "$VST: possibly delisted; no price data found  (period=1y)\n",
      "Fetching stock data...:  74%|███████▍  | 389/527 [02:18<03:40,  1.60s/it]$CAT: possibly delisted; no price data found  (period=1y)\n",
      "$CAT: possibly delisted; no price data found  (period=1y)\n",
      "Fetching stock data...:  74%|███████▍  | 390/527 [02:20<03:40,  1.61s/it]$ROK: possibly delisted; no price data found  (period=1y)\n",
      "$ROK: possibly delisted; no price data found  (period=1y)\n",
      "Fetching stock data...:  74%|███████▍  | 391/527 [02:21<03:37,  1.60s/it]$CTSH: possibly delisted; no price data found  (period=1y)\n",
      "$CTSH: possibly delisted; no price data found  (period=1y)\n",
      "Fetching stock data...:  74%|███████▍  | 392/527 [02:23<03:44,  1.67s/it]$MTD: possibly delisted; no price data found  (period=1y)\n",
      "$MTD: possibly delisted; no price data found  (period=1y)\n",
      "Fetching stock data...:  75%|███████▍  | 393/527 [02:25<03:30,  1.57s/it]$TEL: possibly delisted; no price data found  (period=1y)\n",
      "$TEL: possibly delisted; no price data found  (period=1y)\n",
      "Fetching stock data...:  75%|███████▍  | 394/527 [02:26<03:23,  1.53s/it]$ADSK: possibly delisted; no price data found  (period=1y)\n",
      "$ADSK: possibly delisted; no price data found  (period=1y)\n",
      "Fetching stock data...:  75%|███████▍  | 395/527 [02:28<03:30,  1.60s/it]$KMI: possibly delisted; no price data found  (period=1y)\n",
      "$KMI: possibly delisted; no price data found  (period=1y)\n",
      "Fetching stock data...:  75%|███████▌  | 396/527 [02:29<03:24,  1.56s/it]$STE: possibly delisted; no price data found  (period=1y)\n",
      "$STE: possibly delisted; no price data found  (period=1y)\n",
      "Fetching stock data...:  75%|███████▌  | 397/527 [02:31<03:18,  1.53s/it]$FNV: possibly delisted; no price data found  (period=1y)\n",
      "$FNV: possibly delisted; no price data found  (period=1y)\n",
      "Fetching stock data...:  76%|███████▌  | 398/527 [02:32<03:16,  1.53s/it]$JBL: possibly delisted; no price data found  (period=1y)\n",
      "$JBL: possibly delisted; no price data found  (period=1y)\n",
      "Fetching stock data...:  76%|███████▌  | 399/527 [02:34<03:15,  1.52s/it]$EVRG: possibly delisted; no price data found  (period=1y)\n",
      "$EVRG: possibly delisted; no price data found  (period=1y)\n",
      "Fetching stock data...:  76%|███████▌  | 400/527 [02:35<03:12,  1.51s/it]$LYB: possibly delisted; no price data found  (period=1y)\n",
      "$LYB: possibly delisted; no price data found  (period=1y)\n",
      "Fetching stock data...:  76%|███████▌  | 401/527 [02:37<03:08,  1.49s/it]$TJX: possibly delisted; no price data found  (period=1y)\n",
      "$TJX: possibly delisted; no price data found  (period=1y)\n",
      "Fetching stock data...:  76%|███████▋  | 402/527 [02:38<03:08,  1.51s/it]$BAC: possibly delisted; no price data found  (period=1y)\n",
      "$BAC: possibly delisted; no price data found  (period=1y)\n",
      "Fetching stock data...:  76%|███████▋  | 403/527 [02:40<03:08,  1.52s/it]$PARA: possibly delisted; no price data found  (period=1y)\n",
      "$PARA: possibly delisted; no price data found  (period=1y)\n",
      "Fetching stock data...:  77%|███████▋  | 404/527 [02:41<03:07,  1.53s/it]$PTC: possibly delisted; no price data found  (period=1y)\n",
      "$PTC: possibly delisted; no price data found  (period=1y)\n",
      "Fetching stock data...:  77%|███████▋  | 405/527 [02:43<03:04,  1.51s/it]$EQIX: possibly delisted; no price data found  (period=1y)\n",
      "$EQIX: possibly delisted; no price data found  (period=1y)\n",
      "Fetching stock data...:  77%|███████▋  | 406/527 [02:44<03:07,  1.55s/it]$VRSK: possibly delisted; no price data found  (period=1y)\n",
      "$VRSK: possibly delisted; no price data found  (period=1y)\n",
      "Fetching stock data...:  77%|███████▋  | 407/527 [02:46<03:09,  1.58s/it]$ZBH: possibly delisted; no price data found  (period=1y)\n",
      "$ZBH: possibly delisted; no price data found  (period=1y)\n",
      "Fetching stock data...:  77%|███████▋  | 408/527 [02:48<03:03,  1.55s/it]$ARE: possibly delisted; no price data found  (period=1y)\n",
      "$ARE: possibly delisted; no price data found  (period=1y)\n",
      "Fetching stock data...:  78%|███████▊  | 409/527 [02:49<02:58,  1.51s/it]$AMTM: possibly delisted; no price data found  (period=1y)\n",
      "$AMTM: possibly delisted; no price data found  (period=1y)\n",
      "Fetching stock data...:  78%|███████▊  | 410/527 [02:50<02:53,  1.48s/it]$FRT: possibly delisted; no price data found  (period=1y)\n",
      "$FRT: possibly delisted; no price data found  (period=1y)\n",
      "Fetching stock data...:  78%|███████▊  | 411/527 [02:52<02:48,  1.46s/it]$HPE: possibly delisted; no price data found  (period=1y)\n",
      "$HPE: possibly delisted; no price data found  (period=1y)\n",
      "Fetching stock data...:  78%|███████▊  | 412/527 [02:53<02:50,  1.48s/it]$CL: possibly delisted; no price data found  (period=1y)\n",
      "$CL: possibly delisted; no price data found  (period=1y)\n",
      "Fetching stock data...:  78%|███████▊  | 413/527 [02:55<02:47,  1.47s/it]$LHX: possibly delisted; no price data found  (period=1y)\n",
      "$LHX: possibly delisted; no price data found  (period=1y)\n",
      "Fetching stock data...:  79%|███████▊  | 414/527 [02:56<02:42,  1.44s/it]$FSLR: possibly delisted; no price data found  (period=1y)\n",
      "$FSLR: possibly delisted; no price data found  (period=1y)\n",
      "Fetching stock data...:  79%|███████▊  | 415/527 [02:58<02:44,  1.47s/it]$AMP: possibly delisted; no price data found  (period=1y)\n",
      "$AMP: possibly delisted; no price data found  (period=1y)\n",
      "Fetching stock data...:  79%|███████▉  | 416/527 [02:59<02:42,  1.47s/it]$KVUE: possibly delisted; no price data found  (period=1y)\n",
      "$KVUE: possibly delisted; no price data found  (period=1y)\n",
      "Fetching stock data...:  79%|███████▉  | 417/527 [03:01<02:38,  1.44s/it]$SHW: possibly delisted; no price data found  (period=1y)\n",
      "$SHW: possibly delisted; no price data found  (period=1y)\n",
      "Fetching stock data...:  79%|███████▉  | 418/527 [03:02<02:40,  1.47s/it]$NWSA: possibly delisted; no price data found  (period=1y)\n",
      "$NWSA: possibly delisted; no price data found  (period=1y)\n",
      "Fetching stock data...:  80%|███████▉  | 419/527 [03:03<02:36,  1.45s/it]$TDY: possibly delisted; no price data found  (period=1y)\n",
      "$TDY: possibly delisted; no price data found  (period=1y)\n",
      "Fetching stock data...:  80%|███████▉  | 420/527 [03:05<02:43,  1.53s/it]$BBY: possibly delisted; no price data found  (period=1y)\n",
      "$BBY: possibly delisted; no price data found  (period=1y)\n",
      "Fetching stock data...:  80%|███████▉  | 421/527 [03:07<02:39,  1.51s/it]$PRU: possibly delisted; no price data found  (period=1y)\n",
      "$PRU: possibly delisted; no price data found  (period=1y)\n",
      "Fetching stock data...:  80%|████████  | 422/527 [03:08<02:36,  1.49s/it]$PH: possibly delisted; no price data found  (period=1y)\n",
      "$PH: possibly delisted; no price data found  (period=1y)\n",
      "Fetching stock data...:  80%|████████  | 423/527 [03:09<02:32,  1.46s/it]$ADM: possibly delisted; no price data found  (period=1y)\n",
      "$ADM: possibly delisted; no price data found  (period=1y)\n",
      "Fetching stock data...:  80%|████████  | 424/527 [03:11<02:44,  1.60s/it]$TTD: possibly delisted; no price data found  (period=1y)\n",
      "$TTD: possibly delisted; no price data found  (period=1y)\n",
      "Fetching stock data...:  81%|████████  | 425/527 [03:13<02:39,  1.56s/it]$NWS: possibly delisted; no price data found  (period=1y)\n",
      "$NWS: possibly delisted; no price data found  (period=1y)\n",
      "Fetching stock data...:  81%|████████  | 426/527 [03:15<02:43,  1.62s/it]$COR: possibly delisted; no price data found  (period=1y)\n",
      "$COR: possibly delisted; no price data found  (period=1y)\n",
      "Fetching stock data...:  81%|████████  | 427/527 [03:16<02:35,  1.56s/it]$CBOE: possibly delisted; no price data found  (period=1y)\n",
      "$CBOE: possibly delisted; no price data found  (period=1y)\n",
      "Fetching stock data...:  81%|████████  | 428/527 [03:17<02:30,  1.52s/it]$LULU: possibly delisted; no price data found  (period=1y)\n",
      "$LULU: possibly delisted; no price data found  (period=1y)\n",
      "Fetching stock data...:  81%|████████▏ | 429/527 [03:19<02:30,  1.54s/it]$USB: possibly delisted; no price data found  (period=1y)\n",
      "$USB: possibly delisted; no price data found  (period=1y)\n",
      "Fetching stock data...:  82%|████████▏ | 430/527 [03:21<02:29,  1.54s/it]$KMX: possibly delisted; no price data found  (period=1y)\n",
      "$KMX: possibly delisted; no price data found  (period=1y)\n",
      "Fetching stock data...:  82%|████████▏ | 431/527 [03:22<02:23,  1.50s/it]$FITB: possibly delisted; no price data found  (period=1y)\n",
      "$FITB: possibly delisted; no price data found  (period=1y)\n",
      "Fetching stock data...:  82%|████████▏ | 432/527 [03:24<02:31,  1.60s/it]$FDS: possibly delisted; no price data found  (period=1y)\n",
      "$FDS: possibly delisted; no price data found  (period=1y)\n",
      "Fetching stock data...:  82%|████████▏ | 433/527 [03:26<02:48,  1.79s/it]$EW: possibly delisted; no price data found  (period=1y)\n",
      "$EW: possibly delisted; no price data found  (period=1y)\n",
      "Fetching stock data...:  82%|████████▏ | 434/527 [03:28<02:54,  1.88s/it]$STX: possibly delisted; no price data found  (period=1y)\n",
      "$STX: possibly delisted; no price data found  (period=1y)\n",
      "Fetching stock data...:  83%|████████▎ | 435/527 [03:30<02:43,  1.77s/it]$TROW: possibly delisted; no price data found  (period=1y)\n",
      "$TROW: possibly delisted; no price data found  (period=1y)\n",
      "Fetching stock data...:  83%|████████▎ | 436/527 [03:31<02:29,  1.64s/it]$ES: possibly delisted; no price data found  (period=1y)\n",
      "$ES: possibly delisted; no price data found  (period=1y)\n",
      "Fetching stock data...:  83%|████████▎ | 437/527 [03:33<02:29,  1.66s/it]$AWK: possibly delisted; no price data found  (period=1y)\n",
      "$AWK: possibly delisted; no price data found  (period=1y)\n",
      "Fetching stock data...:  83%|████████▎ | 438/527 [03:34<02:22,  1.60s/it]$XYL: possibly delisted; no price data found  (period=1y)\n",
      "$XYL: possibly delisted; no price data found  (period=1y)\n",
      "Fetching stock data...:  83%|████████▎ | 439/527 [03:36<02:14,  1.53s/it]$CHD: possibly delisted; no price data found  (period=1y)\n",
      "$CHD: possibly delisted; no price data found  (period=1y)\n",
      "Fetching stock data...:  83%|████████▎ | 440/527 [03:38<02:50,  1.96s/it]$COO: possibly delisted; no price data found  (period=1y)\n",
      "$COO: possibly delisted; no price data found  (period=1y)\n",
      "Fetching stock data...:  84%|████████▎ | 441/527 [03:40<02:42,  1.89s/it]$JBHT: possibly delisted; no price data found  (period=1y)\n",
      "$JBHT: possibly delisted; no price data found  (period=1y)\n",
      "Fetching stock data...:  84%|████████▍ | 442/527 [03:42<02:28,  1.74s/it]$RMD: possibly delisted; no price data found  (period=1y)\n",
      "$RMD: possibly delisted; no price data found  (period=1y)\n",
      "Fetching stock data...:  84%|████████▍ | 443/527 [03:43<02:18,  1.64s/it]$MDT: possibly delisted; no price data found  (period=1y)\n",
      "$MDT: possibly delisted; no price data found  (period=1y)\n",
      "Fetching stock data...:  84%|████████▍ | 444/527 [03:44<02:11,  1.58s/it]$ITW: possibly delisted; no price data found  (period=1y)\n",
      "$ITW: possibly delisted; no price data found  (period=1y)\n",
      "Fetching stock data...:  84%|████████▍ | 445/527 [03:46<02:08,  1.56s/it]$CTRA: possibly delisted; no price data found  (period=1y)\n",
      "$CTRA: possibly delisted; no price data found  (period=1y)\n",
      "Fetching stock data...:  85%|████████▍ | 446/527 [03:47<02:04,  1.54s/it]$LEN: possibly delisted; no price data found  (period=1y)\n",
      "$LEN: possibly delisted; no price data found  (period=1y)\n",
      "Fetching stock data...:  85%|████████▍ | 447/527 [03:49<01:58,  1.49s/it]$LOW: possibly delisted; no price data found  (period=1y)\n",
      "$LOW: possibly delisted; no price data found  (period=1y)\n",
      "Fetching stock data...:  85%|████████▌ | 448/527 [03:50<01:56,  1.47s/it]$JKHY: possibly delisted; no price data found  (period=1y)\n",
      "$JKHY: possibly delisted; no price data found  (period=1y)\n",
      "Fetching stock data...:  85%|████████▌ | 449/527 [03:52<01:53,  1.46s/it]$DVA: possibly delisted; no price data found  (period=1y)\n",
      "$DVA: possibly delisted; no price data found  (period=1y)\n",
      "Fetching stock data...:  85%|████████▌ | 450/527 [03:54<02:02,  1.59s/it]$PSX: possibly delisted; no price data found  (period=1y)\n",
      "$PSX: possibly delisted; no price data found  (period=1y)\n",
      "Fetching stock data...:  86%|████████▌ | 451/527 [03:55<01:59,  1.57s/it]$PKG: possibly delisted; no price data found  (period=1y)\n",
      "$PKG: possibly delisted; no price data found  (period=1y)\n",
      "Fetching stock data...:  86%|████████▌ | 452/527 [03:57<01:55,  1.54s/it]$MPWR: possibly delisted; no price data found  (period=1y)\n",
      "$MPWR: possibly delisted; no price data found  (period=1y)\n",
      "Fetching stock data...:  86%|████████▌ | 453/527 [03:58<01:53,  1.53s/it]$MSFT: possibly delisted; no price data found  (period=1y)\n",
      "$MSFT: possibly delisted; no price data found  (period=1y)\n",
      "Fetching stock data...:  86%|████████▌ | 454/527 [03:59<01:48,  1.48s/it]$MELI: possibly delisted; no price data found  (period=1y)\n",
      "$MELI: possibly delisted; no price data found  (period=1y)\n",
      "Fetching stock data...:  86%|████████▋ | 455/527 [04:01<01:46,  1.48s/it]$SKX: possibly delisted; no price data found  (period=1y)\n",
      "$SKX: possibly delisted; no price data found  (period=1y)\n",
      "Fetching stock data...:  87%|████████▋ | 456/527 [04:02<01:45,  1.49s/it]$ORCL: possibly delisted; no price data found  (period=1y)\n",
      "$ORCL: possibly delisted; no price data found  (period=1y)\n",
      "Fetching stock data...:  87%|████████▋ | 457/527 [04:04<01:42,  1.46s/it]$BKR: possibly delisted; no price data found  (period=1y)\n",
      "$BKR: possibly delisted; no price data found  (period=1y)\n",
      "Fetching stock data...:  87%|████████▋ | 458/527 [04:05<01:43,  1.50s/it]$GNRC: possibly delisted; no price data found  (period=1y)\n",
      "$GNRC: possibly delisted; no price data found  (period=1y)\n",
      "Fetching stock data...:  87%|████████▋ | 459/527 [04:07<01:41,  1.49s/it]$LMT: possibly delisted; no price data found  (period=1y)\n",
      "$LMT: possibly delisted; no price data found  (period=1y)\n",
      "Fetching stock data...:  87%|████████▋ | 460/527 [04:08<01:39,  1.49s/it]$EFX: possibly delisted; no price data found  (period=1y)\n",
      "$EFX: possibly delisted; no price data found  (period=1y)\n",
      "Fetching stock data...:  87%|████████▋ | 461/527 [04:10<01:36,  1.46s/it]$HUM: possibly delisted; no price data found  (period=1y)\n",
      "$HUM: possibly delisted; no price data found  (period=1y)\n",
      "Fetching stock data...:  88%|████████▊ | 462/527 [04:11<01:35,  1.47s/it]$HIG: possibly delisted; no price data found  (period=1y)\n",
      "$HIG: possibly delisted; no price data found  (period=1y)\n",
      "Fetching stock data...:  88%|████████▊ | 463/527 [04:13<01:33,  1.46s/it]$EQR: possibly delisted; no price data found  (period=1y)\n",
      "$EQR: possibly delisted; no price data found  (period=1y)\n",
      "Fetching stock data...:  88%|████████▊ | 464/527 [04:14<01:32,  1.47s/it]$DOC: possibly delisted; no price data found  (period=1y)\n",
      "$DOC: possibly delisted; no price data found  (period=1y)\n",
      "Fetching stock data...:  88%|████████▊ | 465/527 [04:16<01:30,  1.45s/it]$AVGO: possibly delisted; no price data found  (period=1y)\n",
      "$AVGO: possibly delisted; no price data found  (period=1y)\n",
      "Fetching stock data...:  88%|████████▊ | 466/527 [04:17<01:27,  1.44s/it]$BG: possibly delisted; no price data found  (period=1y)\n",
      "$BG: possibly delisted; no price data found  (period=1y)\n",
      "Fetching stock data...:  89%|████████▊ | 467/527 [04:18<01:26,  1.44s/it]$SBAC: possibly delisted; no price data found  (period=1y)\n",
      "$SBAC: possibly delisted; no price data found  (period=1y)\n",
      "Fetching stock data...:  89%|████████▉ | 468/527 [04:20<01:24,  1.43s/it]$KEYS: possibly delisted; no price data found  (period=1y)\n",
      "$KEYS: possibly delisted; no price data found  (period=1y)\n",
      "Fetching stock data...:  89%|████████▉ | 469/527 [04:21<01:20,  1.38s/it]$DAL: possibly delisted; no price data found  (period=1y)\n",
      "$DAL: possibly delisted; no price data found  (period=1y)\n",
      "Fetching stock data...:  89%|████████▉ | 470/527 [04:22<01:16,  1.34s/it]$NUE: possibly delisted; no price data found  (period=1y)\n",
      "$NUE: possibly delisted; no price data found  (period=1y)\n",
      "Fetching stock data...:  89%|████████▉ | 471/527 [04:24<01:12,  1.29s/it]$ROL: possibly delisted; no price data found  (period=1y)\n",
      "$ROL: possibly delisted; no price data found  (period=1y)\n",
      "Fetching stock data...:  90%|████████▉ | 472/527 [04:25<01:10,  1.27s/it]$EXPD: possibly delisted; no price data found  (period=1y)\n",
      "$EXPD: possibly delisted; no price data found  (period=1y)\n",
      "Fetching stock data...:  90%|████████▉ | 473/527 [04:26<01:08,  1.28s/it]$UAL: possibly delisted; no price data found  (period=1y)\n",
      "$UAL: possibly delisted; no price data found  (period=1y)\n",
      "Fetching stock data...:  90%|████████▉ | 474/527 [04:27<01:07,  1.27s/it]$CLX: possibly delisted; no price data found  (period=1y)\n",
      "$CLX: possibly delisted; no price data found  (period=1y)\n",
      "Fetching stock data...:  90%|█████████ | 475/527 [04:29<01:08,  1.32s/it]$KHC: possibly delisted; no price data found  (period=1y)\n",
      "$KHC: possibly delisted; no price data found  (period=1y)\n",
      "Fetching stock data...:  90%|█████████ | 476/527 [04:30<01:07,  1.33s/it]$KR: possibly delisted; no price data found  (period=1y)\n",
      "$KR: possibly delisted; no price data found  (period=1y)\n",
      "Fetching stock data...:  91%|█████████ | 477/527 [04:31<01:05,  1.32s/it]$WBD: possibly delisted; no price data found  (period=1y)\n",
      "$WBD: possibly delisted; no price data found  (period=1y)\n",
      "Fetching stock data...:  91%|█████████ | 478/527 [04:33<01:05,  1.33s/it]$WY: possibly delisted; no price data found  (period=1y)\n",
      "$WY: possibly delisted; no price data found  (period=1y)\n",
      "Fetching stock data...:  91%|█████████ | 479/527 [04:34<01:02,  1.30s/it]$ON: possibly delisted; no price data found  (period=1y)\n",
      "$ON: possibly delisted; no price data found  (period=1y)\n",
      "Fetching stock data...:  91%|█████████ | 480/527 [04:35<01:00,  1.28s/it]$CPRT: possibly delisted; no price data found  (period=1y)\n",
      "$CPRT: possibly delisted; no price data found  (period=1y)\n",
      "Fetching stock data...:  91%|█████████▏| 481/527 [04:37<01:00,  1.31s/it]$EXC: possibly delisted; no price data found  (period=1y)\n",
      "$EXC: possibly delisted; no price data found  (period=1y)\n",
      "Fetching stock data...:  91%|█████████▏| 482/527 [04:38<00:57,  1.29s/it]$SYY: possibly delisted; no price data found  (period=1y)\n",
      "$SYY: possibly delisted; no price data found  (period=1y)\n",
      "Fetching stock data...:  92%|█████████▏| 483/527 [04:39<00:56,  1.27s/it]$PPG: possibly delisted; no price data found  (period=1y)\n",
      "$PPG: possibly delisted; no price data found  (period=1y)\n",
      "Fetching stock data...:  92%|█████████▏| 484/527 [04:41<00:56,  1.32s/it]$PLD: possibly delisted; no price data found  (period=1y)\n",
      "$PLD: possibly delisted; no price data found  (period=1y)\n",
      "Fetching stock data...:  92%|█████████▏| 485/527 [04:42<00:56,  1.34s/it]$VZ: possibly delisted; no price data found  (period=1y)\n",
      "$VZ: possibly delisted; no price data found  (period=1y)\n",
      "Fetching stock data...:  92%|█████████▏| 486/527 [04:43<00:55,  1.35s/it]$VEEV: possibly delisted; no price data found  (period=1y)\n",
      "$VEEV: possibly delisted; no price data found  (period=1y)\n",
      "Fetching stock data...:  92%|█████████▏| 487/527 [04:45<00:53,  1.34s/it]$SCHW: possibly delisted; no price data found  (period=1y)\n",
      "$SCHW: possibly delisted; no price data found  (period=1y)\n",
      "Fetching stock data...:  93%|█████████▎| 488/527 [04:46<00:52,  1.36s/it]$TFX: possibly delisted; no price data found  (period=1y)\n",
      "$TFX: possibly delisted; no price data found  (period=1y)\n",
      "Fetching stock data...:  93%|█████████▎| 489/527 [04:47<00:51,  1.36s/it]$DPZ: possibly delisted; no price data found  (period=1y)\n",
      "$DPZ: possibly delisted; no price data found  (period=1y)\n",
      "Fetching stock data...:  93%|█████████▎| 490/527 [04:49<00:50,  1.36s/it]$F: possibly delisted; no price data found  (period=1y)\n",
      "$F: possibly delisted; no price data found  (period=1y)\n",
      "Fetching stock data...:  93%|█████████▎| 491/527 [04:50<00:48,  1.33s/it]$COST: possibly delisted; no price data found  (period=1y)\n",
      "$COST: possibly delisted; no price data found  (period=1y)\n",
      "Fetching stock data...:  93%|█████████▎| 492/527 [04:51<00:46,  1.32s/it]$HPQ: possibly delisted; no price data found  (period=1y)\n",
      "$HPQ: possibly delisted; no price data found  (period=1y)\n",
      "Fetching stock data...:  94%|█████████▎| 493/527 [04:53<00:44,  1.32s/it]$IQV: possibly delisted; no price data found  (period=1y)\n",
      "$IQV: possibly delisted; no price data found  (period=1y)\n",
      "Fetching stock data...:  94%|█████████▎| 494/527 [04:54<00:43,  1.32s/it]$K: possibly delisted; no price data found  (period=1y)\n",
      "$K: possibly delisted; no price data found  (period=1y)\n",
      "Fetching stock data...:  94%|█████████▍| 495/527 [04:55<00:41,  1.30s/it]$AIG: possibly delisted; no price data found  (period=1y)\n",
      "$AIG: possibly delisted; no price data found  (period=1y)\n",
      "Fetching stock data...:  94%|█████████▍| 496/527 [04:56<00:40,  1.30s/it]$TMUS: possibly delisted; no price data found  (period=1y)\n",
      "$TMUS: possibly delisted; no price data found  (period=1y)\n",
      "Fetching stock data...:  94%|█████████▍| 497/527 [04:58<00:40,  1.35s/it]$HSIC: possibly delisted; no price data found  (period=1y)\n",
      "$HSIC: possibly delisted; no price data found  (period=1y)\n",
      "Fetching stock data...:  94%|█████████▍| 498/527 [04:59<00:39,  1.35s/it]$NFLX: possibly delisted; no price data found  (period=1y)\n",
      "$NFLX: possibly delisted; no price data found  (period=1y)\n",
      "Fetching stock data...:  95%|█████████▍| 499/527 [05:01<00:37,  1.33s/it]$MRNA: possibly delisted; no price data found  (period=1y)\n",
      "$MRNA: possibly delisted; no price data found  (period=1y)\n",
      "Fetching stock data...:  95%|█████████▍| 500/527 [05:02<00:35,  1.30s/it]$AME: possibly delisted; no price data found  (period=1y)\n",
      "$AME: possibly delisted; no price data found  (period=1y)\n",
      "Fetching stock data...:  95%|█████████▌| 501/527 [05:03<00:33,  1.31s/it]$BWA: possibly delisted; no price data found  (period=1y)\n",
      "$BWA: possibly delisted; no price data found  (period=1y)\n",
      "Fetching stock data...:  95%|█████████▌| 502/527 [05:05<00:34,  1.38s/it]$NDSN: possibly delisted; no price data found  (period=1y)\n",
      "$NDSN: possibly delisted; no price data found  (period=1y)\n",
      "Fetching stock data...:  95%|█████████▌| 503/527 [05:06<00:32,  1.37s/it]$DGX: possibly delisted; no price data found  (period=1y)\n",
      "$DGX: possibly delisted; no price data found  (period=1y)\n",
      "Fetching stock data...:  96%|█████████▌| 504/527 [05:07<00:30,  1.34s/it]$AEP: possibly delisted; no price data found  (period=1y)\n",
      "$AEP: possibly delisted; no price data found  (period=1y)\n",
      "Fetching stock data...:  96%|█████████▌| 505/527 [05:09<00:29,  1.32s/it]$WBA: possibly delisted; no price data found  (period=1y)\n",
      "$WBA: possibly delisted; no price data found  (period=1y)\n",
      "Fetching stock data...:  96%|█████████▌| 506/527 [05:10<00:27,  1.31s/it]$LIN: possibly delisted; no price data found  (period=1y)\n",
      "$LIN: possibly delisted; no price data found  (period=1y)\n",
      "Fetching stock data...:  96%|█████████▌| 507/527 [05:11<00:26,  1.35s/it]$BIIB: possibly delisted; no price data found  (period=1y)\n",
      "$BIIB: possibly delisted; no price data found  (period=1y)\n",
      "Fetching stock data...:  96%|█████████▋| 508/527 [05:13<00:25,  1.35s/it]$FI: possibly delisted; no price data found  (period=1y)\n",
      "$FI: possibly delisted; no price data found  (period=1y)\n",
      "Fetching stock data...:  97%|█████████▋| 509/527 [05:14<00:23,  1.30s/it]$SNA: possibly delisted; no price data found  (period=1y)\n",
      "$SNA: possibly delisted; no price data found  (period=1y)\n",
      "Fetching stock data...:  97%|█████████▋| 510/527 [05:15<00:22,  1.31s/it]$DE: possibly delisted; no price data found  (period=1y)\n",
      "$DE: possibly delisted; no price data found  (period=1y)\n",
      "Fetching stock data...:  97%|█████████▋| 511/527 [05:16<00:20,  1.31s/it]$OKE: possibly delisted; no price data found  (period=1y)\n",
      "$OKE: possibly delisted; no price data found  (period=1y)\n",
      "Fetching stock data...:  97%|█████████▋| 512/527 [05:18<00:19,  1.28s/it]$MCHP: possibly delisted; no price data found  (period=1y)\n",
      "$MCHP: possibly delisted; no price data found  (period=1y)\n",
      "Fetching stock data...:  97%|█████████▋| 513/527 [05:19<00:18,  1.31s/it]$RSG: possibly delisted; no price data found  (period=1y)\n",
      "$RSG: possibly delisted; no price data found  (period=1y)\n",
      "Fetching stock data...:  98%|█████████▊| 514/527 [05:20<00:16,  1.24s/it]$APTV: possibly delisted; no price data found  (period=1y)\n",
      "$APTV: possibly delisted; no price data found  (period=1y)\n",
      "Fetching stock data...:  98%|█████████▊| 515/527 [05:21<00:13,  1.14s/it]$QRVO: possibly delisted; no price data found  (period=1y)\n",
      "$QRVO: possibly delisted; no price data found  (period=1y)\n",
      "Fetching stock data...:  98%|█████████▊| 516/527 [05:22<00:11,  1.07s/it]$UNH: possibly delisted; no price data found  (period=1y)\n",
      "$UNH: possibly delisted; no price data found  (period=1y)\n",
      "Fetching stock data...:  98%|█████████▊| 517/527 [05:24<00:12,  1.22s/it]$AEE: possibly delisted; no price data found  (period=1y)\n",
      "$AEE: possibly delisted; no price data found  (period=1y)\n",
      "Fetching stock data...:  98%|█████████▊| 518/527 [05:25<00:10,  1.18s/it]$IBM: possibly delisted; no price data found  (period=1y)\n",
      "$IBM: possibly delisted; no price data found  (period=1y)\n",
      "Fetching stock data...:  98%|█████████▊| 519/527 [05:26<00:09,  1.13s/it]$MET: possibly delisted; no price data found  (period=1y)\n",
      "$MET: possibly delisted; no price data found  (period=1y)\n",
      "Fetching stock data...:  99%|█████████▊| 520/527 [05:27<00:07,  1.08s/it]$EXR: possibly delisted; no price data found  (period=1y)\n",
      "$EXR: possibly delisted; no price data found  (period=1y)\n",
      "Fetching stock data...:  99%|█████████▉| 521/527 [05:28<00:06,  1.08s/it]$BAX: possibly delisted; no price data found  (period=1y)\n",
      "$BAX: possibly delisted; no price data found  (period=1y)\n",
      "Fetching stock data...:  99%|█████████▉| 522/527 [05:29<00:05,  1.05s/it]$TPL: possibly delisted; no price data found  (period=1y)\n",
      "$TPL: possibly delisted; no price data found  (period=1y)\n",
      "Fetching stock data...:  99%|█████████▉| 523/527 [05:30<00:04,  1.02s/it]$CTVA: possibly delisted; no price data found  (period=1y)\n",
      "$CTVA: possibly delisted; no price data found  (period=1y)\n",
      "Fetching stock data...:  99%|█████████▉| 524/527 [05:31<00:02,  1.00it/s]$DLTR: possibly delisted; no price data found  (period=1y)\n",
      "$DLTR: possibly delisted; no price data found  (period=1y)\n",
      "Fetching stock data...: 100%|█████████▉| 525/527 [05:32<00:01,  1.01it/s]$DHR: possibly delisted; no price data found  (period=1y)\n",
      "$DHR: possibly delisted; no price data found  (period=1y)\n",
      "Fetching stock data...: 100%|█████████▉| 526/527 [05:33<00:00,  1.00it/s]$SNOW: possibly delisted; no price data found  (period=1y)\n",
      "$SNOW: possibly delisted; no price data found  (period=1y)\n",
      "Fetching stock data...: 100%|██████████| 527/527 [05:34<00:00,  1.58it/s]\n"
     ]
    },
    {
     "name": "stdout",
     "output_type": "stream",
     "text": [
      "Completed fetching stock data in 334.03 seconds.\n",
      "saving data to data_raw/stock_data.csv\n",
      "number of tickers: 370\n"
     ]
    },
    {
     "name": "stderr",
     "output_type": "stream",
     "text": [
      "Fetching Data:   0%|          | 0/370 [00:00<?, ?ticker/s]$INTU: possibly delisted; no price data found  (period=1y)\n",
      "Fetching Data:   0%|          | 1/370 [00:00<03:06,  1.98ticker/s]"
     ]
    },
    {
     "name": "stdout",
     "output_type": "stream",
     "text": [
      "No data found for ticker: INTU\n"
     ]
    },
    {
     "name": "stderr",
     "output_type": "stream",
     "text": [
      "$NSC: possibly delisted; no price data found  (period=1y)\n",
      "Fetching Data:   1%|          | 2/370 [00:00<02:59,  2.05ticker/s]"
     ]
    },
    {
     "name": "stdout",
     "output_type": "stream",
     "text": [
      "No data found for ticker: NSC\n"
     ]
    },
    {
     "name": "stderr",
     "output_type": "stream",
     "text": [
      "$URI: possibly delisted; no price data found  (period=1y)\n",
      "Fetching Data:   1%|          | 3/370 [00:01<03:00,  2.03ticker/s]"
     ]
    },
    {
     "name": "stdout",
     "output_type": "stream",
     "text": [
      "No data found for ticker: URI\n"
     ]
    },
    {
     "name": "stderr",
     "output_type": "stream",
     "text": [
      "$YUM: possibly delisted; no price data found  (period=1y)\n",
      "Fetching Data:   1%|          | 4/370 [00:01<02:56,  2.07ticker/s]"
     ]
    },
    {
     "name": "stdout",
     "output_type": "stream",
     "text": [
      "No data found for ticker: YUM\n"
     ]
    },
    {
     "name": "stderr",
     "output_type": "stream",
     "text": [
      "$MOH: possibly delisted; no price data found  (period=1y)\n",
      "Fetching Data:   1%|▏         | 5/370 [00:02<03:05,  1.97ticker/s]"
     ]
    },
    {
     "name": "stdout",
     "output_type": "stream",
     "text": [
      "No data found for ticker: MOH\n"
     ]
    },
    {
     "name": "stderr",
     "output_type": "stream",
     "text": [
      "$SPOT: possibly delisted; no price data found  (period=1y)\n",
      "Fetching Data:   2%|▏         | 6/370 [00:03<03:05,  1.96ticker/s]"
     ]
    },
    {
     "name": "stdout",
     "output_type": "stream",
     "text": [
      "No data found for ticker: SPOT\n"
     ]
    },
    {
     "name": "stderr",
     "output_type": "stream",
     "text": [
      "$NCLH: possibly delisted; no price data found  (period=1y)\n",
      "Fetching Data:   2%|▏         | 7/370 [00:03<03:02,  1.99ticker/s]"
     ]
    },
    {
     "name": "stdout",
     "output_type": "stream",
     "text": [
      "No data found for ticker: NCLH\n"
     ]
    },
    {
     "name": "stderr",
     "output_type": "stream",
     "text": [
      "$L: possibly delisted; no price data found  (period=1y)\n",
      "Fetching Data:   2%|▏         | 8/370 [00:03<03:01,  2.00ticker/s]"
     ]
    },
    {
     "name": "stdout",
     "output_type": "stream",
     "text": [
      "No data found for ticker: L\n"
     ]
    },
    {
     "name": "stderr",
     "output_type": "stream",
     "text": [
      "$WMB: possibly delisted; no price data found  (period=1y)\n",
      "Fetching Data:   2%|▏         | 9/370 [00:04<02:57,  2.03ticker/s]"
     ]
    },
    {
     "name": "stdout",
     "output_type": "stream",
     "text": [
      "No data found for ticker: WMB\n"
     ]
    },
    {
     "name": "stderr",
     "output_type": "stream",
     "text": [
      "$FDX: possibly delisted; no price data found  (period=1y)\n",
      "Fetching Data:   3%|▎         | 10/370 [00:04<02:54,  2.06ticker/s]"
     ]
    },
    {
     "name": "stdout",
     "output_type": "stream",
     "text": [
      "No data found for ticker: FDX\n"
     ]
    },
    {
     "name": "stderr",
     "output_type": "stream",
     "text": [
      "$TRV: possibly delisted; no price data found  (period=1y)\n",
      "Fetching Data:   3%|▎         | 11/370 [00:05<02:51,  2.09ticker/s]"
     ]
    },
    {
     "name": "stdout",
     "output_type": "stream",
     "text": [
      "No data found for ticker: TRV\n"
     ]
    },
    {
     "name": "stderr",
     "output_type": "stream",
     "text": [
      "$ED: possibly delisted; no price data found  (period=1y)\n",
      "Fetching Data:   3%|▎         | 12/370 [00:05<02:50,  2.10ticker/s]"
     ]
    },
    {
     "name": "stdout",
     "output_type": "stream",
     "text": [
      "No data found for ticker: ED\n"
     ]
    },
    {
     "name": "stderr",
     "output_type": "stream",
     "text": [
      "$PYPL: possibly delisted; no price data found  (period=1y)\n",
      "Fetching Data:   4%|▎         | 13/370 [00:06<02:47,  2.13ticker/s]"
     ]
    },
    {
     "name": "stdout",
     "output_type": "stream",
     "text": [
      "No data found for ticker: PYPL\n"
     ]
    },
    {
     "name": "stderr",
     "output_type": "stream",
     "text": [
      "$LVS: possibly delisted; no price data found  (period=1y)\n",
      "Fetching Data:   4%|▍         | 14/370 [00:06<02:48,  2.11ticker/s]"
     ]
    },
    {
     "name": "stdout",
     "output_type": "stream",
     "text": [
      "No data found for ticker: LVS\n"
     ]
    },
    {
     "name": "stderr",
     "output_type": "stream",
     "text": [
      "$ANET: possibly delisted; no price data found  (period=1y)\n",
      "Fetching Data:   4%|▍         | 15/370 [00:07<02:47,  2.12ticker/s]"
     ]
    },
    {
     "name": "stdout",
     "output_type": "stream",
     "text": [
      "No data found for ticker: ANET\n"
     ]
    },
    {
     "name": "stderr",
     "output_type": "stream",
     "text": [
      "$PM: possibly delisted; no price data found  (period=1y)\n",
      "Fetching Data:   4%|▍         | 16/370 [00:07<02:46,  2.13ticker/s]"
     ]
    },
    {
     "name": "stdout",
     "output_type": "stream",
     "text": [
      "No data found for ticker: PM\n"
     ]
    },
    {
     "name": "stderr",
     "output_type": "stream",
     "text": [
      "$ADP: possibly delisted; no price data found  (period=1y)\n",
      "Fetching Data:   5%|▍         | 17/370 [00:08<02:43,  2.16ticker/s]"
     ]
    },
    {
     "name": "stdout",
     "output_type": "stream",
     "text": [
      "No data found for ticker: ADP\n"
     ]
    },
    {
     "name": "stderr",
     "output_type": "stream",
     "text": [
      "$ZM: possibly delisted; no price data found  (period=1y)\n",
      "Fetching Data:   5%|▍         | 18/370 [00:08<02:41,  2.18ticker/s]"
     ]
    },
    {
     "name": "stdout",
     "output_type": "stream",
     "text": [
      "No data found for ticker: ZM\n"
     ]
    },
    {
     "name": "stderr",
     "output_type": "stream",
     "text": [
      "$ABBV: possibly delisted; no price data found  (period=1y)\n",
      "Fetching Data:   5%|▌         | 19/370 [00:09<02:39,  2.20ticker/s]"
     ]
    },
    {
     "name": "stdout",
     "output_type": "stream",
     "text": [
      "No data found for ticker: ABBV\n"
     ]
    },
    {
     "name": "stderr",
     "output_type": "stream",
     "text": [
      "$AVY: possibly delisted; no price data found  (period=1y)\n",
      "Fetching Data:   5%|▌         | 20/370 [00:09<02:45,  2.12ticker/s]"
     ]
    },
    {
     "name": "stdout",
     "output_type": "stream",
     "text": [
      "No data found for ticker: AVY\n"
     ]
    },
    {
     "name": "stderr",
     "output_type": "stream",
     "text": [
      "$VLTO: possibly delisted; no price data found  (period=1y)\n",
      "Fetching Data:   6%|▌         | 21/370 [00:10<02:49,  2.06ticker/s]"
     ]
    },
    {
     "name": "stdout",
     "output_type": "stream",
     "text": [
      "No data found for ticker: VLTO\n"
     ]
    },
    {
     "name": "stderr",
     "output_type": "stream",
     "text": [
      "$GD: possibly delisted; no price data found  (period=1y)\n",
      "Fetching Data:   6%|▌         | 22/370 [00:10<02:57,  1.96ticker/s]"
     ]
    },
    {
     "name": "stdout",
     "output_type": "stream",
     "text": [
      "No data found for ticker: GD\n"
     ]
    },
    {
     "name": "stderr",
     "output_type": "stream",
     "text": [
      "$CDW: possibly delisted; no price data found  (period=1y)\n",
      "Fetching Data:   6%|▌         | 23/370 [00:11<02:48,  2.06ticker/s]"
     ]
    },
    {
     "name": "stdout",
     "output_type": "stream",
     "text": [
      "No data found for ticker: CDW\n"
     ]
    },
    {
     "name": "stderr",
     "output_type": "stream",
     "text": [
      "$SNPS: possibly delisted; no price data found  (period=1y)\n",
      "Fetching Data:   6%|▋         | 24/370 [00:11<02:47,  2.06ticker/s]"
     ]
    },
    {
     "name": "stdout",
     "output_type": "stream",
     "text": [
      "No data found for ticker: SNPS\n"
     ]
    },
    {
     "name": "stderr",
     "output_type": "stream",
     "text": [
      "$MNST: possibly delisted; no price data found  (period=1y)\n",
      "Fetching Data:   7%|▋         | 25/370 [00:12<02:52,  2.00ticker/s]"
     ]
    },
    {
     "name": "stdout",
     "output_type": "stream",
     "text": [
      "No data found for ticker: MNST\n"
     ]
    },
    {
     "name": "stderr",
     "output_type": "stream",
     "text": [
      "$EIX: possibly delisted; no price data found  (period=1y)\n",
      "Fetching Data:   7%|▋         | 26/370 [00:12<02:53,  1.98ticker/s]"
     ]
    },
    {
     "name": "stdout",
     "output_type": "stream",
     "text": [
      "No data found for ticker: EIX\n"
     ]
    },
    {
     "name": "stderr",
     "output_type": "stream",
     "text": [
      "$VMC: possibly delisted; no price data found  (period=1y)\n",
      "Fetching Data:   7%|▋         | 27/370 [00:13<02:52,  1.98ticker/s]"
     ]
    },
    {
     "name": "stdout",
     "output_type": "stream",
     "text": [
      "No data found for ticker: VMC\n"
     ]
    },
    {
     "name": "stderr",
     "output_type": "stream",
     "text": [
      "$PSA: possibly delisted; no price data found  (period=1y)\n",
      "Fetching Data:   8%|▊         | 28/370 [00:13<02:49,  2.02ticker/s]"
     ]
    },
    {
     "name": "stdout",
     "output_type": "stream",
     "text": [
      "No data found for ticker: PSA\n"
     ]
    },
    {
     "name": "stderr",
     "output_type": "stream",
     "text": [
      "$EPAM: possibly delisted; no price data found  (period=1y)\n",
      "Fetching Data:   8%|▊         | 29/370 [00:14<02:42,  2.10ticker/s]"
     ]
    },
    {
     "name": "stdout",
     "output_type": "stream",
     "text": [
      "No data found for ticker: EPAM\n"
     ]
    },
    {
     "name": "stderr",
     "output_type": "stream",
     "text": [
      "$JCI: possibly delisted; no price data found  (period=1y)\n",
      "Fetching Data:   8%|▊         | 30/370 [00:14<02:39,  2.13ticker/s]"
     ]
    },
    {
     "name": "stdout",
     "output_type": "stream",
     "text": [
      "No data found for ticker: JCI\n"
     ]
    },
    {
     "name": "stderr",
     "output_type": "stream",
     "text": [
      "$PFG: possibly delisted; no price data found  (period=1y)\n",
      "Fetching Data:   8%|▊         | 31/370 [00:15<02:41,  2.10ticker/s]"
     ]
    },
    {
     "name": "stdout",
     "output_type": "stream",
     "text": [
      "No data found for ticker: PFG\n"
     ]
    },
    {
     "name": "stderr",
     "output_type": "stream",
     "text": [
      "$C: possibly delisted; no price data found  (period=1y)\n",
      "Fetching Data:   9%|▊         | 32/370 [00:15<02:47,  2.02ticker/s]"
     ]
    },
    {
     "name": "stdout",
     "output_type": "stream",
     "text": [
      "No data found for ticker: C\n"
     ]
    },
    {
     "name": "stderr",
     "output_type": "stream",
     "text": [
      "$PAYX: possibly delisted; no price data found  (period=1y)\n",
      "Fetching Data:   9%|▉         | 33/370 [00:16<02:59,  1.88ticker/s]"
     ]
    },
    {
     "name": "stdout",
     "output_type": "stream",
     "text": [
      "No data found for ticker: PAYX\n"
     ]
    },
    {
     "name": "stderr",
     "output_type": "stream",
     "text": [
      "$GOOG: possibly delisted; no price data found  (period=1y)\n",
      "Fetching Data:   9%|▉         | 34/370 [00:16<02:51,  1.96ticker/s]"
     ]
    },
    {
     "name": "stdout",
     "output_type": "stream",
     "text": [
      "No data found for ticker: GOOG\n"
     ]
    },
    {
     "name": "stderr",
     "output_type": "stream",
     "text": [
      "$MAR: possibly delisted; no price data found  (period=1y)\n",
      "Fetching Data:   9%|▉         | 35/370 [00:17<02:47,  2.00ticker/s]"
     ]
    },
    {
     "name": "stdout",
     "output_type": "stream",
     "text": [
      "No data found for ticker: MAR\n"
     ]
    },
    {
     "name": "stderr",
     "output_type": "stream",
     "text": [
      "$ANSS: possibly delisted; no price data found  (period=1y)\n",
      "Fetching Data:  10%|▉         | 36/370 [00:17<02:44,  2.03ticker/s]"
     ]
    },
    {
     "name": "stdout",
     "output_type": "stream",
     "text": [
      "No data found for ticker: ANSS\n"
     ]
    },
    {
     "name": "stderr",
     "output_type": "stream",
     "text": [
      "$LH: possibly delisted; no price data found  (period=1y)\n",
      "Fetching Data:  10%|█         | 37/370 [00:18<02:41,  2.07ticker/s]"
     ]
    },
    {
     "name": "stdout",
     "output_type": "stream",
     "text": [
      "No data found for ticker: LH\n"
     ]
    },
    {
     "name": "stderr",
     "output_type": "stream",
     "text": [
      "$SQ: possibly delisted; no price data found  (period=1y)\n",
      "Fetching Data:  10%|█         | 38/370 [00:18<02:41,  2.06ticker/s]"
     ]
    },
    {
     "name": "stdout",
     "output_type": "stream",
     "text": [
      "No data found for ticker: SQ\n"
     ]
    },
    {
     "name": "stderr",
     "output_type": "stream",
     "text": [
      "$BKNG: possibly delisted; no price data found  (period=1y)\n",
      "Fetching Data:  11%|█         | 39/370 [00:19<02:40,  2.06ticker/s]"
     ]
    },
    {
     "name": "stdout",
     "output_type": "stream",
     "text": [
      "No data found for ticker: BKNG\n"
     ]
    },
    {
     "name": "stderr",
     "output_type": "stream",
     "text": [
      "$WST: possibly delisted; no price data found  (period=1y)\n",
      "Fetching Data:  11%|█         | 40/370 [00:19<02:43,  2.02ticker/s]"
     ]
    },
    {
     "name": "stdout",
     "output_type": "stream",
     "text": [
      "No data found for ticker: WST\n"
     ]
    },
    {
     "name": "stderr",
     "output_type": "stream",
     "text": [
      "$AZO: possibly delisted; no price data found  (period=1y)\n",
      "Fetching Data:  11%|█         | 41/370 [00:19<02:40,  2.05ticker/s]"
     ]
    },
    {
     "name": "stdout",
     "output_type": "stream",
     "text": [
      "No data found for ticker: AZO\n"
     ]
    },
    {
     "name": "stderr",
     "output_type": "stream",
     "text": [
      "$JNJ: possibly delisted; no price data found  (period=1y)\n",
      "Fetching Data:  11%|█▏        | 42/370 [00:20<02:40,  2.04ticker/s]"
     ]
    },
    {
     "name": "stdout",
     "output_type": "stream",
     "text": [
      "No data found for ticker: JNJ\n"
     ]
    },
    {
     "name": "stderr",
     "output_type": "stream",
     "text": [
      "$CEG: possibly delisted; no price data found  (period=1y)\n",
      "Fetching Data:  12%|█▏        | 43/370 [00:20<02:40,  2.04ticker/s]"
     ]
    },
    {
     "name": "stdout",
     "output_type": "stream",
     "text": [
      "No data found for ticker: CEG\n"
     ]
    },
    {
     "name": "stderr",
     "output_type": "stream",
     "text": [
      "$CMG: possibly delisted; no price data found  (period=1y)\n",
      "Fetching Data:  12%|█▏        | 44/370 [00:21<02:38,  2.06ticker/s]"
     ]
    },
    {
     "name": "stdout",
     "output_type": "stream",
     "text": [
      "No data found for ticker: CMG\n"
     ]
    },
    {
     "name": "stderr",
     "output_type": "stream",
     "text": [
      "$CF: possibly delisted; no price data found  (period=1y)\n",
      "Fetching Data:  12%|█▏        | 45/370 [00:21<02:37,  2.06ticker/s]"
     ]
    },
    {
     "name": "stdout",
     "output_type": "stream",
     "text": [
      "No data found for ticker: CF\n"
     ]
    },
    {
     "name": "stderr",
     "output_type": "stream",
     "text": [
      "$LW: possibly delisted; no price data found  (period=1y)\n",
      "Fetching Data:  12%|█▏        | 46/370 [00:22<02:34,  2.09ticker/s]"
     ]
    },
    {
     "name": "stdout",
     "output_type": "stream",
     "text": [
      "No data found for ticker: LW\n"
     ]
    },
    {
     "name": "stderr",
     "output_type": "stream",
     "text": [
      "$GL: possibly delisted; no price data found  (period=1y)\n",
      "Fetching Data:  13%|█▎        | 47/370 [00:23<04:14,  1.27ticker/s]"
     ]
    },
    {
     "name": "stdout",
     "output_type": "stream",
     "text": [
      "No data found for ticker: GL\n"
     ]
    },
    {
     "name": "stderr",
     "output_type": "stream",
     "text": [
      "$ICE: possibly delisted; no price data found  (period=1y)\n",
      "Fetching Data:  13%|█▎        | 48/370 [00:24<03:49,  1.40ticker/s]"
     ]
    },
    {
     "name": "stdout",
     "output_type": "stream",
     "text": [
      "No data found for ticker: ICE\n"
     ]
    },
    {
     "name": "stderr",
     "output_type": "stream",
     "text": [
      "$FTV: possibly delisted; no price data found  (period=1y)\n",
      "Fetching Data:  13%|█▎        | 49/370 [00:24<03:25,  1.56ticker/s]"
     ]
    },
    {
     "name": "stdout",
     "output_type": "stream",
     "text": [
      "No data found for ticker: FTV\n"
     ]
    },
    {
     "name": "stderr",
     "output_type": "stream",
     "text": [
      "$CSCO: possibly delisted; no price data found  (period=1y)\n",
      "Fetching Data:  14%|█▎        | 50/370 [00:26<04:47,  1.11ticker/s]"
     ]
    },
    {
     "name": "stdout",
     "output_type": "stream",
     "text": [
      "No data found for ticker: CSCO\n"
     ]
    },
    {
     "name": "stderr",
     "output_type": "stream",
     "text": [
      "$FICO: possibly delisted; no price data found  (period=1y)\n",
      "Fetching Data:  14%|█▍        | 51/370 [00:26<04:14,  1.26ticker/s]"
     ]
    },
    {
     "name": "stdout",
     "output_type": "stream",
     "text": [
      "No data found for ticker: FICO\n"
     ]
    },
    {
     "name": "stderr",
     "output_type": "stream",
     "text": [
      "$MCO: possibly delisted; no price data found  (period=1y)\n",
      "Fetching Data:  14%|█▍        | 52/370 [00:27<03:39,  1.45ticker/s]"
     ]
    },
    {
     "name": "stdout",
     "output_type": "stream",
     "text": [
      "No data found for ticker: MCO\n"
     ]
    },
    {
     "name": "stderr",
     "output_type": "stream",
     "text": [
      "$GPC: possibly delisted; no price data found  (period=1y)\n",
      "Fetching Data:  14%|█▍        | 53/370 [00:28<04:12,  1.26ticker/s]"
     ]
    },
    {
     "name": "stdout",
     "output_type": "stream",
     "text": [
      "No data found for ticker: GPC\n"
     ]
    },
    {
     "name": "stderr",
     "output_type": "stream",
     "text": [
      "$LKQ: possibly delisted; no price data found  (period=1y)\n",
      "Fetching Data:  15%|█▍        | 54/370 [00:28<03:44,  1.41ticker/s]"
     ]
    },
    {
     "name": "stdout",
     "output_type": "stream",
     "text": [
      "No data found for ticker: LKQ\n"
     ]
    },
    {
     "name": "stderr",
     "output_type": "stream",
     "text": [
      "$SWK: possibly delisted; no price data found  (period=1y)\n",
      "Fetching Data:  15%|█▍        | 55/370 [00:29<03:22,  1.56ticker/s]"
     ]
    },
    {
     "name": "stdout",
     "output_type": "stream",
     "text": [
      "No data found for ticker: SWK\n"
     ]
    },
    {
     "name": "stderr",
     "output_type": "stream",
     "text": [
      "$ZBRA: possibly delisted; no price data found  (period=1y)\n",
      "Fetching Data:  15%|█▌        | 56/370 [00:29<03:06,  1.68ticker/s]"
     ]
    },
    {
     "name": "stdout",
     "output_type": "stream",
     "text": [
      "No data found for ticker: ZBRA\n"
     ]
    },
    {
     "name": "stderr",
     "output_type": "stream",
     "text": [
      "$CSGP: possibly delisted; no price data found  (period=1y)\n",
      "Fetching Data:  15%|█▌        | 57/370 [00:30<02:55,  1.79ticker/s]"
     ]
    },
    {
     "name": "stdout",
     "output_type": "stream",
     "text": [
      "No data found for ticker: CSGP\n"
     ]
    },
    {
     "name": "stderr",
     "output_type": "stream",
     "text": [
      "$FCX: possibly delisted; no price data found  (period=1y)\n",
      "Fetching Data:  16%|█▌        | 58/370 [00:30<02:48,  1.85ticker/s]"
     ]
    },
    {
     "name": "stdout",
     "output_type": "stream",
     "text": [
      "No data found for ticker: FCX\n"
     ]
    },
    {
     "name": "stderr",
     "output_type": "stream",
     "text": [
      "$CRWD: possibly delisted; no price data found  (period=1y)\n",
      "Fetching Data:  16%|█▌        | 59/370 [00:31<02:44,  1.89ticker/s]"
     ]
    },
    {
     "name": "stdout",
     "output_type": "stream",
     "text": [
      "No data found for ticker: CRWD\n"
     ]
    },
    {
     "name": "stderr",
     "output_type": "stream",
     "text": [
      "$PGR: possibly delisted; no price data found  (period=1y)\n",
      "Fetching Data:  16%|█▌        | 60/370 [00:31<02:41,  1.92ticker/s]"
     ]
    },
    {
     "name": "stdout",
     "output_type": "stream",
     "text": [
      "No data found for ticker: PGR\n"
     ]
    },
    {
     "name": "stderr",
     "output_type": "stream",
     "text": [
      "$PEG: possibly delisted; no price data found  (period=1y)\n",
      "Fetching Data:  16%|█▋        | 61/370 [00:32<02:35,  1.99ticker/s]"
     ]
    },
    {
     "name": "stdout",
     "output_type": "stream",
     "text": [
      "No data found for ticker: PEG\n"
     ]
    },
    {
     "name": "stderr",
     "output_type": "stream",
     "text": [
      "$NTAP: possibly delisted; no price data found  (period=1y)\n",
      "Fetching Data:  17%|█▋        | 62/370 [00:32<02:28,  2.07ticker/s]"
     ]
    },
    {
     "name": "stdout",
     "output_type": "stream",
     "text": [
      "No data found for ticker: NTAP\n"
     ]
    },
    {
     "name": "stderr",
     "output_type": "stream",
     "text": [
      "$CMCSA: possibly delisted; no price data found  (period=1y)\n",
      "Fetching Data:  17%|█▋        | 63/370 [00:33<02:31,  2.03ticker/s]"
     ]
    },
    {
     "name": "stdout",
     "output_type": "stream",
     "text": [
      "No data found for ticker: CMCSA\n"
     ]
    },
    {
     "name": "stderr",
     "output_type": "stream",
     "text": [
      "$TXN: possibly delisted; no price data found  (period=1y)\n",
      "Fetching Data:  17%|█▋        | 64/370 [00:33<02:33,  1.99ticker/s]"
     ]
    },
    {
     "name": "stdout",
     "output_type": "stream",
     "text": [
      "No data found for ticker: TXN\n"
     ]
    },
    {
     "name": "stderr",
     "output_type": "stream",
     "text": [
      "$GDDY: possibly delisted; no price data found  (period=1y)\n",
      "Fetching Data:  18%|█▊        | 65/370 [00:34<02:27,  2.07ticker/s]"
     ]
    },
    {
     "name": "stdout",
     "output_type": "stream",
     "text": [
      "No data found for ticker: GDDY\n"
     ]
    },
    {
     "name": "stderr",
     "output_type": "stream",
     "text": [
      "$SHOP: possibly delisted; no price data found  (period=1y)\n",
      "Fetching Data:  18%|█▊        | 66/370 [00:34<02:22,  2.13ticker/s]"
     ]
    },
    {
     "name": "stdout",
     "output_type": "stream",
     "text": [
      "No data found for ticker: SHOP\n"
     ]
    },
    {
     "name": "stderr",
     "output_type": "stream",
     "text": [
      "$V: possibly delisted; no price data found  (period=1y)\n",
      "Fetching Data:  18%|█▊        | 67/370 [00:35<02:23,  2.11ticker/s]"
     ]
    },
    {
     "name": "stdout",
     "output_type": "stream",
     "text": [
      "No data found for ticker: V\n"
     ]
    },
    {
     "name": "stderr",
     "output_type": "stream",
     "text": [
      "$CARR: possibly delisted; no price data found  (period=1y)\n",
      "Fetching Data:  18%|█▊        | 68/370 [00:35<02:24,  2.09ticker/s]"
     ]
    },
    {
     "name": "stdout",
     "output_type": "stream",
     "text": [
      "No data found for ticker: CARR\n"
     ]
    },
    {
     "name": "stderr",
     "output_type": "stream",
     "text": [
      "$AMGN: possibly delisted; no price data found  (period=1y)\n",
      "Fetching Data:  19%|█▊        | 69/370 [00:36<02:27,  2.05ticker/s]"
     ]
    },
    {
     "name": "stdout",
     "output_type": "stream",
     "text": [
      "No data found for ticker: AMGN\n"
     ]
    },
    {
     "name": "stderr",
     "output_type": "stream",
     "text": [
      "$KIM: possibly delisted; no price data found  (period=1y)\n",
      "Fetching Data:  19%|█▉        | 70/370 [00:36<02:26,  2.04ticker/s]"
     ]
    },
    {
     "name": "stdout",
     "output_type": "stream",
     "text": [
      "No data found for ticker: KIM\n"
     ]
    },
    {
     "name": "stderr",
     "output_type": "stream",
     "text": [
      "$TER: possibly delisted; no price data found  (period=1y)\n",
      "Fetching Data:  19%|█▉        | 71/370 [00:37<02:28,  2.01ticker/s]"
     ]
    },
    {
     "name": "stdout",
     "output_type": "stream",
     "text": [
      "No data found for ticker: TER\n"
     ]
    },
    {
     "name": "stderr",
     "output_type": "stream",
     "text": [
      "$ABNB: possibly delisted; no price data found  (period=1y)\n",
      "Fetching Data:  19%|█▉        | 72/370 [00:37<02:28,  2.01ticker/s]"
     ]
    },
    {
     "name": "stdout",
     "output_type": "stream",
     "text": [
      "No data found for ticker: ABNB\n"
     ]
    },
    {
     "name": "stderr",
     "output_type": "stream",
     "text": [
      "$OMC: possibly delisted; no price data found  (period=1y)\n",
      "Fetching Data:  20%|█▉        | 73/370 [00:38<02:24,  2.05ticker/s]"
     ]
    },
    {
     "name": "stdout",
     "output_type": "stream",
     "text": [
      "No data found for ticker: OMC\n"
     ]
    },
    {
     "name": "stderr",
     "output_type": "stream",
     "text": [
      "$SMCI: possibly delisted; no price data found  (period=1y)\n",
      "Fetching Data:  20%|██        | 74/370 [00:38<02:22,  2.07ticker/s]"
     ]
    },
    {
     "name": "stdout",
     "output_type": "stream",
     "text": [
      "No data found for ticker: SMCI\n"
     ]
    },
    {
     "name": "stderr",
     "output_type": "stream",
     "text": [
      "$LDOS: possibly delisted; no price data found  (period=1y)\n",
      "Fetching Data:  20%|██        | 75/370 [00:39<02:27,  2.00ticker/s]"
     ]
    },
    {
     "name": "stdout",
     "output_type": "stream",
     "text": [
      "No data found for ticker: LDOS\n"
     ]
    },
    {
     "name": "stderr",
     "output_type": "stream",
     "text": [
      "$QCOM: possibly delisted; no price data found  (period=1y)\n",
      "Fetching Data:  21%|██        | 76/370 [00:39<02:25,  2.03ticker/s]"
     ]
    },
    {
     "name": "stdout",
     "output_type": "stream",
     "text": [
      "No data found for ticker: QCOM\n"
     ]
    },
    {
     "name": "stderr",
     "output_type": "stream",
     "text": [
      "$MTCH: possibly delisted; no price data found  (period=1y)\n",
      "Fetching Data:  21%|██        | 77/370 [00:40<02:23,  2.04ticker/s]"
     ]
    },
    {
     "name": "stdout",
     "output_type": "stream",
     "text": [
      "No data found for ticker: MTCH\n"
     ]
    },
    {
     "name": "stderr",
     "output_type": "stream",
     "text": [
      "$PCAR: possibly delisted; no price data found  (period=1y)\n",
      "Fetching Data:  21%|██        | 78/370 [00:40<02:27,  1.98ticker/s]"
     ]
    },
    {
     "name": "stdout",
     "output_type": "stream",
     "text": [
      "No data found for ticker: PCAR\n"
     ]
    },
    {
     "name": "stderr",
     "output_type": "stream",
     "text": [
      "$GIS: possibly delisted; no price data found  (period=1y)\n",
      "Fetching Data:  21%|██▏       | 79/370 [00:41<02:26,  1.98ticker/s]"
     ]
    },
    {
     "name": "stdout",
     "output_type": "stream",
     "text": [
      "No data found for ticker: GIS\n"
     ]
    },
    {
     "name": "stderr",
     "output_type": "stream",
     "text": [
      "$AKAM: possibly delisted; no price data found  (period=1y)\n",
      "Fetching Data:  22%|██▏       | 80/370 [00:41<02:26,  1.98ticker/s]"
     ]
    },
    {
     "name": "stdout",
     "output_type": "stream",
     "text": [
      "No data found for ticker: AKAM\n"
     ]
    },
    {
     "name": "stderr",
     "output_type": "stream",
     "text": [
      "$PODD: possibly delisted; no price data found  (period=1y)\n",
      "Fetching Data:  22%|██▏       | 81/370 [00:42<02:24,  1.99ticker/s]"
     ]
    },
    {
     "name": "stdout",
     "output_type": "stream",
     "text": [
      "No data found for ticker: PODD\n"
     ]
    },
    {
     "name": "stderr",
     "output_type": "stream",
     "text": [
      "$UPS: possibly delisted; no price data found  (period=1y)\n",
      "Fetching Data:  22%|██▏       | 82/370 [00:42<02:19,  2.07ticker/s]"
     ]
    },
    {
     "name": "stdout",
     "output_type": "stream",
     "text": [
      "No data found for ticker: UPS\n"
     ]
    },
    {
     "name": "stderr",
     "output_type": "stream",
     "text": [
      "$WYNN: possibly delisted; no price data found  (period=1y)\n",
      "Fetching Data:  22%|██▏       | 83/370 [00:43<02:22,  2.01ticker/s]"
     ]
    },
    {
     "name": "stdout",
     "output_type": "stream",
     "text": [
      "No data found for ticker: WYNN\n"
     ]
    },
    {
     "name": "stderr",
     "output_type": "stream",
     "text": [
      "$IEX: possibly delisted; no price data found  (period=1y)\n",
      "Fetching Data:  23%|██▎       | 84/370 [00:43<02:23,  2.00ticker/s]"
     ]
    },
    {
     "name": "stdout",
     "output_type": "stream",
     "text": [
      "No data found for ticker: IEX\n"
     ]
    },
    {
     "name": "stderr",
     "output_type": "stream",
     "text": [
      "$IVZ: possibly delisted; no price data found  (period=1y)\n",
      "Fetching Data:  23%|██▎       | 85/370 [00:44<02:25,  1.96ticker/s]"
     ]
    },
    {
     "name": "stdout",
     "output_type": "stream",
     "text": [
      "No data found for ticker: IVZ\n"
     ]
    },
    {
     "name": "stderr",
     "output_type": "stream",
     "text": [
      "$MAA: possibly delisted; no price data found  (period=1y)\n",
      "Fetching Data:  23%|██▎       | 86/370 [00:44<02:26,  1.93ticker/s]"
     ]
    },
    {
     "name": "stdout",
     "output_type": "stream",
     "text": [
      "No data found for ticker: MAA\n"
     ]
    },
    {
     "name": "stderr",
     "output_type": "stream",
     "text": [
      "$UHS: possibly delisted; no price data found  (period=1y)\n",
      "Fetching Data:  24%|██▎       | 87/370 [00:45<02:21,  2.00ticker/s]"
     ]
    },
    {
     "name": "stdout",
     "output_type": "stream",
     "text": [
      "No data found for ticker: UHS\n"
     ]
    },
    {
     "name": "stderr",
     "output_type": "stream",
     "text": [
      "$CCL: possibly delisted; no price data found  (period=1y)\n",
      "Fetching Data:  24%|██▍       | 88/370 [00:45<02:20,  2.01ticker/s]"
     ]
    },
    {
     "name": "stdout",
     "output_type": "stream",
     "text": [
      "No data found for ticker: CCL\n"
     ]
    },
    {
     "name": "stderr",
     "output_type": "stream",
     "text": [
      "$CMS: possibly delisted; no price data found  (period=1y)\n",
      "Fetching Data:  24%|██▍       | 89/370 [00:46<02:16,  2.06ticker/s]"
     ]
    },
    {
     "name": "stdout",
     "output_type": "stream",
     "text": [
      "No data found for ticker: CMS\n"
     ]
    },
    {
     "name": "stderr",
     "output_type": "stream",
     "text": [
      "$INVH: possibly delisted; no price data found  (period=1y)\n",
      "Fetching Data:  24%|██▍       | 90/370 [00:46<02:13,  2.09ticker/s]"
     ]
    },
    {
     "name": "stdout",
     "output_type": "stream",
     "text": [
      "No data found for ticker: INVH\n"
     ]
    },
    {
     "name": "stderr",
     "output_type": "stream",
     "text": [
      "$NRG: possibly delisted; no price data found  (period=1y)\n",
      "Fetching Data:  25%|██▍       | 91/370 [00:47<02:14,  2.08ticker/s]"
     ]
    },
    {
     "name": "stdout",
     "output_type": "stream",
     "text": [
      "No data found for ticker: NRG\n"
     ]
    },
    {
     "name": "stderr",
     "output_type": "stream",
     "text": [
      "$XOM: possibly delisted; no price data found  (period=1y)\n",
      "Fetching Data:  25%|██▍       | 92/370 [00:47<02:14,  2.06ticker/s]"
     ]
    },
    {
     "name": "stdout",
     "output_type": "stream",
     "text": [
      "No data found for ticker: XOM\n"
     ]
    },
    {
     "name": "stderr",
     "output_type": "stream",
     "text": [
      "$AAPL: possibly delisted; no price data found  (period=1y)\n",
      "Fetching Data:  25%|██▌       | 93/370 [00:48<02:13,  2.08ticker/s]"
     ]
    },
    {
     "name": "stdout",
     "output_type": "stream",
     "text": [
      "No data found for ticker: AAPL\n"
     ]
    },
    {
     "name": "stderr",
     "output_type": "stream",
     "text": [
      "$TFC: possibly delisted; no price data found  (period=1y)\n",
      "Fetching Data:  25%|██▌       | 94/370 [00:48<02:11,  2.11ticker/s]"
     ]
    },
    {
     "name": "stdout",
     "output_type": "stream",
     "text": [
      "No data found for ticker: TFC\n"
     ]
    },
    {
     "name": "stderr",
     "output_type": "stream",
     "text": [
      "$ESS: possibly delisted; no price data found  (period=1y)\n",
      "Fetching Data:  26%|██▌       | 95/370 [00:49<02:12,  2.08ticker/s]"
     ]
    },
    {
     "name": "stdout",
     "output_type": "stream",
     "text": [
      "No data found for ticker: ESS\n"
     ]
    },
    {
     "name": "stderr",
     "output_type": "stream",
     "text": [
      "$FFIV: possibly delisted; no price data found  (period=1y)\n",
      "Fetching Data:  26%|██▌       | 96/370 [00:49<02:11,  2.09ticker/s]"
     ]
    },
    {
     "name": "stdout",
     "output_type": "stream",
     "text": [
      "No data found for ticker: FFIV\n"
     ]
    },
    {
     "name": "stderr",
     "output_type": "stream",
     "text": [
      "$DLR: possibly delisted; no price data found  (period=1y)\n",
      "Fetching Data:  26%|██▌       | 97/370 [00:49<02:11,  2.07ticker/s]"
     ]
    },
    {
     "name": "stdout",
     "output_type": "stream",
     "text": [
      "No data found for ticker: DLR\n"
     ]
    },
    {
     "name": "stderr",
     "output_type": "stream",
     "text": [
      "$DG: possibly delisted; no price data found  (period=1y)\n",
      "Fetching Data:  26%|██▋       | 98/370 [00:50<02:13,  2.03ticker/s]"
     ]
    },
    {
     "name": "stdout",
     "output_type": "stream",
     "text": [
      "No data found for ticker: DG\n"
     ]
    },
    {
     "name": "stderr",
     "output_type": "stream",
     "text": [
      "$CE: possibly delisted; no price data found  (period=1y)\n",
      "Fetching Data:  27%|██▋       | 99/370 [00:50<02:11,  2.06ticker/s]"
     ]
    },
    {
     "name": "stdout",
     "output_type": "stream",
     "text": [
      "No data found for ticker: CE\n"
     ]
    },
    {
     "name": "stderr",
     "output_type": "stream",
     "text": [
      "$DTE: possibly delisted; no price data found  (period=1y)\n",
      "Fetching Data:  27%|██▋       | 100/370 [00:51<02:11,  2.06ticker/s]"
     ]
    },
    {
     "name": "stdout",
     "output_type": "stream",
     "text": [
      "No data found for ticker: DTE\n"
     ]
    },
    {
     "name": "stderr",
     "output_type": "stream",
     "text": [
      "$WDAY: possibly delisted; no price data found  (period=1y)\n",
      "Fetching Data:  27%|██▋       | 101/370 [00:52<02:15,  1.98ticker/s]"
     ]
    },
    {
     "name": "stdout",
     "output_type": "stream",
     "text": [
      "No data found for ticker: WDAY\n"
     ]
    },
    {
     "name": "stderr",
     "output_type": "stream",
     "text": [
      "$STT: possibly delisted; no price data found  (period=1y)\n",
      "Fetching Data:  28%|██▊       | 102/370 [00:52<02:16,  1.96ticker/s]"
     ]
    },
    {
     "name": "stdout",
     "output_type": "stream",
     "text": [
      "No data found for ticker: STT\n"
     ]
    },
    {
     "name": "stderr",
     "output_type": "stream",
     "text": [
      "$LYV: possibly delisted; no price data found  (period=1y)\n",
      "Fetching Data:  28%|██▊       | 103/370 [00:53<02:13,  2.00ticker/s]"
     ]
    },
    {
     "name": "stdout",
     "output_type": "stream",
     "text": [
      "No data found for ticker: LYV\n"
     ]
    },
    {
     "name": "stderr",
     "output_type": "stream",
     "text": [
      "$AVB: possibly delisted; no price data found  (period=1y)\n",
      "Fetching Data:  28%|██▊       | 104/370 [00:53<02:10,  2.03ticker/s]"
     ]
    },
    {
     "name": "stdout",
     "output_type": "stream",
     "text": [
      "No data found for ticker: AVB\n"
     ]
    },
    {
     "name": "stderr",
     "output_type": "stream",
     "text": [
      "$NXPI: possibly delisted; no price data found  (period=1y)\n",
      "Fetching Data:  28%|██▊       | 105/370 [00:53<02:07,  2.08ticker/s]"
     ]
    },
    {
     "name": "stdout",
     "output_type": "stream",
     "text": [
      "No data found for ticker: NXPI\n"
     ]
    },
    {
     "name": "stderr",
     "output_type": "stream",
     "text": [
      "$BRO: possibly delisted; no price data found  (period=1y)\n",
      "Fetching Data:  29%|██▊       | 106/370 [00:54<02:05,  2.10ticker/s]"
     ]
    },
    {
     "name": "stdout",
     "output_type": "stream",
     "text": [
      "No data found for ticker: BRO\n"
     ]
    },
    {
     "name": "stderr",
     "output_type": "stream",
     "text": [
      "$DVN: possibly delisted; no price data found  (period=1y)\n",
      "Fetching Data:  29%|██▉       | 107/370 [00:54<02:03,  2.13ticker/s]"
     ]
    },
    {
     "name": "stdout",
     "output_type": "stream",
     "text": [
      "No data found for ticker: DVN\n"
     ]
    },
    {
     "name": "stderr",
     "output_type": "stream",
     "text": [
      "$SPG: possibly delisted; no price data found  (period=1y)\n",
      "Fetching Data:  29%|██▉       | 108/370 [00:55<02:03,  2.12ticker/s]"
     ]
    },
    {
     "name": "stdout",
     "output_type": "stream",
     "text": [
      "No data found for ticker: SPG\n"
     ]
    },
    {
     "name": "stderr",
     "output_type": "stream",
     "text": [
      "$TYL: possibly delisted; no price data found  (period=1y)\n",
      "Fetching Data:  29%|██▉       | 109/370 [00:55<02:04,  2.09ticker/s]"
     ]
    },
    {
     "name": "stdout",
     "output_type": "stream",
     "text": [
      "No data found for ticker: TYL\n"
     ]
    },
    {
     "name": "stderr",
     "output_type": "stream",
     "text": [
      "$ENPH: possibly delisted; no price data found  (period=1y)\n",
      "Fetching Data:  30%|██▉       | 110/370 [00:56<02:01,  2.13ticker/s]"
     ]
    },
    {
     "name": "stdout",
     "output_type": "stream",
     "text": [
      "No data found for ticker: ENPH\n"
     ]
    },
    {
     "name": "stderr",
     "output_type": "stream",
     "text": [
      "$CAG: possibly delisted; no price data found  (period=1y)\n",
      "Fetching Data:  30%|███       | 111/370 [00:56<02:00,  2.15ticker/s]"
     ]
    },
    {
     "name": "stdout",
     "output_type": "stream",
     "text": [
      "No data found for ticker: CAG\n"
     ]
    },
    {
     "name": "stderr",
     "output_type": "stream",
     "text": [
      "$PINS: possibly delisted; no price data found  (period=1y)\n",
      "Fetching Data:  30%|███       | 112/370 [00:57<02:03,  2.09ticker/s]"
     ]
    },
    {
     "name": "stdout",
     "output_type": "stream",
     "text": [
      "No data found for ticker: PINS\n"
     ]
    },
    {
     "name": "stderr",
     "output_type": "stream",
     "text": [
      "$CME: possibly delisted; no price data found  (period=1y)\n",
      "Fetching Data:  31%|███       | 113/370 [00:57<02:07,  2.02ticker/s]"
     ]
    },
    {
     "name": "stdout",
     "output_type": "stream",
     "text": [
      "No data found for ticker: CME\n"
     ]
    },
    {
     "name": "stderr",
     "output_type": "stream",
     "text": [
      "$ZTS: possibly delisted; no price data found  (period=1y)\n",
      "Fetching Data:  31%|███       | 114/370 [00:58<02:04,  2.06ticker/s]"
     ]
    },
    {
     "name": "stdout",
     "output_type": "stream",
     "text": [
      "No data found for ticker: ZTS\n"
     ]
    },
    {
     "name": "stderr",
     "output_type": "stream",
     "text": [
      "$VRSN: possibly delisted; no price data found  (period=1y)\n",
      "Fetching Data:  31%|███       | 115/370 [00:58<02:00,  2.11ticker/s]"
     ]
    },
    {
     "name": "stdout",
     "output_type": "stream",
     "text": [
      "No data found for ticker: VRSN\n"
     ]
    },
    {
     "name": "stderr",
     "output_type": "stream",
     "text": [
      "$WMT: possibly delisted; no price data found  (period=1y)\n",
      "Fetching Data:  31%|███▏      | 116/370 [00:59<02:00,  2.12ticker/s]"
     ]
    },
    {
     "name": "stdout",
     "output_type": "stream",
     "text": [
      "No data found for ticker: WMT\n"
     ]
    },
    {
     "name": "stderr",
     "output_type": "stream",
     "text": [
      "$D: possibly delisted; no price data found  (period=1y)\n",
      "Fetching Data:  32%|███▏      | 117/370 [00:59<01:59,  2.11ticker/s]"
     ]
    },
    {
     "name": "stdout",
     "output_type": "stream",
     "text": [
      "No data found for ticker: D\n"
     ]
    },
    {
     "name": "stderr",
     "output_type": "stream",
     "text": [
      "$CMI: possibly delisted; no price data found  (period=1y)\n",
      "Fetching Data:  32%|███▏      | 118/370 [01:00<02:00,  2.10ticker/s]"
     ]
    },
    {
     "name": "stdout",
     "output_type": "stream",
     "text": [
      "No data found for ticker: CMI\n"
     ]
    },
    {
     "name": "stderr",
     "output_type": "stream",
     "text": [
      "$GLW: possibly delisted; no price data found  (period=1y)\n",
      "Fetching Data:  32%|███▏      | 119/370 [01:00<02:01,  2.07ticker/s]"
     ]
    },
    {
     "name": "stdout",
     "output_type": "stream",
     "text": [
      "No data found for ticker: GLW\n"
     ]
    },
    {
     "name": "stderr",
     "output_type": "stream",
     "text": [
      "$GPN: possibly delisted; no price data found  (period=1y)\n",
      "Fetching Data:  32%|███▏      | 120/370 [01:01<01:59,  2.08ticker/s]"
     ]
    },
    {
     "name": "stdout",
     "output_type": "stream",
     "text": [
      "No data found for ticker: GPN\n"
     ]
    },
    {
     "name": "stderr",
     "output_type": "stream",
     "text": [
      "$IRM: possibly delisted; no price data found  (period=1y)\n",
      "Fetching Data:  33%|███▎      | 121/370 [01:01<01:58,  2.11ticker/s]"
     ]
    },
    {
     "name": "stdout",
     "output_type": "stream",
     "text": [
      "No data found for ticker: IRM\n"
     ]
    },
    {
     "name": "stderr",
     "output_type": "stream",
     "text": [
      "$EMN: possibly delisted; no price data found  (period=1y)\n",
      "Fetching Data:  33%|███▎      | 122/370 [01:01<01:55,  2.15ticker/s]"
     ]
    },
    {
     "name": "stdout",
     "output_type": "stream",
     "text": [
      "No data found for ticker: EMN\n"
     ]
    },
    {
     "name": "stderr",
     "output_type": "stream",
     "text": [
      "$LUV: possibly delisted; no price data found  (period=1y)\n",
      "Fetching Data:  33%|███▎      | 123/370 [01:02<01:57,  2.10ticker/s]"
     ]
    },
    {
     "name": "stdout",
     "output_type": "stream",
     "text": [
      "No data found for ticker: LUV\n"
     ]
    },
    {
     "name": "stderr",
     "output_type": "stream",
     "text": [
      "$PHM: possibly delisted; no price data found  (period=1y)\n",
      "Fetching Data:  34%|███▎      | 124/370 [01:03<01:59,  2.05ticker/s]"
     ]
    },
    {
     "name": "stdout",
     "output_type": "stream",
     "text": [
      "No data found for ticker: PHM\n"
     ]
    },
    {
     "name": "stderr",
     "output_type": "stream",
     "text": [
      "$WFC: possibly delisted; no price data found  (period=1y)\n",
      "Fetching Data:  34%|███▍      | 125/370 [01:03<01:57,  2.09ticker/s]"
     ]
    },
    {
     "name": "stdout",
     "output_type": "stream",
     "text": [
      "No data found for ticker: WFC\n"
     ]
    },
    {
     "name": "stderr",
     "output_type": "stream",
     "text": [
      "$J: possibly delisted; no price data found  (period=1y)\n",
      "Fetching Data:  34%|███▍      | 126/370 [01:03<01:56,  2.09ticker/s]"
     ]
    },
    {
     "name": "stdout",
     "output_type": "stream",
     "text": [
      "No data found for ticker: J\n"
     ]
    },
    {
     "name": "stderr",
     "output_type": "stream",
     "text": [
      "$BLK: possibly delisted; no price data found  (period=1y)\n",
      "Fetching Data:  34%|███▍      | 127/370 [01:04<01:57,  2.06ticker/s]"
     ]
    },
    {
     "name": "stdout",
     "output_type": "stream",
     "text": [
      "No data found for ticker: BLK\n"
     ]
    },
    {
     "name": "stderr",
     "output_type": "stream",
     "text": [
      "$GE: possibly delisted; no price data found  (period=1y)\n",
      "Fetching Data:  35%|███▍      | 128/370 [01:04<01:56,  2.07ticker/s]"
     ]
    },
    {
     "name": "stdout",
     "output_type": "stream",
     "text": [
      "No data found for ticker: GE\n"
     ]
    },
    {
     "name": "stderr",
     "output_type": "stream",
     "text": [
      "$LNT: possibly delisted; no price data found  (period=1y)\n",
      "Fetching Data:  35%|███▍      | 129/370 [01:05<01:56,  2.07ticker/s]"
     ]
    },
    {
     "name": "stdout",
     "output_type": "stream",
     "text": [
      "No data found for ticker: LNT\n"
     ]
    },
    {
     "name": "stderr",
     "output_type": "stream",
     "text": [
      "$HAS: possibly delisted; no price data found  (period=1y)\n",
      "Fetching Data:  35%|███▌      | 130/370 [01:05<01:54,  2.09ticker/s]"
     ]
    },
    {
     "name": "stdout",
     "output_type": "stream",
     "text": [
      "No data found for ticker: HAS\n"
     ]
    },
    {
     "name": "stderr",
     "output_type": "stream",
     "text": [
      "$INCY: possibly delisted; no price data found  (period=1y)\n",
      "Fetching Data:  35%|███▌      | 131/370 [01:06<01:54,  2.09ticker/s]"
     ]
    },
    {
     "name": "stdout",
     "output_type": "stream",
     "text": [
      "No data found for ticker: INCY\n"
     ]
    },
    {
     "name": "stderr",
     "output_type": "stream",
     "text": [
      "$FOXA: possibly delisted; no price data found  (period=1y)\n",
      "Fetching Data:  36%|███▌      | 132/370 [01:06<01:56,  2.04ticker/s]"
     ]
    },
    {
     "name": "stdout",
     "output_type": "stream",
     "text": [
      "No data found for ticker: FOXA\n"
     ]
    },
    {
     "name": "stderr",
     "output_type": "stream",
     "text": [
      "$TAP: possibly delisted; no price data found  (period=1y)\n",
      "Fetching Data:  36%|███▌      | 133/370 [01:07<01:55,  2.05ticker/s]"
     ]
    },
    {
     "name": "stdout",
     "output_type": "stream",
     "text": [
      "No data found for ticker: TAP\n"
     ]
    },
    {
     "name": "stderr",
     "output_type": "stream",
     "text": [
      "$TDG: possibly delisted; no price data found  (period=1y)\n",
      "Fetching Data:  36%|███▌      | 134/370 [01:07<01:56,  2.03ticker/s]"
     ]
    },
    {
     "name": "stdout",
     "output_type": "stream",
     "text": [
      "No data found for ticker: TDG\n"
     ]
    },
    {
     "name": "stderr",
     "output_type": "stream",
     "text": [
      "$PANW: possibly delisted; no price data found  (period=1y)\n",
      "Fetching Data:  36%|███▋      | 135/370 [01:08<01:57,  1.99ticker/s]"
     ]
    },
    {
     "name": "stdout",
     "output_type": "stream",
     "text": [
      "No data found for ticker: PANW\n"
     ]
    },
    {
     "name": "stderr",
     "output_type": "stream",
     "text": [
      "$AIZ: possibly delisted; no price data found  (period=1y)\n",
      "Fetching Data:  37%|███▋      | 136/370 [01:08<01:53,  2.06ticker/s]"
     ]
    },
    {
     "name": "stdout",
     "output_type": "stream",
     "text": [
      "No data found for ticker: AIZ\n"
     ]
    },
    {
     "name": "stderr",
     "output_type": "stream",
     "text": [
      "$GOOGL: possibly delisted; no price data found  (period=1y)\n",
      "Fetching Data:  37%|███▋      | 137/370 [01:09<01:50,  2.10ticker/s]"
     ]
    },
    {
     "name": "stdout",
     "output_type": "stream",
     "text": [
      "No data found for ticker: GOOGL\n"
     ]
    },
    {
     "name": "stderr",
     "output_type": "stream",
     "text": [
      "$DELL: possibly delisted; no price data found  (period=1y)\n",
      "Fetching Data:  37%|███▋      | 138/370 [01:09<01:48,  2.13ticker/s]"
     ]
    },
    {
     "name": "stdout",
     "output_type": "stream",
     "text": [
      "No data found for ticker: DELL\n"
     ]
    },
    {
     "name": "stderr",
     "output_type": "stream",
     "text": [
      "$HOLX: possibly delisted; no price data found  (period=1y)\n",
      "Fetching Data:  38%|███▊      | 139/370 [01:10<01:46,  2.16ticker/s]"
     ]
    },
    {
     "name": "stdout",
     "output_type": "stream",
     "text": [
      "No data found for ticker: HOLX\n"
     ]
    },
    {
     "name": "stderr",
     "output_type": "stream",
     "text": [
      "$AOS: possibly delisted; no price data found  (period=1y)\n",
      "Fetching Data:  38%|███▊      | 140/370 [01:10<01:51,  2.06ticker/s]"
     ]
    },
    {
     "name": "stdout",
     "output_type": "stream",
     "text": [
      "No data found for ticker: AOS\n"
     ]
    },
    {
     "name": "stderr",
     "output_type": "stream",
     "text": [
      "$PLTR: possibly delisted; no price data found  (period=1y)\n",
      "Fetching Data:  38%|███▊      | 141/370 [01:11<01:51,  2.06ticker/s]"
     ]
    },
    {
     "name": "stdout",
     "output_type": "stream",
     "text": [
      "No data found for ticker: PLTR\n"
     ]
    },
    {
     "name": "stderr",
     "output_type": "stream",
     "text": [
      "$GM: possibly delisted; no price data found  (period=1y)\n",
      "Fetching Data:  38%|███▊      | 142/370 [01:11<01:49,  2.09ticker/s]"
     ]
    },
    {
     "name": "stdout",
     "output_type": "stream",
     "text": [
      "No data found for ticker: GM\n"
     ]
    },
    {
     "name": "stderr",
     "output_type": "stream",
     "text": [
      "$BK: possibly delisted; no price data found  (period=1y)\n",
      "Fetching Data:  39%|███▊      | 143/370 [01:12<01:47,  2.11ticker/s]"
     ]
    },
    {
     "name": "stdout",
     "output_type": "stream",
     "text": [
      "No data found for ticker: BK\n"
     ]
    },
    {
     "name": "stderr",
     "output_type": "stream",
     "text": [
      "$KLAC: possibly delisted; no price data found  (period=1y)\n",
      "Fetching Data:  39%|███▉      | 144/370 [01:12<01:52,  2.01ticker/s]"
     ]
    },
    {
     "name": "stdout",
     "output_type": "stream",
     "text": [
      "No data found for ticker: KLAC\n"
     ]
    },
    {
     "name": "stderr",
     "output_type": "stream",
     "text": [
      "$CHTR: possibly delisted; no price data found  (period=1y)\n",
      "Fetching Data:  39%|███▉      | 145/370 [01:13<01:48,  2.07ticker/s]"
     ]
    },
    {
     "name": "stdout",
     "output_type": "stream",
     "text": [
      "No data found for ticker: CHTR\n"
     ]
    },
    {
     "name": "stderr",
     "output_type": "stream",
     "text": [
      "$AXP: possibly delisted; no price data found  (period=1y)\n",
      "Fetching Data:  39%|███▉      | 146/370 [01:13<01:47,  2.09ticker/s]"
     ]
    },
    {
     "name": "stdout",
     "output_type": "stream",
     "text": [
      "No data found for ticker: AXP\n"
     ]
    },
    {
     "name": "stderr",
     "output_type": "stream",
     "text": [
      "$HD: possibly delisted; no price data found  (period=1y)\n",
      "Fetching Data:  40%|███▉      | 147/370 [01:14<01:49,  2.04ticker/s]"
     ]
    },
    {
     "name": "stdout",
     "output_type": "stream",
     "text": [
      "No data found for ticker: HD\n"
     ]
    },
    {
     "name": "stderr",
     "output_type": "stream",
     "text": [
      "$STLD: possibly delisted; no price data found  (period=1y)\n",
      "Fetching Data:  40%|████      | 148/370 [01:14<01:45,  2.10ticker/s]"
     ]
    },
    {
     "name": "stdout",
     "output_type": "stream",
     "text": [
      "No data found for ticker: STLD\n"
     ]
    },
    {
     "name": "stderr",
     "output_type": "stream",
     "text": [
      "$BR: possibly delisted; no price data found  (period=1y)\n",
      "Fetching Data:  40%|████      | 149/370 [01:15<01:47,  2.05ticker/s]"
     ]
    },
    {
     "name": "stdout",
     "output_type": "stream",
     "text": [
      "No data found for ticker: BR\n"
     ]
    },
    {
     "name": "stderr",
     "output_type": "stream",
     "text": [
      "$CPT: possibly delisted; no price data found  (period=1y)\n",
      "Fetching Data:  41%|████      | 150/370 [01:15<01:44,  2.10ticker/s]"
     ]
    },
    {
     "name": "stdout",
     "output_type": "stream",
     "text": [
      "No data found for ticker: CPT\n"
     ]
    },
    {
     "name": "stderr",
     "output_type": "stream",
     "text": [
      "$CVX: possibly delisted; no price data found  (period=1y)\n",
      "Fetching Data:  41%|████      | 151/370 [01:15<01:42,  2.14ticker/s]"
     ]
    },
    {
     "name": "stdout",
     "output_type": "stream",
     "text": [
      "No data found for ticker: CVX\n"
     ]
    },
    {
     "name": "stderr",
     "output_type": "stream",
     "text": [
      "$BRK-B: possibly delisted; no price data found  (period=1y)\n",
      "Fetching Data:  41%|████      | 152/370 [01:16<01:43,  2.11ticker/s]"
     ]
    },
    {
     "name": "stdout",
     "output_type": "stream",
     "text": [
      "No data found for ticker: BRK-B\n"
     ]
    },
    {
     "name": "stderr",
     "output_type": "stream",
     "text": [
      "$GILD: possibly delisted; no price data found  (period=1y)\n",
      "Fetching Data:  41%|████▏     | 153/370 [01:16<01:42,  2.12ticker/s]"
     ]
    },
    {
     "name": "stdout",
     "output_type": "stream",
     "text": [
      "No data found for ticker: GILD\n"
     ]
    },
    {
     "name": "stderr",
     "output_type": "stream",
     "text": [
      "$ACN: possibly delisted; no price data found  (period=1y)\n",
      "Fetching Data:  42%|████▏     | 154/370 [01:17<01:43,  2.08ticker/s]"
     ]
    },
    {
     "name": "stdout",
     "output_type": "stream",
     "text": [
      "No data found for ticker: ACN\n"
     ]
    },
    {
     "name": "stderr",
     "output_type": "stream",
     "text": [
      "$CTAS: possibly delisted; no price data found  (period=1y)\n",
      "Fetching Data:  42%|████▏     | 155/370 [01:17<01:43,  2.07ticker/s]"
     ]
    },
    {
     "name": "stdout",
     "output_type": "stream",
     "text": [
      "No data found for ticker: CTAS\n"
     ]
    },
    {
     "name": "stderr",
     "output_type": "stream",
     "text": [
      "$SLB: possibly delisted; no price data found  (period=1y)\n",
      "Fetching Data:  42%|████▏     | 156/370 [01:18<01:41,  2.10ticker/s]"
     ]
    },
    {
     "name": "stdout",
     "output_type": "stream",
     "text": [
      "No data found for ticker: SLB\n"
     ]
    },
    {
     "name": "stderr",
     "output_type": "stream",
     "text": [
      "$CVS: possibly delisted; no price data found  (period=1y)\n",
      "Fetching Data:  42%|████▏     | 157/370 [01:19<02:00,  1.77ticker/s]"
     ]
    },
    {
     "name": "stdout",
     "output_type": "stream",
     "text": [
      "No data found for ticker: CVS\n"
     ]
    },
    {
     "name": "stderr",
     "output_type": "stream",
     "text": [
      "$PFE: possibly delisted; no price data found  (period=1y)\n",
      "Fetching Data:  43%|████▎     | 158/370 [01:19<02:13,  1.59ticker/s]"
     ]
    },
    {
     "name": "stdout",
     "output_type": "stream",
     "text": [
      "No data found for ticker: PFE\n"
     ]
    },
    {
     "name": "stderr",
     "output_type": "stream",
     "text": [
      "$WDC: possibly delisted; no price data found  (period=1y)\n",
      "Fetching Data:  43%|████▎     | 159/370 [01:20<02:09,  1.63ticker/s]"
     ]
    },
    {
     "name": "stdout",
     "output_type": "stream",
     "text": [
      "No data found for ticker: WDC\n"
     ]
    },
    {
     "name": "stderr",
     "output_type": "stream",
     "text": [
      "$WELL: possibly delisted; no price data found  (period=1y)\n",
      "Fetching Data:  43%|████▎     | 160/370 [01:21<02:02,  1.71ticker/s]"
     ]
    },
    {
     "name": "stdout",
     "output_type": "stream",
     "text": [
      "No data found for ticker: WELL\n"
     ]
    },
    {
     "name": "stderr",
     "output_type": "stream",
     "text": [
      "$GEHC: possibly delisted; no price data found  (period=1y)\n",
      "Fetching Data:  44%|████▎     | 161/370 [01:21<01:57,  1.78ticker/s]"
     ]
    },
    {
     "name": "stdout",
     "output_type": "stream",
     "text": [
      "No data found for ticker: GEHC\n"
     ]
    },
    {
     "name": "stderr",
     "output_type": "stream",
     "text": [
      "$MRK: possibly delisted; no price data found  (period=1y)\n",
      "Fetching Data:  44%|████▍     | 162/370 [01:21<01:50,  1.89ticker/s]"
     ]
    },
    {
     "name": "stdout",
     "output_type": "stream",
     "text": [
      "No data found for ticker: MRK\n"
     ]
    },
    {
     "name": "stderr",
     "output_type": "stream",
     "text": [
      "$AES: possibly delisted; no price data found  (period=1y)\n",
      "Fetching Data:  44%|████▍     | 163/370 [01:22<01:45,  1.96ticker/s]"
     ]
    },
    {
     "name": "stdout",
     "output_type": "stream",
     "text": [
      "No data found for ticker: AES\n"
     ]
    },
    {
     "name": "stderr",
     "output_type": "stream",
     "text": [
      "$MKC: possibly delisted; no price data found  (period=1y)\n",
      "Fetching Data:  44%|████▍     | 164/370 [01:22<01:42,  2.01ticker/s]"
     ]
    },
    {
     "name": "stdout",
     "output_type": "stream",
     "text": [
      "No data found for ticker: MKC\n"
     ]
    },
    {
     "name": "stderr",
     "output_type": "stream",
     "text": [
      "$HCA: possibly delisted; no price data found  (period=1y)\n",
      "Fetching Data:  45%|████▍     | 165/370 [01:23<01:37,  2.09ticker/s]"
     ]
    },
    {
     "name": "stdout",
     "output_type": "stream",
     "text": [
      "No data found for ticker: HCA\n"
     ]
    },
    {
     "name": "stderr",
     "output_type": "stream",
     "text": [
      "$JNPR: possibly delisted; no price data found  (period=1y)\n",
      "Fetching Data:  45%|████▍     | 166/370 [01:23<01:37,  2.09ticker/s]"
     ]
    },
    {
     "name": "stdout",
     "output_type": "stream",
     "text": [
      "No data found for ticker: JNPR\n"
     ]
    },
    {
     "name": "stderr",
     "output_type": "stream",
     "text": [
      "$AXON: possibly delisted; no price data found  (period=1y)\n",
      "Fetching Data:  45%|████▌     | 167/370 [01:24<01:36,  2.10ticker/s]"
     ]
    },
    {
     "name": "stdout",
     "output_type": "stream",
     "text": [
      "No data found for ticker: AXON\n"
     ]
    },
    {
     "name": "stderr",
     "output_type": "stream",
     "text": [
      "$CDNS: possibly delisted; no price data found  (period=1y)\n",
      "Fetching Data:  45%|████▌     | 168/370 [01:24<01:37,  2.08ticker/s]"
     ]
    },
    {
     "name": "stdout",
     "output_type": "stream",
     "text": [
      "No data found for ticker: CDNS\n"
     ]
    },
    {
     "name": "stderr",
     "output_type": "stream",
     "text": [
      "$NOW: possibly delisted; no price data found  (period=1y)\n",
      "Fetching Data:  46%|████▌     | 169/370 [01:25<01:36,  2.09ticker/s]"
     ]
    },
    {
     "name": "stdout",
     "output_type": "stream",
     "text": [
      "No data found for ticker: NOW\n"
     ]
    },
    {
     "name": "stderr",
     "output_type": "stream",
     "text": [
      "$MSCI: possibly delisted; no price data found  (period=1y)\n",
      "Fetching Data:  46%|████▌     | 170/370 [01:25<01:34,  2.11ticker/s]"
     ]
    },
    {
     "name": "stdout",
     "output_type": "stream",
     "text": [
      "No data found for ticker: MSCI\n"
     ]
    },
    {
     "name": "stderr",
     "output_type": "stream",
     "text": [
      "$ADBE: possibly delisted; no price data found  (period=1y)\n",
      "Fetching Data:  46%|████▌     | 171/370 [01:26<01:32,  2.15ticker/s]"
     ]
    },
    {
     "name": "stdout",
     "output_type": "stream",
     "text": [
      "No data found for ticker: ADBE\n"
     ]
    },
    {
     "name": "stderr",
     "output_type": "stream",
     "text": [
      "$TRMB: possibly delisted; no price data found  (period=1y)\n",
      "Fetching Data:  46%|████▋     | 172/370 [01:26<01:33,  2.12ticker/s]"
     ]
    },
    {
     "name": "stdout",
     "output_type": "stream",
     "text": [
      "No data found for ticker: TRMB\n"
     ]
    },
    {
     "name": "stderr",
     "output_type": "stream",
     "text": [
      "$DOW: possibly delisted; no price data found  (period=1y)\n",
      "Fetching Data:  47%|████▋     | 173/370 [01:27<01:35,  2.07ticker/s]"
     ]
    },
    {
     "name": "stdout",
     "output_type": "stream",
     "text": [
      "No data found for ticker: DOW\n"
     ]
    },
    {
     "name": "stderr",
     "output_type": "stream",
     "text": [
      "$SBUX: possibly delisted; no price data found  (period=1y)\n",
      "Fetching Data:  47%|████▋     | 174/370 [01:27<01:37,  2.01ticker/s]"
     ]
    },
    {
     "name": "stdout",
     "output_type": "stream",
     "text": [
      "No data found for ticker: SBUX\n"
     ]
    },
    {
     "name": "stderr",
     "output_type": "stream",
     "text": [
      "$CFG: possibly delisted; no price data found  (period=1y)\n",
      "Fetching Data:  47%|████▋     | 175/370 [01:28<01:35,  2.05ticker/s]"
     ]
    },
    {
     "name": "stdout",
     "output_type": "stream",
     "text": [
      "No data found for ticker: CFG\n"
     ]
    },
    {
     "name": "stderr",
     "output_type": "stream",
     "text": [
      "$FOX: possibly delisted; no price data found  (period=1y)\n",
      "Fetching Data:  48%|████▊     | 176/370 [01:28<01:31,  2.11ticker/s]"
     ]
    },
    {
     "name": "stdout",
     "output_type": "stream",
     "text": [
      "No data found for ticker: FOX\n"
     ]
    },
    {
     "name": "stderr",
     "output_type": "stream",
     "text": [
      "$STZ: possibly delisted; no price data found  (period=1y)\n",
      "Fetching Data:  48%|████▊     | 177/370 [01:29<01:29,  2.16ticker/s]"
     ]
    },
    {
     "name": "stdout",
     "output_type": "stream",
     "text": [
      "No data found for ticker: STZ\n"
     ]
    },
    {
     "name": "stderr",
     "output_type": "stream",
     "text": [
      "$CI: possibly delisted; no price data found  (period=1y)\n",
      "Fetching Data:  48%|████▊     | 178/370 [01:29<01:32,  2.08ticker/s]"
     ]
    },
    {
     "name": "stdout",
     "output_type": "stream",
     "text": [
      "No data found for ticker: CI\n"
     ]
    },
    {
     "name": "stderr",
     "output_type": "stream",
     "text": [
      "$AFL: possibly delisted; no price data found  (period=1y)\n",
      "Fetching Data:  48%|████▊     | 179/370 [01:30<01:33,  2.05ticker/s]"
     ]
    },
    {
     "name": "stdout",
     "output_type": "stream",
     "text": [
      "No data found for ticker: AFL\n"
     ]
    },
    {
     "name": "stderr",
     "output_type": "stream",
     "text": [
      "$MCD: possibly delisted; no price data found  (period=1y)\n",
      "Fetching Data:  49%|████▊     | 180/370 [01:30<01:31,  2.08ticker/s]"
     ]
    },
    {
     "name": "stdout",
     "output_type": "stream",
     "text": [
      "No data found for ticker: MCD\n"
     ]
    },
    {
     "name": "stderr",
     "output_type": "stream",
     "text": [
      "$ROKU: possibly delisted; no price data found  (period=1y)\n",
      "Fetching Data:  49%|████▉     | 181/370 [01:31<01:31,  2.06ticker/s]"
     ]
    },
    {
     "name": "stdout",
     "output_type": "stream",
     "text": [
      "No data found for ticker: ROKU\n"
     ]
    },
    {
     "name": "stderr",
     "output_type": "stream",
     "text": [
      "$TT: possibly delisted; no price data found  (period=1y)\n",
      "Fetching Data:  49%|████▉     | 182/370 [01:31<01:30,  2.09ticker/s]"
     ]
    },
    {
     "name": "stdout",
     "output_type": "stream",
     "text": [
      "No data found for ticker: TT\n"
     ]
    },
    {
     "name": "stderr",
     "output_type": "stream",
     "text": [
      "$BSX: possibly delisted; no price data found  (period=1y)\n",
      "Fetching Data:  49%|████▉     | 183/370 [01:31<01:27,  2.13ticker/s]"
     ]
    },
    {
     "name": "stdout",
     "output_type": "stream",
     "text": [
      "No data found for ticker: BSX\n"
     ]
    },
    {
     "name": "stderr",
     "output_type": "stream",
     "text": [
      "$POOL: possibly delisted; no price data found  (period=1y)\n",
      "Fetching Data:  50%|████▉     | 184/370 [01:32<01:26,  2.15ticker/s]"
     ]
    },
    {
     "name": "stdout",
     "output_type": "stream",
     "text": [
      "No data found for ticker: POOL\n"
     ]
    },
    {
     "name": "stderr",
     "output_type": "stream",
     "text": [
      "$CTLT: possibly delisted; no price data found  (period=1y)\n",
      "Fetching Data:  50%|█████     | 185/370 [01:32<01:25,  2.16ticker/s]"
     ]
    },
    {
     "name": "stdout",
     "output_type": "stream",
     "text": [
      "No data found for ticker: CTLT\n"
     ]
    },
    {
     "name": "stderr",
     "output_type": "stream",
     "text": [
      "$MPC: possibly delisted; no price data found  (period=1y)\n",
      "Fetching Data:  50%|█████     | 186/370 [01:33<01:23,  2.21ticker/s]"
     ]
    },
    {
     "name": "stdout",
     "output_type": "stream",
     "text": [
      "No data found for ticker: MPC\n"
     ]
    },
    {
     "name": "stderr",
     "output_type": "stream",
     "text": [
      "$ADI: possibly delisted; no price data found  (period=1y)\n",
      "Fetching Data:  51%|█████     | 187/370 [01:33<01:23,  2.19ticker/s]"
     ]
    },
    {
     "name": "stdout",
     "output_type": "stream",
     "text": [
      "No data found for ticker: ADI\n"
     ]
    },
    {
     "name": "stderr",
     "output_type": "stream",
     "text": [
      "$EXPE: possibly delisted; no price data found  (period=1y)\n",
      "Fetching Data:  51%|█████     | 188/370 [01:34<01:22,  2.21ticker/s]"
     ]
    },
    {
     "name": "stdout",
     "output_type": "stream",
     "text": [
      "No data found for ticker: EXPE\n"
     ]
    },
    {
     "name": "stderr",
     "output_type": "stream",
     "text": [
      "$MAS: possibly delisted; no price data found  (period=1y)\n",
      "Fetching Data:  51%|█████     | 189/370 [01:34<01:23,  2.16ticker/s]"
     ]
    },
    {
     "name": "stdout",
     "output_type": "stream",
     "text": [
      "No data found for ticker: MAS\n"
     ]
    },
    {
     "name": "stderr",
     "output_type": "stream",
     "text": [
      "$GEV: possibly delisted; no price data found  (period=1y)\n",
      "Fetching Data:  51%|█████▏    | 190/370 [01:35<01:23,  2.15ticker/s]"
     ]
    },
    {
     "name": "stdout",
     "output_type": "stream",
     "text": [
      "No data found for ticker: GEV\n"
     ]
    },
    {
     "name": "stderr",
     "output_type": "stream",
     "text": [
      "$OTIS: possibly delisted; no price data found  (period=1y)\n",
      "Fetching Data:  52%|█████▏    | 191/370 [01:35<01:23,  2.15ticker/s]"
     ]
    },
    {
     "name": "stdout",
     "output_type": "stream",
     "text": [
      "No data found for ticker: OTIS\n"
     ]
    },
    {
     "name": "stderr",
     "output_type": "stream",
     "text": [
      "$RF: possibly delisted; no price data found  (period=1y)\n",
      "Fetching Data:  52%|█████▏    | 192/370 [01:36<01:22,  2.15ticker/s]"
     ]
    },
    {
     "name": "stdout",
     "output_type": "stream",
     "text": [
      "No data found for ticker: RF\n"
     ]
    },
    {
     "name": "stderr",
     "output_type": "stream",
     "text": [
      "$ERIE: possibly delisted; no price data found  (period=1y)\n",
      "Fetching Data:  52%|█████▏    | 193/370 [01:36<01:22,  2.16ticker/s]"
     ]
    },
    {
     "name": "stdout",
     "output_type": "stream",
     "text": [
      "No data found for ticker: ERIE\n"
     ]
    },
    {
     "name": "stderr",
     "output_type": "stream",
     "text": [
      "$REGN: possibly delisted; no price data found  (period=1y)\n",
      "Fetching Data:  52%|█████▏    | 194/370 [01:36<01:20,  2.20ticker/s]"
     ]
    },
    {
     "name": "stdout",
     "output_type": "stream",
     "text": [
      "No data found for ticker: REGN\n"
     ]
    },
    {
     "name": "stderr",
     "output_type": "stream",
     "text": [
      "$MLM: possibly delisted; no price data found  (period=1y)\n",
      "Fetching Data:  53%|█████▎    | 195/370 [01:37<01:20,  2.16ticker/s]"
     ]
    },
    {
     "name": "stdout",
     "output_type": "stream",
     "text": [
      "No data found for ticker: MLM\n"
     ]
    },
    {
     "name": "stderr",
     "output_type": "stream",
     "text": [
      "$FMC: possibly delisted; no price data found  (period=1y)\n",
      "Fetching Data:  53%|█████▎    | 196/370 [01:37<01:20,  2.17ticker/s]"
     ]
    },
    {
     "name": "stdout",
     "output_type": "stream",
     "text": [
      "No data found for ticker: FMC\n"
     ]
    },
    {
     "name": "stderr",
     "output_type": "stream",
     "text": [
      "$BX: possibly delisted; no price data found  (period=1y)\n",
      "Fetching Data:  53%|█████▎    | 197/370 [01:38<01:19,  2.18ticker/s]"
     ]
    },
    {
     "name": "stdout",
     "output_type": "stream",
     "text": [
      "No data found for ticker: BX\n"
     ]
    },
    {
     "name": "stderr",
     "output_type": "stream",
     "text": [
      "$NTRS: possibly delisted; no price data found  (period=1y)\n",
      "Fetching Data:  54%|█████▎    | 198/370 [01:38<01:20,  2.15ticker/s]"
     ]
    },
    {
     "name": "stdout",
     "output_type": "stream",
     "text": [
      "No data found for ticker: NTRS\n"
     ]
    },
    {
     "name": "stderr",
     "output_type": "stream",
     "text": [
      "$RJF: possibly delisted; no price data found  (period=1y)\n",
      "Fetching Data:  54%|█████▍    | 199/370 [01:39<01:18,  2.19ticker/s]"
     ]
    },
    {
     "name": "stdout",
     "output_type": "stream",
     "text": [
      "No data found for ticker: RJF\n"
     ]
    },
    {
     "name": "stderr",
     "output_type": "stream",
     "text": [
      "$MTB: possibly delisted; no price data found  (period=1y)\n",
      "Fetching Data:  54%|█████▍    | 200/370 [01:39<01:17,  2.20ticker/s]"
     ]
    },
    {
     "name": "stdout",
     "output_type": "stream",
     "text": [
      "No data found for ticker: MTB\n"
     ]
    },
    {
     "name": "stderr",
     "output_type": "stream",
     "text": [
      "$TSM: possibly delisted; no price data found  (period=1y)\n",
      "Fetching Data:  54%|█████▍    | 201/370 [01:40<01:28,  1.92ticker/s]"
     ]
    },
    {
     "name": "stdout",
     "output_type": "stream",
     "text": [
      "No data found for ticker: TSM\n"
     ]
    },
    {
     "name": "stderr",
     "output_type": "stream",
     "text": [
      "$DOCU: possibly delisted; no price data found  (period=1y)\n",
      "Fetching Data:  55%|█████▍    | 202/370 [01:40<01:26,  1.95ticker/s]"
     ]
    },
    {
     "name": "stdout",
     "output_type": "stream",
     "text": [
      "No data found for ticker: DOCU\n"
     ]
    },
    {
     "name": "stderr",
     "output_type": "stream",
     "text": [
      "$WAB: possibly delisted; no price data found  (period=1y)\n",
      "Fetching Data:  55%|█████▍    | 203/370 [01:41<01:24,  1.98ticker/s]"
     ]
    },
    {
     "name": "stdout",
     "output_type": "stream",
     "text": [
      "No data found for ticker: WAB\n"
     ]
    },
    {
     "name": "stderr",
     "output_type": "stream",
     "text": [
      "$KO: possibly delisted; no price data found  (period=1y)\n",
      "Fetching Data:  55%|█████▌    | 204/370 [01:41<01:20,  2.06ticker/s]"
     ]
    },
    {
     "name": "stdout",
     "output_type": "stream",
     "text": [
      "No data found for ticker: KO\n"
     ]
    },
    {
     "name": "stderr",
     "output_type": "stream",
     "text": [
      "$T: possibly delisted; no price data found  (period=1y)\n",
      "Fetching Data:  55%|█████▌    | 205/370 [01:42<01:19,  2.07ticker/s]"
     ]
    },
    {
     "name": "stdout",
     "output_type": "stream",
     "text": [
      "No data found for ticker: T\n"
     ]
    },
    {
     "name": "stderr",
     "output_type": "stream",
     "text": [
      "$PAYC: possibly delisted; no price data found  (period=1y)\n",
      "Fetching Data:  56%|█████▌    | 206/370 [01:42<01:22,  1.98ticker/s]"
     ]
    },
    {
     "name": "stdout",
     "output_type": "stream",
     "text": [
      "No data found for ticker: PAYC\n"
     ]
    },
    {
     "name": "stderr",
     "output_type": "stream",
     "text": [
      "$HRL: possibly delisted; no price data found  (period=1y)\n",
      "Fetching Data:  56%|█████▌    | 207/370 [01:43<01:21,  2.00ticker/s]"
     ]
    },
    {
     "name": "stdout",
     "output_type": "stream",
     "text": [
      "No data found for ticker: HRL\n"
     ]
    },
    {
     "name": "stderr",
     "output_type": "stream",
     "text": [
      "$ELV: possibly delisted; no price data found  (period=1y)\n",
      "Fetching Data:  56%|█████▌    | 208/370 [01:43<01:20,  2.00ticker/s]"
     ]
    },
    {
     "name": "stdout",
     "output_type": "stream",
     "text": [
      "No data found for ticker: ELV\n"
     ]
    },
    {
     "name": "stderr",
     "output_type": "stream",
     "text": [
      "$PPL: possibly delisted; no price data found  (period=1y)\n",
      "Fetching Data:  56%|█████▋    | 209/370 [01:44<01:22,  1.95ticker/s]"
     ]
    },
    {
     "name": "stdout",
     "output_type": "stream",
     "text": [
      "No data found for ticker: PPL\n"
     ]
    },
    {
     "name": "stderr",
     "output_type": "stream",
     "text": [
      "$MSI: possibly delisted; no price data found  (period=1y)\n",
      "Fetching Data:  57%|█████▋    | 210/370 [01:44<01:19,  2.01ticker/s]"
     ]
    },
    {
     "name": "stdout",
     "output_type": "stream",
     "text": [
      "No data found for ticker: MSI\n"
     ]
    },
    {
     "name": "stderr",
     "output_type": "stream",
     "text": [
      "$HES: possibly delisted; no price data found  (period=1y)\n",
      "Fetching Data:  57%|█████▋    | 211/370 [01:45<01:18,  2.03ticker/s]"
     ]
    },
    {
     "name": "stdout",
     "output_type": "stream",
     "text": [
      "No data found for ticker: HES\n"
     ]
    },
    {
     "name": "stderr",
     "output_type": "stream",
     "text": [
      "$BALL: possibly delisted; no price data found  (period=1y)\n",
      "Fetching Data:  57%|█████▋    | 212/370 [01:45<01:16,  2.06ticker/s]"
     ]
    },
    {
     "name": "stdout",
     "output_type": "stream",
     "text": [
      "No data found for ticker: BALL\n"
     ]
    },
    {
     "name": "stderr",
     "output_type": "stream",
     "text": [
      "$BAYRY: possibly delisted; no price data found  (period=1y)\n",
      "Fetching Data:  58%|█████▊    | 213/370 [01:46<01:16,  2.05ticker/s]"
     ]
    },
    {
     "name": "stdout",
     "output_type": "stream",
     "text": [
      "No data found for ticker: BAYRY\n"
     ]
    },
    {
     "name": "stderr",
     "output_type": "stream",
     "text": [
      "$DD: possibly delisted; no price data found  (period=1y)\n",
      "Fetching Data:  58%|█████▊    | 214/370 [01:46<01:15,  2.06ticker/s]"
     ]
    },
    {
     "name": "stdout",
     "output_type": "stream",
     "text": [
      "No data found for ticker: DD\n"
     ]
    },
    {
     "name": "stderr",
     "output_type": "stream",
     "text": [
      "$VTR: possibly delisted; no price data found  (period=1y)\n",
      "Fetching Data:  58%|█████▊    | 215/370 [01:47<01:13,  2.11ticker/s]"
     ]
    },
    {
     "name": "stdout",
     "output_type": "stream",
     "text": [
      "No data found for ticker: VTR\n"
     ]
    },
    {
     "name": "stderr",
     "output_type": "stream",
     "text": [
      "$CNP: possibly delisted; no price data found  (period=1y)\n",
      "Fetching Data:  58%|█████▊    | 216/370 [01:47<01:14,  2.06ticker/s]"
     ]
    },
    {
     "name": "stdout",
     "output_type": "stream",
     "text": [
      "No data found for ticker: CNP\n"
     ]
    },
    {
     "name": "stderr",
     "output_type": "stream",
     "text": [
      "$MO: possibly delisted; no price data found  (period=1y)\n",
      "Fetching Data:  59%|█████▊    | 217/370 [01:48<01:14,  2.05ticker/s]"
     ]
    },
    {
     "name": "stdout",
     "output_type": "stream",
     "text": [
      "No data found for ticker: MO\n"
     ]
    },
    {
     "name": "stderr",
     "output_type": "stream",
     "text": [
      "$HUBB: possibly delisted; no price data found  (period=1y)\n",
      "Fetching Data:  59%|█████▉    | 218/370 [01:48<01:11,  2.11ticker/s]$NVDA: possibly delisted; no price data found  (period=1y)\n",
      "$NOC: possibly delisted; no price data found  (period=1y)\n",
      "$SO: possibly delisted; no price data found  (period=1y)\n",
      "$NDAQ: possibly delisted; no price data found  (period=1y)\n",
      "$IDXX: possibly delisted; no price data found  (period=1y)\n",
      "$AMZN: possibly delisted; no price data found  (period=1y)\n",
      "$EQT: possibly delisted; no price data found  (period=1y)\n",
      "$JPM: possibly delisted; no price data found  (period=1y)\n",
      "$COIN: possibly delisted; no price data found  (period=1y)\n",
      "$CAH: possibly delisted; no price data found  (period=1y)\n",
      "$HLT: possibly delisted; no price data found  (period=1y)\n",
      "$ORLY: possibly delisted; no price data found  (period=1y)\n",
      "$SYK: possibly delisted; no price data found  (period=1y)\n",
      "$ALL: possibly delisted; no price data found  (period=1y)\n",
      "$DAY: possibly delisted; no price data found  (period=1y)\n",
      "Fetching Data:  63%|██████▎   | 233/370 [01:48<00:09, 14.39ticker/s]$EOG: possibly delisted; no price data found  (period=1y)\n",
      "$KKR: possibly delisted; no price data found  (period=1y)\n",
      "$WM: possibly delisted; no price data found  (period=1y)\n",
      "$SJM: possibly delisted; no price data found  (period=1y)\n",
      "$WTW: possibly delisted; no price data found  (period=1y)\n",
      "$MHK: possibly delisted; no price data found  (period=1y)\n",
      "$TPR: possibly delisted; no price data found  (period=1y)\n",
      "$PNW: possibly delisted; no price data found  (period=1y)\n",
      "$AJG: possibly delisted; no price data found  (period=1y)\n",
      "$WRB: possibly delisted; no price data found  (period=1y)\n",
      "$INTC: possibly delisted; no price data found  (period=1y)\n"
     ]
    },
    {
     "name": "stdout",
     "output_type": "stream",
     "text": [
      "No data found for ticker: HUBB\n",
      "No data found for ticker: NVDA\n",
      "No data found for ticker: NOC\n",
      "No data found for ticker: SO\n",
      "No data found for ticker: NDAQ\n",
      "No data found for ticker: IDXX\n",
      "No data found for ticker: AMZN\n",
      "No data found for ticker: EQT\n",
      "No data found for ticker: JPM\n",
      "No data found for ticker: COIN\n",
      "No data found for ticker: CAH\n",
      "No data found for ticker: HLT\n",
      "No data found for ticker: ORLY\n",
      "No data found for ticker: SYK\n",
      "No data found for ticker: ALL\n",
      "No data found for ticker: DAY\n",
      "No data found for ticker: EOG\n",
      "No data found for ticker: KKR\n",
      "No data found for ticker: WM\n",
      "No data found for ticker: SJM\n",
      "No data found for ticker: WTW\n",
      "No data found for ticker: MHK\n",
      "No data found for ticker: TPR\n",
      "No data found for ticker: PNW\n",
      "No data found for ticker: AJG\n",
      "No data found for ticker: WRB\n",
      "No data found for ticker: INTC\n"
     ]
    },
    {
     "name": "stderr",
     "output_type": "stream",
     "text": [
      "$ETSY: possibly delisted; no price data found  (period=1y)\n",
      "$FIS: possibly delisted; no price data found  (period=1y)\n",
      "$RL: possibly delisted; no price data found  (period=1y)\n",
      "$CINF: possibly delisted; no price data found  (period=1y)\n",
      "Fetching Data:  67%|██████▋   | 248/370 [01:48<00:04, 28.53ticker/s]$KMB: possibly delisted; no price data found  (period=1y)\n",
      "$CRM: possibly delisted; no price data found  (period=1y)\n",
      "$BMY: possibly delisted; no price data found  (period=1y)\n",
      "$DXCM: possibly delisted; no price data found  (period=1y)\n",
      "$CPB: possibly delisted; no price data found  (period=1y)\n",
      "$KEY: possibly delisted; no price data found  (period=1y)\n",
      "$UBER: possibly delisted; no price data found  (period=1y)\n",
      "$GEN: possibly delisted; no price data found  (period=1y)\n",
      "$CHRW: possibly delisted; no price data found  (period=1y)\n",
      "$SYF: possibly delisted; no price data found  (period=1y)\n",
      "$LRCX: possibly delisted; no price data found  (period=1y)\n",
      "$MGM: possibly delisted; no price data found  (period=1y)\n",
      "$BA: possibly delisted; no price data found  (period=1y)\n",
      "$HWM: possibly delisted; no price data found  (period=1y)\n",
      "$AON: possibly delisted; no price data found  (period=1y)\n",
      "$DIS: possibly delisted; no price data found  (period=1y)\n",
      "$UNP: possibly delisted; no price data found  (period=1y)\n",
      "Fetching Data:  72%|███████▏  | 265/370 [01:48<00:02, 46.99ticker/s]$O: possibly delisted; no price data found  (period=1y)\n",
      "$APD: possibly delisted; no price data found  (period=1y)\n",
      "$AMD: possibly delisted; no price data found  (period=1y)\n",
      "$IR: possibly delisted; no price data found  (period=1y)\n",
      "$IPG: possibly delisted; no price data found  (period=1y)\n",
      "$BDX: possibly delisted; no price data found  (period=1y)\n",
      "$MDLZ: possibly delisted; no price data found  (period=1y)\n",
      "$BLDR: possibly delisted; no price data found  (period=1y)\n",
      "$EG: possibly delisted; no price data found  (period=1y)\n",
      "$RVTY: possibly delisted; no price data found  (period=1y)\n"
     ]
    },
    {
     "name": "stdout",
     "output_type": "stream",
     "text": [
      "No data found for ticker: ETSY\n",
      "No data found for ticker: FIS\n",
      "No data found for ticker: RL\n",
      "No data found for ticker: CINF\n",
      "No data found for ticker: KMB\n",
      "No data found for ticker: CRM\n",
      "No data found for ticker: BMY\n",
      "No data found for ticker: DXCM\n",
      "No data found for ticker: CPB\n",
      "No data found for ticker: KEY\n",
      "No data found for ticker: UBER\n",
      "No data found for ticker: GEN\n",
      "No data found for ticker: CHRW\n",
      "No data found for ticker: SYF\n",
      "No data found for ticker: LRCX\n",
      "No data found for ticker: MGM\n",
      "No data found for ticker: BA\n",
      "No data found for ticker: HWM\n",
      "No data found for ticker: AON\n",
      "No data found for ticker: DIS\n",
      "No data found for ticker: UNP\n",
      "No data found for ticker: O\n",
      "No data found for ticker: APD\n",
      "No data found for ticker: AMD\n",
      "No data found for ticker: IR\n",
      "No data found for ticker: IPG\n",
      "No data found for ticker: BDX\n",
      "No data found for ticker: MDLZ\n",
      "No data found for ticker: BLDR\n",
      "No data found for ticker: EG\n",
      "No data found for ticker: RVTY\n"
     ]
    },
    {
     "name": "stderr",
     "output_type": "stream",
     "text": [
      "$ETR: possibly delisted; no price data found  (period=1y)\n",
      "$HII: possibly delisted; no price data found  (period=1y)\n",
      "$ETN: possibly delisted; no price data found  (period=1y)\n",
      "$LLY: possibly delisted; no price data found  (period=1y)\n",
      "$SWKS: possibly delisted; no price data found  (period=1y)\n",
      "$EA: possibly delisted; no price data found  (period=1y)\n",
      "$ABT: possibly delisted; no price data found  (period=1y)\n",
      "$PWR: possibly delisted; no price data found  (period=1y)\n",
      "Fetching Data:  76%|███████▋  | 283/370 [01:49<00:01, 67.87ticker/s]$NEM: possibly delisted; no price data found  (period=1y)\n",
      "$ATO: possibly delisted; no price data found  (period=1y)\n",
      "$DECK: possibly delisted; no price data found  (period=1y)\n",
      "$FANG: possibly delisted; no price data found  (period=1y)\n",
      "$BEN: possibly delisted; no price data found  (period=1y)\n",
      "$AMAT: possibly delisted; no price data found  (period=1y)\n",
      "$CRL: possibly delisted; no price data found  (period=1y)\n",
      "$APA: possibly delisted; no price data found  (period=1y)\n",
      "$RTX: possibly delisted; no price data found  (period=1y)\n",
      "$MMC: possibly delisted; no price data found  (period=1y)\n",
      "$WAT: possibly delisted; no price data found  (period=1y)\n",
      "$FTNT: possibly delisted; no price data found  (period=1y)\n",
      "$EL: possibly delisted; no price data found  (period=1y)\n",
      "$PNC: possibly delisted; no price data found  (period=1y)\n",
      "Fetching Data:  80%|████████  | 297/370 [01:49<00:00, 80.74ticker/s]$TXT: possibly delisted; no price data found  (period=1y)\n",
      "$HAL: possibly delisted; no price data found  (period=1y)\n",
      "$ACGL: possibly delisted; no price data found  (period=1y)\n",
      "$NVO: possibly delisted; no price data found  (period=1y)\n",
      "$HBAN: possibly delisted; no price data found  (period=1y)\n",
      "$PG: possibly delisted; no price data found  (period=1y)\n",
      "$ALLE: possibly delisted; no price data found  (period=1y)\n",
      "$TRGP: possibly delisted; no price data found  (period=1y)\n"
     ]
    },
    {
     "name": "stdout",
     "output_type": "stream",
     "text": [
      "No data found for ticker: ETR\n",
      "No data found for ticker: HII\n",
      "No data found for ticker: ETN\n",
      "No data found for ticker: LLY\n",
      "No data found for ticker: SWKS\n",
      "No data found for ticker: EA\n",
      "No data found for ticker: ABT\n",
      "No data found for ticker: PWR\n",
      "No data found for ticker: NEM\n",
      "No data found for ticker: ATO\n",
      "No data found for ticker: DECK\n",
      "No data found for ticker: FANG\n",
      "No data found for ticker: BEN\n",
      "No data found for ticker: AMAT\n",
      "No data found for ticker: CRL\n",
      "No data found for ticker: APA\n",
      "No data found for ticker: RTX\n",
      "No data found for ticker: MMC\n",
      "No data found for ticker: WAT\n",
      "No data found for ticker: FTNT\n",
      "No data found for ticker: EL\n",
      "No data found for ticker: PNC\n",
      "No data found for ticker: TXT\n",
      "No data found for ticker: HAL\n",
      "No data found for ticker: ACGL\n",
      "No data found for ticker: NVO\n",
      "No data found for ticker: HBAN\n",
      "No data found for ticker: PG\n",
      "No data found for ticker: ALLE\n"
     ]
    },
    {
     "name": "stderr",
     "output_type": "stream",
     "text": [
      "$REG: possibly delisted; no price data found  (period=1y)\n",
      "$DRI: possibly delisted; no price data found  (period=1y)\n",
      "$DUK: possibly delisted; no price data found  (period=1y)\n",
      "$APO: possibly delisted; no price data found  (period=1y)\n",
      "$VICI: possibly delisted; no price data found  (period=1y)\n",
      "$IFF: possibly delisted; no price data found  (period=1y)\n",
      "$CB: possibly delisted; no price data found  (period=1y)\n",
      "$MCK: possibly delisted; no price data found  (period=1y)\n",
      "$RCL: possibly delisted; no price data found  (period=1y)\n",
      "$NVR: possibly delisted; no price data found  (period=1y)\n",
      "$TECH: possibly delisted; no price data found  (period=1y)\n",
      "Fetching Data:  85%|████████▌ | 316/370 [01:49<00:00, 102.94ticker/s]$CPAY: possibly delisted; no price data found  (period=1y)\n",
      "$ALGN: possibly delisted; no price data found  (period=1y)\n",
      "$APH: possibly delisted; no price data found  (period=1y)\n",
      "$GS: possibly delisted; no price data found  (period=1y)\n",
      "$MOS: possibly delisted; no price data found  (period=1y)\n",
      "$NET: possibly delisted; no price data found  (period=1y)\n",
      "$PCG: possibly delisted; no price data found  (period=1y)\n",
      "$TSLA: possibly delisted; no price data found  (period=1y)\n",
      "$CZR: possibly delisted; no price data found  (period=1y)\n",
      "$BXP: possibly delisted; no price data found  (period=1y)\n",
      "$SRE: possibly delisted; no price data found  (period=1y)\n",
      "$HON: possibly delisted; no price data found  (period=1y)\n",
      "$DOV: possibly delisted; no price data found  (period=1y)\n",
      "$TWLO: possibly delisted; no price data found  (period=1y)\n",
      "$NKE: possibly delisted; no price data found  (period=1y)\n",
      "$UDR: possibly delisted; no price data found  (period=1y)\n",
      "$ULTA: possibly delisted; no price data found  (period=1y)\n",
      "$XEL: possibly delisted; no price data found  (period=1y)\n",
      "Fetching Data:  90%|█████████ | 334/370 [01:49<00:00, 120.02ticker/s]$PNR: possibly delisted; no price data found  (period=1y)\n",
      "$WEC: possibly delisted; no price data found  (period=1y)\n",
      "$MKTX: possibly delisted; no price data found  (period=1y)\n",
      "$ECL: possibly delisted; no price data found  (period=1y)\n",
      "$TMO: possibly delisted; no price data found  (period=1y)\n"
     ]
    },
    {
     "name": "stdout",
     "output_type": "stream",
     "text": [
      "No data found for ticker: TRGP\n",
      "No data found for ticker: REG\n",
      "No data found for ticker: DRI\n",
      "No data found for ticker: DUK\n",
      "No data found for ticker: APO\n",
      "No data found for ticker: VICI\n",
      "No data found for ticker: IFF\n",
      "No data found for ticker: CB\n",
      "No data found for ticker: MCK\n",
      "No data found for ticker: RCL\n",
      "No data found for ticker: NVR\n",
      "No data found for ticker: TECH\n",
      "No data found for ticker: CPAY\n",
      "No data found for ticker: ALGN\n",
      "No data found for ticker: APH\n",
      "No data found for ticker: GS\n",
      "No data found for ticker: MOS\n",
      "No data found for ticker: NET\n",
      "No data found for ticker: PCG\n",
      "No data found for ticker: TSLA\n",
      "No data found for ticker: CZR\n",
      "No data found for ticker: BXP\n",
      "No data found for ticker: SRE\n",
      "No data found for ticker: HON\n",
      "No data found for ticker: DOV\n",
      "No data found for ticker: TWLO\n",
      "No data found for ticker: NKE\n",
      "No data found for ticker: UDR\n",
      "No data found for ticker: ULTA\n",
      "No data found for ticker: XEL\n",
      "No data found for ticker: PNR\n",
      "No data found for ticker: WEC\n",
      "No data found for ticker: MKTX\n",
      "No data found for ticker: ECL\n",
      "No data found for ticker: TMO\n"
     ]
    },
    {
     "name": "stderr",
     "output_type": "stream",
     "text": [
      "$CBRE: possibly delisted; no price data found  (period=1y)\n",
      "$KDP: possibly delisted; no price data found  (period=1y)\n",
      "$TGT: possibly delisted; no price data found  (period=1y)\n",
      "$DHI: possibly delisted; no price data found  (period=1y)\n",
      "$TTWO: possibly delisted; no price data found  (period=1y)\n",
      "$ODFL: possibly delisted; no price data found  (period=1y)\n",
      "$FAST: possibly delisted; no price data found  (period=1y)\n",
      "$GRMN: possibly delisted; no price data found  (period=1y)\n",
      "$CSX: possibly delisted; no price data found  (period=1y)\n",
      "$SPGI: possibly delisted; no price data found  (period=1y)\n",
      "$MS: possibly delisted; no price data found  (period=1y)\n",
      "$SOLV: possibly delisted; no price data found  (period=1y)\n",
      "$IP: possibly delisted; no price data found  (period=1y)\n",
      "$COF: possibly delisted; no price data found  (period=1y)\n",
      "$PEP: possibly delisted; no price data found  (period=1y)\n",
      "Fetching Data:  96%|█████████▌| 354/370 [01:49<00:00, 138.83ticker/s]$NEE: possibly delisted; no price data found  (period=1y)\n",
      "$MU: possibly delisted; no price data found  (period=1y)\n",
      "$IT: possibly delisted; no price data found  (period=1y)\n",
      "$ISRG: possibly delisted; no price data found  (period=1y)\n",
      "$ALB: possibly delisted; no price data found  (period=1y)\n",
      "$GWW: possibly delisted; no price data found  (period=1y)\n",
      "$META: possibly delisted; no price data found  (period=1y)\n",
      "$HST: possibly delisted; no price data found  (period=1y)\n",
      "$OXY: possibly delisted; no price data found  (period=1y)\n",
      "$AMT: possibly delisted; no price data found  (period=1y)\n",
      "$ROP: possibly delisted; no price data found  (period=1y)\n",
      "$FE: possibly delisted; no price data found  (period=1y)\n",
      "$VRTX: possibly delisted; no price data found  (period=1y)\n",
      "$VTRS: possibly delisted; no price data found  (period=1y)\n",
      "$TSN: possibly delisted; no price data found  (period=1y)\n",
      "$VLO: possibly delisted; no price data found  (period=1y)\n",
      "Fetching Data: 100%|██████████| 370/370 [01:49<00:00,  3.38ticker/s] \n"
     ]
    },
    {
     "name": "stdout",
     "output_type": "stream",
     "text": [
      "No data found for ticker: CBRE\n",
      "No data found for ticker: KDP\n",
      "No data found for ticker: TGT\n",
      "No data found for ticker: DHI\n",
      "No data found for ticker: TTWO\n",
      "No data found for ticker: ODFL\n",
      "No data found for ticker: FAST\n",
      "No data found for ticker: GRMN\n",
      "No data found for ticker: CSX\n",
      "No data found for ticker: SPGI\n",
      "No data found for ticker: MS\n",
      "No data found for ticker: SOLV\n",
      "No data found for ticker: IP\n",
      "No data found for ticker: COF\n",
      "No data found for ticker: PEP\n",
      "No data found for ticker: NEE\n",
      "No data found for ticker: MU\n",
      "No data found for ticker: IT\n",
      "No data found for ticker: ISRG\n",
      "No data found for ticker: ALB\n",
      "No data found for ticker: GWW\n",
      "No data found for ticker: META\n",
      "No data found for ticker: HST\n",
      "No data found for ticker: OXY\n",
      "No data found for ticker: AMT\n",
      "No data found for ticker: ROP\n",
      "No data found for ticker: FE\n",
      "No data found for ticker: VRTX\n",
      "No data found for ticker: VTRS\n",
      "No data found for ticker: TSN\n",
      "No data found for ticker: VLO\n"
     ]
    },
    {
     "ename": "ValueError",
     "evalue": "max() arg is an empty sequence",
     "output_type": "error",
     "traceback": [
      "\u001b[1;31m---------------------------------------------------------------------------\u001b[0m",
      "\u001b[1;31mValueError\u001b[0m                                Traceback (most recent call last)",
      "Cell \u001b[1;32mIn[7], line 49\u001b[0m\n\u001b[0;32m     47\u001b[0m \u001b[38;5;66;03m# Find the mode of the lengths of the returns among all tickers\u001b[39;00m\n\u001b[0;32m     48\u001b[0m return_lengths \u001b[38;5;241m=\u001b[39m [\u001b[38;5;28mlen\u001b[39m(returns) \u001b[38;5;28;01mfor\u001b[39;00m returns \u001b[38;5;129;01min\u001b[39;00m all_returns\u001b[38;5;241m.\u001b[39mvalues()]\n\u001b[1;32m---> 49\u001b[0m return_length_mode \u001b[38;5;241m=\u001b[39m \u001b[38;5;28;43mmax\u001b[39;49m\u001b[43m(\u001b[49m\u001b[38;5;28;43mset\u001b[39;49m\u001b[43m(\u001b[49m\u001b[43mreturn_lengths\u001b[49m\u001b[43m)\u001b[49m\u001b[43m,\u001b[49m\u001b[43m \u001b[49m\u001b[43mkey\u001b[49m\u001b[38;5;241;43m=\u001b[39;49m\u001b[43mreturn_lengths\u001b[49m\u001b[38;5;241;43m.\u001b[39;49m\u001b[43mcount\u001b[49m\u001b[43m)\u001b[49m\n\u001b[0;32m     51\u001b[0m \u001b[38;5;66;03m# Ensure to keep only the returns with the mode length and report the discarded tickers \u001b[39;00m\n\u001b[0;32m     52\u001b[0m discarded_tickers \u001b[38;5;241m=\u001b[39m [ticker \u001b[38;5;28;01mfor\u001b[39;00m ticker, returns \u001b[38;5;129;01min\u001b[39;00m all_returns\u001b[38;5;241m.\u001b[39mitems() \u001b[38;5;28;01mif\u001b[39;00m \u001b[38;5;28mlen\u001b[39m(returns) \u001b[38;5;241m!=\u001b[39m return_length_mode]\n",
      "\u001b[1;31mValueError\u001b[0m: max() arg is an empty sequence"
     ]
    }
   ],
   "source": [
    "REFETCH = True \n",
    "LOAD_RETURNS = False \n",
    "\n",
    "############################################################################################\n",
    "### Step 1: Scrape SP500 \n",
    "\n",
    "# Scrape S&P 500 companies names, tikers and industris from Wikipedia\n",
    "sp500_df = scrape_sp500_wikipedia()  \n",
    "\n",
    "############################################################################################\n",
    "## Step 2: Fetch Stock Data Features \n",
    "\n",
    "if REFETCH:\n",
    "    # Fetch data for all sp500 + custom tickers\n",
    "    stock_data, sector_mapping, industry_mapping = fetch_stock_data(sp500_df, custom_tickers, \n",
    "                                                                    period = \"1y\", interval = \"1wk\",\n",
    "                                                                    savepath=\"data_raw/stock_data.csv\") # Fetch data\n",
    "else: \n",
    "    # read data from file\n",
    "    stock_data = pd.read_csv(\"data_raw/stock_data.csv\", index_col=0).reset_index()\n",
    "\n",
    "\n",
    "############################################################################################\n",
    "## Step 3: Fetch Returns for all tickers\n",
    "\n",
    "if LOAD_RETURNS:\n",
    "    # Load the returns from the file\n",
    "    with open(\"data_raw/all_returns.json\", \"r\") as f:\n",
    "        all_returns = json.load(f)\n",
    "\n",
    "    # Deserialize loaded data\n",
    "    all_returns = deserialize_ndarray(all_returns)\n",
    "\n",
    "    # Show the first few tickers and their returns\n",
    "    print(\"First few tickers and their returns:\")\n",
    "    for ticker, returns in list(all_returns.items())[:5]:\n",
    "        print(f\"{ticker}: {returns[:5]}...\")  # Print first 5 returns for each ticker\n",
    "\n",
    "else: \n",
    "    # Fetch and calculate returns for the all tickers in the S&P 500 and additional tickers\n",
    "    all_tickers = stock_data[\"Ticker\"].values.tolist()  # All S&P 500 tickers\n",
    "    print(f\"number of tickers: {len(all_tickers)}\")\n",
    "\n",
    "    # Fetch and calculate returns for all tickers\n",
    "    all_returns = fetch_and_calculate_returns(all_tickers, period=\"1y\", interval=\"1wk\", price_column=\"Close\")\n",
    "\n",
    "    # Find the mode of the lengths of the returns among all tickers\n",
    "    return_lengths = [len(returns) for returns in all_returns.values()]\n",
    "    return_length_mode = max(set(return_lengths), key=return_lengths.count)\n",
    "\n",
    "    # Ensure to keep only the returns with the mode length and report the discarded tickers \n",
    "    discarded_tickers = [ticker for ticker, returns in all_returns.items() if len(returns) != return_length_mode]\n",
    "    all_returns = {ticker: returns for ticker, returns in all_returns.items() if len(returns) == return_length_mode}\n",
    "    print(f\"Discarded tickers with inconsistent return lengths: {discarded_tickers}\")\n",
    "\n",
    "    # Remove from stock_data the tickers with inconsistent return lengths\n",
    "    stock_data = stock_data[stock_data[\"Ticker\"].isin(all_returns.keys())].reset_index().drop(columns=[\"index\"])\n",
    "\n",
    "    print(\"Total number of tickers with consistent return lengths:\", len(all_returns))\n",
    "    print(\"stock_date shape:\", stock_data.shape)\n",
    "\n",
    "    # Save the dictionary with the returns to a file using json \n",
    "    with open(\"data_raw/all_returns.json\", \"w\") as f:\n",
    "        print(f\"Saving returns to {f.name}\")\n",
    "        json.dump(serialize_ndarray(all_returns), f, indent=4)\n",
    "\n",
    "############################################################################################\n",
    "## Step 4: Prepare Data for VAE\t\n",
    "\n",
    "# Prepare data for VAE\n",
    "stock_data_vae = prepare_data_for_vae(stock_data) "
   ]
  },
  {
   "cell_type": "code",
   "execution_count": 15,
   "metadata": {},
   "outputs": [
    {
     "name": "stdout",
     "output_type": "stream",
     "text": [
      "Returns for AAPL:\n",
      "[ 0.02337371  0.00950388 -0.0200941  -0.00552689 -0.05895183  0.02616172\n",
      "  0.03033579  0.00448936 -0.03414403  0.01614209 -0.03339895  0.00115197\n",
      " -0.0156695  -0.04970504  0.01107007 -0.00196956 -0.00464362 -0.01107997\n",
      "  0.04110154 -0.06542058  0.02606062  0.08316588 -0.00179947  0.0386644\n",
      "  0.00057937  0.01194859  0.02413527  0.07923211 -0.02353049  0.01508496\n",
      "  0.0746368   0.01855617 -0.02702351 -0.02830899  0.00871721 -0.01646498\n",
      "  0.04536618  0.00465631  0.00952219 -0.0357205   0.00760797  0.02561793\n",
      " -0.00179665 -0.00434609  0.00330688  0.03274001 -0.01527655 -0.03673136\n",
      "  0.01816883 -0.00754524  0.02164442  0.01305086]\n"
     ]
    }
   ],
   "source": [
    "# Show one example return series\n",
    "print(\"Returns for AAPL:\")\n",
    "print(all_returns[\"AAPL\"])"
   ]
  },
  {
   "cell_type": "code",
   "execution_count": 16,
   "metadata": {},
   "outputs": [
    {
     "data": {
      "text/html": [
       "<div>\n",
       "<style scoped>\n",
       "    .dataframe tbody tr th:only-of-type {\n",
       "        vertical-align: middle;\n",
       "    }\n",
       "\n",
       "    .dataframe tbody tr th {\n",
       "        vertical-align: top;\n",
       "    }\n",
       "\n",
       "    .dataframe thead th {\n",
       "        text-align: right;\n",
       "    }\n",
       "</style>\n",
       "<table border=\"1\" class=\"dataframe\">\n",
       "  <thead>\n",
       "    <tr style=\"text-align: right;\">\n",
       "      <th></th>\n",
       "      <th>Ticker</th>\n",
       "      <th>Company Name</th>\n",
       "      <th>Market Cap</th>\n",
       "      <th>Sector</th>\n",
       "      <th>Industry</th>\n",
       "      <th>Open Price</th>\n",
       "      <th>Close Price</th>\n",
       "      <th>High Price</th>\n",
       "      <th>Low Price</th>\n",
       "      <th>Last Close</th>\n",
       "      <th>52 Week High</th>\n",
       "      <th>52 Week Low</th>\n",
       "      <th>Last Month Volatility</th>\n",
       "      <th>52 Week Volatility</th>\n",
       "      <th>Yearly Dividend Rate</th>\n",
       "      <th>Last Year Return Rate</th>\n",
       "      <th>Sector_encoded</th>\n",
       "      <th>Industry_encoded</th>\n",
       "    </tr>\n",
       "  </thead>\n",
       "  <tbody>\n",
       "    <tr>\n",
       "      <th>0</th>\n",
       "      <td>NWSA</td>\n",
       "      <td>News Corporation</td>\n",
       "      <td>1.723283e+10</td>\n",
       "      <td>Communication Services</td>\n",
       "      <td>Entertainment</td>\n",
       "      <td>25.931326</td>\n",
       "      <td>26.044605</td>\n",
       "      <td>30.040001</td>\n",
       "      <td>21.357462</td>\n",
       "      <td>29.459999</td>\n",
       "      <td>30.040001</td>\n",
       "      <td>21.357462</td>\n",
       "      <td>0.202012</td>\n",
       "      <td>0.207805</td>\n",
       "      <td>0.20</td>\n",
       "      <td>0.325779</td>\n",
       "      <td>0</td>\n",
       "      <td>0</td>\n",
       "    </tr>\n",
       "    <tr>\n",
       "      <th>1</th>\n",
       "      <td>CDW</td>\n",
       "      <td>CDW Corporation</td>\n",
       "      <td>2.416609e+10</td>\n",
       "      <td>Information Technology</td>\n",
       "      <td>Information Technology Services</td>\n",
       "      <td>223.726122</td>\n",
       "      <td>223.000130</td>\n",
       "      <td>261.055085</td>\n",
       "      <td>172.345986</td>\n",
       "      <td>180.706680</td>\n",
       "      <td>261.055093</td>\n",
       "      <td>172.345990</td>\n",
       "      <td>0.303595</td>\n",
       "      <td>0.269587</td>\n",
       "      <td>2.50</td>\n",
       "      <td>-0.149526</td>\n",
       "      <td>1</td>\n",
       "      <td>1</td>\n",
       "    </tr>\n",
       "    <tr>\n",
       "      <th>2</th>\n",
       "      <td>IBM</td>\n",
       "      <td>International Business Machines Corporation</td>\n",
       "      <td>2.090900e+11</td>\n",
       "      <td>Information Technology</td>\n",
       "      <td>Information Technology Services</td>\n",
       "      <td>183.620345</td>\n",
       "      <td>184.819045</td>\n",
       "      <td>235.513879</td>\n",
       "      <td>149.350975</td>\n",
       "      <td>226.130005</td>\n",
       "      <td>235.513887</td>\n",
       "      <td>149.350966</td>\n",
       "      <td>0.235143</td>\n",
       "      <td>0.226503</td>\n",
       "      <td>6.68</td>\n",
       "      <td>0.506104</td>\n",
       "      <td>1</td>\n",
       "      <td>1</td>\n",
       "    </tr>\n",
       "    <tr>\n",
       "      <th>3</th>\n",
       "      <td>TYL</td>\n",
       "      <td>Tyler Technologies, Inc.</td>\n",
       "      <td>2.671446e+10</td>\n",
       "      <td>Information Technology</td>\n",
       "      <td>Software - Application</td>\n",
       "      <td>495.323582</td>\n",
       "      <td>499.360942</td>\n",
       "      <td>631.429993</td>\n",
       "      <td>397.799988</td>\n",
       "      <td>624.190002</td>\n",
       "      <td>631.429993</td>\n",
       "      <td>397.799988</td>\n",
       "      <td>0.245685</td>\n",
       "      <td>0.229233</td>\n",
       "      <td>0.00</td>\n",
       "      <td>0.517713</td>\n",
       "      <td>1</td>\n",
       "      <td>2</td>\n",
       "    </tr>\n",
       "    <tr>\n",
       "      <th>4</th>\n",
       "      <td>PEG</td>\n",
       "      <td>Public Service Enterprise Group Incorporated</td>\n",
       "      <td>4.634489e+10</td>\n",
       "      <td>Utilities</td>\n",
       "      <td>Utilities - Regulated Electric</td>\n",
       "      <td>71.832601</td>\n",
       "      <td>72.395076</td>\n",
       "      <td>93.110001</td>\n",
       "      <td>55.451015</td>\n",
       "      <td>93.019997</td>\n",
       "      <td>93.110001</td>\n",
       "      <td>55.451010</td>\n",
       "      <td>0.163813</td>\n",
       "      <td>0.190584</td>\n",
       "      <td>2.40</td>\n",
       "      <td>0.493403</td>\n",
       "      <td>2</td>\n",
       "      <td>3</td>\n",
       "    </tr>\n",
       "  </tbody>\n",
       "</table>\n",
       "</div>"
      ],
      "text/plain": [
       "  Ticker                                  Company Name    Market Cap  \\\n",
       "0   NWSA                              News Corporation  1.723283e+10   \n",
       "1    CDW                               CDW Corporation  2.416609e+10   \n",
       "2    IBM   International Business Machines Corporation  2.090900e+11   \n",
       "3    TYL                      Tyler Technologies, Inc.  2.671446e+10   \n",
       "4    PEG  Public Service Enterprise Group Incorporated  4.634489e+10   \n",
       "\n",
       "                   Sector                         Industry  Open Price  \\\n",
       "0  Communication Services                    Entertainment   25.931326   \n",
       "1  Information Technology  Information Technology Services  223.726122   \n",
       "2  Information Technology  Information Technology Services  183.620345   \n",
       "3  Information Technology           Software - Application  495.323582   \n",
       "4               Utilities   Utilities - Regulated Electric   71.832601   \n",
       "\n",
       "   Close Price  High Price   Low Price  Last Close  52 Week High  52 Week Low  \\\n",
       "0    26.044605   30.040001   21.357462   29.459999     30.040001    21.357462   \n",
       "1   223.000130  261.055085  172.345986  180.706680    261.055093   172.345990   \n",
       "2   184.819045  235.513879  149.350975  226.130005    235.513887   149.350966   \n",
       "3   499.360942  631.429993  397.799988  624.190002    631.429993   397.799988   \n",
       "4    72.395076   93.110001   55.451015   93.019997     93.110001    55.451010   \n",
       "\n",
       "   Last Month Volatility  52 Week Volatility  Yearly Dividend Rate  \\\n",
       "0               0.202012            0.207805                  0.20   \n",
       "1               0.303595            0.269587                  2.50   \n",
       "2               0.235143            0.226503                  6.68   \n",
       "3               0.245685            0.229233                  0.00   \n",
       "4               0.163813            0.190584                  2.40   \n",
       "\n",
       "   Last Year Return Rate  Sector_encoded  Industry_encoded  \n",
       "0               0.325779               0                 0  \n",
       "1              -0.149526               1                 1  \n",
       "2               0.506104               1                 1  \n",
       "3               0.517713               1                 2  \n",
       "4               0.493403               2                 3  "
      ]
     },
     "execution_count": 16,
     "metadata": {},
     "output_type": "execute_result"
    }
   ],
   "source": [
    "stock_data.head()"
   ]
  },
  {
   "cell_type": "code",
   "execution_count": 17,
   "metadata": {},
   "outputs": [
    {
     "name": "stdout",
     "output_type": "stream",
     "text": [
      "     Market Cap  Open Price  Close Price  High Price   Low Price  Last Close  \\\n",
      "0  1.723283e+10   25.931326    26.044605   30.040001   21.357462   29.459999   \n",
      "1  2.416609e+10  223.726122   223.000130  261.055085  172.345986  180.706680   \n",
      "2  2.090900e+11  183.620345   184.819045  235.513879  149.350975  226.130005   \n",
      "3  2.671446e+10  495.323582   499.360942  631.429993  397.799988  624.190002   \n",
      "4  4.634489e+10   71.832601    72.395076   93.110001   55.451015   93.019997   \n",
      "\n",
      "   52 Week High  52 Week Low  Last Month Volatility  52 Week Volatility  ...  \\\n",
      "0     30.040001    21.357462               0.202012            0.207805  ...   \n",
      "1    261.055093   172.345990               0.303595            0.269587  ...   \n",
      "2    235.513887   149.350966               0.235143            0.226503  ...   \n",
      "3    631.429993   397.799988               0.245685            0.229233  ...   \n",
      "4     93.110001    55.451010               0.163813            0.190584  ...   \n",
      "\n",
      "   Industry_Utilities - Diversified  \\\n",
      "0                               0.0   \n",
      "1                               0.0   \n",
      "2                               0.0   \n",
      "3                               0.0   \n",
      "4                               0.0   \n",
      "\n",
      "   Industry_Utilities - Independent Power Producers  \\\n",
      "0                                               0.0   \n",
      "1                                               0.0   \n",
      "2                                               0.0   \n",
      "3                                               0.0   \n",
      "4                                               0.0   \n",
      "\n",
      "   Industry_Utilities - Regulated Electric  \\\n",
      "0                                      0.0   \n",
      "1                                      0.0   \n",
      "2                                      0.0   \n",
      "3                                      0.0   \n",
      "4                                      1.0   \n",
      "\n",
      "   Industry_Utilities - Regulated Gas  Industry_Utilities - Renewable  \\\n",
      "0                                 0.0                             0.0   \n",
      "1                                 0.0                             0.0   \n",
      "2                                 0.0                             0.0   \n",
      "3                                 0.0                             0.0   \n",
      "4                                 0.0                             0.0   \n",
      "\n",
      "   Industry_Waste Management  Industry_Utilities - Regulated Water  \\\n",
      "0                        0.0                                   0.0   \n",
      "1                        0.0                                   0.0   \n",
      "2                        0.0                                   0.0   \n",
      "3                        0.0                                   0.0   \n",
      "4                        0.0                                   0.0   \n",
      "\n",
      "   Industry_Insurance - Reinsurance  Industry_Beverages - Brewers  \\\n",
      "0                               0.0                           0.0   \n",
      "1                               0.0                           0.0   \n",
      "2                               0.0                           0.0   \n",
      "3                               0.0                           0.0   \n",
      "4                               0.0                           0.0   \n",
      "\n",
      "   Industry_Other  \n",
      "0             0.0  \n",
      "1             0.0  \n",
      "2             0.0  \n",
      "3             0.0  \n",
      "4             0.0  \n",
      "\n",
      "[5 rows x 145 columns]\n"
     ]
    }
   ],
   "source": [
    "# Display the data \n",
    "print(stock_data_vae.head())"
   ]
  },
  {
   "cell_type": "code",
   "execution_count": 18,
   "metadata": {},
   "outputs": [
    {
     "name": "stdout",
     "output_type": "stream",
     "text": [
      "18\n",
      "145\n",
      "468\n",
      "Market Cap                              float64\n",
      "Open Price                              float64\n",
      "Close Price                             float64\n",
      "High Price                              float64\n",
      "Low Price                               float64\n",
      "                                         ...   \n",
      "Industry_Waste Management               float64\n",
      "Industry_Utilities - Regulated Water    float64\n",
      "Industry_Insurance - Reinsurance        float64\n",
      "Industry_Beverages - Brewers            float64\n",
      "Industry_Other                          float64\n",
      "Length: 145, dtype: object\n"
     ]
    }
   ],
   "source": [
    "# Print number of columns for stock_data \n",
    "print(len(stock_data.columns))\n",
    "\n",
    "# Print number of columns in total \n",
    "print(len(stock_data_vae.columns))\n",
    "\n",
    "# Print total number of rows \n",
    "print(len(stock_data_vae))\n",
    "\n",
    "# Print the data types of the columns\n",
    "print(stock_data_vae.dtypes)"
   ]
  },
  {
   "cell_type": "code",
   "execution_count": 19,
   "metadata": {},
   "outputs": [
    {
     "name": "stdout",
     "output_type": "stream",
     "text": [
      "Index(['Market Cap', 'Open Price', 'Close Price', 'High Price', 'Low Price',\n",
      "       'Last Close', '52 Week High', '52 Week Low', 'Last Month Volatility',\n",
      "       '52 Week Volatility',\n",
      "       ...\n",
      "       'Industry_Utilities - Diversified',\n",
      "       'Industry_Utilities - Independent Power Producers',\n",
      "       'Industry_Utilities - Regulated Electric',\n",
      "       'Industry_Utilities - Regulated Gas', 'Industry_Utilities - Renewable',\n",
      "       'Industry_Waste Management', 'Industry_Utilities - Regulated Water',\n",
      "       'Industry_Insurance - Reinsurance', 'Industry_Beverages - Brewers',\n",
      "       'Industry_Other'],\n",
      "      dtype='object', length=145)\n"
     ]
    }
   ],
   "source": [
    "print(stock_data_vae.columns)"
   ]
  },
  {
   "cell_type": "markdown",
   "metadata": {},
   "source": [
    "### Check for any NA's"
   ]
  },
  {
   "cell_type": "code",
   "execution_count": 20,
   "metadata": {},
   "outputs": [
    {
     "name": "stdout",
     "output_type": "stream",
     "text": [
      "0\n",
      "[]\n",
      "Series([], dtype: float64)\n"
     ]
    }
   ],
   "source": [
    "# Check if any columns have nas\n",
    "print(stock_data_vae.isna().sum().sum())\n",
    "\n",
    "# Produce a list of columns with nas, and the amount for each \n",
    "print(stock_data_vae.columns[stock_data_vae.isna().any()].tolist())\n",
    "\n",
    "# Calculate the proportion of nas in the stock_data_vae dataframe for each column with nas \n",
    "# only for the columns with nas\n",
    "nas_proportion = stock_data_vae.isna().mean()\n",
    "print(nas_proportion[stock_data_vae.columns[stock_data_vae.isna().any()].tolist()])"
   ]
  },
  {
   "cell_type": "markdown",
   "metadata": {},
   "source": [
    "## Fitting the $\\beta$-VAE"
   ]
  },
  {
   "cell_type": "markdown",
   "metadata": {},
   "source": [
    "### Data Preparation"
   ]
  },
  {
   "cell_type": "code",
   "execution_count": 21,
   "metadata": {},
   "outputs": [
    {
     "data": {
      "text/plain": [
       "torch.Size([64, 145])"
      ]
     },
     "execution_count": 21,
     "metadata": {},
     "output_type": "execute_result"
    }
   ],
   "source": [
    "# Normalize the stock data\n",
    "scaler = StandardScaler()\n",
    "normalized_data = scaler.fit_transform(stock_data_vae)\n",
    "\n",
    "# Convert the normalized data to PyTorch tensors\n",
    "tensor_data = torch.tensor(normalized_data, dtype=torch.float32)\n",
    "\n",
    "# Create data loaders\n",
    "train_loader, val_loader, test_loader = create_data_loaders(tensor_data)\n",
    "\n",
    "# Check the DataLoader output\n",
    "next(iter(train_loader))[0].shape  # Shape of one batch of data"
   ]
  },
  {
   "cell_type": "markdown",
   "metadata": {},
   "source": [
    "### Hyperparameter Tunning"
   ]
  },
  {
   "cell_type": "code",
   "execution_count": null,
   "metadata": {},
   "outputs": [
    {
     "name": "stderr",
     "output_type": "stream",
     "text": [
      "[I 2024-11-25 23:33:18,344] A new study created in memory with name: no-name-f42482c7-75c8-4bf7-a762-f7c26d2aa53f\n"
     ]
    },
    {
     "name": "stdout",
     "output_type": "stream",
     "text": [
      "Best parameters file not found. Running Optuna study...\n"
     ]
    },
    {
     "name": "stderr",
     "output_type": "stream",
     "text": [
      "[I 2024-11-25 23:33:21,262] Trial 0 finished with value: 150.97348303297545 and parameters: {'latent_dim': 20, 'beta': 7.996776749429596, 'learning_rate': 0.00027594657756387114, 'batch_size': 128}. Best is trial 0 with value: 150.97348303297545.\n",
      "[I 2024-11-25 23:33:22,007] Trial 1 finished with value: 144.67904176302483 and parameters: {'latent_dim': 5, 'beta': 1.3834137677617064, 'learning_rate': 0.0029634789777128814, 'batch_size': 64}. Best is trial 1 with value: 144.67904176302483.\n",
      "[I 2024-11-25 23:33:22,437] Trial 2 finished with value: 163.09858488305215 and parameters: {'latent_dim': 5, 'beta': 2.6555698545226814, 'learning_rate': 0.00015875085095276524, 'batch_size': 128}. Best is trial 1 with value: 144.67904176302483.\n",
      "[I 2024-11-25 23:33:22,947] Trial 3 finished with value: 144.70736675613497 and parameters: {'latent_dim': 10, 'beta': 4.692245042942387, 'learning_rate': 0.0008596908974044987, 'batch_size': 128}. Best is trial 1 with value: 144.67904176302483.\n",
      "[I 2024-11-25 23:33:23,751] Trial 4 finished with value: 144.6806075207295 and parameters: {'latent_dim': 20, 'beta': 7.389708107341845, 'learning_rate': 0.004843501947458342, 'batch_size': 64}. Best is trial 1 with value: 144.67904176302483.\n",
      "[I 2024-11-25 23:33:24,201] Trial 5 finished with value: 152.43254229773774 and parameters: {'latent_dim': 20, 'beta': 1.0011997769236376, 'learning_rate': 0.0002494230733845191, 'batch_size': 128}. Best is trial 1 with value: 144.67904176302483.\n",
      "[I 2024-11-25 23:33:25,420] Trial 6 finished with value: 145.66436468019077 and parameters: {'latent_dim': 10, 'beta': 1.4881344778709145, 'learning_rate': 0.0001364537498984114, 'batch_size': 32}. Best is trial 1 with value: 144.67904176302483.\n",
      "[I 2024-11-25 23:33:25,998] Trial 7 finished with value: 144.70177997986963 and parameters: {'latent_dim': 20, 'beta': 6.224429004969653, 'learning_rate': 0.0016346220120237729, 'batch_size': 128}. Best is trial 1 with value: 144.67904176302483.\n",
      "[I 2024-11-25 23:33:26,600] Trial 8 finished with value: 145.83866798073237 and parameters: {'latent_dim': 5, 'beta': 6.62105207259713, 'learning_rate': 0.00021730956257900446, 'batch_size': 64}. Best is trial 1 with value: 144.67904176302483.\n",
      "[I 2024-11-25 23:33:27,082] Trial 9 finished with value: 161.66839412384968 and parameters: {'latent_dim': 5, 'beta': 3.3103757774772804, 'learning_rate': 0.00016642083772595943, 'batch_size': 128}. Best is trial 1 with value: 144.67904176302483.\n",
      "[I 2024-11-25 23:33:28,110] Trial 10 finished with value: 144.70786739419574 and parameters: {'latent_dim': 5, 'beta': 9.454154914566146, 'learning_rate': 0.008574739570915622, 'batch_size': 64}. Best is trial 1 with value: 144.67904176302483.\n",
      "[I 2024-11-25 23:33:28,906] Trial 11 finished with value: 144.6792683045557 and parameters: {'latent_dim': 20, 'beta': 7.787173892975052, 'learning_rate': 0.005461673990903423, 'batch_size': 64}. Best is trial 1 with value: 144.67904176302483.\n",
      "[I 2024-11-25 23:33:29,740] Trial 12 finished with value: 144.68001888719803 and parameters: {'latent_dim': 20, 'beta': 9.634452980490677, 'learning_rate': 0.0027820786315579478, 'batch_size': 64}. Best is trial 1 with value: 144.67904176302483.\n",
      "[I 2024-11-25 23:33:30,632] Trial 13 finished with value: 144.68440405722777 and parameters: {'latent_dim': 5, 'beta': 4.629372891730358, 'learning_rate': 0.008399682698939188, 'batch_size': 64}. Best is trial 1 with value: 144.67904176302483.\n",
      "[I 2024-11-25 23:33:31,695] Trial 14 finished with value: 144.6768473057659 and parameters: {'latent_dim': 10, 'beta': 8.28863222147212, 'learning_rate': 0.0007826477741263224, 'batch_size': 32}. Best is trial 14 with value: 144.6768473057659.\n",
      "[I 2024-11-25 23:33:32,609] Trial 15 finished with value: 144.68073820336465 and parameters: {'latent_dim': 10, 'beta': 3.260408319185859, 'learning_rate': 0.0006201933553570511, 'batch_size': 32}. Best is trial 14 with value: 144.6768473057659.\n",
      "[I 2024-11-25 23:33:33,551] Trial 16 finished with value: 144.6786714331504 and parameters: {'latent_dim': 10, 'beta': 8.723731188615364, 'learning_rate': 0.0016943356549380135, 'batch_size': 32}. Best is trial 14 with value: 144.6768473057659.\n",
      "[I 2024-11-25 23:33:34,566] Trial 17 finished with value: 144.6758638159629 and parameters: {'latent_dim': 10, 'beta': 8.36447787859386, 'learning_rate': 0.000474833575228678, 'batch_size': 32}. Best is trial 17 with value: 144.6758638159629.\n",
      "[I 2024-11-25 23:33:35,670] Trial 18 finished with value: 144.64657574050997 and parameters: {'latent_dim': 10, 'beta': 8.68903365452902, 'learning_rate': 0.000505931002092486, 'batch_size': 32}. Best is trial 18 with value: 144.64657574050997.\n",
      "[I 2024-11-25 23:33:36,625] Trial 19 finished with value: 144.68927601071223 and parameters: {'latent_dim': 10, 'beta': 9.910132515638502, 'learning_rate': 0.0004635474233494644, 'batch_size': 32}. Best is trial 18 with value: 144.64657574050997.\n",
      "[I 2024-11-25 23:33:37,581] Trial 20 finished with value: 144.72144116360718 and parameters: {'latent_dim': 10, 'beta': 6.855299668063913, 'learning_rate': 0.0004343608193533946, 'batch_size': 32}. Best is trial 18 with value: 144.64657574050997.\n",
      "[I 2024-11-25 23:33:38,477] Trial 21 finished with value: 144.67403032735814 and parameters: {'latent_dim': 10, 'beta': 8.341350053618806, 'learning_rate': 0.0009568529883446304, 'batch_size': 32}. Best is trial 18 with value: 144.64657574050997.\n",
      "[I 2024-11-25 23:33:39,393] Trial 22 finished with value: 144.67823098773604 and parameters: {'latent_dim': 10, 'beta': 8.903920161164955, 'learning_rate': 0.0014593050002174885, 'batch_size': 32}. Best is trial 18 with value: 144.64657574050997.\n",
      "[I 2024-11-25 23:33:40,319] Trial 23 finished with value: 144.74828820725892 and parameters: {'latent_dim': 10, 'beta': 5.714762138589916, 'learning_rate': 0.0003843415829971175, 'batch_size': 32}. Best is trial 18 with value: 144.64657574050997.\n",
      "[I 2024-11-25 23:33:41,193] Trial 24 finished with value: 144.6777302560631 and parameters: {'latent_dim': 10, 'beta': 8.88727470079176, 'learning_rate': 0.0011642046230128085, 'batch_size': 32}. Best is trial 18 with value: 144.64657574050997.\n",
      "[I 2024-11-25 23:33:42,453] Trial 25 finished with value: 144.66522141907112 and parameters: {'latent_dim': 10, 'beta': 7.820953748559842, 'learning_rate': 0.0006654640384682184, 'batch_size': 32}. Best is trial 18 with value: 144.64657574050997.\n",
      "[I 2024-11-25 23:33:43,368] Trial 26 finished with value: 144.67686359428922 and parameters: {'latent_dim': 10, 'beta': 6.9545608390569384, 'learning_rate': 0.0007075265674051424, 'batch_size': 32}. Best is trial 18 with value: 144.64657574050997.\n",
      "[I 2024-11-25 23:33:45,050] Trial 27 finished with value: 144.67625736166363 and parameters: {'latent_dim': 10, 'beta': 7.544886497676409, 'learning_rate': 0.0010808135245471786, 'batch_size': 32}. Best is trial 18 with value: 144.64657574050997.\n",
      "[I 2024-11-25 23:33:46,231] Trial 28 finished with value: 144.67820056377013 and parameters: {'latent_dim': 10, 'beta': 9.251974429198013, 'learning_rate': 0.002301737160699868, 'batch_size': 32}. Best is trial 18 with value: 144.64657574050997.\n",
      "[I 2024-11-25 23:33:47,103] Trial 29 finished with value: 144.72958654860045 and parameters: {'latent_dim': 10, 'beta': 8.052596660771469, 'learning_rate': 0.0003068846011493357, 'batch_size': 32}. Best is trial 18 with value: 144.64657574050997.\n",
      "[I 2024-11-25 23:33:48,175] Trial 30 finished with value: 144.6836628358057 and parameters: {'latent_dim': 10, 'beta': 5.234321873141202, 'learning_rate': 0.0005808249634374278, 'batch_size': 32}. Best is trial 18 with value: 144.64657574050997.\n",
      "[I 2024-11-25 23:33:49,471] Trial 31 finished with value: 144.72125618589436 and parameters: {'latent_dim': 10, 'beta': 8.370984929577663, 'learning_rate': 0.00031235745494878587, 'batch_size': 32}. Best is trial 18 with value: 144.64657574050997.\n",
      "[I 2024-11-25 23:33:51,112] Trial 32 finished with value: 144.69205516979008 and parameters: {'latent_dim': 10, 'beta': 7.3295856692793055, 'learning_rate': 0.0004994338334214318, 'batch_size': 32}. Best is trial 18 with value: 144.64657574050997.\n",
      "[I 2024-11-25 23:33:52,440] Trial 33 finished with value: 144.67339844498898 and parameters: {'latent_dim': 10, 'beta': 8.284498936550701, 'learning_rate': 0.0010796920817728636, 'batch_size': 32}. Best is trial 18 with value: 144.64657574050997.\n",
      "[I 2024-11-25 23:33:53,543] Trial 34 finished with value: 144.675768331516 and parameters: {'latent_dim': 10, 'beta': 6.220712947620438, 'learning_rate': 0.0011378869018369873, 'batch_size': 32}. Best is trial 18 with value: 144.64657574050997.\n",
      "[I 2024-11-25 23:33:54,967] Trial 35 finished with value: 144.6756455123059 and parameters: {'latent_dim': 10, 'beta': 9.1173128735831, 'learning_rate': 0.00092452418982589, 'batch_size': 32}. Best is trial 18 with value: 144.64657574050997.\n",
      "[I 2024-11-25 23:33:55,425] Trial 36 finished with value: 144.69322157783742 and parameters: {'latent_dim': 10, 'beta': 7.813841609027716, 'learning_rate': 0.0019966870578804574, 'batch_size': 128}. Best is trial 18 with value: 144.64657574050997.\n",
      "[I 2024-11-25 23:33:57,049] Trial 37 finished with value: 144.67179037456864 and parameters: {'latent_dim': 10, 'beta': 8.582392060608987, 'learning_rate': 0.0007658507607732812, 'batch_size': 32}. Best is trial 18 with value: 144.64657574050997.\n",
      "[I 2024-11-25 23:33:58,517] Trial 38 finished with value: 144.66507276289303 and parameters: {'latent_dim': 20, 'beta': 9.795970991281683, 'learning_rate': 0.0006775744381238554, 'batch_size': 32}. Best is trial 18 with value: 144.64657574050997.\n",
      "[I 2024-11-25 23:33:59,001] Trial 39 finished with value: 171.00177638516104 and parameters: {'latent_dim': 20, 'beta': 9.868032385743717, 'learning_rate': 0.00010683606661701454, 'batch_size': 128}. Best is trial 18 with value: 144.64657574050997.\n",
      "[I 2024-11-25 23:34:00,446] Trial 40 finished with value: 144.69787485321606 and parameters: {'latent_dim': 20, 'beta': 9.545611643759019, 'learning_rate': 0.0003499346568273133, 'batch_size': 32}. Best is trial 18 with value: 144.64657574050997.\n",
      "[I 2024-11-25 23:34:01,677] Trial 41 finished with value: 144.6758799172618 and parameters: {'latent_dim': 20, 'beta': 8.688328030181522, 'learning_rate': 0.0006834215349927741, 'batch_size': 32}. Best is trial 18 with value: 144.64657574050997.\n",
      "[I 2024-11-25 23:34:03,591] Trial 42 finished with value: 144.67801933054542 and parameters: {'latent_dim': 20, 'beta': 7.186821298758998, 'learning_rate': 0.0014037012182988493, 'batch_size': 32}. Best is trial 18 with value: 144.64657574050997.\n",
      "[I 2024-11-25 23:34:04,497] Trial 43 finished with value: 144.90910554663535 and parameters: {'latent_dim': 5, 'beta': 9.248730553985599, 'learning_rate': 0.00022421860961656734, 'batch_size': 32}. Best is trial 18 with value: 144.64657574050997.\n",
      "[I 2024-11-25 23:34:05,537] Trial 44 finished with value: 144.67563708720763 and parameters: {'latent_dim': 20, 'beta': 7.9204440068450745, 'learning_rate': 0.000540815922623764, 'batch_size': 32}. Best is trial 18 with value: 144.64657574050997.\n",
      "[I 2024-11-25 23:34:06,086] Trial 45 finished with value: 144.711755296204 and parameters: {'latent_dim': 20, 'beta': 6.376007141458004, 'learning_rate': 0.0008058704398907479, 'batch_size': 128}. Best is trial 18 with value: 144.64657574050997.\n",
      "[I 2024-11-25 23:34:06,673] Trial 46 finished with value: 144.6969520241205 and parameters: {'latent_dim': 5, 'beta': 8.601952728435336, 'learning_rate': 0.0006295930977998884, 'batch_size': 64}. Best is trial 18 with value: 144.64657574050997.\n",
      "[I 2024-11-25 23:34:07,842] Trial 47 finished with value: 144.67898316178585 and parameters: {'latent_dim': 10, 'beta': 9.978707524795016, 'learning_rate': 0.004014391851842362, 'batch_size': 32}. Best is trial 18 with value: 144.64657574050997.\n",
      "[I 2024-11-25 23:34:08,712] Trial 48 finished with value: 144.67923909754842 and parameters: {'latent_dim': 20, 'beta': 9.446819901534454, 'learning_rate': 0.0013021110011762853, 'batch_size': 32}. Best is trial 18 with value: 144.64657574050997.\n",
      "[I 2024-11-25 23:34:09,422] Trial 49 finished with value: 144.6772034065855 and parameters: {'latent_dim': 10, 'beta': 7.61306282413014, 'learning_rate': 0.0008201449976093436, 'batch_size': 64}. Best is trial 18 with value: 144.64657574050997.\n"
     ]
    },
    {
     "name": "stdout",
     "output_type": "stream",
     "text": [
      "Best hyperparameters found: {'latent_dim': 10, 'beta': 8.68903365452902, 'learning_rate': 0.000505931002092486, 'batch_size': 32}\n",
      "Best parameters saved to config/best_params.json\n"
     ]
    }
   ],
   "source": [
    "# Define the file path for storing the best parameters\n",
    "best_params_file = \"config/best_params.json\"\n",
    "\n",
    "REWRITE = True \n",
    "if REWRITE:\n",
    "    # Delete previous best_params file\n",
    "    if os.path.exists(best_params_file):\n",
    "        os.remove(best_params_file)\n",
    "\n",
    "# Check if the best_params file exists\n",
    "if os.path.exists(best_params_file):\n",
    "    # Load the best parameters from the file\n",
    "    with open(best_params_file, \"r\") as f:\n",
    "        best_params = json.load(f)\n",
    "    print(\"Loaded best parameters from file:\", best_params)\n",
    "    \n",
    "else:\n",
    "    # Delete previous best_params file if exists\n",
    "    if os.path.exists(best_params_file):\n",
    "        os.remove(best_params_file)\n",
    "\n",
    "    # File doesn't exist, run the Optuna study\n",
    "    print(\"Best parameters file not found. Running Optuna study...\")\n",
    "    \n",
    "    # Assuming `normalized_data` is the prepared dataset\n",
    "    study = optuna.create_study(direction='minimize')\n",
    "    study.optimize(lambda trial: objective(trial, normalized_data, verbose=False), n_trials=50)\n",
    "\n",
    "    # Get the best hyperparameters\n",
    "    best_params = study.best_params\n",
    "    print(\"Best hyperparameters found:\", best_params)\n",
    "\n",
    "    # Save the best parameters to a JSON file\n",
    "    os.makedirs(os.path.dirname(best_params_file), exist_ok=True)  # Create directory if it doesn't exist\n",
    "    with open(best_params_file, \"w\") as f:\n",
    "        json.dump(best_params, f, indent=4)\n",
    "    print(f\"Best parameters saved to {best_params_file}\")"
   ]
  },
  {
   "cell_type": "markdown",
   "metadata": {},
   "source": [
    "### Model Training"
   ]
  },
  {
   "cell_type": "code",
   "execution_count": 23,
   "metadata": {},
   "outputs": [
    {
     "name": "stdout",
     "output_type": "stream",
     "text": [
      "Model not found at models/beta_vae_with_metadata.pth. Training a new model...\n",
      "Epoch [1/50], Training Loss: 174.8171\n",
      "Epoch [1/50], Validation Loss: 136.8833\n",
      "Epoch [2/50], Training Loss: 154.6256\n",
      "Epoch [2/50], Validation Loss: 120.9941\n",
      "Epoch [3/50], Training Loss: 146.2560\n",
      "Epoch [3/50], Validation Loss: 118.3806\n",
      "Epoch [4/50], Training Loss: 144.9080\n",
      "Epoch [4/50], Validation Loss: 117.9598\n",
      "Epoch [5/50], Training Loss: 144.7772\n",
      "Epoch [5/50], Validation Loss: 117.9410\n",
      "Epoch [6/50], Training Loss: 144.7035\n",
      "Epoch [6/50], Validation Loss: 117.8843\n",
      "Epoch [7/50], Training Loss: 144.7103\n",
      "Epoch [7/50], Validation Loss: 117.8835\n",
      "Epoch [8/50], Training Loss: 144.6872\n",
      "Epoch [8/50], Validation Loss: 117.8189\n",
      "Epoch [9/50], Training Loss: 144.6143\n",
      "Epoch [9/50], Validation Loss: 117.9039\n",
      "Epoch [10/50], Training Loss: 144.6453\n",
      "Epoch [10/50], Validation Loss: 117.8729\n",
      "Epoch [11/50], Training Loss: 144.6167\n",
      "Epoch [11/50], Validation Loss: 117.9328\n",
      "Epoch [12/50], Training Loss: 144.6262\n",
      "Epoch [12/50], Validation Loss: 117.8840\n",
      "Epoch [13/50], Training Loss: 144.6163\n",
      "Epoch [13/50], Validation Loss: 117.9612\n",
      "Epoch [14/50], Training Loss: 144.6215\n",
      "Epoch [14/50], Validation Loss: 117.9490\n",
      "Epoch [15/50], Training Loss: 144.5559\n",
      "Epoch [15/50], Validation Loss: 117.9471\n",
      "Epoch [16/50], Training Loss: 144.5740\n",
      "Epoch [16/50], Validation Loss: 118.0394\n",
      "Epoch [17/50], Training Loss: 144.5458\n",
      "Epoch [17/50], Validation Loss: 118.0502\n",
      "Epoch [18/50], Training Loss: 144.5321\n",
      "Epoch [18/50], Validation Loss: 117.9890\n",
      "Epoch [19/50], Training Loss: 144.4989\n",
      "Epoch [19/50], Validation Loss: 117.9951\n",
      "Epoch [20/50], Training Loss: 144.4643\n",
      "Epoch [20/50], Validation Loss: 117.9546\n",
      "Epoch [21/50], Training Loss: 144.3924\n",
      "Epoch [21/50], Validation Loss: 117.9926\n",
      "Epoch [22/50], Training Loss: 144.2972\n",
      "Epoch [22/50], Validation Loss: 117.9061\n",
      "Epoch [23/50], Training Loss: 144.2724\n",
      "Epoch [23/50], Validation Loss: 118.0422\n",
      "Epoch [24/50], Training Loss: 144.0764\n",
      "Epoch [24/50], Validation Loss: 118.0872\n",
      "Epoch [25/50], Training Loss: 143.8295\n",
      "Epoch [25/50], Validation Loss: 117.7482\n",
      "Epoch [26/50], Training Loss: 143.5809\n",
      "Epoch [26/50], Validation Loss: 117.9858\n",
      "Epoch [27/50], Training Loss: 143.3993\n",
      "Epoch [27/50], Validation Loss: 117.9805\n",
      "Epoch [28/50], Training Loss: 143.3175\n",
      "Epoch [28/50], Validation Loss: 118.0845\n",
      "Epoch [29/50], Training Loss: 143.1202\n",
      "Epoch [29/50], Validation Loss: 117.6257\n",
      "Epoch [30/50], Training Loss: 143.1762\n",
      "Epoch [30/50], Validation Loss: 118.0371\n",
      "Epoch [31/50], Training Loss: 143.0530\n",
      "Epoch [31/50], Validation Loss: 117.8500\n",
      "Epoch [32/50], Training Loss: 142.9487\n",
      "Epoch [32/50], Validation Loss: 117.7007\n",
      "Epoch [33/50], Training Loss: 143.0859\n",
      "Epoch [33/50], Validation Loss: 117.5450\n",
      "Epoch [34/50], Training Loss: 142.8807\n",
      "Epoch [34/50], Validation Loss: 117.9177\n",
      "Epoch [35/50], Training Loss: 142.9552\n",
      "Epoch [35/50], Validation Loss: 117.6010\n",
      "Epoch [36/50], Training Loss: 142.8537\n",
      "Epoch [36/50], Validation Loss: 117.7689\n",
      "Epoch [37/50], Training Loss: 142.8191\n",
      "Epoch [37/50], Validation Loss: 117.7403\n",
      "Epoch [38/50], Training Loss: 142.8561\n",
      "Epoch [38/50], Validation Loss: 117.5695\n",
      "Epoch [39/50], Training Loss: 142.6844\n",
      "Epoch [39/50], Validation Loss: 117.5717\n",
      "Epoch [40/50], Training Loss: 142.8400\n",
      "Epoch [40/50], Validation Loss: 117.5436\n",
      "Epoch [41/50], Training Loss: 142.7696\n",
      "Epoch [41/50], Validation Loss: 117.4275\n",
      "Epoch [42/50], Training Loss: 142.7240\n",
      "Epoch [42/50], Validation Loss: 117.6949\n",
      "Epoch [43/50], Training Loss: 142.5158\n",
      "Epoch [43/50], Validation Loss: 117.6697\n",
      "Epoch [44/50], Training Loss: 142.9819\n",
      "Epoch [44/50], Validation Loss: 117.5340\n",
      "Epoch [45/50], Training Loss: 142.7196\n",
      "Epoch [45/50], Validation Loss: 117.6641\n",
      "Epoch [46/50], Training Loss: 142.9155\n",
      "Epoch [46/50], Validation Loss: 117.6839\n",
      "Epoch [47/50], Training Loss: 142.7921\n",
      "Epoch [47/50], Validation Loss: 118.0741\n",
      "Epoch [48/50], Training Loss: 142.7769\n",
      "Epoch [48/50], Validation Loss: 117.6186\n",
      "Epoch [49/50], Training Loss: 142.5196\n",
      "Epoch [49/50], Validation Loss: 117.4922\n",
      "Epoch [50/50], Training Loss: 142.6523\n",
      "Epoch [50/50], Validation Loss: 117.5420\n",
      "Model trained and saved to models/beta_vae_with_metadata.pth.\n"
     ]
    }
   ],
   "source": [
    "\n",
    "# File path for the saved model\n",
    "model_path = \"models/beta_vae_with_metadata.pth\"\n",
    "\n",
    "RETRAIN = True\n",
    "if RETRAIN:\n",
    "    # Delete previous model file\n",
    "    if os.path.exists(model_path):\n",
    "        os.remove(model_path)\n",
    "\n",
    "# Check if the model file exists\n",
    "if os.path.exists(model_path):\n",
    "    print(f\"Model found at {model_path}. Loading the model...\")\n",
    "\n",
    "    # Load model state and metadata\n",
    "    model_metadata = torch.load(model_path)\n",
    "\n",
    "    # Recreate the model using the saved metadata\n",
    "    beta_vae = BetaVAE(\n",
    "        input_dim=model_metadata[\"input_dim\"],\n",
    "        latent_dim=model_metadata[\"latent_dim\"],\n",
    "        beta=model_metadata[\"beta\"]\n",
    "    )\n",
    "    beta_vae.load_state_dict(model_metadata[\"model_state\"])\n",
    "    beta_vae.eval()  # Set the model to evaluation mode\n",
    "    print(\"Model loaded successfully.\")\n",
    "else:\n",
    "    print(f\"Model not found at {model_path}. Training a new model...\")\n",
    "\n",
    "    # Assuming you use the best hyperparameters from Optuna\n",
    "    latent_dim = best_params['latent_dim']\n",
    "    beta = best_params['beta']\n",
    "    learning_rate = best_params['learning_rate']\n",
    "    batch_size = best_params['batch_size']\n",
    "    input_dim = stock_data_vae.shape[1]\n",
    "\n",
    "    # Recreate DataLoaders with the best batch size\n",
    "    train_loader, val_loader, test_loader = create_data_loaders(tensor_data, batch_size=batch_size)\n",
    "\n",
    "    # Initialize and train the model\n",
    "    beta_vae = BetaVAE(input_dim=input_dim, latent_dim=latent_dim, beta=beta)\n",
    "    train_beta_vae(beta_vae, train_loader, val_loader, num_epochs=50, learning_rate=learning_rate)\n",
    "\n",
    "    # Save the trained model with metadata\n",
    "    os.makedirs(os.path.dirname(model_path), exist_ok=True)  # Ensure the directory exists\n",
    "    model_metadata = {\n",
    "        \"model_state\": beta_vae.state_dict(),\n",
    "        \"input_dim\": input_dim,\n",
    "        \"latent_dim\": latent_dim,\n",
    "        \"beta\": beta\n",
    "    }\n",
    "    torch.save(model_metadata, model_path)\n",
    "    print(f\"Model trained and saved to {model_path}.\")"
   ]
  },
  {
   "cell_type": "markdown",
   "metadata": {},
   "source": [
    "### Extract Embeddings for Train/Val/Test Data "
   ]
  },
  {
   "cell_type": "code",
   "execution_count": 24,
   "metadata": {},
   "outputs": [
    {
     "name": "stdout",
     "output_type": "stream",
     "text": [
      "Train Embeddings Shape: torch.Size([326, 10])\n",
      "Val Embeddings Shape: torch.Size([71, 10])\n",
      "Test Embeddings Shape: torch.Size([71, 10])\n",
      "Total number of embeddings: 468\n"
     ]
    }
   ],
   "source": [
    "# Extract embeddings for the training data\n",
    "train_embeddings = get_embeddings(beta_vae, train_loader)\n",
    "\n",
    "# Optionally, extract embeddings for validation and test data\n",
    "val_embeddings = get_embeddings(beta_vae, val_loader)\n",
    "test_embeddings = get_embeddings(beta_vae, test_loader)\n",
    "\n",
    "print(\"Train Embeddings Shape:\", train_embeddings.shape)  # Should be (num_samples, latent_dim)\n",
    "print(\"Val Embeddings Shape:\", val_embeddings.shape)\n",
    "print(\"Test Embeddings Shape:\", test_embeddings.shape)\n",
    "print(\"Total number of embeddings:\", train_embeddings.shape[0] + val_embeddings.shape[0] + test_embeddings.shape[0])"
   ]
  },
  {
   "cell_type": "markdown",
   "metadata": {},
   "source": [
    "### Extract Embeddings from the Stock Data "
   ]
  },
  {
   "cell_type": "code",
   "execution_count": 25,
   "metadata": {},
   "outputs": [
    {
     "name": "stdout",
     "output_type": "stream",
     "text": [
      "Embeddings for the first stock (NWSA):\n",
      "[ 0.03824461 -0.9792747  -0.52883214  0.4581904  -0.1580692  -0.72945344\n",
      "  0.59812665  1.9178993   1.0840108  -0.12574989]\n"
     ]
    }
   ],
   "source": [
    "# Generate embeddings for the stock data\n",
    "stock_embeddings = generate_embeddings_dict(stock_data, scaler, beta_vae, ticker_col=\"Ticker\")\n",
    "\n",
    "# Display the embeddings for the first stock\n",
    "print(f\"Embeddings for the first stock ({stock_data['Ticker'].iloc[0]}):\")\n",
    "print(stock_embeddings[stock_data[\"Ticker\"].iloc[0]])"
   ]
  },
  {
   "cell_type": "markdown",
   "metadata": {},
   "source": [
    "### Building the Recommendation Function "
   ]
  },
  {
   "cell_type": "markdown",
   "metadata": {},
   "source": [
    "#### Building the Portfolio"
   ]
  },
  {
   "cell_type": "code",
   "execution_count": 33,
   "metadata": {},
   "outputs": [
    {
     "name": "stdout",
     "output_type": "stream",
     "text": [
      "Portfolio Summary:\n",
      "Tickers: ['RCL', 'NWSA', 'BKNG', 'KMB', 'NUE', 'ARE', 'NCLH', 'HWM', 'J', 'CB', 'AES', 'TSLA', 'DOW', 'NEM', 'REG', 'ZBRA', 'SLB', 'MSFT', 'KEYS', 'CPRT']\n",
      "Weights: {'RCL': 0.05, 'NWSA': 0.05, 'BKNG': 0.05, 'KMB': 0.05, 'NUE': 0.05, 'ARE': 0.05, 'NCLH': 0.05, 'HWM': 0.05, 'J': 0.05, 'CB': 0.05, 'AES': 0.05, 'TSLA': 0.05, 'DOW': 0.05, 'NEM': 0.05, 'REG': 0.05, 'ZBRA': 0.05, 'SLB': 0.05, 'MSFT': 0.05, 'KEYS': 0.05, 'CPRT': 0.05}\n",
      "Portfolio Expected Return: 0.005355784213101369\n",
      "Portfolio Volatility: 0.02150649497359686\n",
      "Portfolio Diversification Ratio: 1.9020908162427532\n",
      "Portfolio Sharpe Ratio: 0.24903101224428106\n"
     ]
    },
    {
     "data": {
      "image/png": "[encoded data removed]",
      "text/plain": [
       "<Figure size 1000x600 with 1 Axes>"
      ]
     },
     "metadata": {},
     "output_type": "display_data"
    }
   ],
   "source": [
    "# Choose some 20 keys at random \n",
    "random_tickers = np.random.choice(list(all_returns.keys()), 20, replace=False)\n",
    "\n",
    "# Create a dictionary of returns with only the random tickers\n",
    "random_returns = {ticker: all_returns[ticker] for ticker in random_tickers}\n",
    "\n",
    "# Use this dictionary to initialize a Portfolio object\n",
    "random_portfolio = Portfolio(returns_dict=random_returns, frequency=\"weekly\")\n",
    "\n",
    "# Obtain a summary of the portfolio \n",
    "random_portfolio.summarize_portfolio()\n",
    "\n",
    "# Visualize portfolio distribution \n",
    "random_portfolio.visualize_portfolio_distribution(kind=\"pie\", figsize=(10, 6))\n"
   ]
  },
  {
   "cell_type": "markdown",
   "metadata": {},
   "source": [
    "#### Optimizing the Portfolio "
   ]
  },
  {
   "cell_type": "code",
   "execution_count": 34,
   "metadata": {},
   "outputs": [
    {
     "name": "stdout",
     "output_type": "stream",
     "text": [
      "\n",
      "--- Portfolio Summary After Optimization ---\n",
      "Portfolio Summary:\n",
      "Tickers: ['RCL', 'NWSA', 'BKNG', 'KMB', 'NUE', 'ARE', 'NCLH', 'HWM', 'J', 'CB', 'AES', 'TSLA', 'DOW', 'NEM', 'REG', 'ZBRA', 'SLB', 'MSFT', 'KEYS', 'CPRT']\n",
      "Weights: {'RCL': 3.9553113521235054e-16, 'NWSA': 1.734780861183656e-17, 'BKNG': 0.0, 'KMB': 0.15723878016130413, 'NUE': 1.2817883982517477e-16, 'ARE': 2.074191589324455e-16, 'NCLH': 0.05299872950879556, 'HWM': 0.026531600153022444, 'J': 0.04881442431250017, 'CB': 0.21608916318602714, 'AES': 0.0, 'TSLA': 0.05154474979504348, 'DOW': 0.16037846672946665, 'NEM': 1.3702780783468108e-15, 'REG': 0.114235587828039, 'ZBRA': 2.6767502735458197e-16, 'SLB': 0.013983422391556175, 'MSFT': 0.158185075934242, 'KEYS': 7.286628295305205e-16, 'CPRT': 8.292207500891734e-16}\n",
      "Portfolio Expected Return: 0.004069315317038763\n",
      "Portfolio Volatility: 0.012680040060826903\n",
      "Portfolio Diversification Ratio: 2.4511613602162083\n",
      "Portfolio Sharpe Ratio: 0.3209229069875187\n"
     ]
    },
    {
     "data": {
      "image/png": "[encoded data removed]",
      "text/plain": [
       "<Figure size 1000x600 with 1 Axes>"
      ]
     },
     "metadata": {},
     "output_type": "display_data"
    }
   ],
   "source": [
    "# Optimize portfolio weights \n",
    "random_portfolio.optimize_weights(method=\"max_div\", update_weights=True)\n",
    "\n",
    "# Summarize the portfolio after optimization\n",
    "print(\"\\n--- Portfolio Summary After Optimization ---\")\n",
    "random_portfolio.summarize_portfolio()\n",
    "\n",
    "# Visualize the portfolio distribution after optimization\n",
    "random_portfolio.visualize_portfolio_distribution(kind=\"pie\", figsize=(10, 6))"
   ]
  },
  {
   "cell_type": "markdown",
   "metadata": {},
   "source": [
    "#### Extracting Portfolio Embeddings"
   ]
  },
  {
   "cell_type": "code",
   "execution_count": 28,
   "metadata": {},
   "outputs": [
    {
     "name": "stdout",
     "output_type": "stream",
     "text": [
      "Initial Diversification Ratio: 2.394842386743698\n"
     ]
    },
    {
     "name": "stderr",
     "output_type": "stream",
     "text": [
      "Diversification Iterations:   6%|▋         | 13/200 [00:00<00:01, 121.78it/s]"
     ]
    },
    {
     "name": "stdout",
     "output_type": "stream",
     "text": [
      "Accepted Swap: SWK -> MELI\n",
      "New Diversification Ratio: 2.413636890768311\n",
      "Accepted Swap: NFLX -> AKAM\n",
      "New Diversification Ratio: 2.4231310721126986\n",
      "Accepted Swap: FAST -> EQT\n",
      "New Diversification Ratio: 2.427955772738781\n",
      "Accepted Swap: TJX -> CI\n",
      "New Diversification Ratio: 2.5332413123194413\n",
      "Accepted Swap: IVZ -> DAL\n",
      "New Diversification Ratio: 2.572694806789458\n",
      "Accepted Swap: AMD -> SJM\n",
      "New Diversification Ratio: 2.6149423860625767\n"
     ]
    },
    {
     "name": "stderr",
     "output_type": "stream",
     "text": [
      "Diversification Iterations:  18%|█▊        | 37/200 [00:00<00:01, 102.85it/s]"
     ]
    },
    {
     "name": "stdout",
     "output_type": "stream",
     "text": [
      "Accepted Swap: OMC -> GILD\n",
      "New Diversification Ratio: 2.6558797933740204\n"
     ]
    },
    {
     "name": "stderr",
     "output_type": "stream",
     "text": [
      "Diversification Iterations: 100%|██████████| 200/200 [00:02<00:00, 71.66it/s]"
     ]
    },
    {
     "name": "stdout",
     "output_type": "stream",
     "text": [
      "\n",
      "Final Diversification Ratio: 2.6558797933740204\n",
      "Diversification History: [2.394842386743698, 2.413636890768311, 2.4231310721126986, 2.427955772738781, 2.5332413123194413, 2.572694806789458, 2.6149423860625767, 2.6558797933740204]\n",
      "Swap Log (Removed -> Added): {'SWK': 'MELI', 'NFLX': 'AKAM', 'FAST': 'EQT', 'TJX': 'CI', 'IVZ': 'DAL', 'AMD': 'SJM', 'OMC': 'GILD'}\n"
     ]
    },
    {
     "name": "stderr",
     "output_type": "stream",
     "text": [
      "\n"
     ]
    }
   ],
   "source": [
    "# Define Optim method for both portfolios \n",
    "optim_method = \"max_div\"\n",
    "\n",
    "# Choose some 20 keys at random \n",
    "random_tickers = np.random.choice(list(all_returns.keys()), 15, replace=False)\n",
    "\n",
    "# Create a dictionary of returns with only the random tickers\n",
    "random_returns = {ticker: all_returns[ticker] for ticker in random_tickers}\n",
    "\n",
    "# Use this dictionary to initialize a Portfolio object\n",
    "random_portfolio = Portfolio(returns_dict=random_returns, frequency=\"weekly\")\n",
    "\n",
    "# Optimize portfolio weights \n",
    "random_portfolio.optimize_weights(method=optim_method, update_weights=True)\n",
    "\n",
    "# Generate embeddings for the stock data (full universe of data)\n",
    "stock_embeddings = generate_embeddings_dict(stock_data, scaler, beta_vae, ticker_col=\"Ticker\")\n",
    "\n",
    "# Extract embeddings from Portfolio  \n",
    "random_portfolio_embeddings = {ticker: stock_embeddings[ticker] for ticker in random_portfolio.tickers\n",
    "                               if ticker in stock_embeddings.keys()}\n",
    "\n",
    "# Check that number of extracted embeddings == number of portfolio tickers\n",
    "assert len(random_portfolio_embeddings) == len(random_portfolio.tickers)\n",
    "\n",
    "# Apply the diversify function to the random portfolio\n",
    "updated_portfolio, diversification_history, swap_log = diversify_betavae_portfolio(\n",
    "    portfolio = random_portfolio,\n",
    "    portfolio_embeddings = random_portfolio_embeddings,\n",
    "    all_returns = all_returns,\n",
    "    all_stock_embeddings = stock_embeddings,\n",
    "    num_iter=200, # number of iterations for the optimization algorithm\n",
    "    top_N=5, # num top most dissimilar assets to consider for swapping\n",
    "    optim_algorithm=optim_method,\n",
    "    distance_type=\"euclidean\"\n",
    ")\n",
    "\n",
    "# Print the final diversification ratio and the swap log\n",
    "print(\"\\nFinal Diversification Ratio:\", updated_portfolio.diversification_ratio)\n",
    "print(\"Diversification History:\", diversification_history)\n",
    "print(\"Swap Log (Removed -> Added):\", swap_log)\n"
   ]
  },
  {
   "cell_type": "code",
   "execution_count": 29,
   "metadata": {},
   "outputs": [
    {
     "name": "stdout",
     "output_type": "stream",
     "text": [
      "\n",
      "--- Original Portfolio ---\n",
      "Portfolio Summary:\n",
      "Tickers: ['LOW', 'NRG', 'OMC', 'ODFL', 'AMD', 'MSCI', 'CE', 'SWK', 'TJX', 'FAST', 'MKC', 'GOOGL', 'IVZ', 'TSLA', 'NFLX']\n",
      "Weights: {'LOW': 0.06963556304741567, 'NRG': 0.07505095733978388, 'OMC': 1.872693892190549e-17, 'ODFL': 0.03431927115541622, 'AMD': 8.81714764098968e-17, 'MSCI': 0.11671647088151088, 'CE': 0.10680207958597047, 'SWK': 1.9625477015800695e-16, 'TJX': 0.017756038086820823, 'FAST': 0.032929569591427364, 'MKC': 0.26476982716385, 'GOOGL': 0.14344228308250556, 'IVZ': 1.3118297839407331e-17, 'TSLA': 0.07517136675275841, 'NFLX': 0.06340657331254083}\n",
      "Portfolio Expected Return: 0.004720662733302652\n",
      "Portfolio Volatility: 0.01722917518599622\n",
      "Portfolio Diversification Ratio: 2.394842301200967\n",
      "Portfolio Sharpe Ratio: 0.27399238108273344\n",
      "\n",
      "--- Updated Portfolio ---\n",
      "Portfolio Summary:\n",
      "Tickers: ['LOW', 'NRG', 'ODFL', 'MSCI', 'CE', 'MKC', 'GOOGL', 'TSLA', 'MELI', 'AKAM', 'EQT', 'CI', 'DAL', 'SJM', 'GILD']\n",
      "Weights: {'LOW': 2.9441213868764626e-16, 'NRG': 0.07100904685411856, 'ODFL': 0.007495568363992263, 'MSCI': 0.04490890473941131, 'CE': 0.03605766488317502, 'MKC': 0.14041933985634403, 'GOOGL': 0.12410405980431616, 'TSLA': 0.06275459943377687, 'MELI': 0.08109361471999404, 'AKAM': 0.05953330053803373, 'EQT': 4.1341721957069327e-19, 'CI': 0.1421239081321762, 'DAL': 0.07046493281996791, 'SJM': 0.07632818598089235, 'GILD': 0.08370687387380132}\n",
      "Portfolio Expected Return: 0.004940640594942522\n",
      "Portfolio Volatility: 0.015429436131535385\n",
      "Portfolio Diversification Ratio: 2.6558799048701425\n",
      "Portfolio Sharpe Ratio: 0.32020875894775025\n"
     ]
    }
   ],
   "source": [
    "print(\"\\n--- Original Portfolio ---\")\n",
    "# Summarize the original random portfolio\n",
    "random_portfolio.summarize_portfolio()\n",
    "\n",
    "print(\"\\n--- Updated Portfolio ---\")\n",
    "\n",
    "# Optimize the updated portfolio weights with max_div \n",
    "updated_portfolio.optimize_weights(method=\"max_div\", update_weights=True)\n",
    "\n",
    "# Summarize the updated portfolio\n",
    "updated_portfolio.summarize_portfolio()"
   ]
  },
  {
   "cell_type": "code",
   "execution_count": null,
   "metadata": {},
   "outputs": [
    {
     "data": {
      "image/png": "[encoded data removed]",
      "text/plain": [
       "<Figure size 1000x600 with 1 Axes>"
      ]
     },
     "metadata": {},
     "output_type": "display_data"
    },
    {
     "data": {
      "image/png": "[encoded data removed]",
      "text/plain": [
       "<Figure size 1000x600 with 1 Axes>"
      ]
     },
     "metadata": {},
     "output_type": "display_data"
    }
   ],
   "source": [
    "random_portfolio.visualize_portfolio_distribution(kind=\"pie\", figsize=(10, 6))\n",
    "updated_portfolio.visualize_portfolio_distribution(kind=\"pie\", figsize=(10, 6))"
   ]
  },
  {
   "cell_type": "markdown",
   "metadata": {},
   "source": [
    "## Implementing the Full Experiment "
   ]
  },
  {
   "cell_type": "code",
   "execution_count": 31,
   "metadata": {},
   "outputs": [
    {
     "name": "stderr",
     "output_type": "stream",
     "text": [
      "Diversification Iterations: 100%|██████████| 200/200 [00:01<00:00, 102.32it/s]\n",
      "Diversification Iterations: 100%|██████████| 200/200 [00:02<00:00, 69.39it/s]\n",
      "Diversification Iterations: 100%|██████████| 200/200 [00:02<00:00, 72.19it/s]\n",
      "Diversification Iterations: 100%|██████████| 200/200 [00:03<00:00, 59.54it/s]\n",
      "Diversification Iterations: 100%|██████████| 200/200 [00:02<00:00, 91.29it/s] \n",
      "Diversification Iterations: 100%|██████████| 200/200 [00:04<00:00, 47.07it/s]\n",
      "Diversification Iterations: 100%|██████████| 200/200 [00:03<00:00, 64.68it/s]\n",
      "Diversification Iterations: 100%|██████████| 200/200 [00:02<00:00, 68.17it/s]\n",
      "Diversification Iterations: 100%|██████████| 200/200 [00:03<00:00, 61.50it/s]\n",
      "Diversification Iterations: 100%|██████████| 200/200 [00:02<00:00, 81.70it/s]\n",
      "Diversification Iterations: 100%|██████████| 200/200 [00:02<00:00, 72.67it/s]\n",
      "Diversification Iterations: 100%|██████████| 200/200 [00:02<00:00, 76.68it/s] \n",
      "Diversification Iterations: 100%|██████████| 200/200 [00:03<00:00, 54.30it/s]\n",
      "Diversification Iterations: 100%|██████████| 200/200 [00:02<00:00, 70.71it/s]\n",
      "Diversification Iterations: 100%|██████████| 200/200 [00:02<00:00, 74.86it/s]\n"
     ]
    }
   ],
   "source": [
    "# Initialize storage for portfolio results\n",
    "portfolio_results = []\n",
    "portfolio_tickers = {}\n",
    "\n",
    "# Define number of iterations for diversification process\n",
    "num_portfolios = 15\n",
    "num_initial_tickers = 15\n",
    "optim_method = \"max_div\"\n",
    "\n",
    "for i in range(1, num_portfolios + 1):\n",
    "    # Step 1: Generate random portfolio\n",
    "    random_tickers = np.random.choice(list(all_returns.keys()), num_initial_tickers, replace=False)\n",
    "    random_returns = {ticker: all_returns[ticker] for ticker in random_tickers}\n",
    "    random_portfolio = Portfolio(returns_dict=random_returns, frequency=\"weekly\")\n",
    "    \n",
    "    # Optimize initial portfolio\n",
    "    random_portfolio.optimize_weights(method=optim_method, update_weights=True)\n",
    "    \n",
    "    # Record initial DR and SR\n",
    "    initial_dr = random_portfolio.diversification_ratio\n",
    "    initial_sr = random_portfolio.sharpe_ratio\n",
    "    \n",
    "    # Step 2: Generate embeddings\n",
    "    random_portfolio_embeddings = {ticker: stock_embeddings[ticker] for ticker in random_portfolio.tickers\n",
    "                                   if ticker in stock_embeddings.keys()}\n",
    "    assert len(random_portfolio_embeddings) == len(random_portfolio.tickers)\n",
    "    \n",
    "    # Step 3: Apply diversification function\n",
    "    updated_portfolio, diversification_history, swap_log = diversify_betavae_portfolio(\n",
    "        portfolio=random_portfolio,\n",
    "        portfolio_embeddings=random_portfolio_embeddings,\n",
    "        all_returns=all_returns,\n",
    "        all_stock_embeddings=stock_embeddings,\n",
    "        num_iter=200,\n",
    "        top_N=5,\n",
    "        optim_algorithm=optim_method,\n",
    "        distance_type=\"euclidean\", \n",
    "        verbose=False\n",
    "    )\n",
    "    \n",
    "    # Optimize the updated portfolio after swaps\n",
    "    updated_portfolio.optimize_weights(method=optim_method, update_weights=True)\n",
    "    \n",
    "    # Record updated DR and SR\n",
    "    final_dr = updated_portfolio.diversification_ratio\n",
    "    final_sr = updated_portfolio.sharpe_ratio\n",
    "    \n",
    "    # Store tickers for the updated portfolio\n",
    "    portfolio_tickers[f\"Portfolio_{i}\"] = updated_portfolio.tickers\n",
    "    \n",
    "    # Save results for the dataframe\n",
    "    portfolio_results.append({\n",
    "        \"Portfolio\": f\"Portfolio_{i}\",\n",
    "        \"Initial_DR\": initial_dr,\n",
    "        \"Final_DR\": final_dr,\n",
    "        \"Initial_SR\": initial_sr,\n",
    "        \"Final_SR\": final_sr, \n",
    "        \"Tickers\": updated_portfolio.tickers\n",
    "    })\n",
    "\n",
    "# Convert results to a DataFrame\n",
    "portfolio_results_df = pd.DataFrame(portfolio_results)\n",
    "\n",
    "# Sort by Final_DR\n",
    "portfolio_results_df = portfolio_results_df.sort_values(by=\"Final_DR\", ascending=False)\n"
   ]
  },
  {
   "cell_type": "code",
   "execution_count": 32,
   "metadata": {},
   "outputs": [
    {
     "data": {
      "text/html": [
       "<div>\n",
       "<style scoped>\n",
       "    .dataframe tbody tr th:only-of-type {\n",
       "        vertical-align: middle;\n",
       "    }\n",
       "\n",
       "    .dataframe tbody tr th {\n",
       "        vertical-align: top;\n",
       "    }\n",
       "\n",
       "    .dataframe thead th {\n",
       "        text-align: right;\n",
       "    }\n",
       "</style>\n",
       "<table border=\"1\" class=\"dataframe\">\n",
       "  <thead>\n",
       "    <tr style=\"text-align: right;\">\n",
       "      <th></th>\n",
       "      <th>Portfolio</th>\n",
       "      <th>Initial_DR</th>\n",
       "      <th>Final_DR</th>\n",
       "      <th>Initial_SR</th>\n",
       "      <th>Final_SR</th>\n",
       "      <th>Tickers</th>\n",
       "    </tr>\n",
       "  </thead>\n",
       "  <tbody>\n",
       "    <tr>\n",
       "      <th>2</th>\n",
       "      <td>Portfolio_3</td>\n",
       "      <td>2.241430</td>\n",
       "      <td>3.427312</td>\n",
       "      <td>0.429601</td>\n",
       "      <td>0.363453</td>\n",
       "      <td>[STT, LHX, ETR, BR, MRNA, UBER, ZM, CDW, XOM, ...</td>\n",
       "    </tr>\n",
       "    <tr>\n",
       "      <th>3</th>\n",
       "      <td>Portfolio_4</td>\n",
       "      <td>2.843845</td>\n",
       "      <td>3.237850</td>\n",
       "      <td>0.358533</td>\n",
       "      <td>0.281618</td>\n",
       "      <td>[TRV, WYNN, GDDY, BAX, LEN, FDS, CLX, SJM, UNH...</td>\n",
       "    </tr>\n",
       "    <tr>\n",
       "      <th>10</th>\n",
       "      <td>Portfolio_11</td>\n",
       "      <td>2.029088</td>\n",
       "      <td>3.232198</td>\n",
       "      <td>0.438754</td>\n",
       "      <td>0.460208</td>\n",
       "      <td>[AJG, PCG, CHTR, MMM, BKNG, UBER, ZM, HPE, MA,...</td>\n",
       "    </tr>\n",
       "    <tr>\n",
       "      <th>5</th>\n",
       "      <td>Portfolio_6</td>\n",
       "      <td>2.960066</td>\n",
       "      <td>3.217680</td>\n",
       "      <td>0.449233</td>\n",
       "      <td>0.339325</td>\n",
       "      <td>[GEN, DELL, SPOT, PARA, UNH, ETSY, VLTO, ROK, ...</td>\n",
       "    </tr>\n",
       "    <tr>\n",
       "      <th>8</th>\n",
       "      <td>Portfolio_9</td>\n",
       "      <td>2.932502</td>\n",
       "      <td>3.210962</td>\n",
       "      <td>0.498110</td>\n",
       "      <td>0.517348</td>\n",
       "      <td>[AVGO, TSN, EXR, HOLX, K, DIS, BIIB, ANET, LOW...</td>\n",
       "    </tr>\n",
       "    <tr>\n",
       "      <th>6</th>\n",
       "      <td>Portfolio_7</td>\n",
       "      <td>2.471137</td>\n",
       "      <td>3.109185</td>\n",
       "      <td>0.193619</td>\n",
       "      <td>0.391285</td>\n",
       "      <td>[TSLA, MOH, CAG, LVS, WST, AIG, SJM, XOM, FITB...</td>\n",
       "    </tr>\n",
       "    <tr>\n",
       "      <th>12</th>\n",
       "      <td>Portfolio_13</td>\n",
       "      <td>3.079215</td>\n",
       "      <td>3.105189</td>\n",
       "      <td>0.328046</td>\n",
       "      <td>0.326887</td>\n",
       "      <td>[AKAM, DIS, CE, HSY, ALB, MU, NFLX, NCLH, COST...</td>\n",
       "    </tr>\n",
       "    <tr>\n",
       "      <th>13</th>\n",
       "      <td>Portfolio_14</td>\n",
       "      <td>2.856674</td>\n",
       "      <td>2.924265</td>\n",
       "      <td>0.328322</td>\n",
       "      <td>0.284287</td>\n",
       "      <td>[ZTS, PARA, STLD, ON, ADBE, GEN, SNOW, ES, T, ...</td>\n",
       "    </tr>\n",
       "    <tr>\n",
       "      <th>9</th>\n",
       "      <td>Portfolio_10</td>\n",
       "      <td>2.803151</td>\n",
       "      <td>2.903365</td>\n",
       "      <td>0.414807</td>\n",
       "      <td>0.382708</td>\n",
       "      <td>[HUBB, HBAN, SO, CCL, NWS, LRCX, DUK, UNH, AIG...</td>\n",
       "    </tr>\n",
       "    <tr>\n",
       "      <th>1</th>\n",
       "      <td>Portfolio_2</td>\n",
       "      <td>2.274073</td>\n",
       "      <td>2.898467</td>\n",
       "      <td>0.419743</td>\n",
       "      <td>0.539998</td>\n",
       "      <td>[FAST, YUM, ABBV, PEG, SBAC, EXPE, AIG, TYL, C...</td>\n",
       "    </tr>\n",
       "    <tr>\n",
       "      <th>11</th>\n",
       "      <td>Portfolio_12</td>\n",
       "      <td>2.296255</td>\n",
       "      <td>2.836176</td>\n",
       "      <td>0.380410</td>\n",
       "      <td>0.490407</td>\n",
       "      <td>[MS, CME, SRE, APD, ROK, SJM, NWS, AIG, BKNG, ...</td>\n",
       "    </tr>\n",
       "    <tr>\n",
       "      <th>14</th>\n",
       "      <td>Portfolio_15</td>\n",
       "      <td>2.729832</td>\n",
       "      <td>2.729832</td>\n",
       "      <td>0.363316</td>\n",
       "      <td>0.363302</td>\n",
       "      <td>[RMD, FOX, PH, VTRS, PG, NVO, SRE, JBL, AFL, M...</td>\n",
       "    </tr>\n",
       "    <tr>\n",
       "      <th>4</th>\n",
       "      <td>Portfolio_5</td>\n",
       "      <td>2.556377</td>\n",
       "      <td>2.594252</td>\n",
       "      <td>0.524032</td>\n",
       "      <td>0.481833</td>\n",
       "      <td>[HUBB, BR, ACGL, LRCX, FDX, FOXA, RL, DAL, GDD...</td>\n",
       "    </tr>\n",
       "    <tr>\n",
       "      <th>0</th>\n",
       "      <td>Portfolio_1</td>\n",
       "      <td>2.228764</td>\n",
       "      <td>2.579703</td>\n",
       "      <td>0.440131</td>\n",
       "      <td>0.437223</td>\n",
       "      <td>[PPG, WELL, SYY, AMZN, COF, HPE, TXT, MRK, AIG...</td>\n",
       "    </tr>\n",
       "    <tr>\n",
       "      <th>7</th>\n",
       "      <td>Portfolio_8</td>\n",
       "      <td>2.341422</td>\n",
       "      <td>2.447196</td>\n",
       "      <td>0.240565</td>\n",
       "      <td>0.261335</td>\n",
       "      <td>[BBY, MPC, UNP, MCD, ALL, MAA, PEP, CB, OXY, T...</td>\n",
       "    </tr>\n",
       "  </tbody>\n",
       "</table>\n",
       "</div>"
      ],
      "text/plain": [
       "       Portfolio  Initial_DR  Final_DR  Initial_SR  Final_SR  \\\n",
       "2    Portfolio_3    2.241430  3.427312    0.429601  0.363453   \n",
       "3    Portfolio_4    2.843845  3.237850    0.358533  0.281618   \n",
       "10  Portfolio_11    2.029088  3.232198    0.438754  0.460208   \n",
       "5    Portfolio_6    2.960066  3.217680    0.449233  0.339325   \n",
       "8    Portfolio_9    2.932502  3.210962    0.498110  0.517348   \n",
       "6    Portfolio_7    2.471137  3.109185    0.193619  0.391285   \n",
       "12  Portfolio_13    3.079215  3.105189    0.328046  0.326887   \n",
       "13  Portfolio_14    2.856674  2.924265    0.328322  0.284287   \n",
       "9   Portfolio_10    2.803151  2.903365    0.414807  0.382708   \n",
       "1    Portfolio_2    2.274073  2.898467    0.419743  0.539998   \n",
       "11  Portfolio_12    2.296255  2.836176    0.380410  0.490407   \n",
       "14  Portfolio_15    2.729832  2.729832    0.363316  0.363302   \n",
       "4    Portfolio_5    2.556377  2.594252    0.524032  0.481833   \n",
       "0    Portfolio_1    2.228764  2.579703    0.440131  0.437223   \n",
       "7    Portfolio_8    2.341422  2.447196    0.240565  0.261335   \n",
       "\n",
       "                                              Tickers  \n",
       "2   [STT, LHX, ETR, BR, MRNA, UBER, ZM, CDW, XOM, ...  \n",
       "3   [TRV, WYNN, GDDY, BAX, LEN, FDS, CLX, SJM, UNH...  \n",
       "10  [AJG, PCG, CHTR, MMM, BKNG, UBER, ZM, HPE, MA,...  \n",
       "5   [GEN, DELL, SPOT, PARA, UNH, ETSY, VLTO, ROK, ...  \n",
       "8   [AVGO, TSN, EXR, HOLX, K, DIS, BIIB, ANET, LOW...  \n",
       "6   [TSLA, MOH, CAG, LVS, WST, AIG, SJM, XOM, FITB...  \n",
       "12  [AKAM, DIS, CE, HSY, ALB, MU, NFLX, NCLH, COST...  \n",
       "13  [ZTS, PARA, STLD, ON, ADBE, GEN, SNOW, ES, T, ...  \n",
       "9   [HUBB, HBAN, SO, CCL, NWS, LRCX, DUK, UNH, AIG...  \n",
       "1   [FAST, YUM, ABBV, PEG, SBAC, EXPE, AIG, TYL, C...  \n",
       "11  [MS, CME, SRE, APD, ROK, SJM, NWS, AIG, BKNG, ...  \n",
       "14  [RMD, FOX, PH, VTRS, PG, NVO, SRE, JBL, AFL, M...  \n",
       "4   [HUBB, BR, ACGL, LRCX, FDX, FOXA, RL, DAL, GDD...  \n",
       "0   [PPG, WELL, SYY, AMZN, COF, HPE, TXT, MRK, AIG...  \n",
       "7   [BBY, MPC, UNP, MCD, ALL, MAA, PEP, CB, OXY, T...  "
      ]
     },
     "metadata": {},
     "output_type": "display_data"
    }
   ],
   "source": [
    "# Display the table\n",
    "display(portfolio_results_df)"
   ]
  },
  {
   "cell_type": "code",
   "execution_count": null,
   "metadata": {},
   "outputs": [
    {
     "data": {
      "text/html": [
       "<div>\n",
       "<style scoped>\n",
       "    .dataframe tbody tr th:only-of-type {\n",
       "        vertical-align: middle;\n",
       "    }\n",
       "\n",
       "    .dataframe tbody tr th {\n",
       "        vertical-align: top;\n",
       "    }\n",
       "\n",
       "    .dataframe thead th {\n",
       "        text-align: right;\n",
       "    }\n",
       "</style>\n",
       "<table border=\"1\" class=\"dataframe\">\n",
       "  <thead>\n",
       "    <tr style=\"text-align: right;\">\n",
       "      <th></th>\n",
       "      <th>Portfolio</th>\n",
       "      <th>Initial_DR</th>\n",
       "      <th>Final_DR</th>\n",
       "      <th>Initial_SR</th>\n",
       "      <th>Final_SR</th>\n",
       "      <th>Tickers</th>\n",
       "    </tr>\n",
       "  </thead>\n",
       "  <tbody>\n",
       "    <tr>\n",
       "      <th>1</th>\n",
       "      <td>Portfolio_2</td>\n",
       "      <td>2.274073</td>\n",
       "      <td>2.898467</td>\n",
       "      <td>0.419743</td>\n",
       "      <td>0.539998</td>\n",
       "      <td>[FAST, YUM, ABBV, PEG, SBAC, EXPE, AIG, TYL, C...</td>\n",
       "    </tr>\n",
       "    <tr>\n",
       "      <th>8</th>\n",
       "      <td>Portfolio_9</td>\n",
       "      <td>2.932502</td>\n",
       "      <td>3.210962</td>\n",
       "      <td>0.498110</td>\n",
       "      <td>0.517348</td>\n",
       "      <td>[AVGO, TSN, EXR, HOLX, K, DIS, BIIB, ANET, LOW...</td>\n",
       "    </tr>\n",
       "    <tr>\n",
       "      <th>11</th>\n",
       "      <td>Portfolio_12</td>\n",
       "      <td>2.296255</td>\n",
       "      <td>2.836176</td>\n",
       "      <td>0.380410</td>\n",
       "      <td>0.490407</td>\n",
       "      <td>[MS, CME, SRE, APD, ROK, SJM, NWS, AIG, BKNG, ...</td>\n",
       "    </tr>\n",
       "    <tr>\n",
       "      <th>4</th>\n",
       "      <td>Portfolio_5</td>\n",
       "      <td>2.556377</td>\n",
       "      <td>2.594252</td>\n",
       "      <td>0.524032</td>\n",
       "      <td>0.481833</td>\n",
       "      <td>[HUBB, BR, ACGL, LRCX, FDX, FOXA, RL, DAL, GDD...</td>\n",
       "    </tr>\n",
       "    <tr>\n",
       "      <th>10</th>\n",
       "      <td>Portfolio_11</td>\n",
       "      <td>2.029088</td>\n",
       "      <td>3.232198</td>\n",
       "      <td>0.438754</td>\n",
       "      <td>0.460208</td>\n",
       "      <td>[AJG, PCG, CHTR, MMM, BKNG, UBER, ZM, HPE, MA,...</td>\n",
       "    </tr>\n",
       "    <tr>\n",
       "      <th>0</th>\n",
       "      <td>Portfolio_1</td>\n",
       "      <td>2.228764</td>\n",
       "      <td>2.579703</td>\n",
       "      <td>0.440131</td>\n",
       "      <td>0.437223</td>\n",
       "      <td>[PPG, WELL, SYY, AMZN, COF, HPE, TXT, MRK, AIG...</td>\n",
       "    </tr>\n",
       "    <tr>\n",
       "      <th>6</th>\n",
       "      <td>Portfolio_7</td>\n",
       "      <td>2.471137</td>\n",
       "      <td>3.109185</td>\n",
       "      <td>0.193619</td>\n",
       "      <td>0.391285</td>\n",
       "      <td>[TSLA, MOH, CAG, LVS, WST, AIG, SJM, XOM, FITB...</td>\n",
       "    </tr>\n",
       "    <tr>\n",
       "      <th>9</th>\n",
       "      <td>Portfolio_10</td>\n",
       "      <td>2.803151</td>\n",
       "      <td>2.903365</td>\n",
       "      <td>0.414807</td>\n",
       "      <td>0.382708</td>\n",
       "      <td>[HUBB, HBAN, SO, CCL, NWS, LRCX, DUK, UNH, AIG...</td>\n",
       "    </tr>\n",
       "    <tr>\n",
       "      <th>2</th>\n",
       "      <td>Portfolio_3</td>\n",
       "      <td>2.241430</td>\n",
       "      <td>3.427312</td>\n",
       "      <td>0.429601</td>\n",
       "      <td>0.363453</td>\n",
       "      <td>[STT, LHX, ETR, BR, MRNA, UBER, ZM, CDW, XOM, ...</td>\n",
       "    </tr>\n",
       "    <tr>\n",
       "      <th>14</th>\n",
       "      <td>Portfolio_15</td>\n",
       "      <td>2.729832</td>\n",
       "      <td>2.729832</td>\n",
       "      <td>0.363316</td>\n",
       "      <td>0.363302</td>\n",
       "      <td>[RMD, FOX, PH, VTRS, PG, NVO, SRE, JBL, AFL, M...</td>\n",
       "    </tr>\n",
       "    <tr>\n",
       "      <th>5</th>\n",
       "      <td>Portfolio_6</td>\n",
       "      <td>2.960066</td>\n",
       "      <td>3.217680</td>\n",
       "      <td>0.449233</td>\n",
       "      <td>0.339325</td>\n",
       "      <td>[GEN, DELL, SPOT, PARA, UNH, ETSY, VLTO, ROK, ...</td>\n",
       "    </tr>\n",
       "    <tr>\n",
       "      <th>12</th>\n",
       "      <td>Portfolio_13</td>\n",
       "      <td>3.079215</td>\n",
       "      <td>3.105189</td>\n",
       "      <td>0.328046</td>\n",
       "      <td>0.326887</td>\n",
       "      <td>[AKAM, DIS, CE, HSY, ALB, MU, NFLX, NCLH, COST...</td>\n",
       "    </tr>\n",
       "    <tr>\n",
       "      <th>13</th>\n",
       "      <td>Portfolio_14</td>\n",
       "      <td>2.856674</td>\n",
       "      <td>2.924265</td>\n",
       "      <td>0.328322</td>\n",
       "      <td>0.284287</td>\n",
       "      <td>[ZTS, PARA, STLD, ON, ADBE, GEN, SNOW, ES, T, ...</td>\n",
       "    </tr>\n",
       "    <tr>\n",
       "      <th>3</th>\n",
       "      <td>Portfolio_4</td>\n",
       "      <td>2.843845</td>\n",
       "      <td>3.237850</td>\n",
       "      <td>0.358533</td>\n",
       "      <td>0.281618</td>\n",
       "      <td>[TRV, WYNN, GDDY, BAX, LEN, FDS, CLX, SJM, UNH...</td>\n",
       "    </tr>\n",
       "    <tr>\n",
       "      <th>7</th>\n",
       "      <td>Portfolio_8</td>\n",
       "      <td>2.341422</td>\n",
       "      <td>2.447196</td>\n",
       "      <td>0.240565</td>\n",
       "      <td>0.261335</td>\n",
       "      <td>[BBY, MPC, UNP, MCD, ALL, MAA, PEP, CB, OXY, T...</td>\n",
       "    </tr>\n",
       "  </tbody>\n",
       "</table>\n",
       "</div>"
      ],
      "text/plain": [
       "       Portfolio  Initial_DR  Final_DR  Initial_SR  Final_SR  \\\n",
       "1    Portfolio_2    2.274073  2.898467    0.419743  0.539998   \n",
       "8    Portfolio_9    2.932502  3.210962    0.498110  0.517348   \n",
       "11  Portfolio_12    2.296255  2.836176    0.380410  0.490407   \n",
       "4    Portfolio_5    2.556377  2.594252    0.524032  0.481833   \n",
       "10  Portfolio_11    2.029088  3.232198    0.438754  0.460208   \n",
       "0    Portfolio_1    2.228764  2.579703    0.440131  0.437223   \n",
       "6    Portfolio_7    2.471137  3.109185    0.193619  0.391285   \n",
       "9   Portfolio_10    2.803151  2.903365    0.414807  0.382708   \n",
       "2    Portfolio_3    2.241430  3.427312    0.429601  0.363453   \n",
       "14  Portfolio_15    2.729832  2.729832    0.363316  0.363302   \n",
       "5    Portfolio_6    2.960066  3.217680    0.449233  0.339325   \n",
       "12  Portfolio_13    3.079215  3.105189    0.328046  0.326887   \n",
       "13  Portfolio_14    2.856674  2.924265    0.328322  0.284287   \n",
       "3    Portfolio_4    2.843845  3.237850    0.358533  0.281618   \n",
       "7    Portfolio_8    2.341422  2.447196    0.240565  0.261335   \n",
       "\n",
       "                                              Tickers  \n",
       "1   [FAST, YUM, ABBV, PEG, SBAC, EXPE, AIG, TYL, C...  \n",
       "8   [AVGO, TSN, EXR, HOLX, K, DIS, BIIB, ANET, LOW...  \n",
       "11  [MS, CME, SRE, APD, ROK, SJM, NWS, AIG, BKNG, ...  \n",
       "4   [HUBB, BR, ACGL, LRCX, FDX, FOXA, RL, DAL, GDD...  \n",
       "10  [AJG, PCG, CHTR, MMM, BKNG, UBER, ZM, HPE, MA,...  \n",
       "0   [PPG, WELL, SYY, AMZN, COF, HPE, TXT, MRK, AIG...  \n",
       "6   [TSLA, MOH, CAG, LVS, WST, AIG, SJM, XOM, FITB...  \n",
       "9   [HUBB, HBAN, SO, CCL, NWS, LRCX, DUK, UNH, AIG...  \n",
       "2   [STT, LHX, ETR, BR, MRNA, UBER, ZM, CDW, XOM, ...  \n",
       "14  [RMD, FOX, PH, VTRS, PG, NVO, SRE, JBL, AFL, M...  \n",
       "5   [GEN, DELL, SPOT, PARA, UNH, ETSY, VLTO, ROK, ...  \n",
       "12  [AKAM, DIS, CE, HSY, ALB, MU, NFLX, NCLH, COST...  \n",
       "13  [ZTS, PARA, STLD, ON, ADBE, GEN, SNOW, ES, T, ...  \n",
       "3   [TRV, WYNN, GDDY, BAX, LEN, FDS, CLX, SJM, UNH...  \n",
       "7   [BBY, MPC, UNP, MCD, ALL, MAA, PEP, CB, OXY, T...  "
      ]
     },
     "metadata": {},
     "output_type": "display_data"
    },
    {
     "ename": "",
     "evalue": "",
     "output_type": "error",
     "traceback": [
      "\u001b[1;31mThe Kernel crashed while executing code in the current cell or a previous cell. \n",
      "\u001b[1;31mPlease review the code in the cell(s) to identify a possible cause of the failure. \n",
      "\u001b[1;31mClick <a href='https://aka.ms/vscodeJupyterKernelCrash'>here</a> for more info. \n",
      "\u001b[1;31mView Jupyter <a href='command:jupyter.viewOutput'>log</a> for further details."
     ]
    }
   ],
   "source": [
    "# disply sorted by final SR\n",
    "display(portfolio_results_df.sort_values(by=\"Final_SR\", ascending=False))\n"
   ]
  },
  {
   "cell_type": "code",
   "execution_count": null,
   "metadata": {},
   "outputs": [],
   "source": []
  }
 ],
 "metadata": {
  "kernelspec": {
   "display_name": "stk_env",
   "language": "python",
   "name": "python3"
  },
  "language_info": {
   "codemirror_mode": {
    "name": "ipython",
    "version": 3
   },
   "file_extension": ".py",
   "mimetype": "text/x-python",
   "name": "python",
   "nbconvert_exporter": "python",
   "pygments_lexer": "ipython3",
   "version": "3.10.14"
  }
 },
 "nbformat": 4,
 "nbformat_minor": 2
}
