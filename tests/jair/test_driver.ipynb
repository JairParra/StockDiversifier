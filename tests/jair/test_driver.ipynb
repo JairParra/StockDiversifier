{
 "cells": [
  {
   "cell_type": "markdown",
   "metadata": {},
   "source": [
    "# Testing Stock Fetcher "
   ]
  },
  {
   "cell_type": "markdown",
   "metadata": {},
   "source": [
    "## Imports "
   ]
  },
  {
   "cell_type": "code",
   "execution_count": 1,
   "metadata": {},
   "outputs": [],
   "source": [
    "# General \n",
    "import numpy as np \n",
    "import pandas as pd\n",
    "from sklearn.impute import KNNImputer\n",
    "\n",
    "# Custom \n",
    "from src.data_fetching import scrape_sp500_wikipedia, fetch_stock_data, prepare_data_for_vae"
   ]
  },
  {
   "cell_type": "markdown",
   "metadata": {},
   "source": [
    "## Fetching the data "
   ]
  },
  {
   "cell_type": "code",
   "execution_count": 2,
   "metadata": {},
   "outputs": [
    {
     "name": "stderr",
     "output_type": "stream",
     "text": [
      "Fetching stock data...:  28%|██▊       | 140/505 [00:39<01:44,  3.48it/s]SW: Period '1y' is invalid, must be one of ['1d', '5d', '1mo', '3mo', '6mo', 'ytd', 'max']\n",
      "Fetching stock data...:  57%|█████▋    | 286/505 [01:20<01:00,  3.62it/s]$BF.B: possibly delisted; no price data found  (period=1mo)\n",
      "$BF.B: possibly delisted; no price data found  (period=1y)\n",
      "Fetching stock data...:  76%|███████▋  | 386/505 [01:47<00:34,  3.44it/s]AMTM: Period '1y' is invalid, must be one of ['1d', '5d', '1mo', '3mo', 'ytd', 'max']\n",
      "Fetching stock data...:  80%|███████▉  | 403/505 [01:51<00:21,  4.79it/s]$BRK.B: possibly delisted; no price data found  (period=1mo) (Yahoo error = \"No data found, symbol may be delisted\")\n",
      "$BRK.B: possibly delisted; no price data found  (period=1y) (Yahoo error = \"No data found, symbol may be delisted\")\n",
      "Fetching stock data...: 100%|██████████| 505/505 [02:20<00:00,  3.59it/s]"
     ]
    },
    {
     "name": "stdout",
     "output_type": "stream",
     "text": [
      "Completed fetching stock data in 140.80 seconds.\n"
     ]
    },
    {
     "name": "stderr",
     "output_type": "stream",
     "text": [
      "\n"
     ]
    }
   ],
   "source": [
    "sp500_df = scrape_sp500_wikipedia()  # Use the function you created to scrape S&P 500 companies\n",
    "custom_tickers = ['TSLA', 'ZM', 'SNOW']  # Example custom tickers\n",
    "stock_data, sector_mapping, industry_mapping = fetch_stock_data(sp500_df, custom_tickers) # Fetch data\n",
    "stock_data_vae = prepare_data_for_vae(stock_data)  # Prepare data for VAE"
   ]
  },
  {
   "cell_type": "code",
   "execution_count": 5,
   "metadata": {},
   "outputs": [
    {
     "name": "stdout",
     "output_type": "stream",
     "text": [
      "     Market Cap   Open Price  Close Price   High Price    Low Price  \\\n",
      "0  5.149642e+10  3105.733805  3112.015241  3223.489990  2980.100098   \n",
      "1  9.215435e+09    69.908571    69.633333    73.199997    64.870003   \n",
      "2  1.082894e+10    17.072729    16.897391    18.800667    14.680000   \n",
      "3  1.248629e+11    85.859048    85.955714    88.790001    80.639999   \n",
      "4  8.644570e+10   887.523810   888.109047   943.020020   862.229980   \n",
      "\n",
      "    Last Close  52 Week High  52 Week Low  Last Month Volatility  \\\n",
      "0  3046.350098   3256.370117  2510.000000               0.056742   \n",
      "1    66.059998     73.459999    41.170478               0.071511   \n",
      "2    15.230000     21.763273    14.255096               0.128044   \n",
      "3    84.720001     88.790001    50.840000               0.047940   \n",
      "4   895.919983    943.020020   676.982121               0.047250   \n",
      "\n",
      "   52 Week Volatility  ...  Industry_Trucking  \\\n",
      "0            0.202641  ...                  0   \n",
      "1            0.293405  ...                  0   \n",
      "2            0.377671  ...                  0   \n",
      "3            0.167758  ...                  0   \n",
      "4            0.240501  ...                  0   \n",
      "\n",
      "   Industry_Utilities - Diversified  \\\n",
      "0                                 0   \n",
      "1                                 0   \n",
      "2                                 1   \n",
      "3                                 0   \n",
      "4                                 0   \n",
      "\n",
      "   Industry_Utilities - Independent Power Producers  \\\n",
      "0                                                 0   \n",
      "1                                                 0   \n",
      "2                                                 0   \n",
      "3                                                 0   \n",
      "4                                                 0   \n",
      "\n",
      "   Industry_Utilities - Regulated Electric  Industry_Utilities—Diversified  \\\n",
      "0                                        0                               0   \n",
      "1                                        0                               0   \n",
      "2                                        0                               0   \n",
      "3                                        0                               0   \n",
      "4                                        0                               0   \n",
      "\n",
      "   Industry_Utilities—Regulated Electric  Industry_Utilities—Regulated Gas  \\\n",
      "0                                      0                                 0   \n",
      "1                                      0                                 0   \n",
      "2                                      0                                 0   \n",
      "3                                      0                                 0   \n",
      "4                                      0                                 0   \n",
      "\n",
      "   Industry_Utilities—Regulated Water  Industry_Utilities—Renewable  \\\n",
      "0                                   0                             0   \n",
      "1                                   0                             0   \n",
      "2                                   0                             0   \n",
      "3                                   0                             0   \n",
      "4                                   0                             0   \n",
      "\n",
      "   Industry_Waste Management  \n",
      "0                          0  \n",
      "1                          0  \n",
      "2                          0  \n",
      "3                          0  \n",
      "4                          0  \n",
      "\n",
      "[5 rows x 154 columns]\n"
     ]
    }
   ],
   "source": [
    "# Display the data \n",
    "print(stock_data_vae.head())"
   ]
  },
  {
   "cell_type": "code",
   "execution_count": null,
   "metadata": {},
   "outputs": [],
   "source": []
  },
  {
   "cell_type": "code",
   "execution_count": 8,
   "metadata": {},
   "outputs": [
    {
     "name": "stdout",
     "output_type": "stream",
     "text": [
      "154\n",
      "Market Cap                               float64\n",
      "Open Price                               float64\n",
      "Close Price                              float64\n",
      "High Price                               float64\n",
      "Low Price                                float64\n",
      "                                          ...   \n",
      "Industry_Utilities—Regulated Electric    float64\n",
      "Industry_Utilities—Regulated Gas         float64\n",
      "Industry_Utilities—Regulated Water       float64\n",
      "Industry_Utilities—Renewable             float64\n",
      "Industry_Waste Management                float64\n",
      "Length: 154, dtype: object\n"
     ]
    }
   ],
   "source": [
    "# Print number of columns in total \n",
    "print(len(stock_data_vae.columns))\n",
    "\n",
    "stock_data_vae = stock_data_vae.astype(float)\n",
    "\n",
    "# Print the data types of the columns\n",
    "print(stock_data_vae.dtypes)"
   ]
  },
  {
   "cell_type": "code",
   "execution_count": 4,
   "metadata": {},
   "outputs": [
    {
     "name": "stdout",
     "output_type": "stream",
     "text": [
      "0\n",
      "[]\n",
      "[]\n",
      "Series([], dtype: float64)\n"
     ]
    }
   ],
   "source": [
    "# # check for rows with nas \n",
    "# print(stock_data_vae.isna().sum())\n",
    "\n",
    "# Check if any columns have nas\n",
    "print(stock_data_vae.isna().sum().sum())\n",
    "\n",
    "# Produce a list of columns with nas, and the amount for each \n",
    "print(stock_data_vae.columns[stock_data_vae.isna().any()].tolist())\n",
    "\n",
    "# Do the same for stock_data \n",
    "print(stock_data.columns[stock_data.isna().any()].tolist())\n",
    "\n",
    "# Calculate the proportion of nas in the stock_data_vae dataframe for each column with nas \n",
    "# only for the columns with nas\n",
    "nas_proportion = stock_data_vae.isna().mean()\n",
    "print(nas_proportion[stock_data_vae.columns[stock_data_vae.isna().any()].tolist()])"
   ]
  },
  {
   "cell_type": "code",
   "execution_count": 8,
   "metadata": {},
   "outputs": [
    {
     "name": "stdout",
     "output_type": "stream",
     "text": [
      "Series([], dtype: float64)\n"
     ]
    }
   ],
   "source": [
    "# Perform na imputation to the columns with nas\n",
    "stock_data_vae = stock_data_vae.fillna(method='ffill')\n",
    "\n",
    "nas_proportion = stock_data_vae.isna().mean()\n",
    "print(nas_proportion[stock_data_vae.columns[stock_data_vae.isna().any()].tolist()])"
   ]
  },
  {
   "cell_type": "code",
   "execution_count": 9,
   "metadata": {},
   "outputs": [],
   "source": [
    "df = stock_data_vae.copy()"
   ]
  },
  {
   "cell_type": "code",
   "execution_count": 10,
   "metadata": {},
   "outputs": [
    {
     "name": "stdout",
     "output_type": "stream",
     "text": [
      "0\n"
     ]
    }
   ],
   "source": [
    "# Check if there are any missing values left \n",
    "print(df.isnull().sum().sum())"
   ]
  },
  {
   "cell_type": "markdown",
   "metadata": {},
   "source": []
  }
 ],
 "metadata": {
  "kernelspec": {
   "display_name": "stk_env",
   "language": "python",
   "name": "python3"
  },
  "language_info": {
   "codemirror_mode": {
    "name": "ipython",
    "version": 3
   },
   "file_extension": ".py",
   "mimetype": "text/x-python",
   "name": "python",
   "nbconvert_exporter": "python",
   "pygments_lexer": "ipython3",
   "version": "3.10.15"
  }
 },
 "nbformat": 4,
 "nbformat_minor": 2
}
