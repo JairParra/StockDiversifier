{
 "cells": [
  {
   "cell_type": "markdown",
   "metadata": {},
   "source": [
    "# Testing Stock Fetcher "
   ]
  },
  {
   "cell_type": "markdown",
   "metadata": {},
   "source": [
    "## Imports "
   ]
  },
  {
   "cell_type": "code",
   "execution_count": 111,
   "metadata": {},
   "outputs": [
    {
     "data": {
      "text/plain": [
       "<module 'src.portfolio' from 'c:\\\\Users\\\\jairp\\\\OneDrive\\\\Desktop_remote\\\\HEC Montreal\\\\4. Fall 2024\\\\Deep Learning II\\\\Project\\\\StockDiversifier\\\\src\\\\portfolio.py'>"
      ]
     },
     "execution_count": 111,
     "metadata": {},
     "output_type": "execute_result"
    }
   ],
   "source": [
    "# Reload Custom Modules \n",
    "import importlib\n",
    "import src.beta_vae\n",
    "import src.data_fetching \n",
    "import src.portfolio\n",
    "importlib.reload(src.beta_vae)\n",
    "importlib.reload(src.data_fetching)\n",
    "importlib.reload(src.portfolio)"
   ]
  },
  {
   "cell_type": "code",
   "execution_count": 112,
   "metadata": {},
   "outputs": [],
   "source": [
    "# General \n",
    "import os \n",
    "import json \n",
    "import numpy as np \n",
    "import pandas as pd\n",
    "\n",
    "# General ML & Data Manipulation\n",
    "import optuna \n",
    "from sklearn.impute import KNNImputer\n",
    "from sklearn.preprocessing import StandardScaler\n",
    "\n",
    "# PyTorch\n",
    "import torch\n",
    "\n",
    "# Custom Classes \n",
    "from src.beta_vae import Encoder\n",
    "from src.beta_vae import Decoder\n",
    "from src.beta_vae import BetaVAE\n",
    "from src.portfolio import Portfolio\n",
    "\n",
    "# Custom Functions\n",
    "from src.beta_vae import create_data_loaders\n",
    "from src.beta_vae import create_single_data_loader\n",
    "from src.beta_vae import objective\n",
    "from src.beta_vae import train_beta_vae\n",
    "from src.beta_vae import get_embeddings\n",
    "from src.beta_vae import generate_embeddings_dict\n",
    "from src.portfolio import fetch_and_calculate_returns\n",
    "from src.data_fetching import scrape_sp500_wikipedia\n",
    "from src.data_fetching import fetch_stock_data\n",
    "from src.data_fetching import prepare_data_for_vae"
   ]
  },
  {
   "cell_type": "markdown",
   "metadata": {},
   "source": [
    "## Fetching the data "
   ]
  },
  {
   "cell_type": "code",
   "execution_count": 5,
   "metadata": {},
   "outputs": [
    {
     "name": "stderr",
     "output_type": "stream",
     "text": [
      "Fetching stock data...:  34%|███▍      | 172/502 [03:13<06:41,  1.22s/it]AMTM: Period '1y' is invalid, must be one of ['1d', '5d', '1mo', '3mo', 'ytd', 'max']\n",
      "AMTM: Period '1y' is invalid, must be one of ['1d', '5d', '1mo', '3mo', 'ytd', 'max']\n",
      "Fetching stock data...:  57%|█████▋    | 286/502 [05:26<04:40,  1.30s/it]$BF.B: possibly delisted; no price data found  (period=1y)\n",
      "$BF.B: possibly delisted; no price data found  (period=1y)\n",
      "Fetching stock data...:  77%|███████▋  | 387/502 [07:30<02:17,  1.20s/it]$BRK.B: possibly delisted; no price data found  (period=1y) (Yahoo error = \"No data found, symbol may be delisted\")\n",
      "$BRK.B: possibly delisted; no price data found  (period=1y) (Yahoo error = \"No data found, symbol may be delisted\")\n",
      "Fetching stock data...:  99%|█████████▉| 499/502 [09:49<00:03,  1.15s/it]SW: Period '1y' is invalid, must be one of ['1d', '5d', '1mo', '3mo', '6mo', 'ytd', 'max']\n",
      "SW: Period '1y' is invalid, must be one of ['1d', '5d', '1mo', '3mo', '6mo', 'ytd', 'max']\n",
      "Fetching stock data...: 100%|██████████| 502/502 [09:52<00:00,  1.18s/it]"
     ]
    },
    {
     "name": "stdout",
     "output_type": "stream",
     "text": [
      "Completed fetching stock data in 592.53 seconds.\n",
      "saving data to data_raw/stock_data.csv\n"
     ]
    },
    {
     "name": "stderr",
     "output_type": "stream",
     "text": [
      "\n"
     ]
    }
   ],
   "source": [
    "sp500_df = scrape_sp500_wikipedia()  # Scrape S&P 500 companies names, tikers and industris from Wikipedia\n",
    "custom_tickers = ['AAPL', 'GOOGL', 'AMZN', 'MSFT', 'TSLA', 'META', 'NVDA', 'PYPL', 'ADBE', 'NFLX']  # Example custom tickers\n",
    "stock_data, sector_mapping, industry_mapping = fetch_stock_data(sp500_df, custom_tickers, \n",
    "                                                                period = \"1y\", interval = \"1wk\",\n",
    "                                                                savepath=\"data_raw/stock_data.csv\") # Fetch data\n",
    "stock_data_vae = prepare_data_for_vae(stock_data)  # Prepare data for VAE"
   ]
  },
  {
   "cell_type": "code",
   "execution_count": 33,
   "metadata": {},
   "outputs": [
    {
     "data": {
      "text/html": [
       "<div>\n",
       "<style scoped>\n",
       "    .dataframe tbody tr th:only-of-type {\n",
       "        vertical-align: middle;\n",
       "    }\n",
       "\n",
       "    .dataframe tbody tr th {\n",
       "        vertical-align: top;\n",
       "    }\n",
       "\n",
       "    .dataframe thead th {\n",
       "        text-align: right;\n",
       "    }\n",
       "</style>\n",
       "<table border=\"1\" class=\"dataframe\">\n",
       "  <thead>\n",
       "    <tr style=\"text-align: right;\">\n",
       "      <th></th>\n",
       "      <th>Ticker</th>\n",
       "      <th>Company Name</th>\n",
       "      <th>Market Cap</th>\n",
       "      <th>Sector</th>\n",
       "      <th>Industry</th>\n",
       "      <th>Open Price</th>\n",
       "      <th>Close Price</th>\n",
       "      <th>High Price</th>\n",
       "      <th>Low Price</th>\n",
       "      <th>Last Close</th>\n",
       "      <th>52 Week High</th>\n",
       "      <th>52 Week Low</th>\n",
       "      <th>Last Month Volatility</th>\n",
       "      <th>52 Week Volatility</th>\n",
       "      <th>Yearly Dividend Rate</th>\n",
       "      <th>Last Year Return Rate</th>\n",
       "      <th>Sector_encoded</th>\n",
       "      <th>Industry_encoded</th>\n",
       "    </tr>\n",
       "  </thead>\n",
       "  <tbody>\n",
       "    <tr>\n",
       "      <th>0</th>\n",
       "      <td>GPC</td>\n",
       "      <td>Genuine Parts Company</td>\n",
       "      <td>1.735169e+10</td>\n",
       "      <td>Consumer Discretionary</td>\n",
       "      <td>Auto Parts</td>\n",
       "      <td>139.841634</td>\n",
       "      <td>139.384095</td>\n",
       "      <td>162.123691</td>\n",
       "      <td>112.739998</td>\n",
       "      <td>124.800003</td>\n",
       "      <td>162.123684</td>\n",
       "      <td>112.739998</td>\n",
       "      <td>0.308248</td>\n",
       "      <td>0.316231</td>\n",
       "      <td>4.00</td>\n",
       "      <td>-0.065929</td>\n",
       "      <td>0</td>\n",
       "      <td>0</td>\n",
       "    </tr>\n",
       "    <tr>\n",
       "      <th>1</th>\n",
       "      <td>CHD</td>\n",
       "      <td>Church &amp; Dwight Co., Inc.</td>\n",
       "      <td>2.741528e+10</td>\n",
       "      <td>Consumer Staples</td>\n",
       "      <td>Household &amp; Personal Products</td>\n",
       "      <td>101.102982</td>\n",
       "      <td>101.480048</td>\n",
       "      <td>113.500000</td>\n",
       "      <td>89.270235</td>\n",
       "      <td>111.900002</td>\n",
       "      <td>113.500000</td>\n",
       "      <td>89.270235</td>\n",
       "      <td>0.154341</td>\n",
       "      <td>0.168622</td>\n",
       "      <td>1.14</td>\n",
       "      <td>0.193089</td>\n",
       "      <td>1</td>\n",
       "      <td>1</td>\n",
       "    </tr>\n",
       "    <tr>\n",
       "      <th>2</th>\n",
       "      <td>CAT</td>\n",
       "      <td>Caterpillar Inc.</td>\n",
       "      <td>1.919090e+11</td>\n",
       "      <td>Industrials</td>\n",
       "      <td>Farm &amp; Heavy Construction Machinery</td>\n",
       "      <td>333.476794</td>\n",
       "      <td>336.026801</td>\n",
       "      <td>418.500000</td>\n",
       "      <td>237.992884</td>\n",
       "      <td>397.489990</td>\n",
       "      <td>418.500000</td>\n",
       "      <td>242.126563</td>\n",
       "      <td>0.253062</td>\n",
       "      <td>0.265249</td>\n",
       "      <td>5.64</td>\n",
       "      <td>0.632702</td>\n",
       "      <td>2</td>\n",
       "      <td>2</td>\n",
       "    </tr>\n",
       "    <tr>\n",
       "      <th>3</th>\n",
       "      <td>GD</td>\n",
       "      <td>General Dynamics Corporation</td>\n",
       "      <td>7.748901e+10</td>\n",
       "      <td>Industrials</td>\n",
       "      <td>Aerospace &amp; Defense</td>\n",
       "      <td>280.483723</td>\n",
       "      <td>280.692393</td>\n",
       "      <td>316.899994</td>\n",
       "      <td>239.039237</td>\n",
       "      <td>281.809998</td>\n",
       "      <td>316.899994</td>\n",
       "      <td>239.039234</td>\n",
       "      <td>0.174318</td>\n",
       "      <td>0.175839</td>\n",
       "      <td>5.68</td>\n",
       "      <td>0.160090</td>\n",
       "      <td>2</td>\n",
       "      <td>3</td>\n",
       "    </tr>\n",
       "    <tr>\n",
       "      <th>4</th>\n",
       "      <td>KVUE</td>\n",
       "      <td>Kenvue Inc.</td>\n",
       "      <td>4.616762e+10</td>\n",
       "      <td>Consumer Staples</td>\n",
       "      <td>Household &amp; Personal Products</td>\n",
       "      <td>20.090258</td>\n",
       "      <td>20.160055</td>\n",
       "      <td>24.309999</td>\n",
       "      <td>17.348562</td>\n",
       "      <td>24.080000</td>\n",
       "      <td>24.309999</td>\n",
       "      <td>17.348561</td>\n",
       "      <td>0.248528</td>\n",
       "      <td>0.276114</td>\n",
       "      <td>0.82</td>\n",
       "      <td>0.236623</td>\n",
       "      <td>1</td>\n",
       "      <td>1</td>\n",
       "    </tr>\n",
       "  </tbody>\n",
       "</table>\n",
       "</div>"
      ],
      "text/plain": [
       "  Ticker                  Company Name    Market Cap                  Sector  \\\n",
       "0    GPC         Genuine Parts Company  1.735169e+10  Consumer Discretionary   \n",
       "1    CHD     Church & Dwight Co., Inc.  2.741528e+10        Consumer Staples   \n",
       "2    CAT              Caterpillar Inc.  1.919090e+11             Industrials   \n",
       "3     GD  General Dynamics Corporation  7.748901e+10             Industrials   \n",
       "4   KVUE                   Kenvue Inc.  4.616762e+10        Consumer Staples   \n",
       "\n",
       "                              Industry  Open Price  Close Price  High Price  \\\n",
       "0                           Auto Parts  139.841634   139.384095  162.123691   \n",
       "1        Household & Personal Products  101.102982   101.480048  113.500000   \n",
       "2  Farm & Heavy Construction Machinery  333.476794   336.026801  418.500000   \n",
       "3                  Aerospace & Defense  280.483723   280.692393  316.899994   \n",
       "4        Household & Personal Products   20.090258    20.160055   24.309999   \n",
       "\n",
       "    Low Price  Last Close  52 Week High  52 Week Low  Last Month Volatility  \\\n",
       "0  112.739998  124.800003    162.123684   112.739998               0.308248   \n",
       "1   89.270235  111.900002    113.500000    89.270235               0.154341   \n",
       "2  237.992884  397.489990    418.500000   242.126563               0.253062   \n",
       "3  239.039237  281.809998    316.899994   239.039234               0.174318   \n",
       "4   17.348562   24.080000     24.309999    17.348561               0.248528   \n",
       "\n",
       "   52 Week Volatility  Yearly Dividend Rate  Last Year Return Rate  \\\n",
       "0            0.316231                  4.00              -0.065929   \n",
       "1            0.168622                  1.14               0.193089   \n",
       "2            0.265249                  5.64               0.632702   \n",
       "3            0.175839                  5.68               0.160090   \n",
       "4            0.276114                  0.82               0.236623   \n",
       "\n",
       "   Sector_encoded  Industry_encoded  \n",
       "0               0                 0  \n",
       "1               1                 1  \n",
       "2               2                 2  \n",
       "3               2                 3  \n",
       "4               1                 1  "
      ]
     },
     "execution_count": 33,
     "metadata": {},
     "output_type": "execute_result"
    }
   ],
   "source": [
    "stock_data.head()"
   ]
  },
  {
   "cell_type": "code",
   "execution_count": 8,
   "metadata": {},
   "outputs": [
    {
     "name": "stdout",
     "output_type": "stream",
     "text": [
      "     Market Cap  Open Price  Close Price  High Price   Low Price  Last Close  \\\n",
      "0  1.735169e+10  139.841634   139.384095  162.123691  112.739998  124.800003   \n",
      "1  2.741528e+10  101.102982   101.480048  113.500000   89.270235  111.900002   \n",
      "2  1.919090e+11  333.476794   336.026801  418.500000  237.992884  397.489990   \n",
      "3  7.748901e+10  280.483723   280.692393  316.899994  239.039237  281.809998   \n",
      "4  4.616762e+10   20.090258    20.160055   24.309999   17.348562   24.080000   \n",
      "\n",
      "   52 Week High  52 Week Low  Last Month Volatility  52 Week Volatility  ...  \\\n",
      "0    162.123684   112.739998               0.308248            0.316231  ...   \n",
      "1    113.500000    89.270235               0.154341            0.168622  ...   \n",
      "2    418.500000   242.126563               0.253062            0.265249  ...   \n",
      "3    316.899994   239.039234               0.174318            0.175839  ...   \n",
      "4     24.309999    17.348561               0.248528            0.276114  ...   \n",
      "\n",
      "   Industry_Tools & Accessories  Industry_Travel Services  Industry_Trucking  \\\n",
      "0                           0.0                       0.0                0.0   \n",
      "1                           0.0                       0.0                0.0   \n",
      "2                           0.0                       0.0                0.0   \n",
      "3                           0.0                       0.0                0.0   \n",
      "4                           0.0                       0.0                0.0   \n",
      "\n",
      "   Industry_Utilities - Diversified  \\\n",
      "0                               0.0   \n",
      "1                               0.0   \n",
      "2                               0.0   \n",
      "3                               0.0   \n",
      "4                               0.0   \n",
      "\n",
      "   Industry_Utilities - Independent Power Producers  \\\n",
      "0                                               0.0   \n",
      "1                                               0.0   \n",
      "2                                               0.0   \n",
      "3                                               0.0   \n",
      "4                                               0.0   \n",
      "\n",
      "   Industry_Utilities - Regulated Electric  \\\n",
      "0                                      0.0   \n",
      "1                                      0.0   \n",
      "2                                      0.0   \n",
      "3                                      0.0   \n",
      "4                                      0.0   \n",
      "\n",
      "   Industry_Utilities - Regulated Gas  Industry_Utilities - Regulated Water  \\\n",
      "0                                 0.0                                   0.0   \n",
      "1                                 0.0                                   0.0   \n",
      "2                                 0.0                                   0.0   \n",
      "3                                 0.0                                   0.0   \n",
      "4                                 0.0                                   0.0   \n",
      "\n",
      "   Industry_Utilities - Renewable  Industry_Waste Management  \n",
      "0                             0.0                        0.0  \n",
      "1                             0.0                        0.0  \n",
      "2                             0.0                        0.0  \n",
      "3                             0.0                        0.0  \n",
      "4                             0.0                        0.0  \n",
      "\n",
      "[5 rows x 134 columns]\n"
     ]
    }
   ],
   "source": [
    "# Display the data \n",
    "print(stock_data_vae.head())"
   ]
  },
  {
   "cell_type": "code",
   "execution_count": 18,
   "metadata": {},
   "outputs": [
    {
     "name": "stdout",
     "output_type": "stream",
     "text": [
      "134\n",
      "498\n",
      "Market Cap                                 float64\n",
      "Open Price                                 float64\n",
      "Close Price                                float64\n",
      "High Price                                 float64\n",
      "Low Price                                  float64\n",
      "                                            ...   \n",
      "Industry_Utilities - Regulated Electric    float64\n",
      "Industry_Utilities - Regulated Gas         float64\n",
      "Industry_Utilities - Regulated Water       float64\n",
      "Industry_Utilities - Renewable             float64\n",
      "Industry_Waste Management                  float64\n",
      "Length: 134, dtype: object\n"
     ]
    }
   ],
   "source": [
    "# Print number of columns in total \n",
    "print(len(stock_data_vae.columns))\n",
    "\n",
    "# Print total number of rows \n",
    "print(len(stock_data_vae))\n",
    "\n",
    "# Print the data types of the columns\n",
    "print(stock_data_vae.dtypes)"
   ]
  },
  {
   "cell_type": "code",
   "execution_count": 12,
   "metadata": {},
   "outputs": [
    {
     "name": "stdout",
     "output_type": "stream",
     "text": [
      "Index(['Market Cap', 'Open Price', 'Close Price', 'High Price', 'Low Price',\n",
      "       'Last Close', '52 Week High', '52 Week Low', 'Last Month Volatility',\n",
      "       '52 Week Volatility',\n",
      "       ...\n",
      "       'Industry_Tools & Accessories', 'Industry_Travel Services',\n",
      "       'Industry_Trucking', 'Industry_Utilities - Diversified',\n",
      "       'Industry_Utilities - Independent Power Producers',\n",
      "       'Industry_Utilities - Regulated Electric',\n",
      "       'Industry_Utilities - Regulated Gas',\n",
      "       'Industry_Utilities - Regulated Water',\n",
      "       'Industry_Utilities - Renewable', 'Industry_Waste Management'],\n",
      "      dtype='object', length=134)\n"
     ]
    }
   ],
   "source": [
    "print(stock_data_vae.columns)"
   ]
  },
  {
   "cell_type": "markdown",
   "metadata": {},
   "source": [
    "### Check for any NA's"
   ]
  },
  {
   "cell_type": "code",
   "execution_count": 13,
   "metadata": {},
   "outputs": [
    {
     "name": "stdout",
     "output_type": "stream",
     "text": [
      "0\n",
      "[]\n",
      "Series([], dtype: float64)\n"
     ]
    }
   ],
   "source": [
    "# Check if any columns have nas\n",
    "print(stock_data_vae.isna().sum().sum())\n",
    "\n",
    "# Produce a list of columns with nas, and the amount for each \n",
    "print(stock_data_vae.columns[stock_data_vae.isna().any()].tolist())\n",
    "\n",
    "# Calculate the proportion of nas in the stock_data_vae dataframe for each column with nas \n",
    "# only for the columns with nas\n",
    "nas_proportion = stock_data_vae.isna().mean()\n",
    "print(nas_proportion[stock_data_vae.columns[stock_data_vae.isna().any()].tolist()])"
   ]
  },
  {
   "cell_type": "markdown",
   "metadata": {},
   "source": [
    "## Fitting the $\\beta$-VAE"
   ]
  },
  {
   "cell_type": "markdown",
   "metadata": {},
   "source": [
    "### Data Preparation"
   ]
  },
  {
   "cell_type": "code",
   "execution_count": 14,
   "metadata": {},
   "outputs": [
    {
     "data": {
      "text/plain": [
       "torch.Size([64, 134])"
      ]
     },
     "execution_count": 14,
     "metadata": {},
     "output_type": "execute_result"
    }
   ],
   "source": [
    "# Normalize the stock data\n",
    "scaler = StandardScaler()\n",
    "normalized_data = scaler.fit_transform(stock_data_vae)\n",
    "\n",
    "# Convert the normalized data to PyTorch tensors\n",
    "tensor_data = torch.tensor(normalized_data, dtype=torch.float32)\n",
    "\n",
    "# Create data loaders\n",
    "train_loader, val_loader, test_loader = create_data_loaders(tensor_data)\n",
    "\n",
    "# Check the DataLoader output\n",
    "next(iter(train_loader))[0].shape  # Shape of one batch of data"
   ]
  },
  {
   "cell_type": "markdown",
   "metadata": {},
   "source": [
    "### Hyperparameter Tunning"
   ]
  },
  {
   "cell_type": "code",
   "execution_count": null,
   "metadata": {},
   "outputs": [],
   "source": [
    "# Define the file path for storing the best parameters\n",
    "best_params_file = \"config/best_params.json\"\n",
    "\n",
    "REWRITE = True \n",
    "if REWRITE:\n",
    "    # Delete previous best_params file\n",
    "    if os.path.exists(best_params_file):\n",
    "        os.remove(best_params_file)\n",
    "\n",
    "# Check if the best_params file exists\n",
    "if os.path.exists(best_params_file):\n",
    "    # Load the best parameters from the file\n",
    "    with open(best_params_file, \"r\") as f:\n",
    "        best_params = json.load(f)\n",
    "    print(\"Loaded best parameters from file:\", best_params)\n",
    "    \n",
    "else:\n",
    "    # File doesn't exist, run the Optuna study\n",
    "    print(\"Best parameters file not found. Running Optuna study...\")\n",
    "    \n",
    "    # Assuming `normalized_data` is the prepared dataset\n",
    "    study = optuna.create_study(direction='minimize')\n",
    "    study.optimize(lambda trial: objective(trial, normalized_data), n_trials=50)\n",
    "\n",
    "    # Get the best hyperparameters\n",
    "    best_params = study.best_params\n",
    "    print(\"Best hyperparameters found:\", best_params)\n",
    "\n",
    "    # Save the best parameters to a JSON file\n",
    "    os.makedirs(os.path.dirname(best_params_file), exist_ok=True)  # Create directory if it doesn't exist\n",
    "    with open(best_params_file, \"w\") as f:\n",
    "        json.dump(best_params, f, indent=4)\n",
    "    print(f\"Best parameters saved to {best_params_file}\")"
   ]
  },
  {
   "cell_type": "markdown",
   "metadata": {},
   "source": [
    "### Model Training"
   ]
  },
  {
   "cell_type": "code",
   "execution_count": 16,
   "metadata": {},
   "outputs": [
    {
     "name": "stdout",
     "output_type": "stream",
     "text": [
      "Model not found at models/beta_vae_with_metadata.pth. Training a new model...\n",
      "Epoch [1/50], Training Loss: 156.5069\n",
      "Epoch [1/50], Validation Loss: 133.7886\n",
      "Epoch [2/50], Training Loss: 137.8640\n",
      "Epoch [2/50], Validation Loss: 128.8586\n",
      "Epoch [3/50], Training Loss: 136.3802\n",
      "Epoch [3/50], Validation Loss: 128.6325\n",
      "Epoch [4/50], Training Loss: 136.3518\n",
      "Epoch [4/50], Validation Loss: 128.5802\n",
      "Epoch [5/50], Training Loss: 136.3535\n",
      "Epoch [5/50], Validation Loss: 128.5835\n",
      "Epoch [6/50], Training Loss: 136.3444\n",
      "Epoch [6/50], Validation Loss: 128.5731\n",
      "Epoch [7/50], Training Loss: 136.3340\n",
      "Epoch [7/50], Validation Loss: 128.5637\n",
      "Epoch [8/50], Training Loss: 136.3397\n",
      "Epoch [8/50], Validation Loss: 128.5922\n",
      "Epoch [9/50], Training Loss: 136.3321\n",
      "Epoch [9/50], Validation Loss: 128.6126\n",
      "Epoch [10/50], Training Loss: 136.3560\n",
      "Epoch [10/50], Validation Loss: 128.6426\n",
      "Epoch [11/50], Training Loss: 136.3129\n",
      "Epoch [11/50], Validation Loss: 128.6005\n",
      "Epoch [12/50], Training Loss: 136.3412\n",
      "Epoch [12/50], Validation Loss: 128.6245\n",
      "Epoch [13/50], Training Loss: 136.3049\n",
      "Epoch [13/50], Validation Loss: 128.6649\n",
      "Epoch [14/50], Training Loss: 136.3023\n",
      "Epoch [14/50], Validation Loss: 128.6752\n",
      "Epoch [15/50], Training Loss: 136.3267\n",
      "Epoch [15/50], Validation Loss: 128.7094\n",
      "Epoch [16/50], Training Loss: 136.3084\n",
      "Epoch [16/50], Validation Loss: 128.8405\n",
      "Epoch [17/50], Training Loss: 136.2684\n",
      "Epoch [17/50], Validation Loss: 128.8815\n",
      "Epoch [18/50], Training Loss: 136.2879\n",
      "Epoch [18/50], Validation Loss: 128.8068\n",
      "Epoch [19/50], Training Loss: 136.1655\n",
      "Epoch [19/50], Validation Loss: 128.8446\n",
      "Epoch [20/50], Training Loss: 136.2905\n",
      "Epoch [20/50], Validation Loss: 128.9615\n",
      "Epoch [21/50], Training Loss: 136.1663\n",
      "Epoch [21/50], Validation Loss: 128.8687\n",
      "Epoch [22/50], Training Loss: 136.0788\n",
      "Epoch [22/50], Validation Loss: 128.8299\n",
      "Epoch [23/50], Training Loss: 136.0336\n",
      "Epoch [23/50], Validation Loss: 128.8396\n",
      "Epoch [24/50], Training Loss: 135.8619\n",
      "Epoch [24/50], Validation Loss: 129.1233\n",
      "Epoch [25/50], Training Loss: 135.5255\n",
      "Epoch [25/50], Validation Loss: 128.8299\n",
      "Epoch [26/50], Training Loss: 135.2381\n",
      "Epoch [26/50], Validation Loss: 128.9683\n",
      "Epoch [27/50], Training Loss: 135.1100\n",
      "Epoch [27/50], Validation Loss: 128.8862\n",
      "Epoch [28/50], Training Loss: 135.0152\n",
      "Epoch [28/50], Validation Loss: 128.9122\n",
      "Epoch [29/50], Training Loss: 134.9094\n",
      "Epoch [29/50], Validation Loss: 128.9504\n",
      "Epoch [30/50], Training Loss: 134.8607\n",
      "Epoch [30/50], Validation Loss: 128.7788\n",
      "Epoch [31/50], Training Loss: 134.7930\n",
      "Epoch [31/50], Validation Loss: 128.9903\n",
      "Epoch [32/50], Training Loss: 134.7922\n",
      "Epoch [32/50], Validation Loss: 128.6252\n",
      "Epoch [33/50], Training Loss: 134.7023\n",
      "Epoch [33/50], Validation Loss: 128.6472\n",
      "Epoch [34/50], Training Loss: 134.8515\n",
      "Epoch [34/50], Validation Loss: 128.9017\n",
      "Epoch [35/50], Training Loss: 134.8698\n",
      "Epoch [35/50], Validation Loss: 128.8467\n",
      "Epoch [36/50], Training Loss: 134.7596\n",
      "Epoch [36/50], Validation Loss: 128.7984\n",
      "Epoch [37/50], Training Loss: 134.6727\n",
      "Epoch [37/50], Validation Loss: 128.9430\n",
      "Epoch [38/50], Training Loss: 134.6941\n",
      "Epoch [38/50], Validation Loss: 128.7770\n",
      "Epoch [39/50], Training Loss: 134.6128\n",
      "Epoch [39/50], Validation Loss: 128.7688\n",
      "Epoch [40/50], Training Loss: 134.6046\n",
      "Epoch [40/50], Validation Loss: 129.0560\n",
      "Epoch [41/50], Training Loss: 134.7994\n",
      "Epoch [41/50], Validation Loss: 129.1200\n",
      "Epoch [42/50], Training Loss: 134.6218\n",
      "Epoch [42/50], Validation Loss: 128.7248\n",
      "Epoch [43/50], Training Loss: 134.5529\n",
      "Epoch [43/50], Validation Loss: 128.8649\n",
      "Epoch [44/50], Training Loss: 134.6110\n",
      "Epoch [44/50], Validation Loss: 128.9669\n",
      "Epoch [45/50], Training Loss: 134.7683\n",
      "Epoch [45/50], Validation Loss: 128.8567\n",
      "Epoch [46/50], Training Loss: 134.7186\n",
      "Epoch [46/50], Validation Loss: 128.7560\n",
      "Epoch [47/50], Training Loss: 134.6150\n",
      "Epoch [47/50], Validation Loss: 129.1319\n",
      "Epoch [48/50], Training Loss: 134.5288\n",
      "Epoch [48/50], Validation Loss: 128.7315\n",
      "Epoch [49/50], Training Loss: 134.5183\n",
      "Epoch [49/50], Validation Loss: 129.1498\n",
      "Epoch [50/50], Training Loss: 134.3854\n",
      "Epoch [50/50], Validation Loss: 128.7842\n",
      "Model trained and saved to models/beta_vae_with_metadata.pth.\n"
     ]
    }
   ],
   "source": [
    "\n",
    "# File path for the saved model\n",
    "model_path = \"models/beta_vae_with_metadata.pth\"\n",
    "\n",
    "RETRAIN = True\n",
    "if RETRAIN:\n",
    "    # Delete previous model file\n",
    "    if os.path.exists(model_path):\n",
    "        os.remove(model_path)\n",
    "\n",
    "# Check if the model file exists\n",
    "if os.path.exists(model_path):\n",
    "    print(f\"Model found at {model_path}. Loading the model...\")\n",
    "\n",
    "    # Load model state and metadata\n",
    "    model_metadata = torch.load(model_path)\n",
    "\n",
    "    # Recreate the model using the saved metadata\n",
    "    beta_vae = BetaVAE(\n",
    "        input_dim=model_metadata[\"input_dim\"],\n",
    "        latent_dim=model_metadata[\"latent_dim\"],\n",
    "        beta=model_metadata[\"beta\"]\n",
    "    )\n",
    "    beta_vae.load_state_dict(model_metadata[\"model_state\"])\n",
    "    beta_vae.eval()  # Set the model to evaluation mode\n",
    "    print(\"Model loaded successfully.\")\n",
    "else:\n",
    "    print(f\"Model not found at {model_path}. Training a new model...\")\n",
    "\n",
    "    # Assuming you use the best hyperparameters from Optuna\n",
    "    latent_dim = best_params['latent_dim']\n",
    "    beta = best_params['beta']\n",
    "    learning_rate = best_params['learning_rate']\n",
    "    batch_size = best_params['batch_size']\n",
    "    input_dim = stock_data_vae.shape[1]\n",
    "\n",
    "    # Recreate DataLoaders with the best batch size\n",
    "    train_loader, val_loader, test_loader = create_data_loaders(tensor_data, batch_size=batch_size)\n",
    "\n",
    "    # Initialize and train the model\n",
    "    beta_vae = BetaVAE(input_dim=input_dim, latent_dim=latent_dim, beta=beta)\n",
    "    train_beta_vae(beta_vae, train_loader, val_loader, num_epochs=50, learning_rate=learning_rate)\n",
    "\n",
    "    # Save the trained model with metadata\n",
    "    os.makedirs(os.path.dirname(model_path), exist_ok=True)  # Ensure the directory exists\n",
    "    model_metadata = {\n",
    "        \"model_state\": beta_vae.state_dict(),\n",
    "        \"input_dim\": input_dim,\n",
    "        \"latent_dim\": latent_dim,\n",
    "        \"beta\": beta\n",
    "    }\n",
    "    torch.save(model_metadata, model_path)\n",
    "    print(f\"Model trained and saved to {model_path}.\")"
   ]
  },
  {
   "cell_type": "markdown",
   "metadata": {},
   "source": [
    "### Extract Embeddings for Train/Val/Test Data "
   ]
  },
  {
   "cell_type": "code",
   "execution_count": 19,
   "metadata": {},
   "outputs": [
    {
     "name": "stdout",
     "output_type": "stream",
     "text": [
      "Train Embeddings Shape: torch.Size([348, 10])\n"
     ]
    }
   ],
   "source": [
    "# Extract embeddings for the training data\n",
    "train_embeddings = get_embeddings(beta_vae, train_loader)\n",
    "\n",
    "# Optionally, extract embeddings for validation and test data\n",
    "val_embeddings = get_embeddings(beta_vae, val_loader)\n",
    "test_embeddings = get_embeddings(beta_vae, test_loader)\n",
    "\n",
    "print(\"Train Embeddings Shape:\", train_embeddings.shape)  # Should be (num_samples, latent_dim)"
   ]
  },
  {
   "cell_type": "markdown",
   "metadata": {},
   "source": [
    "### Extract Embeddings from the Stock Data "
   ]
  },
  {
   "cell_type": "code",
   "execution_count": 25,
   "metadata": {},
   "outputs": [
    {
     "name": "stdout",
     "output_type": "stream",
     "text": [
      "Embeddings for the first stock (GPC):\n",
      "[-0.5775809  -0.10377542 -1.655416    0.1304022  -1.8716902  -0.67270297\n",
      "  1.2407281  -1.1858854  -0.08820377  1.3448488 ]\n"
     ]
    }
   ],
   "source": [
    "# Generate embeddings for the stock data\n",
    "stock_embeddings = generate_embeddings_dict(stock_data, scaler, beta_vae, ticker_col=\"Ticker\")\n",
    "\n",
    "# Display the embeddings for the first stock\n",
    "print(f\"Embeddings for the first stock ({stock_data['Ticker'].iloc[0]}):\")\n",
    "print(stock_embeddings[stock_data[\"Ticker\"].iloc[0]])"
   ]
  },
  {
   "cell_type": "markdown",
   "metadata": {},
   "source": [
    "### Portfolio Object Tests"
   ]
  },
  {
   "cell_type": "markdown",
   "metadata": {},
   "source": [
    "#### Initialization"
   ]
  },
  {
   "cell_type": "code",
   "execution_count": 90,
   "metadata": {},
   "outputs": [],
   "source": [
    "# Example returns for three stocks (numpy arrays of simulated returns)\n",
    "returns_dict = {\n",
    "    \"AAPL\": np.random.normal(0.001, 0.02, 1000),  # Apple\n",
    "    \"GOOGL\": np.random.normal(0.0012, 0.025, 1000),  # Google\n",
    "    \"MSFT\": np.random.normal(0.0008, 0.015, 1000)   # Microsoft\n",
    "}\n",
    "\n",
    "# Example weights (optional)\n",
    "weights = {\n",
    "    \"AAPL\": 0.4,\n",
    "    \"GOOGL\": 0.4,\n",
    "    \"MSFT\": 0.2\n",
    "}\n",
    "\n",
    "# Frequency of returns\n",
    "frequency = \"daily\"\n",
    "\n",
    "# Initialize the Portfolio object\n",
    "portfolio = Portfolio(returns_dict=returns_dict, frequency=frequency, weights=weights, risk_free=0.00)"
   ]
  },
  {
   "cell_type": "markdown",
   "metadata": {},
   "source": [
    "#### Attributes"
   ]
  },
  {
   "cell_type": "code",
   "execution_count": 91,
   "metadata": {},
   "outputs": [
    {
     "name": "stdout",
     "output_type": "stream",
     "text": [
      "Tickers: ['AAPL', 'GOOGL', 'MSFT']\n",
      "Raw Returns:\n",
      "AAPL: [ 0.043437    0.00268659  0.00564645  0.00516269 -0.02121924]...\n",
      "GOOGL: [ 0.00920047  0.01275269 -0.0283584   0.05358016  0.03366729]...\n",
      "MSFT: [ 0.00722692 -0.01376076 -0.00425239  0.02813144  0.00731609]...\n",
      "Covariance Matrix (Sigma):\n",
      " [[ 3.76310528e-04 -3.14454894e-05 -1.36163128e-06]\n",
      " [-3.14454894e-05  6.20888765e-04  9.05899145e-06]\n",
      " [-1.36163128e-06  9.05899145e-06  2.19474891e-04]]\n",
      "Volatilities (sigmas): [0.01939872 0.02491764 0.01481468]\n",
      "Portfolio Expected Return: 0.0015564597882511938\n",
      "Portfolio Volatility: 0.012629327124569536\n",
      "Portfolio Diversification Ratio: 1.6382094319625766\n",
      "Portfolio Sharpe Ratio: 0.12324170344936289\n"
     ]
    }
   ],
   "source": [
    "# Print the tickers in the portfolio\n",
    "print(\"Tickers:\", portfolio.tickers)\n",
    "\n",
    "# Print the raw returns dictionary\n",
    "print(\"Raw Returns:\")\n",
    "for ticker, returns in portfolio.raw_returns.items():\n",
    "    print(f\"{ticker}: {returns[:5]}...\")  # Print first 5 returns for each ticker\n",
    "\n",
    "# Print the covariance matrix\n",
    "print(\"Covariance Matrix (Sigma):\\n\", portfolio.Sigma)\n",
    "\n",
    "# Print the diagonal of the covariance matrix (sigmas)\n",
    "print(\"Volatilities (sigmas):\", portfolio.sigmas)\n",
    "\n",
    "# Portfolio statistics\n",
    "print(\"Portfolio Expected Return:\", portfolio.portfolio_expected_return)\n",
    "print(\"Portfolio Volatility:\", portfolio.portfolio_volatility)\n",
    "print(\"Portfolio Diversification Ratio:\", portfolio.diversification_ratio)\n",
    "print(\"Portfolio Sharpe Ratio:\", portfolio.sharpe_ratio)"
   ]
  },
  {
   "cell_type": "markdown",
   "metadata": {},
   "source": [
    "#### Calling Methods "
   ]
  },
  {
   "cell_type": "code",
   "execution_count": 92,
   "metadata": {},
   "outputs": [
    {
     "name": "stdout",
     "output_type": "stream",
     "text": [
      "Covariance Matrix DataFrame:\n",
      "            AAPL     GOOGL      MSFT\n",
      "AAPL   0.000376 -0.000031 -0.000001\n",
      "GOOGL -0.000031  0.000621  0.000009\n",
      "MSFT  -0.000001  0.000009  0.000219\n",
      "Expected Returns: {'AAPL': 0.0013968448242321527, 'GOOGL': 0.0022223978259293792, 'MSFT': 0.0005438136409329037}\n",
      "Volatilities (sigmas): {'AAPL': 0.019398724917969762, 'GOOGL': 0.024917639637161308, 'MSFT': 0.014814684963790955}\n",
      "Initial Weights: {'AAPL': 0.4, 'GOOGL': 0.4, 'MSFT': 0.2}\n",
      "Updated Weights: {'AAPL': 0.33847891116114504, 'GOOGL': 0.2568790568030856, 'MSFT': 0.40464203203576943}\n",
      "Updated Portfolio Expected Return: 0.0012637398292490074\n",
      "Updated Portfolio Volatility: 0.01077317989117982\n",
      "Updated Portfolio Diversification Ratio: 1.7600674522426196\n",
      "Updated Portfolio Sharpe Ratio: 0.1173042538984847\n"
     ]
    }
   ],
   "source": [
    "# Get covariance matrix as a DataFrame\n",
    "cov_matrix_df = portfolio.get_covariance_matrix()\n",
    "print(\"Covariance Matrix DataFrame:\\n\", cov_matrix_df)\n",
    "\n",
    "# Get expected returns and volatilities (sigmas) as dictionaries\n",
    "expected_returns, sigmas = portfolio.get_expected_returns_and_sigmas()\n",
    "print(\"Expected Returns:\", expected_returns)\n",
    "print(\"Volatilities (sigmas):\", sigmas)\n",
    "\n",
    "# Get initial weights\n",
    "init_weights = portfolio.get_weights()\n",
    "\n",
    "# Optimize weights for maximum diversification\n",
    "optimized_weights = portfolio.optimize_weights(method=\"max_div\", update_weights=False)\n",
    "\n",
    "# Update weights in the portfolio object after optimization\n",
    "portfolio.optimize_weights(method=\"max_div\", update_weights=True)\n",
    "\n",
    "# Show weights before and after optimization \n",
    "print(\"Initial Weights:\", init_weights)\n",
    "print(\"Updated Weights:\", portfolio.get_weights())\n",
    "\n",
    "# Updated portfolio statistics after optimization\n",
    "print(\"Updated Portfolio Expected Return:\", portfolio.portfolio_expected_return)\n",
    "print(\"Updated Portfolio Volatility:\", portfolio.portfolio_volatility)\n",
    "print(\"Updated Portfolio Diversification Ratio:\", portfolio.diversification_ratio)\n",
    "print(\"Updated Portfolio Sharpe Ratio:\", portfolio.sharpe_ratio)"
   ]
  },
  {
   "cell_type": "markdown",
   "metadata": {},
   "source": [
    "#### Copying and updating the portfolio"
   ]
  },
  {
   "cell_type": "code",
   "execution_count": 93,
   "metadata": {},
   "outputs": [
    {
     "name": "stdout",
     "output_type": "stream",
     "text": [
      "\n",
      "--- Copied Portfolio ---\n",
      "Tickers in copied portfolio: ['AAPL', 'GOOGL', 'MSFT']\n",
      "Weights in copied portfolio: {'AAPL': 0.33847891116114504, 'GOOGL': 0.2568790568030856, 'MSFT': 0.40464203203576943}\n",
      "Expected Return (Copied): 0.0012637398292490074\n",
      "Volatility (Copied): 0.01077317989117982\n",
      "Diversification Ratio (Copied): 1.7600674522426196\n",
      "Sharpe Ratio (Copied): 0.1173042538984847\n",
      "\n",
      "--- Updated Portfolio ---\n",
      "Updated Tickers: ['AAPL', 'GOOGL', 'AMZN', 'TSLA']\n",
      "Updated Weights: {'AAPL': 0.3, 'GOOGL': 0.3, 'AMZN': 0.2, 'TSLA': 0.2}\n",
      "Updated Portfolio Expected Return: 0.0018268702722948173\n",
      "Updated Portfolio Volatility: 0.014330722677749866\n",
      "Updated Portfolio Diversification Ratio: 2.0182068788800334\n",
      "Updated Portfolio Sharpe Ratio: 0.1173042538984847\n",
      "\n",
      "--- Optimization After Update ---\n",
      "Updated Tickers: ['AAPL', 'GOOGL', 'AMZN', 'TSLA']\n",
      "Updated Weights: {'AAPL': 0.360392364798825, 'GOOGL': 0.2797946710838996, 'AMZN': 0.22366153130904817, 'TSLA': 0.13615143280822717}\n",
      "Updated Portfolio Expected Return: 0.001790409156379947\n",
      "Updated Portfolio Volatility: 0.01306939955719893\n",
      "Updated Portfolio Diversification Ratio: 2.07603319460842\n",
      "Updated Portfolio Sharpe Ratio: 0.1369924569636214\n"
     ]
    }
   ],
   "source": [
    "# Example returns for additional stocks\n",
    "returns_dict_new = {\n",
    "    \"AMZN\": np.random.normal(0.0015, 0.03, 1000),  # Amazon\n",
    "    \"TSLA\": np.random.normal(0.002, 0.05, 1000)   # Tesla\n",
    "}\n",
    "\n",
    "# Copy the existing portfolio\n",
    "copied_portfolio = portfolio.copy_portfolio()\n",
    "print(\"\\n--- Copied Portfolio ---\")\n",
    "print(\"Tickers in copied portfolio:\", copied_portfolio.tickers)\n",
    "print(\"Weights in copied portfolio:\", copied_portfolio.get_weights())\n",
    "print(\"Expected Return (Copied):\", copied_portfolio.portfolio_expected_return)\n",
    "print(\"Volatility (Copied):\", copied_portfolio.portfolio_volatility)\n",
    "print(\"Diversification Ratio (Copied):\", copied_portfolio.diversification_ratio)\n",
    "print(\"Sharpe Ratio (Copied):\", copied_portfolio.sharpe_ratio)\n",
    "\n",
    "# Update portfolio: Add new tickers and remove an existing ticker\n",
    "add_tickers = {\"AMZN\": returns_dict_new[\"AMZN\"], \"TSLA\": returns_dict_new[\"TSLA\"]}\n",
    "remove_tickers = [\"MSFT\"]\n",
    "new_weights = {\"AAPL\": 0.3, \"GOOGL\": 0.3, \"AMZN\": 0.2, \"TSLA\": 0.2}\n",
    "\n",
    "# Update the portfolio \n",
    "portfolio.update_portfolio(add_tickers=add_tickers, remove_tickers=remove_tickers, new_weights=new_weights)\n",
    "\n",
    "# Print updated portfolio attributes\n",
    "print(\"\\n--- Updated Portfolio ---\")\n",
    "print(\"Updated Tickers:\", portfolio.tickers)\n",
    "print(\"Updated Weights:\", portfolio.get_weights())\n",
    "\n",
    "# Portfolio statistics after update\n",
    "print(\"Updated Portfolio Expected Return:\", portfolio.portfolio_expected_return)\n",
    "print(\"Updated Portfolio Volatility:\", portfolio.portfolio_volatility)\n",
    "print(\"Updated Portfolio Diversification Ratio:\", portfolio.diversification_ratio)\n",
    "print(\"Updated Portfolio Sharpe Ratio:\", portfolio.sharpe_ratio)\n",
    "\n",
    "# Optimize updated portfolio weights and compare again \n",
    "print(\"\\n--- Optimization After Update ---\")\n",
    "portfolio.optimize_weights(method=\"max_div\", update_weights=True)\n",
    "\n",
    "# Updated portfolio statistics after optimization\n",
    "print(\"Updated Tickers:\", portfolio.tickers)\n",
    "print(\"Updated Weights:\", portfolio.get_weights())\n",
    "print(\"Updated Portfolio Expected Return:\", portfolio.portfolio_expected_return)\n",
    "print(\"Updated Portfolio Volatility:\", portfolio.portfolio_volatility)\n",
    "print(\"Updated Portfolio Diversification Ratio:\", portfolio.diversification_ratio)\n",
    "print(\"Updated Portfolio Sharpe Ratio:\", portfolio.sharpe_ratio)"
   ]
  },
  {
   "cell_type": "markdown",
   "metadata": {},
   "source": [
    "### Fetching Returns-Only Data For All Stocks"
   ]
  },
  {
   "cell_type": "code",
   "execution_count": 41,
   "metadata": {},
   "outputs": [
    {
     "name": "stdout",
     "output_type": "stream",
     "text": [
      "498\n",
      "['GPC', 'CHD', 'CAT', 'GD', 'KVUE']\n"
     ]
    },
    {
     "name": "stderr",
     "output_type": "stream",
     "text": [
      "Fetching Data: 100%|██████████| 498/498 [02:28<00:00,  3.36ticker/s]\n"
     ]
    }
   ],
   "source": [
    "# Fetch and calculate returns for the all tickers in the S&P 500 and additional tickers\n",
    "all_tickers = stock_data[\"Ticker\"].values.tolist()  # All S&P 500 tickers\n",
    "print(len(all_tickers))\n",
    "print(all_tickers[:5])\n",
    "\n",
    "# Fetch and calculate returns for all tickers\n",
    "all_returns = fetch_and_calculate_returns(all_tickers, period=\"1y\", interval=\"1wk\", price_column=\"Close\")\n"
   ]
  },
  {
   "cell_type": "code",
   "execution_count": 94,
   "metadata": {},
   "outputs": [
    {
     "name": "stdout",
     "output_type": "stream",
     "text": [
      "Returns for AAPL:\n",
      "[ 0.00668535  0.02337363  0.00950388 -0.02009403 -0.00552697 -0.05895191\n",
      "  0.02616181  0.03033579  0.00448936 -0.03414395  0.01614201 -0.03339895\n",
      "  0.00115197 -0.0156695  -0.04970504  0.01107007 -0.00196956 -0.00464362\n",
      " -0.01107997  0.04110154 -0.06542058  0.02606062  0.08316588 -0.00179947\n",
      "  0.0386644   0.00057937  0.01194859  0.02413527  0.07923211 -0.02353049\n",
      "  0.01508496  0.0746368   0.01855617 -0.02702351 -0.02830899  0.00871721\n",
      " -0.01646498  0.04536618  0.00465631  0.00952219 -0.0357205   0.00760797\n",
      "  0.02561793 -0.00179665 -0.00434609  0.00330688  0.03274001 -0.01527655\n",
      " -0.03673136  0.01816883 -0.00754524  0.02164442]\n"
     ]
    }
   ],
   "source": [
    "# Show one example return series\n",
    "print(\"Returns for AAPL:\")\n",
    "print(all_returns[\"AAPL\"])"
   ]
  },
  {
   "cell_type": "markdown",
   "metadata": {},
   "source": [
    "### Building the Recommendation Function "
   ]
  },
  {
   "cell_type": "code",
   "execution_count": 113,
   "metadata": {},
   "outputs": [
    {
     "name": "stdout",
     "output_type": "stream",
     "text": [
      "Portfolio Summary:\n",
      "Tickers: ['ORCL', 'WEC', 'OXY', 'CTVA', 'PYPL', 'ROL', 'SWK', 'ZBRA', 'ADM', 'TMUS', 'MMM', 'MO', 'CTRA', 'DOC', 'KMX', 'ACGL', 'TGT', 'CMS', 'MSFT', 'STX']\n",
      "Weights: {'ORCL': 0.05, 'WEC': 0.05, 'OXY': 0.05, 'CTVA': 0.05, 'PYPL': 0.05, 'ROL': 0.05, 'SWK': 0.05, 'ZBRA': 0.05, 'ADM': 0.05, 'TMUS': 0.05, 'MMM': 0.05, 'MO': 0.05, 'CTRA': 0.05, 'DOC': 0.05, 'KMX': 0.05, 'ACGL': 0.05, 'TGT': 0.05, 'CMS': 0.05, 'MSFT': 0.05, 'STX': 0.05}\n",
      "Portfolio Expected Return: 0.005182431002027229\n",
      "Portfolio Volatility: 0.015563503454339548\n",
      "Portfolio Diversification Ratio: 2.305638169440058\n",
      "Portfolio Sharpe Ratio: 0.3329861439766134\n"
     ]
    },
    {
     "data": {
      "image/png": "[encoded data removed]",
      "text/plain": [
       "<Figure size 1000x600 with 1 Axes>"
      ]
     },
     "metadata": {},
     "output_type": "display_data"
    }
   ],
   "source": [
    "# Choose some 20 keys at random \n",
    "random_tickers = np.random.choice(list(all_returns.keys()), 20, replace=False)\n",
    "\n",
    "# Create a dictionary of returns with only the random tickers\n",
    "random_returns = {ticker: all_returns[ticker] for ticker in random_tickers}\n",
    "\n",
    "# Use this dictionary to initialize a Portfolio object\n",
    "random_portfolio = Portfolio(returns_dict=random_returns, frequency=\"weekly\")\n",
    "\n",
    "# Obtain a summary of the portfolio \n",
    "random_portfolio.summarize_portfolio()\n",
    "\n",
    "# Visualize portfolio distribution \n",
    "random_portfolio.visualize_portfolio_distribution()\n"
   ]
  },
  {
   "cell_type": "code",
   "execution_count": 115,
   "metadata": {},
   "outputs": [
    {
     "name": "stdout",
     "output_type": "stream",
     "text": [
      "\n",
      "--- Portfolio Summary After Optimization ---\n",
      "Portfolio Summary:\n",
      "Tickers: ['ORCL', 'WEC', 'OXY', 'CTVA', 'PYPL', 'ROL', 'SWK', 'ZBRA', 'ADM', 'TMUS', 'MMM', 'MO', 'CTRA', 'DOC', 'KMX', 'ACGL', 'TGT', 'CMS', 'MSFT', 'STX']\n",
      "Weights: {'ORCL': 0.00754545865797311, 'WEC': 1.9540430800757833e-17, 'OXY': 0.15418236768014174, 'CTVA': 0.0003475568408828117, 'PYPL': 5.267234520420417e-17, 'ROL': 1.1854449375532467e-17, 'SWK': 0.0, 'ZBRA': 4.83943335210088e-16, 'ADM': 0.003789022294009285, 'TMUS': 0.16384862774017545, 'MMM': 0.05970890087296331, 'MO': 0.16610237660033184, 'CTRA': 0.0, 'DOC': 0.0, 'KMX': 0.0, 'ACGL': 0.0, 'TGT': 0.04760537848708813, 'CMS': 0.1612368348780498, 'MSFT': 0.20753729203375307, 'STX': 0.028096183914639507}\n",
      "Portfolio Expected Return: 0.004757381653321498\n",
      "Portfolio Volatility: 0.00959719939556063\n",
      "Portfolio Diversification Ratio: 3.0173504977454857\n",
      "Portfolio Sharpe Ratio: 0.4957052007820237\n"
     ]
    },
    {
     "data": {
      "image/png": "[encoded data removed]",
      "text/plain": [
       "<Figure size 1000x600 with 1 Axes>"
      ]
     },
     "metadata": {},
     "output_type": "display_data"
    }
   ],
   "source": [
    "# Optimize portfolio weights \n",
    "random_portfolio.optimize_weights(method=\"max_div\", update_weights=True)\n",
    "\n",
    "# Summarize the portfolio after optimization\n",
    "print(\"\\n--- Portfolio Summary After Optimization ---\")\n",
    "random_portfolio.summarize_portfolio()\n",
    "\n",
    "# Visualize the portfolio distribution after optimization\n",
    "random_portfolio.visualize_portfolio_distribution()"
   ]
  },
  {
   "cell_type": "code",
   "execution_count": null,
   "metadata": {},
   "outputs": [],
   "source": []
  }
 ],
 "metadata": {
  "kernelspec": {
   "display_name": "stk_env",
   "language": "python",
   "name": "python3"
  },
  "language_info": {
   "codemirror_mode": {
    "name": "ipython",
    "version": 3
   },
   "file_extension": ".py",
   "mimetype": "text/x-python",
   "name": "python",
   "nbconvert_exporter": "python",
   "pygments_lexer": "ipython3",
   "version": "3.10.15"
  }
 },
 "nbformat": 4,
 "nbformat_minor": 2
}
