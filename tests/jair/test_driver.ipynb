{
 "cells": [
  {
   "cell_type": "markdown",
   "metadata": {},
   "source": [
    "# Testing Stock Fetcher "
   ]
  },
  {
   "cell_type": "markdown",
   "metadata": {},
   "source": [
    "## Imports "
   ]
  },
  {
   "cell_type": "code",
   "execution_count": 1,
   "metadata": {},
   "outputs": [
    {
     "data": {
      "text/plain": [
       "<module 'src.portfolio' from 'c:\\\\Users\\\\jairp\\\\OneDrive\\\\Desktop_remote\\\\HEC Montreal\\\\4. Fall 2024\\\\Deep Learning II\\\\Project\\\\StockDiversifier\\\\src\\\\portfolio.py'>"
      ]
     },
     "execution_count": 1,
     "metadata": {},
     "output_type": "execute_result"
    }
   ],
   "source": [
    "# Reload Custom Modules \n",
    "import importlib\n",
    "import src.beta_vae\n",
    "import src.data_fetching \n",
    "import src.portfolio\n",
    "importlib.reload(src.beta_vae)\n",
    "importlib.reload(src.data_fetching)\n",
    "importlib.reload(src.portfolio)"
   ]
  },
  {
   "cell_type": "code",
   "execution_count": 2,
   "metadata": {},
   "outputs": [],
   "source": [
    "# General \n",
    "import os \n",
    "import json \n",
    "import random \n",
    "from tqdm.notebook import tqdm\n",
    "\n",
    "# Data Science\n",
    "import optuna \n",
    "import numpy as np \n",
    "import pandas as pd\n",
    "from sklearn.impute import KNNImputer\n",
    "from sklearn.preprocessing import StandardScaler\n",
    "from scipy.spatial.distance import cdist\n",
    "\n",
    "# PyTorch\n",
    "import torch\n",
    "\n",
    "# Custom Classes \n",
    "from src.beta_vae import Encoder\n",
    "from src.beta_vae import Decoder\n",
    "from src.beta_vae import BetaVAE\n",
    "from src.portfolio import Portfolio\n",
    "\n",
    "# Custom Functions\n",
    "from src.beta_vae import create_data_loaders\n",
    "from src.beta_vae import create_single_data_loader\n",
    "from src.beta_vae import objective\n",
    "from src.beta_vae import train_beta_vae\n",
    "from src.beta_vae import get_embeddings\n",
    "from src.beta_vae import generate_embeddings_dict\n",
    "from src.portfolio import fetch_and_calculate_returns\n",
    "from src.data_fetching import scrape_sp500_wikipedia\n",
    "from src.data_fetching import fetch_stock_data\n",
    "from src.data_fetching import prepare_data_for_vae"
   ]
  },
  {
   "cell_type": "code",
   "execution_count": 10,
   "metadata": {},
   "outputs": [],
   "source": [
    "custom_tickers = [\n",
    "    'PLTR',  # Palantir Technologies Inc. (Technology)\n",
    "    'COIN',  # Coinbase Global, Inc. (Financials)\n",
    "    'WDAY',  # Workday, Inc. (Technology)\n",
    "    'TTD',   # The Trade Desk, Inc. (Technology)\n",
    "    'APO',   # Apollo Global Management, Inc. (Financials)\n",
    "    'MELI',  # MercadoLibre, Inc. (Consumer Discretionary)\n",
    "    'NVO',   # Novo Nordisk A/S (Healthcare)\n",
    "    'ICON',  # Icon PLC (Healthcare)\n",
    "    'TSM',   # Taiwan Semiconductor Manufacturing Company Limited (Technology)\n",
    "    'SKX',   # Skechers U.S.A., Inc. (Consumer Discretionary)\n",
    "    'BAYRY', # Bayer AG (Healthcare)\n",
    "    'DISCK', # Discovery, Inc. (Communication Services)\n",
    "    'FNV',   # Franco-Nevada Corporation (Materials)\n",
    "    'SHOP',  # Shopify Inc. (Technology)\n",
    "    'SQ',    # Square, Inc. (Technology)\n",
    "    'UBER',  # Uber Technologies, Inc. (Industrials)\n",
    "    'ZM',    # Zoom Video Communications, Inc. (Technology)\n",
    "    'TWLO',  # Twilio Inc. (Technology)\n",
    "    'MRNA',  # Moderna, Inc. (Healthcare)\n",
    "    'WDAY',  # Workday, Inc. (Technology)\n",
    "    'DOCU',  # DocuSign, Inc. (Technology)\n",
    "    'VEEV',  # Veeva Systems Inc. (Healthcare)\n",
    "    'LULU',  # Lululemon Athletica Inc. (Consumer Discretionary)\n",
    "    'ROKU',  # Roku, Inc. (Communication Services)\n",
    "    'CRWD',  # CrowdStrike Holdings, Inc. (Technology)\n",
    "    'SNOW',  # Snowflake Inc. (Technology)\n",
    "    'NET',   # Cloudflare, Inc. (Technology)\n",
    "    'PINS',  # Pinterest, Inc. (Communication Services)\n",
    "    'ETSY',  # Etsy, Inc. (Consumer Discretionary)\n",
    "    'SPOT'   # Spotify Technology S.A. (Communication Services)\n",
    "]"
   ]
  },
  {
   "cell_type": "markdown",
   "metadata": {},
   "source": [
    "## Fetching the data "
   ]
  },
  {
   "cell_type": "code",
   "execution_count": 15,
   "metadata": {},
   "outputs": [],
   "source": [
    "REFETCH = False \n",
    "\n",
    "# Scrape S&P 500 companies names, tikers and industris from Wikipedia\n",
    "sp500_df = scrape_sp500_wikipedia()  \n",
    "\n",
    "if REFETCH:\n",
    "    # Fetch data for all sp500 + custom tickers\n",
    "    stock_data, sector_mapping, industry_mapping = fetch_stock_data(sp500_df, custom_tickers, \n",
    "                                                                    period = \"1y\", interval = \"1wk\",\n",
    "                                                                    savepath=\"data_raw/stock_data.csv\") # Fetch data\n",
    "else: \n",
    "    # read data from file\n",
    "    stock_data = pd.read_csv(\"data_raw/stock_data.csv\", index_col=0).reset_index()\n",
    "\n",
    "# Prepare data for VAE\n",
    "stock_data_vae = prepare_data_for_vae(stock_data) \n"
   ]
  },
  {
   "cell_type": "code",
   "execution_count": 4,
   "metadata": {},
   "outputs": [
    {
     "data": {
      "text/html": [
       "<div>\n",
       "<style scoped>\n",
       "    .dataframe tbody tr th:only-of-type {\n",
       "        vertical-align: middle;\n",
       "    }\n",
       "\n",
       "    .dataframe tbody tr th {\n",
       "        vertical-align: top;\n",
       "    }\n",
       "\n",
       "    .dataframe thead th {\n",
       "        text-align: right;\n",
       "    }\n",
       "</style>\n",
       "<table border=\"1\" class=\"dataframe\">\n",
       "  <thead>\n",
       "    <tr style=\"text-align: right;\">\n",
       "      <th></th>\n",
       "      <th>Ticker</th>\n",
       "      <th>Company Name</th>\n",
       "      <th>Market Cap</th>\n",
       "      <th>Sector</th>\n",
       "      <th>Industry</th>\n",
       "      <th>Open Price</th>\n",
       "      <th>Close Price</th>\n",
       "      <th>High Price</th>\n",
       "      <th>Low Price</th>\n",
       "      <th>Last Close</th>\n",
       "      <th>52 Week High</th>\n",
       "      <th>52 Week Low</th>\n",
       "      <th>Last Month Volatility</th>\n",
       "      <th>52 Week Volatility</th>\n",
       "      <th>Yearly Dividend Rate</th>\n",
       "      <th>Last Year Return Rate</th>\n",
       "      <th>Sector_encoded</th>\n",
       "      <th>Industry_encoded</th>\n",
       "    </tr>\n",
       "  </thead>\n",
       "  <tbody>\n",
       "    <tr>\n",
       "      <th>0</th>\n",
       "      <td>NWSA</td>\n",
       "      <td>News Corporation</td>\n",
       "      <td>1.726500e+10</td>\n",
       "      <td>Communication Services</td>\n",
       "      <td>Entertainment</td>\n",
       "      <td>25.930760</td>\n",
       "      <td>26.045643</td>\n",
       "      <td>30.040001</td>\n",
       "      <td>21.357464</td>\n",
       "      <td>29.514999</td>\n",
       "      <td>30.040001</td>\n",
       "      <td>21.357462</td>\n",
       "      <td>0.201953</td>\n",
       "      <td>0.207794</td>\n",
       "      <td>0.20</td>\n",
       "      <td>0.328255</td>\n",
       "      <td>0</td>\n",
       "      <td>0</td>\n",
       "    </tr>\n",
       "    <tr>\n",
       "      <th>1</th>\n",
       "      <td>AAPL</td>\n",
       "      <td>Apple Inc.</td>\n",
       "      <td>3.479355e+12</td>\n",
       "      <td>Information Technology</td>\n",
       "      <td>Consumer Electronics</td>\n",
       "      <td>201.028515</td>\n",
       "      <td>202.235961</td>\n",
       "      <td>237.228999</td>\n",
       "      <td>163.488440</td>\n",
       "      <td>230.179993</td>\n",
       "      <td>237.229001</td>\n",
       "      <td>163.488440</td>\n",
       "      <td>0.226025</td>\n",
       "      <td>0.225397</td>\n",
       "      <td>1.00</td>\n",
       "      <td>0.218756</td>\n",
       "      <td>1</td>\n",
       "      <td>1</td>\n",
       "    </tr>\n",
       "    <tr>\n",
       "      <th>2</th>\n",
       "      <td>CMS</td>\n",
       "      <td>CMS Energy Corporation</td>\n",
       "      <td>2.068339e+10</td>\n",
       "      <td>Utilities</td>\n",
       "      <td>Utilities - Regulated Electric</td>\n",
       "      <td>61.201230</td>\n",
       "      <td>61.396029</td>\n",
       "      <td>71.852481</td>\n",
       "      <td>53.738413</td>\n",
       "      <td>69.224998</td>\n",
       "      <td>71.852482</td>\n",
       "      <td>53.738413</td>\n",
       "      <td>0.160289</td>\n",
       "      <td>0.168458</td>\n",
       "      <td>2.06</td>\n",
       "      <td>0.247739</td>\n",
       "      <td>2</td>\n",
       "      <td>2</td>\n",
       "    </tr>\n",
       "    <tr>\n",
       "      <th>3</th>\n",
       "      <td>ENPH</td>\n",
       "      <td>Enphase Energy, Inc.</td>\n",
       "      <td>9.497347e+09</td>\n",
       "      <td>Information Technology</td>\n",
       "      <td>Solar</td>\n",
       "      <td>109.958868</td>\n",
       "      <td>109.344245</td>\n",
       "      <td>141.630005</td>\n",
       "      <td>58.330002</td>\n",
       "      <td>70.294998</td>\n",
       "      <td>141.630005</td>\n",
       "      <td>58.330002</td>\n",
       "      <td>0.683696</td>\n",
       "      <td>0.644609</td>\n",
       "      <td>0.00</td>\n",
       "      <td>-0.281237</td>\n",
       "      <td>1</td>\n",
       "      <td>3</td>\n",
       "    </tr>\n",
       "    <tr>\n",
       "      <th>4</th>\n",
       "      <td>WM</td>\n",
       "      <td>Waste Management, Inc.</td>\n",
       "      <td>9.076090e+10</td>\n",
       "      <td>Industrials</td>\n",
       "      <td>Waste Management</td>\n",
       "      <td>201.623019</td>\n",
       "      <td>202.600001</td>\n",
       "      <td>226.839996</td>\n",
       "      <td>166.214828</td>\n",
       "      <td>226.130005</td>\n",
       "      <td>226.839996</td>\n",
       "      <td>166.333060</td>\n",
       "      <td>0.201495</td>\n",
       "      <td>0.180754</td>\n",
       "      <td>3.00</td>\n",
       "      <td>0.338651</td>\n",
       "      <td>3</td>\n",
       "      <td>4</td>\n",
       "    </tr>\n",
       "  </tbody>\n",
       "</table>\n",
       "</div>"
      ],
      "text/plain": [
       "  Ticker            Company Name    Market Cap                  Sector  \\\n",
       "0   NWSA        News Corporation  1.726500e+10  Communication Services   \n",
       "1   AAPL              Apple Inc.  3.479355e+12  Information Technology   \n",
       "2    CMS  CMS Energy Corporation  2.068339e+10               Utilities   \n",
       "3   ENPH    Enphase Energy, Inc.  9.497347e+09  Information Technology   \n",
       "4     WM  Waste Management, Inc.  9.076090e+10             Industrials   \n",
       "\n",
       "                         Industry  Open Price  Close Price  High Price  \\\n",
       "0                   Entertainment   25.930760    26.045643   30.040001   \n",
       "1            Consumer Electronics  201.028515   202.235961  237.228999   \n",
       "2  Utilities - Regulated Electric   61.201230    61.396029   71.852481   \n",
       "3                           Solar  109.958868   109.344245  141.630005   \n",
       "4                Waste Management  201.623019   202.600001  226.839996   \n",
       "\n",
       "    Low Price  Last Close  52 Week High  52 Week Low  Last Month Volatility  \\\n",
       "0   21.357464   29.514999     30.040001    21.357462               0.201953   \n",
       "1  163.488440  230.179993    237.229001   163.488440               0.226025   \n",
       "2   53.738413   69.224998     71.852482    53.738413               0.160289   \n",
       "3   58.330002   70.294998    141.630005    58.330002               0.683696   \n",
       "4  166.214828  226.130005    226.839996   166.333060               0.201495   \n",
       "\n",
       "   52 Week Volatility  Yearly Dividend Rate  Last Year Return Rate  \\\n",
       "0            0.207794                  0.20               0.328255   \n",
       "1            0.225397                  1.00               0.218756   \n",
       "2            0.168458                  2.06               0.247739   \n",
       "3            0.644609                  0.00              -0.281237   \n",
       "4            0.180754                  3.00               0.338651   \n",
       "\n",
       "   Sector_encoded  Industry_encoded  \n",
       "0               0                 0  \n",
       "1               1                 1  \n",
       "2               2                 2  \n",
       "3               1                 3  \n",
       "4               3                 4  "
      ]
     },
     "execution_count": 4,
     "metadata": {},
     "output_type": "execute_result"
    }
   ],
   "source": [
    "stock_data.head()"
   ]
  },
  {
   "cell_type": "code",
   "execution_count": 16,
   "metadata": {},
   "outputs": [
    {
     "name": "stdout",
     "output_type": "stream",
     "text": [
      "     Market Cap  Open Price  Close Price  High Price   Low Price  Last Close  \\\n",
      "0  1.726500e+10   25.930760    26.045643   30.040001   21.357464   29.514999   \n",
      "1  3.479355e+12  201.028515   202.235961  237.228999  163.488440  230.179993   \n",
      "2  2.068339e+10   61.201230    61.396029   71.852481   53.738413   69.224998   \n",
      "3  9.497347e+09  109.958868   109.344245  141.630005   58.330002   70.294998   \n",
      "4  9.076090e+10  201.623019   202.600001  226.839996  166.214828  226.130005   \n",
      "\n",
      "   52 Week High  52 Week Low  Last Month Volatility  52 Week Volatility  ...  \\\n",
      "0     30.040001    21.357462               0.201953            0.207794  ...   \n",
      "1    237.229001   163.488440               0.226025            0.225397  ...   \n",
      "2     71.852482    53.738413               0.160289            0.168458  ...   \n",
      "3    141.630005    58.330002               0.683696            0.644609  ...   \n",
      "4    226.839996   166.333060               0.201495            0.180754  ...   \n",
      "\n",
      "   Industry_Travel Services  Industry_Trucking  \\\n",
      "0                       0.0                0.0   \n",
      "1                       0.0                0.0   \n",
      "2                       0.0                0.0   \n",
      "3                       0.0                0.0   \n",
      "4                       0.0                0.0   \n",
      "\n",
      "   Industry_Utilities - Diversified  \\\n",
      "0                               0.0   \n",
      "1                               0.0   \n",
      "2                               0.0   \n",
      "3                               0.0   \n",
      "4                               0.0   \n",
      "\n",
      "   Industry_Utilities - Independent Power Producers  \\\n",
      "0                                               0.0   \n",
      "1                                               0.0   \n",
      "2                                               0.0   \n",
      "3                                               0.0   \n",
      "4                                               0.0   \n",
      "\n",
      "   Industry_Utilities - Regulated Electric  \\\n",
      "0                                      0.0   \n",
      "1                                      0.0   \n",
      "2                                      1.0   \n",
      "3                                      0.0   \n",
      "4                                      0.0   \n",
      "\n",
      "   Industry_Utilities - Regulated Gas  Industry_Utilities - Regulated Water  \\\n",
      "0                                 0.0                                   0.0   \n",
      "1                                 0.0                                   0.0   \n",
      "2                                 0.0                                   0.0   \n",
      "3                                 0.0                                   0.0   \n",
      "4                                 0.0                                   0.0   \n",
      "\n",
      "   Industry_Utilities - Renewable  Industry_Waste Management  Industry_Other  \n",
      "0                             0.0                        0.0             0.0  \n",
      "1                             0.0                        0.0             0.0  \n",
      "2                             0.0                        0.0             0.0  \n",
      "3                             0.0                        0.0             0.0  \n",
      "4                             0.0                        1.0             0.0  \n",
      "\n",
      "[5 rows x 145 columns]\n"
     ]
    }
   ],
   "source": [
    "# Display the data \n",
    "print(stock_data_vae.head())"
   ]
  },
  {
   "cell_type": "code",
   "execution_count": 17,
   "metadata": {},
   "outputs": [
    {
     "name": "stdout",
     "output_type": "stream",
     "text": [
      "18\n",
      "145\n",
      "519\n",
      "Market Cap                              float64\n",
      "Open Price                              float64\n",
      "Close Price                             float64\n",
      "High Price                              float64\n",
      "Low Price                               float64\n",
      "                                         ...   \n",
      "Industry_Utilities - Regulated Gas      float64\n",
      "Industry_Utilities - Regulated Water    float64\n",
      "Industry_Utilities - Renewable          float64\n",
      "Industry_Waste Management               float64\n",
      "Industry_Other                          float64\n",
      "Length: 145, dtype: object\n"
     ]
    }
   ],
   "source": [
    "# Print number of columns for stock_data \n",
    "print(len(stock_data.columns))\n",
    "\n",
    "# Print number of columns in total \n",
    "print(len(stock_data_vae.columns))\n",
    "\n",
    "# Print total number of rows \n",
    "print(len(stock_data_vae))\n",
    "\n",
    "# Print the data types of the columns\n",
    "print(stock_data_vae.dtypes)"
   ]
  },
  {
   "cell_type": "code",
   "execution_count": 18,
   "metadata": {},
   "outputs": [
    {
     "name": "stdout",
     "output_type": "stream",
     "text": [
      "Index(['Market Cap', 'Open Price', 'Close Price', 'High Price', 'Low Price',\n",
      "       'Last Close', '52 Week High', '52 Week Low', 'Last Month Volatility',\n",
      "       '52 Week Volatility',\n",
      "       ...\n",
      "       'Industry_Travel Services', 'Industry_Trucking',\n",
      "       'Industry_Utilities - Diversified',\n",
      "       'Industry_Utilities - Independent Power Producers',\n",
      "       'Industry_Utilities - Regulated Electric',\n",
      "       'Industry_Utilities - Regulated Gas',\n",
      "       'Industry_Utilities - Regulated Water',\n",
      "       'Industry_Utilities - Renewable', 'Industry_Waste Management',\n",
      "       'Industry_Other'],\n",
      "      dtype='object', length=145)\n"
     ]
    }
   ],
   "source": [
    "print(stock_data_vae.columns)"
   ]
  },
  {
   "cell_type": "markdown",
   "metadata": {},
   "source": [
    "### Check for any NA's"
   ]
  },
  {
   "cell_type": "code",
   "execution_count": 19,
   "metadata": {},
   "outputs": [
    {
     "name": "stdout",
     "output_type": "stream",
     "text": [
      "0\n",
      "[]\n",
      "Series([], dtype: float64)\n"
     ]
    }
   ],
   "source": [
    "# Check if any columns have nas\n",
    "print(stock_data_vae.isna().sum().sum())\n",
    "\n",
    "# Produce a list of columns with nas, and the amount for each \n",
    "print(stock_data_vae.columns[stock_data_vae.isna().any()].tolist())\n",
    "\n",
    "# Calculate the proportion of nas in the stock_data_vae dataframe for each column with nas \n",
    "# only for the columns with nas\n",
    "nas_proportion = stock_data_vae.isna().mean()\n",
    "print(nas_proportion[stock_data_vae.columns[stock_data_vae.isna().any()].tolist()])"
   ]
  },
  {
   "cell_type": "markdown",
   "metadata": {},
   "source": [
    "## Fitting the $\\beta$-VAE"
   ]
  },
  {
   "cell_type": "markdown",
   "metadata": {},
   "source": [
    "### Data Preparation"
   ]
  },
  {
   "cell_type": "code",
   "execution_count": 20,
   "metadata": {},
   "outputs": [
    {
     "data": {
      "text/plain": [
       "torch.Size([64, 145])"
      ]
     },
     "execution_count": 20,
     "metadata": {},
     "output_type": "execute_result"
    }
   ],
   "source": [
    "# Normalize the stock data\n",
    "scaler = StandardScaler()\n",
    "normalized_data = scaler.fit_transform(stock_data_vae)\n",
    "\n",
    "# Convert the normalized data to PyTorch tensors\n",
    "tensor_data = torch.tensor(normalized_data, dtype=torch.float32)\n",
    "\n",
    "# Create data loaders\n",
    "train_loader, val_loader, test_loader = create_data_loaders(tensor_data)\n",
    "\n",
    "# Check the DataLoader output\n",
    "next(iter(train_loader))[0].shape  # Shape of one batch of data"
   ]
  },
  {
   "cell_type": "markdown",
   "metadata": {},
   "source": [
    "### Hyperparameter Tunning"
   ]
  },
  {
   "cell_type": "code",
   "execution_count": null,
   "metadata": {},
   "outputs": [],
   "source": [
    "# Define the file path for storing the best parameters\n",
    "best_params_file = \"config/best_params.json\"\n",
    "\n",
    "REWRITE = True \n",
    "if REWRITE:\n",
    "    # Delete previous best_params file\n",
    "    if os.path.exists(best_params_file):\n",
    "        os.remove(best_params_file)\n",
    "\n",
    "# Check if the best_params file exists\n",
    "if os.path.exists(best_params_file):\n",
    "    # Load the best parameters from the file\n",
    "    with open(best_params_file, \"r\") as f:\n",
    "        best_params = json.load(f)\n",
    "    print(\"Loaded best parameters from file:\", best_params)\n",
    "    \n",
    "else:\n",
    "    # File doesn't exist, run the Optuna study\n",
    "    print(\"Best parameters file not found. Running Optuna study...\")\n",
    "    \n",
    "    # Assuming `normalized_data` is the prepared dataset\n",
    "    study = optuna.create_study(direction='minimize')\n",
    "    study.optimize(lambda trial: objective(trial, normalized_data), n_trials=50)\n",
    "\n",
    "    # Get the best hyperparameters\n",
    "    best_params = study.best_params\n",
    "    print(\"Best hyperparameters found:\", best_params)\n",
    "\n",
    "    # Save the best parameters to a JSON file\n",
    "    os.makedirs(os.path.dirname(best_params_file), exist_ok=True)  # Create directory if it doesn't exist\n",
    "    with open(best_params_file, \"w\") as f:\n",
    "        json.dump(best_params, f, indent=4)\n",
    "    print(f\"Best parameters saved to {best_params_file}\")"
   ]
  },
  {
   "cell_type": "markdown",
   "metadata": {},
   "source": [
    "### Model Training"
   ]
  },
  {
   "cell_type": "code",
   "execution_count": 22,
   "metadata": {},
   "outputs": [
    {
     "name": "stdout",
     "output_type": "stream",
     "text": [
      "Model not found at models/beta_vae_with_metadata.pth. Training a new model...\n",
      "Epoch [1/50], Training Loss: 167.5034\n",
      "Epoch [1/50], Validation Loss: 125.8878\n",
      "Epoch [2/50], Training Loss: 146.6011\n",
      "Epoch [2/50], Validation Loss: 120.3968\n",
      "Epoch [3/50], Training Loss: 144.7640\n",
      "Epoch [3/50], Validation Loss: 120.1379\n",
      "Epoch [4/50], Training Loss: 144.6951\n",
      "Epoch [4/50], Validation Loss: 120.0853\n",
      "Epoch [5/50], Training Loss: 144.6854\n",
      "Epoch [5/50], Validation Loss: 120.1059\n",
      "Epoch [6/50], Training Loss: 144.6905\n",
      "Epoch [6/50], Validation Loss: 120.1004\n",
      "Epoch [7/50], Training Loss: 144.6757\n",
      "Epoch [7/50], Validation Loss: 120.1352\n",
      "Epoch [8/50], Training Loss: 144.6750\n",
      "Epoch [8/50], Validation Loss: 120.1207\n",
      "Epoch [9/50], Training Loss: 144.6799\n",
      "Epoch [9/50], Validation Loss: 120.1169\n",
      "Epoch [10/50], Training Loss: 144.6830\n",
      "Epoch [10/50], Validation Loss: 120.1173\n",
      "Epoch [11/50], Training Loss: 144.6680\n",
      "Epoch [11/50], Validation Loss: 120.1121\n",
      "Epoch [12/50], Training Loss: 144.6745\n",
      "Epoch [12/50], Validation Loss: 120.1486\n",
      "Epoch [13/50], Training Loss: 144.6628\n",
      "Epoch [13/50], Validation Loss: 120.1393\n",
      "Epoch [14/50], Training Loss: 144.6888\n",
      "Epoch [14/50], Validation Loss: 120.1363\n",
      "Epoch [15/50], Training Loss: 144.6776\n",
      "Epoch [15/50], Validation Loss: 120.1394\n",
      "Epoch [16/50], Training Loss: 144.6625\n",
      "Epoch [16/50], Validation Loss: 120.1764\n",
      "Epoch [17/50], Training Loss: 144.6463\n",
      "Epoch [17/50], Validation Loss: 120.1567\n",
      "Epoch [18/50], Training Loss: 144.6714\n",
      "Epoch [18/50], Validation Loss: 120.1932\n",
      "Epoch [19/50], Training Loss: 144.6515\n",
      "Epoch [19/50], Validation Loss: 120.2114\n",
      "Epoch [20/50], Training Loss: 144.6701\n",
      "Epoch [20/50], Validation Loss: 120.2695\n",
      "Epoch [21/50], Training Loss: 144.6553\n",
      "Epoch [21/50], Validation Loss: 120.2380\n",
      "Epoch [22/50], Training Loss: 144.6658\n",
      "Epoch [22/50], Validation Loss: 120.2396\n",
      "Epoch [23/50], Training Loss: 144.6520\n",
      "Epoch [23/50], Validation Loss: 120.2609\n",
      "Epoch [24/50], Training Loss: 144.6115\n",
      "Epoch [24/50], Validation Loss: 120.3237\n",
      "Epoch [25/50], Training Loss: 144.6109\n",
      "Epoch [25/50], Validation Loss: 120.2767\n",
      "Epoch [26/50], Training Loss: 144.6729\n",
      "Epoch [26/50], Validation Loss: 120.2908\n",
      "Epoch [27/50], Training Loss: 144.6642\n",
      "Epoch [27/50], Validation Loss: 120.3395\n",
      "Epoch [28/50], Training Loss: 144.5532\n",
      "Epoch [28/50], Validation Loss: 120.3668\n",
      "Epoch [29/50], Training Loss: 144.5815\n",
      "Epoch [29/50], Validation Loss: 120.2756\n",
      "Epoch [30/50], Training Loss: 144.5277\n",
      "Epoch [30/50], Validation Loss: 120.4337\n",
      "Epoch [31/50], Training Loss: 144.2922\n",
      "Epoch [31/50], Validation Loss: 120.2286\n",
      "Epoch [32/50], Training Loss: 144.1636\n",
      "Epoch [32/50], Validation Loss: 120.2761\n",
      "Epoch [33/50], Training Loss: 144.0599\n",
      "Epoch [33/50], Validation Loss: 120.4318\n",
      "Epoch [34/50], Training Loss: 143.9776\n",
      "Epoch [34/50], Validation Loss: 120.3085\n",
      "Epoch [35/50], Training Loss: 144.0166\n",
      "Epoch [35/50], Validation Loss: 120.3834\n",
      "Epoch [36/50], Training Loss: 144.0738\n",
      "Epoch [36/50], Validation Loss: 120.0769\n",
      "Epoch [37/50], Training Loss: 143.8136\n",
      "Epoch [37/50], Validation Loss: 120.1490\n",
      "Epoch [38/50], Training Loss: 144.0897\n",
      "Epoch [38/50], Validation Loss: 120.2140\n",
      "Epoch [39/50], Training Loss: 143.8417\n",
      "Epoch [39/50], Validation Loss: 120.3114\n",
      "Epoch [40/50], Training Loss: 143.7469\n",
      "Epoch [40/50], Validation Loss: 120.1617\n",
      "Epoch [41/50], Training Loss: 143.8816\n",
      "Epoch [41/50], Validation Loss: 120.0610\n",
      "Epoch [42/50], Training Loss: 143.8408\n",
      "Epoch [42/50], Validation Loss: 120.0956\n",
      "Epoch [43/50], Training Loss: 143.7107\n",
      "Epoch [43/50], Validation Loss: 119.9823\n",
      "Epoch [44/50], Training Loss: 143.8179\n",
      "Epoch [44/50], Validation Loss: 120.1128\n",
      "Epoch [45/50], Training Loss: 143.6935\n",
      "Epoch [45/50], Validation Loss: 120.2224\n",
      "Epoch [46/50], Training Loss: 143.8510\n",
      "Epoch [46/50], Validation Loss: 119.6296\n",
      "Epoch [47/50], Training Loss: 143.9805\n",
      "Epoch [47/50], Validation Loss: 120.1068\n",
      "Epoch [48/50], Training Loss: 144.0235\n",
      "Epoch [48/50], Validation Loss: 120.2118\n",
      "Epoch [49/50], Training Loss: 143.7174\n",
      "Epoch [49/50], Validation Loss: 119.7339\n",
      "Epoch [50/50], Training Loss: 143.6041\n",
      "Epoch [50/50], Validation Loss: 120.0097\n",
      "Model trained and saved to models/beta_vae_with_metadata.pth.\n"
     ]
    }
   ],
   "source": [
    "\n",
    "# File path for the saved model\n",
    "model_path = \"models/beta_vae_with_metadata.pth\"\n",
    "\n",
    "RETRAIN = True\n",
    "if RETRAIN:\n",
    "    # Delete previous model file\n",
    "    if os.path.exists(model_path):\n",
    "        os.remove(model_path)\n",
    "\n",
    "# Check if the model file exists\n",
    "if os.path.exists(model_path):\n",
    "    print(f\"Model found at {model_path}. Loading the model...\")\n",
    "\n",
    "    # Load model state and metadata\n",
    "    model_metadata = torch.load(model_path)\n",
    "\n",
    "    # Recreate the model using the saved metadata\n",
    "    beta_vae = BetaVAE(\n",
    "        input_dim=model_metadata[\"input_dim\"],\n",
    "        latent_dim=model_metadata[\"latent_dim\"],\n",
    "        beta=model_metadata[\"beta\"]\n",
    "    )\n",
    "    beta_vae.load_state_dict(model_metadata[\"model_state\"])\n",
    "    beta_vae.eval()  # Set the model to evaluation mode\n",
    "    print(\"Model loaded successfully.\")\n",
    "else:\n",
    "    print(f\"Model not found at {model_path}. Training a new model...\")\n",
    "\n",
    "    # Assuming you use the best hyperparameters from Optuna\n",
    "    latent_dim = best_params['latent_dim']\n",
    "    beta = best_params['beta']\n",
    "    learning_rate = best_params['learning_rate']\n",
    "    batch_size = best_params['batch_size']\n",
    "    input_dim = stock_data_vae.shape[1]\n",
    "\n",
    "    # Recreate DataLoaders with the best batch size\n",
    "    train_loader, val_loader, test_loader = create_data_loaders(tensor_data, batch_size=batch_size)\n",
    "\n",
    "    # Initialize and train the model\n",
    "    beta_vae = BetaVAE(input_dim=input_dim, latent_dim=latent_dim, beta=beta)\n",
    "    train_beta_vae(beta_vae, train_loader, val_loader, num_epochs=50, learning_rate=learning_rate)\n",
    "\n",
    "    # Save the trained model with metadata\n",
    "    os.makedirs(os.path.dirname(model_path), exist_ok=True)  # Ensure the directory exists\n",
    "    model_metadata = {\n",
    "        \"model_state\": beta_vae.state_dict(),\n",
    "        \"input_dim\": input_dim,\n",
    "        \"latent_dim\": latent_dim,\n",
    "        \"beta\": beta\n",
    "    }\n",
    "    torch.save(model_metadata, model_path)\n",
    "    print(f\"Model trained and saved to {model_path}.\")"
   ]
  },
  {
   "cell_type": "markdown",
   "metadata": {},
   "source": [
    "### Extract Embeddings for Train/Val/Test Data "
   ]
  },
  {
   "cell_type": "code",
   "execution_count": 30,
   "metadata": {},
   "outputs": [
    {
     "name": "stdout",
     "output_type": "stream",
     "text": [
      "Train Embeddings Shape: torch.Size([363, 10])\n",
      "Val Embeddings Shape: torch.Size([78, 10])\n",
      "Test Embeddings Shape: torch.Size([78, 10])\n",
      "Total number of embeddings: 519\n"
     ]
    }
   ],
   "source": [
    "# Extract embeddings for the training data\n",
    "train_embeddings = get_embeddings(beta_vae, train_loader)\n",
    "\n",
    "# Optionally, extract embeddings for validation and test data\n",
    "val_embeddings = get_embeddings(beta_vae, val_loader)\n",
    "test_embeddings = get_embeddings(beta_vae, test_loader)\n",
    "\n",
    "print(\"Train Embeddings Shape:\", train_embeddings.shape)  # Should be (num_samples, latent_dim)\n",
    "print(\"Val Embeddings Shape:\", val_embeddings.shape)\n",
    "print(\"Test Embeddings Shape:\", test_embeddings.shape)\n",
    "print(\"Total number of embeddings:\", train_embeddings.shape[0] + val_embeddings.shape[0] + test_embeddings.shape[0])"
   ]
  },
  {
   "cell_type": "markdown",
   "metadata": {},
   "source": [
    "### Extract Embeddings from the Stock Data "
   ]
  },
  {
   "cell_type": "code",
   "execution_count": 24,
   "metadata": {},
   "outputs": [
    {
     "name": "stdout",
     "output_type": "stream",
     "text": [
      "Embeddings for the first stock (NWSA):\n",
      "[-0.61101913 -0.23250365  0.39451164  2.1753526   0.08718762 -1.530631\n",
      "  0.18049999  1.722393    1.0164107  -0.0205215 ]\n"
     ]
    }
   ],
   "source": [
    "# Generate embeddings for the stock data\n",
    "stock_embeddings = generate_embeddings_dict(stock_data, scaler, beta_vae, ticker_col=\"Ticker\")\n",
    "\n",
    "# Display the embeddings for the first stock\n",
    "print(f\"Embeddings for the first stock ({stock_data['Ticker'].iloc[0]}):\")\n",
    "print(stock_embeddings[stock_data[\"Ticker\"].iloc[0]])"
   ]
  },
  {
   "cell_type": "markdown",
   "metadata": {},
   "source": [
    "### Portfolio Object Tests"
   ]
  },
  {
   "cell_type": "markdown",
   "metadata": {},
   "source": [
    "#### Initialization"
   ]
  },
  {
   "cell_type": "code",
   "execution_count": 25,
   "metadata": {},
   "outputs": [],
   "source": [
    "# Example returns for three stocks (numpy arrays of simulated returns)\n",
    "returns_dict = {\n",
    "    \"AAPL\": np.random.normal(0.001, 0.02, 1000),  # Apple\n",
    "    \"GOOGL\": np.random.normal(0.0012, 0.025, 1000),  # Google\n",
    "    \"MSFT\": np.random.normal(0.0008, 0.015, 1000)   # Microsoft\n",
    "}\n",
    "\n",
    "# Example weights (optional)\n",
    "weights = {\n",
    "    \"AAPL\": 0.4,\n",
    "    \"GOOGL\": 0.4,\n",
    "    \"MSFT\": 0.2\n",
    "}\n",
    "\n",
    "# Frequency of returns\n",
    "frequency = \"daily\"\n",
    "\n",
    "# Initialize the Portfolio object\n",
    "portfolio = Portfolio(returns_dict=returns_dict, frequency=frequency, weights=weights, risk_free=0.00)"
   ]
  },
  {
   "cell_type": "markdown",
   "metadata": {},
   "source": [
    "#### Attributes"
   ]
  },
  {
   "cell_type": "code",
   "execution_count": 26,
   "metadata": {},
   "outputs": [
    {
     "name": "stdout",
     "output_type": "stream",
     "text": [
      "Tickers: ['AAPL', 'GOOGL', 'MSFT']\n",
      "Raw Returns:\n",
      "AAPL: [-0.00620228  0.04778985  0.03137896  0.01754592  0.03230325]...\n",
      "GOOGL: [ 0.00413638 -0.00019267  0.0133766  -0.00302049  0.00548762]...\n",
      "MSFT: [-0.0163386   0.00324299  0.0041497  -0.00127422  0.00688241]...\n",
      "Covariance Matrix (Sigma):\n",
      " [[ 3.97078472e-04 -7.19355764e-06  9.48660051e-06]\n",
      " [-7.19355764e-06  5.90384591e-04  2.67775299e-05]\n",
      " [ 9.48660051e-06  2.67775299e-05  2.19150657e-04]]\n",
      "Volatilities (sigmas): [0.01992683 0.02429783 0.01480374]\n",
      "Portfolio Expected Return: 0.0011401078563401577\n",
      "Portfolio Volatility: 0.013048388361032738\n",
      "Portfolio Diversification Ratio: 1.582617760469942\n",
      "Portfolio Sharpe Ratio: 0.08737537731057553\n"
     ]
    }
   ],
   "source": [
    "# Print the tickers in the portfolio\n",
    "print(\"Tickers:\", portfolio.tickers)\n",
    "\n",
    "# Print the raw returns dictionary\n",
    "print(\"Raw Returns:\")\n",
    "for ticker, returns in portfolio.raw_returns.items():\n",
    "    print(f\"{ticker}: {returns[:5]}...\")  # Print first 5 returns for each ticker\n",
    "\n",
    "# Print the covariance matrix\n",
    "print(\"Covariance Matrix (Sigma):\\n\", portfolio.Sigma)\n",
    "\n",
    "# Print the diagonal of the covariance matrix (sigmas)\n",
    "print(\"Volatilities (sigmas):\", portfolio.sigmas)\n",
    "\n",
    "# Portfolio statistics\n",
    "print(\"Portfolio Expected Return:\", portfolio.portfolio_expected_return)\n",
    "print(\"Portfolio Volatility:\", portfolio.portfolio_volatility)\n",
    "print(\"Portfolio Diversification Ratio:\", portfolio.diversification_ratio)\n",
    "print(\"Portfolio Sharpe Ratio:\", portfolio.sharpe_ratio)"
   ]
  },
  {
   "cell_type": "markdown",
   "metadata": {},
   "source": [
    "#### Calling Methods "
   ]
  },
  {
   "cell_type": "code",
   "execution_count": 27,
   "metadata": {},
   "outputs": [
    {
     "name": "stdout",
     "output_type": "stream",
     "text": [
      "Covariance Matrix DataFrame:\n",
      "            AAPL     GOOGL      MSFT\n",
      "AAPL   0.000397 -0.000007  0.000009\n",
      "GOOGL -0.000007  0.000590  0.000027\n",
      "MSFT   0.000009  0.000027  0.000219\n",
      "Expected Returns: {'AAPL': 0.0005666157652592288, 'GOOGL': 0.0023289890879755726, 'MSFT': -9.067042476881447e-05}\n",
      "Volatilities (sigmas): {'AAPL': 0.019926827954695702, 'GOOGL': 0.024297830991497273, 'MSFT': 0.014803737936012485}\n",
      "Initial Weights: {'AAPL': 0.4, 'GOOGL': 0.4, 'MSFT': 0.2}\n",
      "Updated Weights: {'AAPL': 0.33163347720958286, 'GOOGL': 0.2617326434267977, 'MSFT': 0.4066338793636195}\n",
      "Updated Portfolio Expected Return: 0.00076061156041541\n",
      "Updated Portfolio Volatility: 0.011285438864728778\n",
      "Updated Portfolio Diversification Ratio: 1.6824901887211166\n",
      "Updated Portfolio Sharpe Ratio: 0.06739760584700041\n"
     ]
    }
   ],
   "source": [
    "# Get covariance matrix as a DataFrame\n",
    "cov_matrix_df = portfolio.get_covariance_matrix()\n",
    "print(\"Covariance Matrix DataFrame:\\n\", cov_matrix_df)\n",
    "\n",
    "# Get expected returns and volatilities (sigmas) as dictionaries\n",
    "expected_returns, sigmas = portfolio.get_expected_returns_and_sigmas()\n",
    "print(\"Expected Returns:\", expected_returns)\n",
    "print(\"Volatilities (sigmas):\", sigmas)\n",
    "\n",
    "# Get initial weights\n",
    "init_weights = portfolio.get_weights()\n",
    "\n",
    "# Optimize weights for maximum diversification\n",
    "optimized_weights = portfolio.optimize_weights(method=\"max_div\", update_weights=False)\n",
    "\n",
    "# Update weights in the portfolio object after optimization\n",
    "portfolio.optimize_weights(method=\"max_div\", update_weights=True)\n",
    "\n",
    "# Show weights before and after optimization \n",
    "print(\"Initial Weights:\", init_weights)\n",
    "print(\"Updated Weights:\", portfolio.get_weights())\n",
    "\n",
    "# Updated portfolio statistics after optimization\n",
    "print(\"Updated Portfolio Expected Return:\", portfolio.portfolio_expected_return)\n",
    "print(\"Updated Portfolio Volatility:\", portfolio.portfolio_volatility)\n",
    "print(\"Updated Portfolio Diversification Ratio:\", portfolio.diversification_ratio)\n",
    "print(\"Updated Portfolio Sharpe Ratio:\", portfolio.sharpe_ratio)"
   ]
  },
  {
   "cell_type": "markdown",
   "metadata": {},
   "source": [
    "#### Copying and updating the portfolio"
   ]
  },
  {
   "cell_type": "code",
   "execution_count": 28,
   "metadata": {},
   "outputs": [
    {
     "name": "stdout",
     "output_type": "stream",
     "text": [
      "\n",
      "--- Copied Portfolio ---\n",
      "Tickers in copied portfolio: ['AAPL', 'GOOGL', 'MSFT']\n",
      "Weights in copied portfolio: {'AAPL': 0.33163347720958286, 'GOOGL': 0.2617326434267977, 'MSFT': 0.4066338793636195}\n",
      "Expected Return (Copied): 0.00076061156041541\n",
      "Volatility (Copied): 0.011285438864728778\n",
      "Diversification Ratio (Copied): 1.6824901887211166\n",
      "Sharpe Ratio (Copied): 0.06739760584700041\n",
      "\n",
      "--- Updated Portfolio ---\n",
      "Updated Tickers: ['AAPL', 'GOOGL', 'AMZN', 'TSLA']\n",
      "Updated Weights: {'AAPL': 0.3, 'GOOGL': 0.3, 'AMZN': 0.2, 'TSLA': 0.2}\n",
      "Updated Portfolio Expected Return: 0.0017803463205018134\n",
      "Updated Portfolio Volatility: 0.015360829855312553\n",
      "Updated Portfolio Diversification Ratio: 1.9329942954059394\n",
      "Updated Portfolio Sharpe Ratio: 0.06739760584700041\n",
      "\n",
      "--- Optimization After Update ---\n",
      "Updated Tickers: ['AAPL', 'GOOGL', 'AMZN', 'TSLA']\n",
      "Updated Weights: {'AAPL': 0.36520445002935625, 'GOOGL': 0.29370084688968373, 'AMZN': 0.21346333391564729, 'TSLA': 0.12763136916531273}\n",
      "Updated Portfolio Expected Return: 0.001638589139917219\n",
      "Updated Portfolio Volatility: 0.013849187687490007\n",
      "Updated Portfolio Diversification Ratio: 1.9923771460836994\n",
      "Updated Portfolio Sharpe Ratio: 0.11831662454812128\n"
     ]
    }
   ],
   "source": [
    "# Example returns for additional stocks\n",
    "returns_dict_new = {\n",
    "    \"AMZN\": np.random.normal(0.0015, 0.03, 1000),  # Amazon\n",
    "    \"TSLA\": np.random.normal(0.002, 0.05, 1000)   # Tesla\n",
    "}\n",
    "\n",
    "# Copy the existing portfolio\n",
    "copied_portfolio = portfolio.copy_portfolio()\n",
    "print(\"\\n--- Copied Portfolio ---\")\n",
    "print(\"Tickers in copied portfolio:\", copied_portfolio.tickers)\n",
    "print(\"Weights in copied portfolio:\", copied_portfolio.get_weights())\n",
    "print(\"Expected Return (Copied):\", copied_portfolio.portfolio_expected_return)\n",
    "print(\"Volatility (Copied):\", copied_portfolio.portfolio_volatility)\n",
    "print(\"Diversification Ratio (Copied):\", copied_portfolio.diversification_ratio)\n",
    "print(\"Sharpe Ratio (Copied):\", copied_portfolio.sharpe_ratio)\n",
    "\n",
    "# Update portfolio: Add new tickers and remove an existing ticker\n",
    "add_tickers = {\"AMZN\": returns_dict_new[\"AMZN\"], \"TSLA\": returns_dict_new[\"TSLA\"]}\n",
    "remove_tickers = [\"MSFT\"]\n",
    "new_weights = {\"AAPL\": 0.3, \"GOOGL\": 0.3, \"AMZN\": 0.2, \"TSLA\": 0.2}\n",
    "\n",
    "# Update the portfolio \n",
    "portfolio.update_portfolio(add_tickers=add_tickers, remove_tickers=remove_tickers, new_weights=new_weights)\n",
    "\n",
    "# Print updated portfolio attributes\n",
    "print(\"\\n--- Updated Portfolio ---\")\n",
    "print(\"Updated Tickers:\", portfolio.tickers)\n",
    "print(\"Updated Weights:\", portfolio.get_weights())\n",
    "\n",
    "# Portfolio statistics after update\n",
    "print(\"Updated Portfolio Expected Return:\", portfolio.portfolio_expected_return)\n",
    "print(\"Updated Portfolio Volatility:\", portfolio.portfolio_volatility)\n",
    "print(\"Updated Portfolio Diversification Ratio:\", portfolio.diversification_ratio)\n",
    "print(\"Updated Portfolio Sharpe Ratio:\", portfolio.sharpe_ratio)\n",
    "\n",
    "# Optimize updated portfolio weights and compare again \n",
    "print(\"\\n--- Optimization After Update ---\")\n",
    "portfolio.optimize_weights(method=\"max_div\", update_weights=True)\n",
    "\n",
    "# Updated portfolio statistics after optimization\n",
    "print(\"Updated Tickers:\", portfolio.tickers)\n",
    "print(\"Updated Weights:\", portfolio.get_weights())\n",
    "print(\"Updated Portfolio Expected Return:\", portfolio.portfolio_expected_return)\n",
    "print(\"Updated Portfolio Volatility:\", portfolio.portfolio_volatility)\n",
    "print(\"Updated Portfolio Diversification Ratio:\", portfolio.diversification_ratio)\n",
    "print(\"Updated Portfolio Sharpe Ratio:\", portfolio.sharpe_ratio)"
   ]
  },
  {
   "cell_type": "markdown",
   "metadata": {},
   "source": [
    "### Fetching Returns-Only Data For All Stocks"
   ]
  },
  {
   "cell_type": "code",
   "execution_count": 36,
   "metadata": {},
   "outputs": [],
   "source": [
    "# Convert ndarray values to lists for JSON serialization\n",
    "def serialize_ndarray(data_dict):\n",
    "    return {key: (value.tolist() if isinstance(value, np.ndarray) else value) for key, value in data_dict.items()}\n",
    "\n",
    "# Convert lists back to ndarrays if needed\n",
    "def deserialize_ndarray(data_dict):\n",
    "    return {key: (np.array(value) if isinstance(value, list) else value) for key, value in data_dict.items()}\n"
   ]
  },
  {
   "cell_type": "code",
   "execution_count": 37,
   "metadata": {},
   "outputs": [
    {
     "name": "stdout",
     "output_type": "stream",
     "text": [
      "519\n",
      "['NWSA', 'AAPL', 'CMS', 'ENPH', 'WM']\n"
     ]
    },
    {
     "name": "stderr",
     "output_type": "stream",
     "text": [
      "Fetching Data: 100%|██████████| 519/519 [00:51<00:00, 10.05ticker/s]\n"
     ]
    }
   ],
   "source": [
    "LOAD_RETURNS = False \n",
    "\n",
    "if LOAD_RETURNS:\n",
    "    # Load the returns from the file\n",
    "    with open(\"data_raw/all_returns.json\", \"r\") as f:\n",
    "        all_returns = json.load(f)\n",
    "\n",
    "    # Deserialize loaded data\n",
    "    all_returns = deserialize_ndarray(all_returns)\n",
    "\n",
    "    # Show the first few tickers and their returns\n",
    "    print(\"First few tickers and their returns:\")\n",
    "    for ticker, returns in list(all_returns.items())[:5]:\n",
    "        print(f\"{ticker}: {returns[:5]}...\")  # Print first 5 returns for each ticker\n",
    "\n",
    "else: \n",
    "    # Fetch and calculate returns for the all tickers in the S&P 500 and additional tickers\n",
    "    all_tickers = stock_data[\"Ticker\"].values.tolist()  # All S&P 500 tickers\n",
    "    print(len(all_tickers))\n",
    "    print(all_tickers[:5])\n",
    "\n",
    "    # Fetch and calculate returns for all tickers\n",
    "    all_returns = fetch_and_calculate_returns(all_tickers, period=\"1y\", interval=\"1wk\", price_column=\"Close\")\n",
    "\n",
    "    # Save the dictionary with the returns to a file using json \n",
    "    with open(\"data_raw/all_returns.json\", \"w\") as f:\n",
    "        json.dump(serialize_ndarray(all_returns), f, indent=4)"
   ]
  },
  {
   "cell_type": "code",
   "execution_count": 38,
   "metadata": {},
   "outputs": [
    {
     "name": "stdout",
     "output_type": "stream",
     "text": [
      "Returns for AAPL:\n",
      "[ 0.02337371  0.00950388 -0.02009418 -0.00552689 -0.05895199  0.02616198\n",
      "  0.03033562  0.00448944 -0.03414403  0.01614209 -0.03339887  0.00115189\n",
      " -0.0156695  -0.04970495  0.01107007 -0.00196974 -0.00464353 -0.01108006\n",
      "  0.04110163 -0.06542058  0.02606062  0.08316597 -0.00179963  0.03866457\n",
      "  0.00057929  0.01194867  0.02413527  0.07923203 -0.02353049  0.01508496\n",
      "  0.0746368   0.01855617 -0.02702351 -0.02830899  0.00871714 -0.01646491\n",
      "  0.04536618  0.00465631  0.00952219 -0.0357205   0.00760797  0.02561793\n",
      " -0.00179665 -0.00434609  0.00330688  0.03274001 -0.01527655 -0.03673136\n",
      "  0.01816883 -0.00754524  0.02164442  0.0035668 ]\n"
     ]
    }
   ],
   "source": [
    "# Show one example return series\n",
    "print(\"Returns for AAPL:\")\n",
    "print(all_returns[\"AAPL\"])"
   ]
  },
  {
   "cell_type": "markdown",
   "metadata": {},
   "source": [
    "### Building the Recommendation Function "
   ]
  },
  {
   "cell_type": "markdown",
   "metadata": {},
   "source": [
    "#### Building the Portfolio"
   ]
  },
  {
   "cell_type": "code",
   "execution_count": 39,
   "metadata": {},
   "outputs": [
    {
     "name": "stdout",
     "output_type": "stream",
     "text": [
      "Portfolio Summary:\n",
      "Tickers: ['MCK', 'ETSY', 'RMD', 'SWKS', 'STE', 'WDC', 'ADI', 'AMD', 'NFLX', 'TMO', 'EOG', 'SYK', 'VTR', 'HD', 'LEN', 'LYV', 'CAH', 'DG', 'LYB', 'JKHY']\n",
      "Weights: {'MCK': 0.05, 'ETSY': 0.05, 'RMD': 0.05, 'SWKS': 0.05, 'STE': 0.05, 'WDC': 0.05, 'ADI': 0.05, 'AMD': 0.05, 'NFLX': 0.05, 'TMO': 0.05, 'EOG': 0.05, 'SYK': 0.05, 'VTR': 0.05, 'HD': 0.05, 'LEN': 0.05, 'LYV': 0.05, 'CAH': 0.05, 'DG': 0.05, 'LYB': 0.05, 'JKHY': 0.05}\n",
      "Portfolio Expected Return: 0.0039032213471899774\n",
      "Portfolio Volatility: 0.018104898940081483\n",
      "Portfolio Diversification Ratio: 2.1452938793928036\n",
      "Portfolio Sharpe Ratio: 0.21558923693016818\n"
     ]
    },
    {
     "data": {
      "image/png": "[encoded data removed]",
      "text/plain": [
       "<Figure size 1000x600 with 1 Axes>"
      ]
     },
     "metadata": {},
     "output_type": "display_data"
    }
   ],
   "source": [
    "# Choose some 20 keys at random \n",
    "random_tickers = np.random.choice(list(all_returns.keys()), 20, replace=False)\n",
    "\n",
    "# Create a dictionary of returns with only the random tickers\n",
    "random_returns = {ticker: all_returns[ticker] for ticker in random_tickers}\n",
    "\n",
    "# Use this dictionary to initialize a Portfolio object\n",
    "random_portfolio = Portfolio(returns_dict=random_returns, frequency=\"weekly\")\n",
    "\n",
    "# Obtain a summary of the portfolio \n",
    "random_portfolio.summarize_portfolio()\n",
    "\n",
    "# Visualize portfolio distribution \n",
    "random_portfolio.visualize_portfolio_distribution()\n"
   ]
  },
  {
   "cell_type": "markdown",
   "metadata": {},
   "source": [
    "#### Optimizing the Portfolio "
   ]
  },
  {
   "cell_type": "code",
   "execution_count": 40,
   "metadata": {},
   "outputs": [
    {
     "name": "stdout",
     "output_type": "stream",
     "text": [
      "\n",
      "--- Portfolio Summary After Optimization ---\n",
      "Portfolio Summary:\n",
      "Tickers: ['MCK', 'ETSY', 'RMD', 'SWKS', 'STE', 'WDC', 'ADI', 'AMD', 'NFLX', 'TMO', 'EOG', 'SYK', 'VTR', 'HD', 'LEN', 'LYV', 'CAH', 'DG', 'LYB', 'JKHY']\n",
      "Weights: {'MCK': 0.0010594072079458583, 'ETSY': 0.024109970620082962, 'RMD': 0.04973306350829528, 'SWKS': 0.0006347474247563563, 'STE': 0.06666455290226506, 'WDC': 0.02981892589319593, 'ADI': 3.6327550130547076e-17, 'AMD': 2.3253821030096666e-16, 'NFLX': 0.014182379184902779, 'TMO': 2.906597317346158e-16, 'EOG': 0.13188751733269188, 'SYK': 0.09927798752336912, 'VTR': 0.1974606584725155, 'HD': 6.539745527870797e-17, 'LEN': 5.639762943636356e-16, 'LYV': 0.023173110095441252, 'CAH': 0.12103535219019927, 'DG': 0.10469211954777838, 'LYB': 1.4844885309642742e-16, 'JKHY': 0.13627020809655943}\n",
      "Portfolio Expected Return: 0.003151009137792348\n",
      "Portfolio Volatility: 0.012193083429058466\n",
      "Portfolio Diversification Ratio: 2.7455843068283845\n",
      "Portfolio Sharpe Ratio: 0.25842594747468767\n"
     ]
    },
    {
     "data": {
      "image/png": "[encoded data removed]",
      "text/plain": [
       "<Figure size 1000x600 with 1 Axes>"
      ]
     },
     "metadata": {},
     "output_type": "display_data"
    }
   ],
   "source": [
    "# Optimize portfolio weights \n",
    "random_portfolio.optimize_weights(method=\"max_div\", update_weights=True)\n",
    "\n",
    "# Summarize the portfolio after optimization\n",
    "print(\"\\n--- Portfolio Summary After Optimization ---\")\n",
    "random_portfolio.summarize_portfolio()\n",
    "\n",
    "# Visualize the portfolio distribution after optimization\n",
    "random_portfolio.visualize_portfolio_distribution()"
   ]
  },
  {
   "cell_type": "markdown",
   "metadata": {},
   "source": [
    "#### Extracting Portfolio Embeddings"
   ]
  },
  {
   "cell_type": "code",
   "execution_count": 54,
   "metadata": {},
   "outputs": [],
   "source": [
    "def diversify_betavae_portfolio(\n",
    "    portfolio, \n",
    "    portfolio_embeddings, \n",
    "    all_returns, \n",
    "    all_stock_embeddings, \n",
    "    threshold=1e-3, \n",
    "    num_iter=20, \n",
    "    top_N=5, \n",
    "    distance_type=\"euclidean\"\n",
    "):\n",
    "    \"\"\"\n",
    "    Diversify a portfolio based on embedding similarity and maximize diversification ratio.\n",
    "    \n",
    "    Parameters:\n",
    "    - portfolio: Portfolio object.\n",
    "    - portfolio_embeddings: Dictionary of portfolio ticker embeddings.\n",
    "    - all_returns: Dictionary of tickers and their corresponding return vectors.\n",
    "    - all_stock_embeddings: Dictionary of all stock embeddings.\n",
    "    - threshold: Threshold for diversification ratio improvement.\n",
    "    - num_iter: Maximum number of iterations.\n",
    "    - top_N: Number of most dissimilar stocks to consider for replacement.\n",
    "    - distance_type: Type of distance metric (\"euclidean\" or \"cosine\").\n",
    "    \n",
    "    Returns:\n",
    "    - updated_portfolio: Updated Portfolio object.\n",
    "    - diversification_history: List of diversification ratios at each step.\n",
    "    - swap_log: Dictionary of removed tickers and their replacements.\n",
    "    \"\"\"\n",
    "    # Deep copy the portfolio\n",
    "    updated_portfolio = portfolio.copy_portfolio()\n",
    "    \n",
    "    # Calculate the initial diversification ratio\n",
    "    initial_diversification_ratio = updated_portfolio.diversification_ratio\n",
    "    current_diversification_ratio = initial_diversification_ratio\n",
    "    \n",
    "    # Exclude portfolio tickers from all_stock_embeddings\n",
    "    excluded_tickers = set(updated_portfolio.tickers)\n",
    "    available_tickers = {ticker: embedding for ticker, embedding in all_stock_embeddings.items() \n",
    "                         if ticker not in excluded_tickers}\n",
    "    \n",
    "    diversification_history = [initial_diversification_ratio]\n",
    "    swap_log = {}\n",
    "    \n",
    "    print(f\"Initial Diversification Ratio: {initial_diversification_ratio}\")\n",
    "    \n",
    "    for _ in tqdm(range(num_iter), desc=\"Diversification Iterations\"):\n",
    "        # 3. Find the two most similar stocks in the portfolio\n",
    "        tickers = list(portfolio_embeddings.keys())\n",
    "        embeddings = np.array(list(portfolio_embeddings.values()))\n",
    "        pairwise_distances = cdist(embeddings, embeddings, metric=distance_type)\n",
    "        np.fill_diagonal(pairwise_distances, np.inf)  # Ignore self-similarity\n",
    "        \n",
    "        # Find the indices of the most similar pair\n",
    "        i, j = np.unravel_index(np.argmin(pairwise_distances), pairwise_distances.shape)\n",
    "        most_similar_pair = [tickers[i], tickers[j]]\n",
    "        \n",
    "        # 4. Pick one of these tickers at random\n",
    "        ticker_to_replace = random.choice(most_similar_pair)\n",
    "        ticker_embedding = portfolio_embeddings[ticker_to_replace]\n",
    "        \n",
    "        # Find top_N most dissimilar stocks from the universe\n",
    "        all_embeddings = np.array(list(available_tickers.values()))\n",
    "        distances_to_ticker = cdist([ticker_embedding], all_embeddings, metric=distance_type).flatten()\n",
    "        top_dissimilar_indices = np.argsort(distances_to_ticker)[-top_N:]\n",
    "        top_dissimilar_tickers = [list(available_tickers.keys())[idx] for idx in top_dissimilar_indices]\n",
    "        \n",
    "        # Choose one of these tickers at random\n",
    "        replacement_ticker = random.choice(top_dissimilar_tickers)\n",
    "        replacement_returns = all_returns[replacement_ticker]  # Correctly fetch return vectors\n",
    "        \n",
    "        # 5. Swap the tickers and update the portfolio\n",
    "        add_tickers = {replacement_ticker: replacement_returns}\n",
    "        remove_tickers = [ticker_to_replace]\n",
    "        \n",
    "        # Temporarily update the portfolio\n",
    "        updated_portfolio.update_portfolio(add_tickers=add_tickers, remove_tickers=remove_tickers)\n",
    "        updated_portfolio.optimize_weights(method=\"max_div\", update_weights=True)\n",
    "        \n",
    "        # 6. Calculate new diversification ratio\n",
    "        new_diversification_ratio = updated_portfolio.diversification_ratio\n",
    "        \n",
    "        # 7. Accept or reject the swap\n",
    "        if new_diversification_ratio > current_diversification_ratio:\n",
    "            current_diversification_ratio = new_diversification_ratio\n",
    "            diversification_history.append(current_diversification_ratio)\n",
    "            excluded_tickers.add(ticker_to_replace)\n",
    "            available_tickers.pop(replacement_ticker)\n",
    "            swap_log[ticker_to_replace] = replacement_ticker\n",
    "            \n",
    "            print(f\"Accepted Swap: {ticker_to_replace} -> {replacement_ticker}\")\n",
    "            print(f\"New Diversification Ratio: {new_diversification_ratio}\")\n",
    "            \n",
    "            # Update portfolio embeddings\n",
    "            portfolio_embeddings.pop(ticker_to_replace)\n",
    "            portfolio_embeddings[replacement_ticker] = all_stock_embeddings[replacement_ticker]\n",
    "        else:\n",
    "            # Reject the swap and revert changes\n",
    "            updated_portfolio.update_portfolio(\n",
    "                add_tickers={ticker_to_replace: portfolio.raw_returns[ticker_to_replace]},\n",
    "                remove_tickers=[replacement_ticker]\n",
    "            )\n",
    "            print(f\"Rejected Swap: {ticker_to_replace} -> {replacement_ticker}\")\n",
    "        \n",
    "        # Check for convergence\n",
    "        if abs(new_diversification_ratio - current_diversification_ratio) < threshold:\n",
    "            print(\"Convergence reached.\")\n",
    "            break\n",
    "    \n",
    "    return updated_portfolio, diversification_history, swap_log\n"
   ]
  },
  {
   "cell_type": "code",
   "execution_count": 64,
   "metadata": {},
   "outputs": [],
   "source": [
    "# Choose some 20 keys at random \n",
    "random_tickers = np.random.choice(list(all_returns.keys()), 20, replace=False)\n",
    "\n",
    "# Create a dictionary of returns with only the random tickers\n",
    "random_returns = {ticker: all_returns[ticker] for ticker in random_tickers}\n",
    "\n",
    "# Use this dictionary to initialize a Portfolio object\n",
    "random_portfolio = Portfolio(returns_dict=random_returns, frequency=\"weekly\")\n",
    "\n",
    "# Generate embeddings for the stock data (full universe of data)\n",
    "stock_embeddings = generate_embeddings_dict(stock_data, scaler, beta_vae, ticker_col=\"Ticker\")\n",
    "\n",
    "# Extract embeddings from Portfolio  \n",
    "random_portfolio_embeddings = {ticker: stock_embeddings[ticker] for ticker in random_portfolio.tickers\n",
    "                               if ticker in stock_embeddings.keys()}\n",
    "\n",
    "# Check that number of extracted embeddings == number of portfolio tickers\n",
    "assert len(random_portfolio_embeddings) == len(random_portfolio.tickers)"
   ]
  },
  {
   "cell_type": "code",
   "execution_count": 65,
   "metadata": {},
   "outputs": [
    {
     "name": "stdout",
     "output_type": "stream",
     "text": [
      "Initial Diversification Ratio: 2.333219984004402\n"
     ]
    },
    {
     "data": {
      "application/vnd.jupyter.widget-view+json": {
       "model_id": "db327435f8144a5aa74fa1df2034008c",
       "version_major": 2,
       "version_minor": 0
      },
      "text/plain": [
       "Diversification Iterations:   0%|          | 0/20 [00:00<?, ?it/s]"
      ]
     },
     "metadata": {},
     "output_type": "display_data"
    },
    {
     "name": "stdout",
     "output_type": "stream",
     "text": [
      "Accepted Swap: CSGP -> BA\n",
      "New Diversification Ratio: 3.0925186754979896\n",
      "Convergence reached.\n",
      "\n",
      "Final Diversification Ratio: 3.0925186754979896\n",
      "Diversification History: [2.333219984004402, 3.0925186754979896]\n",
      "Swap Log (Removed -> Added): {'CSGP': 'BA'}\n"
     ]
    }
   ],
   "source": [
    "# Apply the diversify function to the random portfolio\n",
    "updated_portfolio, diversification_history, swap_log = diversify_betavae_portfolio(\n",
    "    random_portfolio,\n",
    "    random_portfolio_embeddings,\n",
    "    all_returns,\n",
    "    stock_embeddings,\n",
    "    num_iter=20,\n",
    "    top_N=5,\n",
    "    threshold=1e-4,\n",
    "    distance_type=\"euclidean\"\n",
    ")\n",
    "\n",
    "# Print the final diversification ratio and the swap log\n",
    "print(\"\\nFinal Diversification Ratio:\", updated_portfolio.diversification_ratio)\n",
    "print(\"Diversification History:\", diversification_history)\n",
    "print(\"Swap Log (Removed -> Added):\", swap_log)\n"
   ]
  },
  {
   "cell_type": "code",
   "execution_count": 66,
   "metadata": {},
   "outputs": [
    {
     "name": "stdout",
     "output_type": "stream",
     "text": [
      "Portfolio Summary:\n",
      "Tickers: ['TFX', 'RTX', 'AMZN', 'AON', 'KVUE', 'CB', 'CHD', 'MNST', 'PEG', 'EOG', 'IBM', 'CCI', 'AZO', 'WDC', 'APA', 'CI', 'CSGP', 'VST', 'AIG', 'LLY']\n",
      "Weights: {'TFX': 0.05, 'RTX': 0.05, 'AMZN': 0.05, 'AON': 0.05, 'KVUE': 0.05, 'CB': 0.05, 'CHD': 0.05, 'MNST': 0.05, 'PEG': 0.05, 'EOG': 0.05, 'IBM': 0.05, 'CCI': 0.05, 'AZO': 0.05, 'WDC': 0.05, 'APA': 0.05, 'CI': 0.05, 'CSGP': 0.05, 'VST': 0.05, 'AIG': 0.05, 'LLY': 0.05}\n",
      "Portfolio Expected Return: 0.004948410241729159\n",
      "Portfolio Volatility: 0.015554105246618141\n",
      "Portfolio Diversification Ratio: 2.333219984004402\n",
      "Portfolio Sharpe Ratio: 0.31814174864253725\n"
     ]
    }
   ],
   "source": [
    "# Summarize the original random portfolio\n",
    "random_portfolio.summarize_portfolio()"
   ]
  },
  {
   "cell_type": "code",
   "execution_count": 67,
   "metadata": {},
   "outputs": [
    {
     "name": "stdout",
     "output_type": "stream",
     "text": [
      "Portfolio Summary:\n",
      "Tickers: ['TFX', 'RTX', 'AMZN', 'AON', 'KVUE', 'CB', 'CHD', 'MNST', 'PEG', 'EOG', 'IBM', 'CCI', 'AZO', 'WDC', 'APA', 'CI', 'VST', 'AIG', 'LLY', 'BA']\n",
      "Weights: {'TFX': 0.10662083330210113, 'RTX': 0.0144381140170283, 'AMZN': 0.08384531342719553, 'AON': 0.09504094045990334, 'KVUE': 0.0, 'CB': 0.0, 'CHD': 0.2914909155229972, 'MNST': 0.028414544504099734, 'PEG': 0.08347284910976704, 'EOG': 0.059805689341942074, 'IBM': 0.0, 'CCI': 0.023661324289160412, 'AZO': 0.06081725828128093, 'WDC': 0.0, 'APA': 0.06550611770719819, 'CI': 0.008147004942124527, 'VST': 2.2998638583848763e-16, 'AIG': 1.6094704715415443e-17, 'LLY': 0.04551966038431521, 'BA': 0.03321943471088703}\n",
      "Portfolio Expected Return: 0.0024742571683311447\n",
      "Portfolio Volatility: 0.009884061732462573\n",
      "Portfolio Diversification Ratio: 3.0925186754979896\n",
      "Portfolio Sharpe Ratio: 0.2503279760186902\n"
     ]
    }
   ],
   "source": [
    "# Optimize the updated portfolio weights with max_div \n",
    "updated_portfolio.optimize_weights(method=\"max_div\", update_weights=True)\n",
    "\n",
    "# Summarize the updated portfolio\n",
    "updated_portfolio.summarize_portfolio()"
   ]
  },
  {
   "cell_type": "code",
   "execution_count": null,
   "metadata": {},
   "outputs": [],
   "source": []
  }
 ],
 "metadata": {
  "kernelspec": {
   "display_name": "stk_env",
   "language": "python",
   "name": "python3"
  },
  "language_info": {
   "codemirror_mode": {
    "name": "ipython",
    "version": 3
   },
   "file_extension": ".py",
   "mimetype": "text/x-python",
   "name": "python",
   "nbconvert_exporter": "python",
   "pygments_lexer": "ipython3",
   "version": "3.10.15"
  }
 },
 "nbformat": 4,
 "nbformat_minor": 2
}
