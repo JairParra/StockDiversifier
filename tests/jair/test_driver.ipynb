{
 "cells": [
  {
   "cell_type": "markdown",
   "metadata": {},
   "source": [
    "# Testing Stock Fetcher "
   ]
  },
  {
   "cell_type": "markdown",
   "metadata": {},
   "source": [
    "## Imports "
   ]
  },
  {
   "cell_type": "code",
   "execution_count": 1,
   "metadata": {},
   "outputs": [],
   "source": [
    "# General \n",
    "import numpy as np \n",
    "import pandas as pd\n",
    "from sklearn.impute import KNNImputer\n",
    "\n",
    "# Custom \n",
    "from src.data_fetching import scrape_sp500_wikipedia, fetch_stock_data, prepare_data_for_vae"
   ]
  },
  {
   "cell_type": "markdown",
   "metadata": {},
   "source": [
    "## Fetching the data "
   ]
  },
  {
   "cell_type": "code",
   "execution_count": 2,
   "metadata": {},
   "outputs": [
    {
     "name": "stderr",
     "output_type": "stream",
     "text": [
      "Fetching stock data...:  26%|██▌       | 131/505 [00:38<02:31,  2.46it/s]$BRK.B: possibly delisted; no price data found  (period=1mo) (Yahoo error = \"No data found, symbol may be delisted\")\n",
      "$BRK.B: possibly delisted; no price data found  (period=1y) (Yahoo error = \"No data found, symbol may be delisted\")\n",
      "Fetching stock data...:  27%|██▋       | 138/505 [00:42<02:01,  3.02it/s]$BF.B: possibly delisted; no price data found  (period=1mo)\n",
      "$BF.B: possibly delisted; no price data found  (period=1y)\n",
      "Fetching stock data...:  43%|████▎     | 219/505 [01:03<01:16,  3.75it/s]SW: Period '1y' is invalid, must be one of ['1d', '5d', '1mo', '3mo', '6mo', 'ytd', 'max']\n",
      "Fetching stock data...:  87%|████████▋ | 439/505 [02:02<00:19,  3.39it/s]AMTM: Period '1y' is invalid, must be one of ['1d', '5d', '1mo', '3mo', 'ytd', 'max']\n",
      "Fetching stock data...: 100%|██████████| 505/505 [02:20<00:00,  3.59it/s]"
     ]
    },
    {
     "name": "stdout",
     "output_type": "stream",
     "text": [
      "Completed fetching stock data in 140.73 seconds.\n"
     ]
    },
    {
     "name": "stderr",
     "output_type": "stream",
     "text": [
      "\n"
     ]
    }
   ],
   "source": [
    "sp500_df = scrape_sp500_wikipedia()  # Use the function you created to scrape S&P 500 companies\n",
    "custom_tickers = ['TSLA', 'ZM', 'SNOW']  # Example custom tickers\n",
    "stock_data, sector_mapping, industry_mapping = fetch_stock_data(sp500_df, custom_tickers) # Fetch data\n",
    "stock_data_vae = prepare_data_for_vae(stock_data)  # Prepare data for VAE"
   ]
  },
  {
   "cell_type": "code",
   "execution_count": 3,
   "metadata": {},
   "outputs": [
    {
     "name": "stdout",
     "output_type": "stream",
     "text": [
      "     Market Cap  Open Price  Close Price  High Price   Low Price  Last Close  \\\n",
      "0  1.414585e+11  249.039049   247.875714  259.589996  240.179993  241.479996   \n",
      "1  4.074940e+10  102.765239   102.670000  106.930000   98.830002   99.839996   \n",
      "2  1.573076e+11   29.002857    28.926667   30.430000   27.730000   27.760000   \n",
      "3  2.112973e+10  106.577619   106.596191  115.320000   98.660004   99.889999   \n",
      "4  8.033044e+10  225.065240   225.251904  230.360001  220.110001  223.080002   \n",
      "\n",
      "   52 Week High  52 Week Low  Last Month Volatility  52 Week Volatility  ...  \\\n",
      "0    260.459991   149.139999               0.038552            0.197440  ...   \n",
      "1    106.930000    47.880001               0.064736            0.310658  ...   \n",
      "2     31.540001    25.200001               0.059316            0.242262  ...   \n",
      "3    115.320000    70.309998               0.096640            0.303938  ...   \n",
      "4    230.360001   190.699997               0.032097            0.166716  ...   \n",
      "\n",
      "   Industry_Tools & Accessories  Industry_Travel Services  Industry_Trucking  \\\n",
      "0                           0.0                       0.0                0.0   \n",
      "1                           0.0                       0.0                0.0   \n",
      "2                           0.0                       0.0                0.0   \n",
      "3                           0.0                       0.0                0.0   \n",
      "4                           0.0                       0.0                0.0   \n",
      "\n",
      "   Industry_Utilities—Diversified  \\\n",
      "0                             0.0   \n",
      "1                             0.0   \n",
      "2                             0.0   \n",
      "3                             0.0   \n",
      "4                             0.0   \n",
      "\n",
      "   Industry_Utilities—Independent Power Producers  \\\n",
      "0                                             0.0   \n",
      "1                                             0.0   \n",
      "2                                             0.0   \n",
      "3                                             0.0   \n",
      "4                                             0.0   \n",
      "\n",
      "   Industry_Utilities—Regulated Electric  Industry_Utilities—Regulated Gas  \\\n",
      "0                                    0.0                               0.0   \n",
      "1                                    0.0                               0.0   \n",
      "2                                    0.0                               0.0   \n",
      "3                                    0.0                               0.0   \n",
      "4                                    0.0                               0.0   \n",
      "\n",
      "   Industry_Utilities—Regulated Water  Industry_Utilities—Renewable  \\\n",
      "0                                 0.0                           0.0   \n",
      "1                                 0.0                           0.0   \n",
      "2                                 0.0                           0.0   \n",
      "3                                 0.0                           0.0   \n",
      "4                                 0.0                           0.0   \n",
      "\n",
      "   Industry_Waste Management  \n",
      "0                        0.0  \n",
      "1                        0.0  \n",
      "2                        0.0  \n",
      "3                        0.0  \n",
      "4                        0.0  \n",
      "\n",
      "[5 rows x 135 columns]\n"
     ]
    }
   ],
   "source": [
    "# Display the data \n",
    "print(stock_data_vae.head())"
   ]
  },
  {
   "cell_type": "code",
   "execution_count": 4,
   "metadata": {},
   "outputs": [
    {
     "name": "stdout",
     "output_type": "stream",
     "text": [
      "135\n",
      "Market Cap                               float64\n",
      "Open Price                               float64\n",
      "Close Price                              float64\n",
      "High Price                               float64\n",
      "Low Price                                float64\n",
      "                                          ...   \n",
      "Industry_Utilities—Regulated Electric    float64\n",
      "Industry_Utilities—Regulated Gas         float64\n",
      "Industry_Utilities—Regulated Water       float64\n",
      "Industry_Utilities—Renewable             float64\n",
      "Industry_Waste Management                float64\n",
      "Length: 135, dtype: object\n"
     ]
    }
   ],
   "source": [
    "# Print number of columns in total \n",
    "print(len(stock_data_vae.columns))\n",
    "\n",
    "stock_data_vae = stock_data_vae.astype(float)\n",
    "\n",
    "# Print the data types of the columns\n",
    "print(stock_data_vae.dtypes)"
   ]
  },
  {
   "cell_type": "code",
   "execution_count": 5,
   "metadata": {},
   "outputs": [
    {
     "name": "stdout",
     "output_type": "stream",
     "text": [
      "Index(['Ticker', 'Company Name', 'Market Cap', 'Sector', 'Industry',\n",
      "       'Open Price', 'Close Price', 'High Price', 'Low Price', 'Last Close',\n",
      "       '52 Week High', '52 Week Low', 'Last Month Volatility',\n",
      "       '52 Week Volatility', 'Yearly Dividend Rate', 'Last Year Return Rate',\n",
      "       'Sector_encoded', 'Industry_encoded'],\n",
      "      dtype='object')\n"
     ]
    }
   ],
   "source": [
    "print(stock_data.columns)"
   ]
  },
  {
   "cell_type": "code",
   "execution_count": 6,
   "metadata": {},
   "outputs": [
    {
     "name": "stdout",
     "output_type": "stream",
     "text": [
      "0\n",
      "[]\n",
      "[]\n",
      "Series([], dtype: float64)\n"
     ]
    }
   ],
   "source": [
    "# # check for rows with nas \n",
    "# print(stock_data_vae.isna().sum())\n",
    "\n",
    "# Check if any columns have nas\n",
    "print(stock_data_vae.isna().sum().sum())\n",
    "\n",
    "# Produce a list of columns with nas, and the amount for each \n",
    "print(stock_data_vae.columns[stock_data_vae.isna().any()].tolist())\n",
    "\n",
    "# Do the same for stock_data \n",
    "print(stock_data.columns[stock_data.isna().any()].tolist())\n",
    "\n",
    "# Calculate the proportion of nas in the stock_data_vae dataframe for each column with nas \n",
    "# only for the columns with nas\n",
    "nas_proportion = stock_data_vae.isna().mean()\n",
    "print(nas_proportion[stock_data_vae.columns[stock_data_vae.isna().any()].tolist()])"
   ]
  },
  {
   "cell_type": "code",
   "execution_count": 7,
   "metadata": {},
   "outputs": [
    {
     "name": "stdout",
     "output_type": "stream",
     "text": [
      "Series([], dtype: float64)\n"
     ]
    }
   ],
   "source": [
    "# Perform na imputation to the columns with nas\n",
    "stock_data_vae = stock_data_vae.fillna(method='ffill')\n",
    "\n",
    "nas_proportion = stock_data_vae.isna().mean()\n",
    "print(nas_proportion[stock_data_vae.columns[stock_data_vae.isna().any()].tolist()])"
   ]
  },
  {
   "cell_type": "code",
   "execution_count": 8,
   "metadata": {},
   "outputs": [],
   "source": [
    "df = stock_data_vae.copy()"
   ]
  },
  {
   "cell_type": "code",
   "execution_count": 9,
   "metadata": {},
   "outputs": [
    {
     "name": "stdout",
     "output_type": "stream",
     "text": [
      "0\n"
     ]
    }
   ],
   "source": [
    "# Check if there are any missing values left \n",
    "print(df.isnull().sum().sum())"
   ]
  },
  {
   "cell_type": "markdown",
   "metadata": {},
   "source": []
  }
 ],
 "metadata": {
  "kernelspec": {
   "display_name": "stk_env",
   "language": "python",
   "name": "python3"
  },
  "language_info": {
   "codemirror_mode": {
    "name": "ipython",
    "version": 3
   },
   "file_extension": ".py",
   "mimetype": "text/x-python",
   "name": "python",
   "nbconvert_exporter": "python",
   "pygments_lexer": "ipython3",
   "version": "3.10.15"
  }
 },
 "nbformat": 4,
 "nbformat_minor": 2
}
