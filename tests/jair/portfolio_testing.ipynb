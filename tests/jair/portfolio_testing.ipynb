{
 "cells": [
  {
   "cell_type": "markdown",
   "metadata": {},
   "source": [
    "# Testing Portfolio Object"
   ]
  },
  {
   "cell_type": "markdown",
   "metadata": {},
   "source": [
    "## Imports "
   ]
  },
  {
   "cell_type": "code",
   "execution_count": 1,
   "metadata": {},
   "outputs": [
    {
     "data": {
      "text/plain": [
       "<module 'src.portfolio' from 'c:\\\\Users\\\\jairp\\\\OneDrive\\\\Desktop_remote\\\\HEC Montreal\\\\4. Fall 2024\\\\Deep Learning II\\\\Project\\\\StockDiversifier\\\\src\\\\portfolio.py'>"
      ]
     },
     "execution_count": 1,
     "metadata": {},
     "output_type": "execute_result"
    }
   ],
   "source": [
    "# Reload Custom Modules \n",
    "import importlib\n",
    "import src.beta_vae\n",
    "import src.data_fetching \n",
    "import src.portfolio\n",
    "importlib.reload(src.beta_vae)\n",
    "importlib.reload(src.data_fetching)\n",
    "importlib.reload(src.portfolio)"
   ]
  },
  {
   "cell_type": "code",
   "execution_count": 2,
   "metadata": {},
   "outputs": [],
   "source": [
    "# General \n",
    "import os \n",
    "import json \n",
    "import random \n",
    "from tqdm.notebook import tqdm\n",
    "\n",
    "# Data Science\n",
    "import optuna \n",
    "import numpy as np \n",
    "import pandas as pd\n",
    "from sklearn.impute import KNNImputer\n",
    "from sklearn.preprocessing import StandardScaler\n",
    "from scipy.spatial.distance import cdist\n",
    "\n",
    "# PyTorch\n",
    "import torch\n",
    "\n",
    "# Custom Classes \n",
    "from src.beta_vae import Encoder\n",
    "from src.beta_vae import Decoder\n",
    "from src.beta_vae import BetaVAE\n",
    "from src.portfolio import Portfolio\n",
    "\n",
    "# Custom Functions\n",
    "from src.beta_vae import create_data_loaders\n",
    "from src.beta_vae import create_single_data_loader\n",
    "from src.beta_vae import objective\n",
    "from src.beta_vae import train_beta_vae\n",
    "from src.beta_vae import get_embeddings\n",
    "from src.beta_vae import generate_embeddings_dict\n",
    "from src.portfolio import fetch_and_calculate_returns\n",
    "from src.portfolio import diversify_betavae_portfolio\n",
    "from src.data_fetching import scrape_sp500_wikipedia\n",
    "from src.data_fetching import fetch_stock_data\n",
    "from src.data_fetching import prepare_data_for_vae"
   ]
  },
  {
   "cell_type": "markdown",
   "metadata": {},
   "source": [
    "## Initialization"
   ]
  },
  {
   "cell_type": "code",
   "execution_count": 3,
   "metadata": {},
   "outputs": [],
   "source": [
    "# Example returns for three stocks (numpy arrays of simulated returns)\n",
    "returns_dict = {\n",
    "    \"AAPL\": np.random.normal(0.001, 0.02, 1000),  # Apple\n",
    "    \"GOOGL\": np.random.normal(0.0012, 0.025, 1000),  # Google\n",
    "    \"MSFT\": np.random.normal(0.0008, 0.015, 1000)   # Microsoft\n",
    "}\n",
    "\n",
    "# Example weights (optional)\n",
    "weights = {\n",
    "    \"AAPL\": 0.4,\n",
    "    \"GOOGL\": 0.4,\n",
    "    \"MSFT\": 0.2\n",
    "}\n",
    "\n",
    "# Frequency of returns\n",
    "frequency = \"daily\"\n",
    "\n",
    "# Initialize the Portfolio object\n",
    "portfolio = Portfolio(returns_dict=returns_dict, frequency=frequency, weights=weights, risk_free=0.00)"
   ]
  },
  {
   "cell_type": "markdown",
   "metadata": {},
   "source": [
    "## Attributes"
   ]
  },
  {
   "cell_type": "code",
   "execution_count": 4,
   "metadata": {},
   "outputs": [
    {
     "name": "stdout",
     "output_type": "stream",
     "text": [
      "Tickers: ['AAPL', 'GOOGL', 'MSFT']\n",
      "Raw Returns:\n",
      "AAPL: [-0.00478473 -0.00550335  0.0198743  -0.00603779  0.00834376]...\n",
      "GOOGL: [0.01147161 0.00214348 0.03597909 0.00415004 0.03626066]...\n",
      "MSFT: [ 0.01000001  0.01412602 -0.01283901 -0.01633735  0.00747314]...\n",
      "Covariance Matrix (Sigma):\n",
      " [[ 4.25156527e-04  1.34937235e-06 -3.99209384e-06]\n",
      " [ 1.34937235e-06  5.92124820e-04  2.69465549e-07]\n",
      " [-3.99209384e-06  2.69465549e-07  2.31463055e-04]]\n",
      "Volatilities (sigmas): [0.02061932 0.02433362 0.01521391]\n",
      "Portfolio Expected Return: 0.0007478162479712108\n",
      "Portfolio Volatility: 0.01310952769749908\n",
      "Portfolio Diversification Ratio: 1.6037158721613314\n",
      "Portfolio Sharpe Ratio: 0.057043721576168806\n"
     ]
    }
   ],
   "source": [
    "# Print the tickers in the portfolio\n",
    "print(\"Tickers:\", portfolio.tickers)\n",
    "\n",
    "# Print the raw returns dictionary\n",
    "print(\"Raw Returns:\")\n",
    "for ticker, returns in portfolio.raw_returns.items():\n",
    "    print(f\"{ticker}: {returns[:5]}...\")  # Print first 5 returns for each ticker\n",
    "\n",
    "# Print the covariance matrix\n",
    "print(\"Covariance Matrix (Sigma):\\n\", portfolio.Sigma)\n",
    "\n",
    "# Print the diagonal of the covariance matrix (sigmas)\n",
    "print(\"Volatilities (sigmas):\", portfolio.sigmas)\n",
    "\n",
    "# Portfolio statistics\n",
    "print(\"Portfolio Expected Return:\", portfolio.portfolio_expected_return)\n",
    "print(\"Portfolio Volatility:\", portfolio.portfolio_volatility)\n",
    "print(\"Portfolio Diversification Ratio:\", portfolio.diversification_ratio)\n",
    "print(\"Portfolio Sharpe Ratio:\", portfolio.sharpe_ratio)"
   ]
  },
  {
   "cell_type": "markdown",
   "metadata": {},
   "source": [
    "## Calling Methods"
   ]
  },
  {
   "cell_type": "code",
   "execution_count": 5,
   "metadata": {},
   "outputs": [
    {
     "name": "stdout",
     "output_type": "stream",
     "text": [
      "Covariance Matrix DataFrame:\n",
      "            AAPL         GOOGL          MSFT\n",
      "AAPL   0.000425  1.349372e-06 -3.992094e-06\n",
      "GOOGL  0.000001  5.921248e-04  2.694655e-07\n",
      "MSFT  -0.000004  2.694655e-07  2.314631e-04\n",
      "Expected Returns: {'AAPL': 0.000517199874991859, 'GOOGL': 0.0014202351336783325, 'MSFT': -0.00013578877748432884}\n",
      "Volatilities (sigmas): {'AAPL': 0.02061932412035988, 'GOOGL': 0.024333615030209324, 'MSFT': 0.015213909923950938}\n",
      "Initial Weights: {'AAPL': 0.4, 'GOOGL': 0.4, 'MSFT': 0.2}\n",
      "Updated Weights: {'AAPL': 0.31282085540222826, 'GOOGL': 0.2619224390465119, 'MSFT': 0.42525670555125983}\n",
      "Updated Portfolio Expected Return: 0.00047603726937763783\n",
      "Updated Portfolio Volatility: 0.011104224584045287\n",
      "Updated Portfolio Diversification Ratio: 1.7374911211010833\n",
      "Updated Portfolio Sharpe Ratio: 0.04286992448456195\n"
     ]
    }
   ],
   "source": [
    "# Get covariance matrix as a DataFrame\n",
    "cov_matrix_df = portfolio.get_covariance_matrix()\n",
    "print(\"Covariance Matrix DataFrame:\\n\", cov_matrix_df)\n",
    "\n",
    "# Get expected returns and volatilities (sigmas) as dictionaries\n",
    "expected_returns, sigmas = portfolio.get_expected_returns_and_sigmas()\n",
    "print(\"Expected Returns:\", expected_returns)\n",
    "print(\"Volatilities (sigmas):\", sigmas)\n",
    "\n",
    "# Get initial weights\n",
    "init_weights = portfolio.get_weights()\n",
    "\n",
    "# Optimize weights for maximum diversification\n",
    "optimized_weights = portfolio.optimize_weights(method=\"max_div\", update_weights=False)\n",
    "\n",
    "# Update weights in the portfolio object after optimization\n",
    "portfolio.optimize_weights(method=\"max_div\", update_weights=True)\n",
    "\n",
    "# Show weights before and after optimization \n",
    "print(\"Initial Weights:\", init_weights)\n",
    "print(\"Updated Weights:\", portfolio.get_weights())\n",
    "\n",
    "# Updated portfolio statistics after optimization\n",
    "print(\"Updated Portfolio Expected Return:\", portfolio.portfolio_expected_return)\n",
    "print(\"Updated Portfolio Volatility:\", portfolio.portfolio_volatility)\n",
    "print(\"Updated Portfolio Diversification Ratio:\", portfolio.diversification_ratio)\n",
    "print(\"Updated Portfolio Sharpe Ratio:\", portfolio.sharpe_ratio)"
   ]
  },
  {
   "cell_type": "markdown",
   "metadata": {},
   "source": [
    "## Copying and Updating The Portfolio "
   ]
  },
  {
   "cell_type": "code",
   "execution_count": 6,
   "metadata": {},
   "outputs": [
    {
     "name": "stdout",
     "output_type": "stream",
     "text": [
      "\n",
      "--- Copied Portfolio ---\n",
      "Tickers in copied portfolio: ['AAPL', 'GOOGL', 'MSFT']\n",
      "Weights in copied portfolio: {'AAPL': 0.31282085540222826, 'GOOGL': 0.2619224390465119, 'MSFT': 0.42525670555125983}\n",
      "Expected Return (Copied): 0.00047603726937763783\n",
      "Volatility (Copied): 0.011104224584045287\n",
      "Diversification Ratio (Copied): 1.7374911211010833\n",
      "Sharpe Ratio (Copied): 0.04286992448456195\n",
      "\n",
      "--- Updated Portfolio ---\n",
      "Updated Tickers: ['AAPL', 'GOOGL', 'AMZN', 'TSLA']\n",
      "Updated Weights: {'AAPL': 0.3, 'GOOGL': 0.3, 'AMZN': 0.2, 'TSLA': 0.2}\n",
      "Updated Portfolio Expected Return: 0.0009028904663642618\n",
      "Updated Portfolio Volatility: 0.014656098658801162\n",
      "Updated Portfolio Diversification Ratio: 2.0057103946228163\n",
      "Updated Portfolio Sharpe Ratio: 0.04286992448456195\n",
      "\n",
      "--- Optimization After Update ---\n",
      "Updated Tickers: ['AAPL', 'GOOGL', 'AMZN', 'TSLA']\n",
      "Updated Weights: {'AAPL': 0.3448536665254034, 'GOOGL': 0.2735961468878023, 'AMZN': 0.22716833582296084, 'TSLA': 0.15438185076383346}\n",
      "Updated Portfolio Expected Return: 0.0008270801943078663\n",
      "Updated Portfolio Volatility: 0.01385059536184045\n",
      "Updated Portfolio Diversification Ratio: 2.039657707292753\n",
      "Updated Portfolio Sharpe Ratio: 0.059714414629896816\n"
     ]
    }
   ],
   "source": [
    "# Example returns for additional stocks\n",
    "returns_dict_new = {\n",
    "    \"AMZN\": np.random.normal(0.0015, 0.03, 1000),  # Amazon\n",
    "    \"TSLA\": np.random.normal(0.002, 0.05, 1000)   # Tesla\n",
    "}\n",
    "\n",
    "# Copy the existing portfolio\n",
    "copied_portfolio = portfolio.copy_portfolio()\n",
    "print(\"\\n--- Copied Portfolio ---\")\n",
    "print(\"Tickers in copied portfolio:\", copied_portfolio.tickers)\n",
    "print(\"Weights in copied portfolio:\", copied_portfolio.get_weights())\n",
    "print(\"Expected Return (Copied):\", copied_portfolio.portfolio_expected_return)\n",
    "print(\"Volatility (Copied):\", copied_portfolio.portfolio_volatility)\n",
    "print(\"Diversification Ratio (Copied):\", copied_portfolio.diversification_ratio)\n",
    "print(\"Sharpe Ratio (Copied):\", copied_portfolio.sharpe_ratio)\n",
    "\n",
    "# Update portfolio: Add new tickers and remove an existing ticker\n",
    "add_tickers = {\"AMZN\": returns_dict_new[\"AMZN\"], \"TSLA\": returns_dict_new[\"TSLA\"]}\n",
    "remove_tickers = [\"MSFT\"]\n",
    "new_weights = {\"AAPL\": 0.3, \"GOOGL\": 0.3, \"AMZN\": 0.2, \"TSLA\": 0.2}\n",
    "\n",
    "# Update the portfolio \n",
    "portfolio.update_portfolio(add_tickers=add_tickers, remove_tickers=remove_tickers, new_weights=new_weights)\n",
    "\n",
    "# Print updated portfolio attributes\n",
    "print(\"\\n--- Updated Portfolio ---\")\n",
    "print(\"Updated Tickers:\", portfolio.tickers)\n",
    "print(\"Updated Weights:\", portfolio.get_weights())\n",
    "\n",
    "# Portfolio statistics after update\n",
    "print(\"Updated Portfolio Expected Return:\", portfolio.portfolio_expected_return)\n",
    "print(\"Updated Portfolio Volatility:\", portfolio.portfolio_volatility)\n",
    "print(\"Updated Portfolio Diversification Ratio:\", portfolio.diversification_ratio)\n",
    "print(\"Updated Portfolio Sharpe Ratio:\", portfolio.sharpe_ratio)\n",
    "\n",
    "# Optimize updated portfolio weights and compare again \n",
    "print(\"\\n--- Optimization After Update ---\")\n",
    "portfolio.optimize_weights(method=\"max_div\", update_weights=True)\n",
    "\n",
    "# Updated portfolio statistics after optimization\n",
    "print(\"Updated Tickers:\", portfolio.tickers)\n",
    "print(\"Updated Weights:\", portfolio.get_weights())\n",
    "print(\"Updated Portfolio Expected Return:\", portfolio.portfolio_expected_return)\n",
    "print(\"Updated Portfolio Volatility:\", portfolio.portfolio_volatility)\n",
    "print(\"Updated Portfolio Diversification Ratio:\", portfolio.diversification_ratio)\n",
    "print(\"Updated Portfolio Sharpe Ratio:\", portfolio.sharpe_ratio)\n"
   ]
  },
  {
   "cell_type": "markdown",
   "metadata": {},
   "source": []
  }
 ],
 "metadata": {
  "kernelspec": {
   "display_name": "stk_env",
   "language": "python",
   "name": "python3"
  },
  "language_info": {
   "codemirror_mode": {
    "name": "ipython",
    "version": 3
   },
   "file_extension": ".py",
   "mimetype": "text/x-python",
   "name": "python",
   "nbconvert_exporter": "python",
   "pygments_lexer": "ipython3",
   "version": "3.10.14"
  }
 },
 "nbformat": 4,
 "nbformat_minor": 2
}
